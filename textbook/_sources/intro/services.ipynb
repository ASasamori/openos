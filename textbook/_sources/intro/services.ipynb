{
 "cells": [
  {
   "cell_type": "code",
   "execution_count": 1,
   "id": "94d0a792-04c5-4b8b-9110-6639e45eaa72",
   "metadata": {},
   "outputs": [],
   "source": [
    "%run -i ../python/common.py\n",
    "\n",
    "closeAllOpenTtySessions()\n",
    "bash = BashSession()"
   ]
  },
  {
   "cell_type": "markdown",
   "id": "f173d91e-16bf-44f5-8a99-8fbc5ef72fa0",
   "metadata": {},
   "source": [
    "(cont:gs:services)=\n",
    "# Operating System Services"
   ]
  },
  {
   "cell_type": "markdown",
   "id": "83ac9883-32e3-48eb-88a5-2b680bf22966",
   "metadata": {},
   "source": [
    "- scheduling and related system calls, including signals... pipes \n",
    "- memory management and related system calls\n",
    "- file systems and related system calls\n"
   ]
  },
  {
   "cell_type": "code",
   "execution_count": 7,
   "id": "ad85b53a-b956-40f8-a866-06feffe0fd2f",
   "metadata": {},
   "outputs": [
    {
     "data": {
      "application/vnd.jupyter.widget-view+json": {
       "model_id": "6dbdeefc8f954d379ccb894717984a67",
       "version_major": 2,
       "version_minor": 0
      },
      "text/plain": [
       "Output(layout=Layout(border='1px solid black', height='100%', overflow_y='scroll'))"
      ]
     },
     "metadata": {},
     "output_type": "display_data"
    }
   ],
   "source": [
    "bash.run(\"man mmap\")"
   ]
  },
  {
   "cell_type": "code",
   "execution_count": null,
   "id": "4e0167d0-89a0-403f-b4db-3905d0430011",
   "metadata": {},
   "outputs": [],
   "source": []
  }
 ],
 "metadata": {
  "kernelspec": {
   "display_name": "Python 3 (ipykernel)",
   "language": "python",
   "name": "python3"
  },
  "language_info": {
   "codemirror_mode": {
    "name": "ipython",
    "version": 3
   },
   "file_extension": ".py",
   "mimetype": "text/x-python",
   "name": "python",
   "nbconvert_exporter": "python",
   "pygments_lexer": "ipython3",
   "version": "3.10.5"
  }
 },
 "nbformat": 4,
 "nbformat_minor": 5
}
