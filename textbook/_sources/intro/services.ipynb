{
 "cells": [
  {
   "cell_type": "code",
   "execution_count": 2,
   "id": "94d0a792-04c5-4b8b-9110-6639e45eaa72",
   "metadata": {
    "tags": [
     "remove-cell",
     "remove-input",
     "hide-output"
    ]
   },
   "outputs": [],
   "source": [
    "%run -i ../python/common.py\n",
    "publish=False\n",
    "\n",
    "if not publish:\n",
    "    # cleanup any old state\n",
    "    bashCmds('''[[ -d mydir ]] && rm -rf mydir\n",
    "    [[ -a myfile ]] && rm myfile\n",
    "    [[ -a errors ]] && rm errors \n",
    "    [[ -a mydate ]] && rm mydate\n",
    "    [[ -a mynewdir ]] && rm -rf mynewdir\n",
    "    [[ -a anotherfile ]] && rm anotherfile\n",
    "    [[ -a mybin ]] && rm -rf  mybin\n",
    "    [[ -a myinfo ]] && rm myinfo''')\n",
    "else:\n",
    "    bashCmds('''rm -rf ~/*''')\n",
    "    \n",
    "closeAllOpenTtySessions()\n",
    "bash = BashSession()\n",
    "\n",
    "generated=\"~/myfile ~/errors ~/mydate ~/mydir ~/mynewdir ~/out\"\n"
   ]
  },
  {
   "cell_type": "markdown",
   "id": "f173d91e-16bf-44f5-8a99-8fbc5ef72fa0",
   "metadata": {},
   "source": [
    "(cont:gs:services)=\n",
    "# Operating System Services"
   ]
  },
  {
   "cell_type": "markdown",
   "id": "83ac9883-32e3-48eb-88a5-2b680bf22966",
   "metadata": {},
   "source": [
    "- Processes/scheduling and related system calls, including signals... pipes \n",
    "- memory management and related system calls\n",
    "- file systems and related system calls\n"
   ]
  },
  {
   "cell_type": "markdown",
   "id": "bbcce44a-2ac4-4056-b5f6-f0c6b6e2f58e",
   "metadata": {},
   "source": [
    "(cont:gs:services)=\n",
    "# Operating System Services"
   ]
  },
  {
   "cell_type": "markdown",
   "id": "17d0a091-d1fb-4dd5-b3ca-659a90f5ba7d",
   "metadata": {},
   "source": []
  },
  {
   "cell_type": "code",
   "execution_count": 5,
   "id": "ad85b53a-b956-40f8-a866-06feffe0fd2f",
   "metadata": {
    "jupyter": {
     "source_hidden": true
    },
    "tags": [
     "output_scroll",
     "remove-input"
    ]
   },
   "outputs": [
    {
     "data": {
      "application/vnd.jupyter.widget-view+json": {
       "model_id": "130fd28205c84a94a17dca056ac665cf",
       "version_major": 2,
       "version_minor": 0
      },
      "text/plain": [
       "Output(layout=Layout(border='1px solid black', height='20em', overflow_y='scroll'))"
      ]
     },
     "metadata": {},
     "output_type": "display_data"
    }
   ],
   "source": [
    "bash.run(\"man mmap\", height='20em')"
   ]
  },
  {
   "cell_type": "markdown",
   "id": "b232afd8-8fd8-4393-b042-91872bb62c35",
   "metadata": {},
   "source": [
    "### File Systems\n",
    "\n",
    "use some of these \n",
    "\n",
    "```{figure} ../images/intro/file-desc.png\n",
    "---\n",
    "align: right\n",
    "width: 50%\n",
    "name: file-desc\n",
    "---\n",
    "File Descriptors\n",
    "```\n",
    "\n",
    "```\n",
    "ls -l /proc/$$/fd/{0..2}\n",
    "lrwx------. 1 jovyan root 64 Aug  7 02:10 /proc/6121/fd/0 -> /dev/pts/2\n",
    "lrwx------. 1 jovyan root 64 Aug  7 02:10 /proc/6121/fd/1 -> /dev/pts/2\n",
    "lrwx------. 1 jovyan root 64 Aug  7 02:10 /proc/6121/fd/2 -> /dev/pts/2\n",
    "\n",
    "file /dev/pts/2\n",
    "/dev/pts/2: character special (136/2)\n",
    "```\n"
   ]
  },
  {
   "cell_type": "code",
   "execution_count": null,
   "id": "17836c77-941a-4f90-b63d-6acc44bbc8ab",
   "metadata": {},
   "outputs": [],
   "source": []
  }
 ],
 "metadata": {
  "kernelspec": {
   "display_name": "Python 3 (ipykernel)",
   "language": "python",
   "name": "python3"
  },
  "language_info": {
   "codemirror_mode": {
    "name": "ipython",
    "version": 3
   },
   "file_extension": ".py",
   "mimetype": "text/x-python",
   "name": "python",
   "nbconvert_exporter": "python",
   "pygments_lexer": "ipython3",
   "version": "3.10.5"
  }
 },
 "nbformat": 4,
 "nbformat_minor": 5
}
