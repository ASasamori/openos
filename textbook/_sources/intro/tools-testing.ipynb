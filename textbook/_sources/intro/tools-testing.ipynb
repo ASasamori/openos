{
 "cells": [
  {
   "cell_type": "code",
   "execution_count": null,
   "id": "bc7262dc-6f95-4c11-a0b9-25dd489fddf8",
   "metadata": {
    "jupyter": {
     "source_hidden": true
    },
    "tags": []
   },
   "outputs": [],
   "source": []
  },
  {
   "cell_type": "code",
   "execution_count": 12,
   "id": "a2c84999-d6ac-4842-b945-410078941bc2",
   "metadata": {
    "tags": [
     "remove-cell",
     "remove-input",
     "hide-output"
    ]
   },
   "outputs": [],
   "source": [
    "%run -i ../python/common.py\n",
    "publish=False\n",
    "\n",
    "if not publish:\n",
    "    # cleanup any old state\n",
    "    bashCmds('''[[ -d lec3 ]] && rm -rf mydir\n",
    "    [[ -a myinfo ]] && rm myinfo''')\n",
    "else:\n",
    "    bashCmds('''rm -rf ~/*''')\n",
    "    \n",
    "closeAllOpenTtySessions()\n"
   ]
  },
  {
   "cell_type": "code",
   "execution_count": 13,
   "id": "f125e110-8237-4f8f-8559-179e1607bba4",
   "metadata": {
    "hide_input": true,
    "tags": [
     "remove-input"
    ]
   },
   "outputs": [
    {
     "name": "stderr",
     "output_type": "stream",
     "text": [
      "Exception ignored in: <function BashSession.__del__ at 0x7fc015169cf0>\n",
      "Traceback (most recent call last):\n",
      "  File \"/opt/app-root/src/openos/content/python/common.py\", line 868, in __del__\n",
      "    bashSessionClose(self.session)\n",
      "  File \"/opt/app-root/src/openos/content/python/common.py\", line 847, in bashSessionClose\n",
      "    closeTtySession(session)\n",
      "  File \"/opt/app-root/src/openos/content/python/common.py\", line 618, in closeTtySession\n",
      "    TtyOpenSessions.remove(session)\n",
      "ValueError: list.remove(x): x not in list\n"
     ]
    }
   ],
   "source": [
    "appdir=os.getenv('HOME')\n",
    "appdir=appdir + \"/parser\"\n",
    "TermShellCmd(\"ls \")\n",
    "output = runTermCmd(\"[[ -d \" + appdir + \" ]] &&  rm -rf \"+ appdir + \n",
    "             \";cp -r ../src/parser \" + appdir)\n",
    "bash = BashSession(cwd=appdir)"
   ]
  },
  {
   "cell_type": "markdown",
   "id": "065caff0-f1d2-49ad-82f4-0e48dca6ef57",
   "metadata": {
    "tags": []
   },
   "source": [
    "(cont:gs:tools:testing)=\n",
    "# Testing\n",
    "\n",
    "Most students try to solve the complicated programs for this course by implementing them, and then manually testing their program.  This is, in fact,  possible, however, many decades of experience have taught us that you will do much better in a much shorter time if you instead develop proper unit and integration tests.  \n",
    "\n",
    "## Unit Tests\n",
    "\n",
    "As you develop your program, you are going to write many individual functions.  For each, think about how to write simple tests to see if the function does what you expect it to.  For example, one of the assignments we often hand out is a user level thread scheduler.  To get it to work, you need to set up the stack of the thread properly so that when the thread completes it calls a routine to exit. If you write a simple test at the beginning to test what happens after a thread completes, it will take a few minutes to identify and fix any bugs.  Many students, instead, spend hours trying to identify the problem manually when they have a running scheduler, with timer interrupts causing threads to switch between themselves.  \n",
    "\n",
    "Lets see some simple examples, we have already shown a script that runs a set of test programs ({numref}`run_tests`), and a makefile ({numref}`make_parser`)to invoke that script.  \n",
    "\n",
    "Rather than developing our program, we define the contract that the parser provides to the shell we will later develop, and develop some unit tests. Only after we have done that, do we start implementing the parser. \n",
    "\n",
    "The contract is defined in the header file that defines the functions and data structures of the parser, as shown in this include file {numref}`myshell_parser_h`.  "
   ]
  },
  {
   "cell_type": "markdown",
   "id": "1d4d0773-8838-46ec-b3e8-0e6b1a5bf7d1",
   "metadata": {
    "tags": []
   },
   "source": [
    "% The block below creates a nice labeled Listing in the html, but not in the jupyter notebook view.\n",
    "```{literalinclude} /src/parser/myshell_parser.h\n",
    ":linenos:\n",
    ":language: make\n",
    ":caption: Header file for parser for shell\n",
    ":name: myshell_parser_h\n",
    "```"
   ]
  },
  {
   "cell_type": "code",
   "execution_count": 6,
   "id": "352ca4b5-51ac-43c8-b535-7d6dee39dadc",
   "metadata": {
    "tags": [
     "remove-input",
     "remove-cell"
    ]
   },
   "outputs": [
    {
     "data": {
      "text/markdown": [
       "                                                                                                                        \n",
       "``` c                                                                                                                     \n",
       "0: #ifndef MYSHELL_PARSER_H\n",
       "1: #define MYSHELL_PARSER_H\n",
       "2: #include <stdbool.h>\n",
       "3: \n",
       "4: #define MAX_LINE_LENGTH 512\n",
       "5: #define MAX_ARGV_LENGTH (MAX_LINE_LENGTH / 2 + 1)\n",
       "6: \n",
       "7: struct pipeline_command {\n",
       "8:   char *command_args[MAX_ARGV_LENGTH]; // arg[0] is command, rest are arguments\n",
       "9:   char *redirect_in_path;  // NULL or Name of file to redirect in from \n",
       "10:   char *redirect_out_path; // NULL or Name of a file to redirect out to\n",
       "11:   struct pipeline_command *next; // next command in the pipeline. NULL if done \n",
       "12: };\n",
       "13: \n",
       "14: struct pipeline {\n",
       "15:   struct pipeline_command *commands; // first command\n",
       "16:   bool is_background; // TRUE if should execue in background\n",
       "17: };\n",
       "18: \n",
       "19: void pipeline_free(struct pipeline *pipeline);\n",
       "20: \n",
       "21: struct pipeline *pipeline_build(const char *command_line);\n",
       "22: \n",
       "23: #endif /* MYSHELL_PARSER_H */\n",
       "                                                                                                                         \n",
       "```                                                                                                                                      \n"
      ],
      "text/plain": [
       "<IPython.core.display.Markdown object>"
      ]
     },
     "metadata": {},
     "output_type": "display_data"
    }
   ],
   "source": [
    "# This cell is removed in the html, but displays the code listing in the Jupyter notebook. \n",
    "file = appdir + \"/myshell_parser.h\"\n",
    "text_file = open(file, \"r\")\n",
    "data = text_file.read()\n",
    "data = numberLines(data)\n",
    "text_file.close()                                                                                             \n",
    "md_text = '''                                                                                                                        \n",
    "``` ''' + \"c\" + '''                                                                                                                     \n",
    "''' + data + '''                                                                                                                         \n",
    "```                                                                                                                                      \n",
    "'''\n",
    "display (Markdown(md_text))\n",
    "#display (Markdown('<font size=\".5rem\">' + md_text +'</font>'))"
   ]
  },
  {
   "cell_type": "markdown",
   "id": "60b58d06-5159-47d9-b3a5-1d1ce9d4666c",
   "metadata": {},
   "source": [
    "In this header file, we define everything that test programs, and eventually the shell will need to use to call the parser we will develop.  The routines `pipeline_build` returns a `pipeline` struct with a flag that indicates if the whole pipleline is in the background, and points to a linked list of `pipeline_commands`.   Each `pipeline_command` contains a boolean indicates if the command is in the background, and an array where the first element is the command and the other elements are arguments to that command. \n",
    "\n",
    "Our first implementation of `myshell_parser.c` (see {numref}`myshell_parser_c`) simply returns error messages.  Before implementing any functionality we write tests on what we expect a correct implementation to do.  "
   ]
  },
  {
   "cell_type": "markdown",
   "id": "63523e3d-04d3-450c-be3b-7f75bce1ff00",
   "metadata": {
    "tags": []
   },
   "source": [
    "% The block below creates a nice labeled Listing in the html, but not in the jupyter notebook view.\n",
    "```{literalinclude} /src/parser/myshell_parser.c\n",
    ":linenos:\n",
    ":language: make\n",
    ":caption: Initial implementation of \n",
    ":name: myshell_parser_c\n",
    "```"
   ]
  },
  {
   "cell_type": "code",
   "execution_count": 8,
   "id": "2755b1f2-a94f-4e51-88b1-0bf380732ac4",
   "metadata": {
    "tags": [
     "remove-input",
     "remove-cell"
    ]
   },
   "outputs": [
    {
     "data": {
      "text/markdown": [
       "                                                                                                                        \n",
       "``` c                                                                                                                     \n",
       "0: #include \"myshell_parser.h\"\n",
       "1: #include \"stddef.h\"\n",
       "2: \n",
       "3: struct pipeline *pipeline_build(const char *command_line)\n",
       "4: {\n",
       "5: \t// TODO: Implement this function\n",
       "6: \treturn NULL;\n",
       "7: }\n",
       "8: \n",
       "9: void pipeline_free(struct pipeline *pipeline)\n",
       "10: {\n",
       "11: \t// TODO: Implement this function\n",
       "12: }\n",
       "                                                                                                                         \n",
       "```                                                                                                                                      \n"
      ],
      "text/plain": [
       "<IPython.core.display.Markdown object>"
      ]
     },
     "metadata": {},
     "output_type": "display_data"
    }
   ],
   "source": [
    "# This cell is removed in the html, but displays the code listing in the Jupyter notebook. \n",
    "file = appdir + \"/myshell_parser.c\"\n",
    "text_file = open(file, \"r\")\n",
    "data = text_file.read()\n",
    "data = numberLines(data)\n",
    "text_file.close()                                                                                             \n",
    "md_text = '''                                                                                                                        \n",
    "``` ''' + \"c\" + '''                                                                                                                     \n",
    "''' + data + '''                                                                                                                         \n",
    "```                                                                                                                                      \n",
    "'''\n",
    "display (Markdown(md_text))\n",
    "#display (Markdown('<font size=\".5rem\">' + md_text +'</font>'))"
   ]
  },
  {
   "cell_type": "markdown",
   "id": "2642a20b-d78e-4630-9573-ad7fabddb704",
   "metadata": {},
   "source": [
    "For example "
   ]
  },
  {
   "cell_type": "markdown",
   "id": "645fefce-43c7-41b6-9f16-48f5dc738b39",
   "metadata": {
    "tags": []
   },
   "source": [
    "% The block below creates a nice labeled Listing in the html, but not in the jupyter notebook view.\n",
    "```{literalinclude} /src/parser/test_simple_input.c\n",
    ":linenos:\n",
    ":language: c\n",
    ":caption: Test of a simple \n",
    ":name: test_simple_input_c\n",
    "```"
   ]
  },
  {
   "cell_type": "code",
   "execution_count": 15,
   "id": "cca36cec-23b8-4090-a8e2-681278a185c6",
   "metadata": {
    "jupyter": {
     "source_hidden": true
    },
    "tags": [
     "remove-input",
     "remove-cell"
    ]
   },
   "outputs": [
    {
     "data": {
      "text/markdown": [
       "                                                                                                                        \n",
       "``` c                                                                                                                     \n",
       "0: #include \"myshell_parser.h\"\n",
       "1: #include <stdio.h>\n",
       "2: #include <stdlib.h>\n",
       "3: #include <string.h>\n",
       "4: #include <assert.h>\n",
       "5: \n",
       "6: int\n",
       "7: main(void)\n",
       "8: {\n",
       "9:   struct pipeline* my_pipeline = pipeline_build(\"ls\\n\");\n",
       "10:   \n",
       "11:   // Test that a pipeline was returned\n",
       "12:   assert(my_pipeline != NULL);\n",
       "13:   assert(!my_pipeline->is_background);\n",
       "14:   assert(my_pipeline->commands != NULL);\n",
       "15:   \n",
       "16:   // Test the parsed args\n",
       "17:   assert(strcmp(\"ls\", my_pipeline->commands->command_args[0]) == 0);\n",
       "18:   assert(my_pipeline->commands->command_args[1] == NULL);\n",
       "19:   \n",
       "20:   // Test the redirect state\n",
       "21:   assert(my_pipeline->commands->redirect_in_path == NULL);\n",
       "22:   assert(my_pipeline->commands->redirect_out_path == NULL);\n",
       "23:   \n",
       "24:   // Test that there is only one parsed command in the pipeline\n",
       "25:   assert(my_pipeline->commands->next == NULL);\n",
       "26:   \n",
       "27:   pipeline_free(my_pipeline);\n",
       "28: }\n",
       "                                                                                                                         \n",
       "```                                                                                                                                      \n"
      ],
      "text/plain": [
       "<IPython.core.display.Markdown object>"
      ]
     },
     "metadata": {},
     "output_type": "display_data"
    }
   ],
   "source": [
    "# This cell is removed in the html, but displays the code listing in the Jupyter notebook. \n",
    "file = appdir + \"/test_simple_input.c\"\n",
    "text_file = open(file, \"r\")\n",
    "data = text_file.read()\n",
    "data = numberLines(data)\n",
    "text_file.close()                                                                                             \n",
    "md_text = '''                                                                                                                        \n",
    "``` ''' + \"c\" + '''                                                                                                                     \n",
    "''' + data + '''                                                                                                                         \n",
    "```                                                                                                                                      \n",
    "'''\n",
    "display (Markdown(md_text))\n",
    "#display (Markdown('<font size=\".5rem\">' + md_text +'</font>'))"
   ]
  },
  {
   "cell_type": "markdown",
   "id": "6c686c0c-93f5-436d-94c9-3b6f10f9db00",
   "metadata": {},
   "source": [
    "For example "
   ]
  },
  {
   "cell_type": "markdown",
   "id": "0b15a273-b512-4375-b20e-83c887b194eb",
   "metadata": {
    "tags": []
   },
   "source": [
    "% The block below creates a nice labeled Listing in the html, but not in the jupyter notebook view.\n",
    "```{literalinclude} /src/parser/test_simple_pipe.c\n",
    ":linenos:\n",
    ":language: c\n",
    ":caption: Test of a simple pipe\n",
    ":name: test_simple_input_c\n",
    "```"
   ]
  },
  {
   "cell_type": "code",
   "execution_count": 14,
   "id": "e33f7541-003a-4e11-ae27-aa8ec6d12b96",
   "metadata": {
    "tags": [
     "remove-input",
     "remove-cell"
    ]
   },
   "outputs": [
    {
     "data": {
      "text/markdown": [
       "                                                                                                                        \n",
       "``` c                                                                                                                     \n",
       "0: #include \"myshell_parser.h\"\n",
       "1: #include <stdio.h>\n",
       "2: #include <stdlib.h>\n",
       "3: #include <string.h>\n",
       "4: #include <assert.h>\n",
       "5: \n",
       "6: int\n",
       "7: main(void)\n",
       "8: {\n",
       "9:   struct pipeline* my_pipeline = pipeline_build(\"ls | cat\\n\");\n",
       "10:   \n",
       "11:   // Test that a pipeline was returned\n",
       "12:   assert(my_pipeline != NULL);\n",
       "13:   assert(!my_pipeline->is_background);\n",
       "14:   assert(my_pipeline->commands != NULL);\n",
       "15:   \n",
       "16:   // Test the parsed args\n",
       "17:   assert(strcmp(\"ls\", my_pipeline->commands->command_args[0]) == 0);\n",
       "18:   assert(my_pipeline->commands->command_args[1] == NULL);\n",
       "19:   \n",
       "20:   // Test the redirect state\n",
       "21:   assert(my_pipeline->commands->redirect_in_path == NULL);\n",
       "22:   assert(my_pipeline->commands->redirect_out_path == NULL);\n",
       "23:   \n",
       "24:   // Test that there are multiple parsed command in the pipeline\n",
       "25:   assert(my_pipeline->commands->next != NULL);\n",
       "26:   \n",
       "27:   // keep going... what should we be testign next?\n",
       "28:   pipeline_free(my_pipeline);\n",
       "29: }\n",
       "                                                                                                                         \n",
       "```                                                                                                                                      \n"
      ],
      "text/plain": [
       "<IPython.core.display.Markdown object>"
      ]
     },
     "metadata": {},
     "output_type": "display_data"
    }
   ],
   "source": [
    "# This cell is removed in the html, but displays the code listing in the Jupyter notebook. \n",
    "file = appdir + \"/test_simple_pipe.c\"\n",
    "text_file = open(file, \"r\")\n",
    "data = text_file.read()\n",
    "data = numberLines(data)\n",
    "text_file.close()                                                                                             \n",
    "md_text = '''                                                                                                                        \n",
    "``` ''' + \"c\" + '''                                                                                                                     \n",
    "''' + data + '''                                                                                                                         \n",
    "```                                                                                                                                      \n",
    "'''\n",
    "display (Markdown(md_text))\n",
    "#display (Markdown('<font size=\".5rem\">' + md_text +'</font>'))"
   ]
  },
  {
   "cell_type": "markdown",
   "id": "5a2d93d6-5072-4c22-af13-6ee1620cd9b0",
   "metadata": {},
   "source": [
    "if your program runs as expected. Combine unit tests with makefiles, then you can automate both the `compiling` **and** `testing` phase of development. We call these tests **unit tests** because they are supposed to test a singular functionality of a component in a system rather than the whole system. You will spend less time debugging unit tests than testing the entire system because you can determine that the problem is with the specific functionality that it is testing.\n",
    "\n",
    "Creating your own tests are **`essential`** to completing the programming assignments.\n",
    "\n",
    "As an example, we have 3 functions: `foo`, `bar`, and `baz`. `foo` is a helper function to `bar` and `baz`, and `bar` is a helper function to `baz`. \n",
    "\n",
    "```C\n",
    "int foo()\n",
    "{\n",
    "    ...\n",
    "}\n",
    "\n",
    "int bar()\n",
    "{\n",
    "    ...\n",
    "    return foo();\n",
    "}\n",
    "\n",
    "int baz()\n",
    "{\n",
    "    ...\n",
    "    return bar() * foo()\n",
    "}\n",
    "\n",
    "int main()\n",
    "{\n",
    "    assert(foo() > 0);  // this is a first level unit test\n",
    "    assert(bar() > 0);  // this is a second level unit test\n",
    "    assert(baz() > 0);  // this is a final level unit test aka system test\n",
    "    return 0;\n",
    "}\n",
    "```\n",
    "\n",
    "It would be very easy to create a test for `baz` and check the expected outputs, however, there is a possibility that the test passes for the wrong reasons (two wrongs might make a right). In the case that testing `baz` fails, it would be much harder to debug `baz` without first testing if both `foo` and `bar` pass their tests. Although this is a simple example, this idea of creating unit tests from the first level to the last will greatly improve development effeciency, and will train you to think about a complex system in bite sized chunks.\n",
    "\n",
    "## Integration Tests"
   ]
  },
  {
   "cell_type": "code",
   "execution_count": null,
   "id": "8cae0926-14bc-40cf-9368-e24065cdb879",
   "metadata": {},
   "outputs": [],
   "source": []
  }
 ],
 "metadata": {
  "kernelspec": {
   "display_name": "Python 3 (ipykernel)",
   "language": "python",
   "name": "python3"
  },
  "language_info": {
   "codemirror_mode": {
    "name": "ipython",
    "version": 3
   },
   "file_extension": ".py",
   "mimetype": "text/x-python",
   "name": "python",
   "nbconvert_exporter": "python",
   "pygments_lexer": "ipython3",
   "version": "3.10.5"
  },
  "vscode": {
   "interpreter": {
    "hash": "f4e3c63a28d2eadc36e3bba0725a6dea388233dd4d06cf5319c6ed40df7370ac"
   }
  }
 },
 "nbformat": 4,
 "nbformat_minor": 5
}
