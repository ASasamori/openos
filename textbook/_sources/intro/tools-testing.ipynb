{
 "cells": [
  {
   "cell_type": "markdown",
   "id": "dc7008a7",
   "metadata": {},
   "source": [
    "(cont:gs:tools:testing)=\n",
    "# Unit Tests\n",
    "\n",
    "Unit tests are a way to check if your program runs as expected. Combine unit tests with makefiles, then you can automate both the `compiling` **and** `testing` phase of development. We call these tests **unit tests** because they are supposed to test a singular functionality of a component in a system rather than the whole system. You will spend less time debugging unit tests than testing the entire system because you can determine that the problem is with the specific functionality that it is testing.\n",
    "\n",
    "Creating your own tests are **`essential`** to completing the programming assignments.\n",
    "\n",
    "As an example, we have 3 functions: `foo`, `bar`, and `baz`. `foo` is a helper function to `bar` and `baz`, and `bar` is a helper function to `baz`. \n",
    "\n",
    "```C\n",
    "int foo()\n",
    "{\n",
    "    ...\n",
    "}\n",
    "\n",
    "int bar()\n",
    "{\n",
    "    ...\n",
    "    return foo();\n",
    "}\n",
    "\n",
    "int baz()\n",
    "{\n",
    "    ...\n",
    "    return bar() * foo()\n",
    "}\n",
    "\n",
    "int main()\n",
    "{\n",
    "    assert(foo() > 0);  // this is a first level unit test\n",
    "    assert(bar() > 0);  // this is a second level unit test\n",
    "    assert(baz() > 0);  // this is a final level unit test aka system test\n",
    "    return 0;\n",
    "}\n",
    "```\n",
    "\n",
    "It would be very easy to create a test for `baz` and check the expected outputs, however, there is a possibility that the test passes for the wrong reasons (two wrongs might make a right). In the case that testing `baz` fails, it would be much harder to debug `baz` without first testing if both `foo` and `bar` pass their tests. Although this is a simple example, this idea of creating unit tests from the first level to the last will greatly improve development effeciency, and will train you to think about a complex system in bite sized chunks."
   ]
  }
 ],
 "metadata": {
  "kernelspec": {
   "display_name": "Python 3 (ipykernel)",
   "language": "python",
   "name": "python3"
  },
  "language_info": {
   "codemirror_mode": {
    "name": "ipython",
    "version": 3
   },
   "file_extension": ".py",
   "mimetype": "text/x-python",
   "name": "python",
   "nbconvert_exporter": "python",
   "pygments_lexer": "ipython3",
   "version": "3.10.5"
  },
  "vscode": {
   "interpreter": {
    "hash": "f4e3c63a28d2eadc36e3bba0725a6dea388233dd4d06cf5319c6ed40df7370ac"
   }
  }
 },
 "nbformat": 4,
 "nbformat_minor": 5
}
