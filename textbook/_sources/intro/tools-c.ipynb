{
 "cells": [
  {
   "cell_type": "markdown",
   "id": "aec1e9dc",
   "metadata": {},
   "source": [
    "(cont:gs:tools:c)=\n",
    "# The C Programming Language\n",
    "\n",
    "The C programming language is a high level statically typed procedural compiled programming language valued for its accessibility to low level computer memory. You have probably already learned the language in a previous course, but this course will utilize some of its advanced features that have probably not been taught in those introductory courses. To make the learning process easier, we recommend reviewing its syntax and concepts. Here are a few:\n",
    "\n",
    "* data types and their bits\n",
    "* operator precedence\n",
    "* control flow (if, for, while, etc)\n",
    "* arrays\n",
    "* strings\n",
    "* pointers\n",
    "* dynamic allocation\n",
    "* functions\n",
    "* preprocessing and compiling\n",
    "* [glibc](https://www.gnu.org/software/libc/) (GNU C Library)\n",
    "* algorithms and data structures (hash maps, linked lists, etc)\n",
    "\n",
    "In addition to reviewing the language, we also encourage you to follow some sort of coding style. [This website](https://www.kernel.org/doc/html/v4.10/process/coding-style.html) contains the preferred coding style for the Linux kernel. Although not required, adhering to a style will increase productivity so you and whoever else looks at your code will spend less time trying to understand what you wrote."
   ]
  },
  {
   "cell_type": "code",
   "execution_count": null,
   "id": "6e86832b-4a67-4fab-baf9-fad85d6cd3ac",
   "metadata": {},
   "outputs": [],
   "source": []
  }
 ],
 "metadata": {
  "kernelspec": {
   "display_name": "Python 3 (ipykernel)",
   "language": "python",
   "name": "python3"
  },
  "language_info": {
   "codemirror_mode": {
    "name": "ipython",
    "version": 3
   },
   "file_extension": ".py",
   "mimetype": "text/x-python",
   "name": "python",
   "nbconvert_exporter": "python",
   "pygments_lexer": "ipython3",
   "version": "3.10.5"
  },
  "vscode": {
   "interpreter": {
    "hash": "f4e3c63a28d2eadc36e3bba0725a6dea388233dd4d06cf5319c6ed40df7370ac"
   }
  }
 },
 "nbformat": 4,
 "nbformat_minor": 5
}
