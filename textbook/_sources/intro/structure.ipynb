{
 "cells": [
  {
   "cell_type": "code",
   "execution_count": 2,
   "id": "579d7c77-3b46-470a-a73c-0c6e4dbaeb62",
   "metadata": {
    "tags": [
     "remove-cell",
     "remove-input",
     "hide-output"
    ]
   },
   "outputs": [],
   "source": [
    "%run -i ../python/common.py\n",
    "publish=False\n",
    "\n",
    "if not publish:\n",
    "    # cleanup any old state\n",
    "    bashCmds('''[[ -d mydir ]] && rm -rf mydir\n",
    "    [[ -a myfile ]] && rm myfile\n",
    "    [[ -a errors ]] && rm errors \n",
    "    [[ -a mydate ]] && rm mydate\n",
    "    [[ -a mynewdir ]] && rm -rf mynewdir\n",
    "    [[ -a anotherfile ]] && rm anotherfile\n",
    "    [[ -a mybin ]] && rm -rf  mybin\n",
    "    [[ -a myinfo ]] && rm myinfo''')\n",
    "else:\n",
    "    bashCmds('''rm -rf ~/*''')\n",
    "    \n",
    "closeAllOpenTtySessions()\n",
    "bash = BashSession()\n",
    "\n",
    "generated=\"~/myfile ~/errors ~/mydate ~/mydir ~/mynewdir ~/out\"\n"
   ]
  },
  {
   "cell_type": "markdown",
   "id": "35a1daa7-61de-46d7-8421-567c9caf62b9",
   "metadata": {},
   "source": [
    " (cont:gs:structure)=\n",
    " # Operating System Structure & Unix/Linux\n",
    " \n",
    " - OS structure, system calls, and interrupts\n",
    " - why we are doing Unix and linux\n",
    " - how OS comes up\n",
    " - how programs are loaded\n",
    " \n",
    " "
   ]
  },
  {
   "cell_type": "markdown",
   "id": "dd2364c3-48f9-4682-b5d0-0842c733fccf",
   "metadata": {},
   "source": [
    "## Monolithic OS structure\n",
    "\n",
    "As shown in figure {ref}`os-struc`, most operating systems today have ... \n",
    "\n",
    "\n",
    "```{figure} ../images/intro/osstructure.syscall.drawio.png\n",
    "---\n",
    "align: right\n",
    "width: 200pt \n",
    "name: os-struc\n",
    "---\n",
    "Monolitic Operating system structure\n",
    "```\n",
    "\n",
    "\n",
    "```{figure} ../images/intro/osstructure.services.drawio.png\n",
    "---\n",
    "align: right\n",
    "width: 200pt \n",
    "name: os-struc-services\n",
    "---\n",
    "Core services\n",
    "```\n",
    "\n",
    "## Unix and Linux\n",
    "- general principles of Unix and why we are using: Refer and steal some content from [here](https://jappavoo.github.io/UndertheCovers/textbook/unix/intro.html#operating-systems-and-unix)\n",
    "- everything is a file\n",
    "- discuss processes, libraries, dynamically loaded modules\n",
    "- importance open source \n",
    "       \n"
   ]
  },
  {
   "cell_type": "code",
   "execution_count": 5,
   "id": "90f306dd-5231-4067-9687-3f8d950f3a33",
   "metadata": {
    "tags": [
     "output_scroll",
     "remove-input"
    ]
   },
   "outputs": [
    {
     "data": {
      "application/vnd.jupyter.widget-view+json": {
       "model_id": "130fd28205c84a94a17dca056ac665cf",
       "version_major": 2,
       "version_minor": 0
      },
      "text/plain": [
       "Output(layout=Layout(border='1px solid black', height='20em', overflow_y='scroll'))"
      ]
     },
     "metadata": {},
     "output_type": "display_data"
    }
   ],
   "source": [
    "bash.run(\"man mmap\", height='20em')"
   ]
  },
  {
   "cell_type": "code",
   "execution_count": null,
   "id": "a65a75ea-c1db-42d5-82d8-aa8c42b42703",
   "metadata": {},
   "outputs": [],
   "source": []
  }
 ],
 "metadata": {
  "kernelspec": {
   "display_name": "Python 3 (ipykernel)",
   "language": "python",
   "name": "python3"
  },
  "language_info": {
   "codemirror_mode": {
    "name": "ipython",
    "version": 3
   },
   "file_extension": ".py",
   "mimetype": "text/x-python",
   "name": "python",
   "nbconvert_exporter": "python",
   "pygments_lexer": "ipython3",
   "version": "3.10.5"
  }
 },
 "nbformat": 4,
 "nbformat_minor": 5
}
