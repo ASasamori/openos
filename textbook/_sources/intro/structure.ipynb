{
 "cells": [
  {
   "cell_type": "markdown",
   "id": "35a1daa7-61de-46d7-8421-567c9caf62b9",
   "metadata": {},
   "source": [
    " (cont:gs:structure)=\n",
    " # OS structure\n",
    " \n",
    " "
   ]
  },
  {
   "cell_type": "markdown",
   "id": "dd2364c3-48f9-4682-b5d0-0842c733fccf",
   "metadata": {},
   "source": [
    "## Monolithic OS structure\n",
    "      - system calls \n",
    "      - interrupts\n",
    "      - forward reference to other OS structures\n",
    "      \n",
    "\n",
    "As shown in figure {ref}`struc-fig`, most operating systems today have ... \n",
    "\n",
    "\n",
    "```{figure} ../images/osstructure-1.dio.png\n",
    "---\n",
    "height: 150px\n",
    "name: struc-fig\n",
    "---\n",
    "Tradition operating systems monolithic, at the bottom, the kernel is trusted code...\n",
    "```\n",
    "\n",
    "\n",
    "## Unix and Linux\n",
    "       - general principles of Unix and why we are using: Refer and steal some content from [here](https://jappavoo.github.io/UndertheCovers/textbook/unix/intro.html#operating-systems-and-unix)\n",
    "       - everything is a file\n",
    "       - discuss processes, libraries, dynamically loaded modules\n",
    "       - importance open source \n",
    "       \n"
   ]
  },
  {
   "cell_type": "markdown",
   "id": "c316f3f5-5bc3-4f40-bc2e-afa6e1df0f46",
   "metadata": {},
   "source": [
    "### Everything is a file\n",
    "\n",
    "use some of these \n",
    "\n",
    "```\n",
    "ls -l /proc/$$/fd/{0..2}\n",
    "lrwx------. 1 jovyan root 64 Aug  7 02:10 /proc/6121/fd/0 -> /dev/pts/2\n",
    "lrwx------. 1 jovyan root 64 Aug  7 02:10 /proc/6121/fd/1 -> /dev/pts/2\n",
    "lrwx------. 1 jovyan root 64 Aug  7 02:10 /proc/6121/fd/2 -> /dev/pts/2\n",
    "\n",
    "file /dev/pts/2\n",
    "/dev/pts/2: character special (136/2)\n",
    "```\n"
   ]
  },
  {
   "cell_type": "code",
   "execution_count": null,
   "id": "a65a75ea-c1db-42d5-82d8-aa8c42b42703",
   "metadata": {},
   "outputs": [],
   "source": []
  }
 ],
 "metadata": {
  "kernelspec": {
   "display_name": "Python 3 (ipykernel)",
   "language": "python",
   "name": "python3"
  },
  "language_info": {
   "codemirror_mode": {
    "name": "ipython",
    "version": 3
   },
   "file_extension": ".py",
   "mimetype": "text/x-python",
   "name": "python",
   "nbconvert_exporter": "python",
   "pygments_lexer": "ipython3",
   "version": "3.10.5"
  }
 },
 "nbformat": 4,
 "nbformat_minor": 5
}
