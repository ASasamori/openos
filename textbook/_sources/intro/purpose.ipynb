{
 "cells": [
  {
   "cell_type": "code",
   "execution_count": 52,
   "id": "5993fb02-6aa8-4c95-a357-da14309c6134",
   "metadata": {
    "tags": [
     "remove-cell"
    ]
   },
   "outputs": [
    {
     "name": "stderr",
     "output_type": "stream",
     "text": [
      "Exception ignored in: <function BashSession.__del__ at 0x7ff0e7b752d0>\n",
      "Traceback (most recent call last):\n",
      "  File \"/opt/app-root/src/openos/content/python/common.py\", line 868, in __del__\n",
      "    bashSessionClose(self.session)\n",
      "  File \"/opt/app-root/src/openos/content/python/common.py\", line 847, in bashSessionClose\n",
      "    closeTtySession(session)\n",
      "  File \"/opt/app-root/src/openos/content/python/common.py\", line 618, in closeTtySession\n",
      "    TtyOpenSessions.remove(session)\n",
      "ValueError: list.remove(x): x not in list\n"
     ]
    }
   ],
   "source": [
    "%run -i ../python/common.py\n",
    "\n",
    "closeAllOpenTtySessions()\n",
    "bash = BashSession()"
   ]
  },
  {
   "cell_type": "markdown",
   "id": "546355f1-c691-4ce5-89de-56db964b96be",
   "metadata": {
    "tags": []
   },
   "source": [
    "(cont:gs:purpose)=\n",
    "# Purpose of operating systems\n",
    "\n",
    "The purpose of an operating system is to provide everything needed to enable applications to run on computers.  We [first](cont:gs:purpose:hw) present a simple model of hardware and why the OS is needed, then discuss how this has resulted in operating systems becoming the [fundamental platform](cont:gs:purpose:platform) that all computing depends on, and finally discuss why we, as operating system researchers and developers, feel like the [fun has just started](cont:gs:purpose:care). Our hope is that at the end of this chapter you will not only realize why it is so important for all computer scientists and engineers to have a fundamental understanding of operating systems, but to also to realize why so many people are excited to work on and contribute to operating systems.  Consider that today's dominant operating systems are open source, and rely on 1000s of contributors from all over the world, many who volunteer their time.\n",
    "\n"
   ]
  },
  {
   "cell_type": "markdown",
   "id": "6db59b6d-52dc-420e-9258-6cb252a66c6c",
   "metadata": {
    "tags": []
   },
   "source": [
    "(cont:gs:purpose:hw)=\n",
    "## A simple model of hardware\n",
    "\n",
    "The fundamental job of the operating system is to enable applications to run on a computer.  To understand why this is complicated, consider the very simple model of a computer depicted in {numref}`simplecomputer-fig`.  We briefly describe each of the key components of this computer, and what you need to know for now.\n",
    "\n",
    "```{figure} ../images/intro/hardware.png\n",
    "---\n",
    "width: 50% \n",
    "name: simplecomputer-fig\n",
    "---\n",
    "A simple model of a computer.  The CPU is connected to high speed memory, and through a lower speed bus to a network controller and disk controller that are in turn connected to a network (ethernet in this case) and a disk. \n",
    "```\n",
    "\n",
    "- **Central Processing Unit (CPU)**:  The smart part that executes instructions is called the Central Processing Unit (CPU) or **processor**.  In our simple model, these instructions operate by modifying the contents of various processor registers, and loading new register contents from memory, and storing registers into memory. \n",
    "\n",
    "- **Memory:** Also referred to as **Random Access Memory (RAM)**, holds the instructions and data that running applications require.  It is physically connected to the CPU via direct wiring.  Random access here refers to the fact that the processor can directly load or store any memory location (addressed as an 8-bit byte) in the same amount of time.   Memory today is normally volatile, where the contents are lost when the computer is powered off. \n",
    "\n",
    "- **I/O bus:** If the computer wasn't connected to anything, you couldn't do much with it.  All computers have some form of Input/Output (or I/O) bus that connects them to different devices.  While there are many kinds of I/O devices, for now we will ignore everything but: 1) storage, and 2) networks.   The processor normally talks to an I/O device by, typically, loading and storing registers on a controller specific to the device, and that controller in turn communicates with the corresponding device(s) and transfers data between the device and memory. \n",
    "\n",
    "- **Storage:** Since the memory is typically volatile, computers have to have some form of storage that are non-volatile.  This may include hard drives, SSDs, optimical drives, usb sticks, etc.  Most storage devices are accessed at a block granularity (e.g., 512 or 4096 bytes), and where entire blocks are transferred between storage and memory. Most storage devices are not **Random Access**, for example, technologies like a hard disk drive require the disk head to physically move to the location on the disk before reading or writing the data.  When the processor wants to read or write a block of disk, it tells the storage controller the block of disk to transfer to or from memory, and the storage controller notifies the processor when the operation is complete. \n",
    "\n",
    "- **Networking:** To talk to the outside world computers are normally connected to some network, typically today ethernet, where information is transferred between memory and the network in some form of packet as shown in {numref}`ethernet-packet`.  When the processor wants to send a message over the network, it is prepared in memory, and then tells the network controller to send it.  When new packets arrive over the network, the controller copies them into memory, and then tells the processor (in some fashion) that a new packet is available to be processed. \n",
    "\n",
    "```{figure} ../images/intro/ethernet-frame.png\n",
    "---\n",
    "width: 80% \n",
    "name: ethernet-packet\n",
    "---\n",
    "A ethernet packet is organized into a frame, that includes the address of the sender, the destination of the packet, the length, and the data or payload and a 32-bit hash (the CRC) of the rest of the contents that can be used to check of the packet has been corrupted in transit.  \n",
    "```\n",
    "\n",
    "```{Note} Note this model is highly abstracted and very simple.  As we will learn later in the course:\n",
    "- modern processors can execute hundreds of instructions in parallel, and modern computers can be composed of many processors,\n",
    "- memory today is organized in Non-Uniform Memory Access (NUMA) where some memory is closer to some processors; so its not really random access\n",
    "- memory is today very slow compared to the processor, and normally there are multiple layers of **cache** so that the CPU doesn't have to wait for the slow memory every time it needs to fetch an instruction to execute.\n",
    "- etc...\n",
    "```\n",
    "\n",
    "\n",
    "\n",
    "\n",
    "\n",
    "\n",
    "\n",
    "\n"
   ]
  },
  {
   "cell_type": "markdown",
   "id": "5fd415a0-71b6-433f-9a21-6886be95bf67",
   "metadata": {
    "tags": []
   },
   "source": [
    "(cont:gs:purpose:platform)=\n",
    "## The fundamental platform\n",
    "\n",
    "What makes operating systems so interesting is that they are the fundamental platform on which all other software is written. We briefly discuss each of their core tasks; basically this is a summary of the entire course in one simple section. "
   ]
  },
  {
   "cell_type": "markdown",
   "id": "796d3b1f-0974-4326-972e-a977deab5bf7",
   "metadata": {
    "tags": []
   },
   "source": [
    "```{figure} ../images/intro/purpose-OS-source-03.drawio.png\n",
    "---\n",
    "width: 50% \n",
    "name: mappingint-fig\n",
    "figclass: margin\n",
    "---\n",
    "Providing interfaces that applications can use on top of the complicated interfaces of today's hardware. \n",
    "```\n",
    "\n",
    "(cont:gs:purpose:platform:abs)=\n",
    "### Abstracting Hardware\n",
    "\n",
    "If applications needed to understand all the complicated hardware described [above](cont:gs:purpose:hw), many fewer applications would  be written.  Consider, for example storage, the abstraction provided by the hardware are blocks.  Applications that persist data want abstractions of directories and files.  \n",
    "\n",
    "As shown in {numref}`mappingint-fig`, the most important job of the operating system is to enable a set of higher level abstractions, often called \"virtual abstractions\" on top of the low-level primitive \"physical abstractions\" provided by the hardware.  That is, the operating system  translates physical abstractions to virtual/clean ones that applications can be written to.  Key abstractions we will discuss include:\n",
    "- Process: An abstraction of a CPU or processor, where every time a **program** is started it executes as a separate process. \n",
    "- File system: An abstraction of storage providing structure for organizing non-volatile data, for example, a hierarchical directory structure containing files.\n",
    "- Virtual memory: An abstraction of the memory that a process can access."
   ]
  },
  {
   "cell_type": "markdown",
   "id": "bec3f0c1-b6b1-410b-9cbb-131bca0f8d2a",
   "metadata": {
    "tags": []
   },
   "source": [
    "```{admonition} Process versus Program\n",
    "It is important to understand the difference between programs and processes.  When a user want to run an application, or **program**, the operating system creates a new process and loads the program instructions from storage into memory for the process executes.  There can be multiple processes executing the same program that running at the same time.  For example, while I am writing this book, when I type \"ps -e\" to tell me all the processes currently running, (see margin) I find that I have multiple \"bash\" shells running at the same time, a large number of \"python\" programs, and of course the \"ps\" program itself. We will talk more later about what the other parts of this command means.\n",
    "```"
   ]
  },
  {
   "cell_type": "code",
   "execution_count": 53,
   "id": "a6bc4e91-ed05-45b2-872d-ff8e30cb34d6",
   "metadata": {
    "jupyter": {
     "source_hidden": true
    },
    "tags": [
     "hide-input",
     "margin"
    ]
   },
   "outputs": [
    {
     "data": {
      "application/vnd.jupyter.widget-view+json": {
       "model_id": "47388d84b12f48728b822b306154c78a",
       "version_major": 2,
       "version_minor": 0
      },
      "text/plain": [
       "Output(layout=Layout(border='1px solid black', height='100%', overflow_y='scroll'))"
      ]
     },
     "metadata": {},
     "output_type": "display_data"
    }
   ],
   "source": [
    "bash.run(\"ps -e\")"
   ]
  },
  {
   "cell_type": "markdown",
   "id": "a06fb4b4-d6ea-4564-b9dd-07988ed0ccb0",
   "metadata": {},
   "source": [
    "```{figure} ../images/intro/purpose-OS-source-04.drawio.png\n",
    "---\n",
    "width: 3in \n",
    "name: multipleapps-fig\n",
    "align: right\n",
    "---\n",
    "Supporting many applications \n",
    "```"
   ]
  },
  {
   "cell_type": "markdown",
   "id": "282ce3bd-2328-44a4-8343-a14d7dcf6d84",
   "metadata": {},
   "source": [
    "(cont:gs:purpose:platform:multi)=\n",
    "### Share Hardware\n",
    "\n",
    "Modern operating systems enable many (thousands) of applications to run at the same time ({numref}`multipleapps-fig`).  The operating system needs to ensure that applications can't break each other.   For example, the operating system tries to ensure that a broken or malicious application (really process running the application program) can't modify the memory of keep other processes from using their fair share of resources.  This is especially the case because different applications may have very different requirements for example, your editor needs to be responsive to you typing characters, while if you compile a program, the compiler tries to use as much processing and disk as possible.  The operating system should ensure that the compiler doesn't destroy the interactivity of your editor.   "
   ]
  },
  {
   "cell_type": "markdown",
   "id": "1f140f4f-e46f-4bdf-abe6-3eaabbf499a5",
   "metadata": {},
   "source": [
    "(cont:gs:purpose:platform:hwdiv)=\n",
    "### Enabling diverse hardware\n",
    "\n",
    "Operating systems often run on diverse hardware, with computers that range from embedded ARM processors on your watch, to massive High Performance Computing systems ({numref}`hw-fig`). \n",
    "\n",
    "```{figure} ../images/intro/purpose-OS-source-06.drawio.png\n",
    "---\n",
    "width: 50% \n",
    "name: hw-fig\n",
    "figclass: margin\n",
    "---\n",
    "Different kinds of computers \n",
    "```\n",
    "\n",
    "The thing that makes it possible to introduce new hardware is that the operating system enables a common set of abstractions across these different systems.  That is the reason why, for example, Netflix runs on my mac, ipad, and tesla.  The operating system provides a common set of abstractions so that application programmers don't have to re-write everything when moving from one system to another.  The reason it is possible to introduce new processors (e.g., ARM, Intel, Power), and new computers (e.g., servers, laptops, cell phones) is that operating systems hide most of the complexity from the application developer. "
   ]
  },
  {
   "cell_type": "markdown",
   "id": "9c3b86f3-c795-4174-8057-3db6b0e3f8d4",
   "metadata": {},
   "source": [
    "(cont:gs:purpose:platform:security)=\n",
    "### Supporting many users \n",
    "\n",
    "\n",
    "```{figure} ../images/intro/purpose-OS-source-05.drawio.png\n",
    "---\n",
    "width: 100% \n",
    "name: sec-fig\n",
    "figclass: margin\n",
    "---\n",
    "From different users \n",
    "```"
   ]
  },
  {
   "cell_type": "markdown",
   "id": "3020b391-9fce-4ecc-b4ba-a4aee2af02e3",
   "metadata": {},
   "source": [
    "(cont:gs:purpose:platform:sec-outside)=\n",
    "### Protecting external attacks\n",
    "\n",
    "```{figure} ../images/intro/purpose-OS-source-07.drawio.png\n",
    "---\n",
    "width: 100% \n",
    "name: secoutside-fig\n",
    "figclass: margin\n",
    "---\n",
    "Protecting users from outside world.\n",
    "```\n",
    "\n"
   ]
  },
  {
   "cell_type": "markdown",
   "id": "1cdb40d0-3305-433a-9c40-34813fcde31e",
   "metadata": {
    "tags": []
   },
   "source": [
    "(cont:gs:purpose:platform:multi)=\n",
    "### Mutliplexing Hardware\n",
    "\n",
    "```{figure} ../images/intro/purpose-OS-source-08.drawio.png\n",
    "---\n",
    "width: 100% \n",
    "name: secoutside-fig\n",
    "figclass: margin\n",
    "---\n",
    "Protecting users from outside world.\n",
    "```\n",
    "\n",
    "```{figure} ../images/intro/purpose-OS-source-12.drawio.png\n",
    "---\n",
    "width: 100% \n",
    "name: secoutside-fig\n",
    "figclass: margin\n",
    "---\n",
    "Supporting devices\n",
    "```\n",
    "\n",
    "\n"
   ]
  },
  {
   "cell_type": "markdown",
   "id": "8e484cd5-d322-4e4b-92ed-7309907af96a",
   "metadata": {},
   "source": [
    "(cont:gs:purpose:platform:multi)=\n",
    "### Mutliplexing Hardware\n",
    "\n",
    "\n"
   ]
  },
  {
   "cell_type": "markdown",
   "id": "a9c8d980-f2ef-4e92-a755-21f83358246d",
   "metadata": {},
   "source": [
    "Talk about how support many kinds of hardware, PPC, intel, different disks, different storage... application doesn't need to change."
   ]
  },
  {
   "cell_type": "markdown",
   "id": "358053fb-2af6-4b3a-89d7-b01f299b8da7",
   "metadata": {
    "tags": []
   },
   "source": [
    "\n",
    "\n",
    "- abstracting the HW - providing interfaces that applications can use\n",
    "   - \n",
    "   - support many different types of computers \n",
    "- mutiplexing hardware - sharing\n",
    "  - allow many applications to share resources  \n",
    "  - supporting requires, e.g., real time... \n",
    "- security:                                                                                 \n",
    "  - protect users from each other                                                           \n",
    "  - protect against attacks                                                                 \n",
    "- enable control/configuration \n",
    "  - tuning\n",
    "  - customization \n",
    "  - specialization\n",
    "- enable devices - not common abstracion                                                                                                   \n",
    "- summarize tasks of the operating system"
   ]
  },
  {
   "cell_type": "markdown",
   "id": "275e8821-9347-438f-abd9-41932cbda296",
   "metadata": {},
   "source": [
    "(cont:gs:purpose:care)=\n",
    "## Why do we care\n",
    "- core platform everything else relies on, toughest code to write\n",
    "- means that everything relies on it\n",
    "\n",
    "- is the fun over... talk about future/changes\n"
   ]
  },
  {
   "cell_type": "code",
   "execution_count": null,
   "id": "ffa7ecb0-4176-41c6-b018-176239a3dc79",
   "metadata": {
    "tags": []
   },
   "outputs": [],
   "source": []
  }
 ],
 "metadata": {
  "kernelspec": {
   "display_name": "Python 3 (ipykernel)",
   "language": "python",
   "name": "python3"
  },
  "language_info": {
   "codemirror_mode": {
    "name": "ipython",
    "version": 3
   },
   "file_extension": ".py",
   "mimetype": "text/x-python",
   "name": "python",
   "nbconvert_exporter": "python",
   "pygments_lexer": "ipython3",
   "version": "3.10.5"
  }
 },
 "nbformat": 4,
 "nbformat_minor": 5
}
