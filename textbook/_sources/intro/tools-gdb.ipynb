{
 "cells": [
  {
   "cell_type": "markdown",
   "id": "f4e33dfd-f35f-4922-9267-f096d62488cc",
   "metadata": {},
   "source": [
    "(cont:gs:tools:gdb)=\n",
    "# GDB\n",
    "\n",
    "- FIXME: talk about features, backtrace,  threads... \n",
    "\n",
    "gdb is your best friend when it comes to debugging. It allows you to step through a program line by line, examine variable values and the contents of the stack, and much more. For a quick reference, we recommend [this guide](https://users.ece.utexas.edu/~adnan/gdb-refcard.pdf).\n",
    "\n",
    "## Getting started\n",
    "In order to use gdb, you will have to use the `-g` command line flag when compiling. This flag makes sure that the necessary debugging information is produced. \n",
    "```\n",
    "gcc -g -o main main.c\n",
    "```\n",
    "This will compile the program `main.c` into an executable named \"main\" with debugging information. \n",
    "\n",
    "To open the program in the debugger, you can type `gdb main`. To exit gdb, type `q` or `quit`.\n",
    "\n",
    "Gdb provides documentation, which you can access by typing the command `help`. This will provide a list of topics, and you can then get information about a specific topic or command by typing `help <topic>` or `help <command>`.\n",
    "\n",
    "## Using gdb to debug\n",
    "One of the more useful things you can do in gdb is set **breakpoints** and observe the state of the process mid-execution. There are a couple of ways to set a breakpoint:\n",
    "* `break <function>`: sets a breakpoint at the beginning of `function`.\n",
    "* `break <linenumber>`: sets the breakpoint to the given line number in the source file. Execution will stop **before** that line has been executed.\n",
    "\n",
    "If your code is in multiple files, you may have to specify a file name before the function name or line number, e.g. `break <filename>:<function>` or `break <filename>:<linenumber>`. \n",
    "\n",
    "To delete the breakpoints you have set, you can type `delete`. You can also delete a specific breakpoint by typing `delete <number>`. To find out what number each breakpoint is, type `info breakpoints`. \n",
    "\n",
    "Once you have set all your desired breakpoints, you need to run the program. To do this, simply type the command `run` into gdb. If the program takes command line arguments, you can provide them the same way as you would in the command line, except you say \"run\" instead of the program name. Your code will execute up to where you specified your first breakpoint. \n",
    "\n",
    "Once you reach your breakpoint, you will probably want to look at the contents of the stack or some variables to make sure that your program is executing as expected. To see the current value of a variable, you can simply type `print <variablename>`. \n",
    "\n",
    "To continue running the program after stopping at a break time, you have several options. Typing `continue` will set the program running again until you hit another breakpoint or the process finishes. Typing `step` (or just `s`) will execute the current source line and stop execution before the next source line, If the line that is about to be executed is a function call, then `step` will step into that function. In contrast, moving through execution using the `next` will not \"step in\" to a called function. It will continue until the next source line in *the current function*. \n",
    "\n",
    "### Debugging threads\n",
    "Once you learn about pthreads, a very powerful thing you can do is switch between threads and step through in the order you choose. \n",
    "\n",
    "* `info threads`: lists all existing threads.\n",
    "* `thread <thread_id>`: selects which thread to switch to.\n",
    "* `info inferiors`: list all inferiors being managed\n",
    "* `inferior <inferior_id>`: selects which inferior to switch to\n",
    "* `set follow-fork-mode <option>`: e.g. **set follow-fork-mode child** to follow child instead of parent\n",
    "* `detach-on-fork <option>`: e.g. **set detach-on-fork off** to debug all the processes (you are debugging one at a time, and child is blocked right after fork)\n",
    "\n",
    "After you have selected which thread you would like to step through, you can use the basic stepping commands to execute the next instructions. Note that already existing break points exist across all threads. When debugging a process that forks with GDB, you can debug parent, debug children or all processes.\n",
    "\n",
    "For more information, see [here](https://sourceware.org/gdb/onlinedocs/gdb)\n",
    "\n",
    "### Debugging signals\n",
    "Once you learn about signals, you can use gdb to change its behavior on how to handle those signals. \n",
    "* `info signals` or `info signals <signal>`: lists all signals (or one signal) and shows how gdb responds to it.\n",
    "* `handle <signal> <keyword>`: changes how gdb responds to that signal based on the keyword.\n",
    "\n",
    "Below is a list of keywords: \n",
    "* `nostop`: gdb should not stop your program when this signal happens.\n",
    "* `stop`: gdb should stop your program when this signal happens.\n",
    "* `print`: gdb should print a message when this signal happens.\n",
    "* `noprint`: gdb should not mention the occurrence of the signal at all.\n",
    "* `ignore`: gdb should not allow your program to see this signal.\n",
    "* `noignore`: gdb should allow your program to see this signal.\n",
    "\n",
    "## Review\n",
    "* `break`: use to set breakpoints\n",
    "* `run`: run the program in gdb\n",
    "* `delete`: delete breakpoints\n",
    "* `continue`: set the program running again after being stopped at a breakpoint\n",
    "* `step`: execute the current source line and stop again before the next source line\n",
    "* `next`: continue until the next source line in the current function\n",
    "* `list <linenumber>`: print out some lines from the source code around `linenumber`.\n",
    "\n",
    "This is just the beginning of what you can do with gdb, and we will add to this section of the book as the course continues!"
   ]
  },
  {
   "cell_type": "code",
   "execution_count": null,
   "id": "225b1485-7daf-40f8-ae71-39d735a2d2fb",
   "metadata": {},
   "outputs": [],
   "source": []
  }
 ],
 "metadata": {
  "kernelspec": {
   "display_name": "Python 3 (ipykernel)",
   "language": "python",
   "name": "python3"
  },
  "language_info": {
   "codemirror_mode": {
    "name": "ipython",
    "version": 3
   },
   "file_extension": ".py",
   "mimetype": "text/x-python",
   "name": "python",
   "nbconvert_exporter": "python",
   "pygments_lexer": "ipython3",
   "version": "3.10.5"
  },
  "vscode": {
   "interpreter": {
    "hash": "f4e3c63a28d2eadc36e3bba0725a6dea388233dd4d06cf5319c6ed40df7370ac"
   }
  }
 },
 "nbformat": 4,
 "nbformat_minor": 5
}
