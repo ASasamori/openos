{
 "cells": [
  {
   "cell_type": "code",
   "execution_count": 12,
   "id": "94d0a792-04c5-4b8b-9110-6639e45eaa72",
   "metadata": {
    "tags": [
     "remove-cell",
     "remove-input",
     "hide-output"
    ]
   },
   "outputs": [
    {
     "name": "stderr",
     "output_type": "stream",
     "text": [
      "Exception ignored in: <function BashSession.__del__ at 0x7fc13fcaa200>\n",
      "Traceback (most recent call last):\n",
      "  File \"/opt/app-root/src/openos/content/python/common.py\", line 868, in __del__\n",
      "    bashSessionClose(self.session)\n",
      "  File \"/opt/app-root/src/openos/content/python/common.py\", line 847, in bashSessionClose\n",
      "    closeTtySession(session)\n",
      "  File \"/opt/app-root/src/openos/content/python/common.py\", line 618, in closeTtySession\n",
      "    TtyOpenSessions.remove(session)\n",
      "ValueError: list.remove(x): x not in list\n"
     ]
    }
   ],
   "source": [
    "%run -i ../python/common.py\n",
    "publish=False\n",
    "\n",
    "if not publish:\n",
    "    # cleanup any old state\n",
    "    bashCmds('''[[ -d mydir ]] && rm -rf mydir\n",
    "    [[ -a myfile ]] && rm myfile\n",
    "    [[ -a errors ]] && rm errors \n",
    "    [[ -a mydate ]] && rm mydate\n",
    "    [[ -a mynewdir ]] && rm -rf mynewdir\n",
    "    [[ -a anotherfile ]] && rm anotherfile\n",
    "    [[ -a mybin ]] && rm -rf  mybin\n",
    "    [[ -a myinfo ]] && rm myinfo''')\n",
    "else:\n",
    "    bashCmds('''rm -rf ~/*''')\n",
    "    \n",
    "closeAllOpenTtySessions()\n",
    "bash = BashSession()\n",
    "\n",
    "generated=\"~/myfile ~/errors ~/mydate ~/mydir ~/mynewdir ~/out\"\n"
   ]
  },
  {
   "cell_type": "markdown",
   "id": "637f05df-9af8-423e-8689-a18d34f99c69",
   "metadata": {},
   "source": [
    "```{warning}\n",
    "This portion of the book is under construction, not ready to be read\n",
    "```"
   ]
  },
  {
   "cell_type": "markdown",
   "id": "f173d91e-16bf-44f5-8a99-8fbc5ef72fa0",
   "metadata": {},
   "source": [
    "(cont:gs:abstractions)=\n",
    "# Operating System Abstractions"
   ]
  },
  {
   "cell_type": "markdown",
   "id": "83ac9883-32e3-48eb-88a5-2b680bf22966",
   "metadata": {},
   "source": [
    "UNIX has instilled in generations of computer scientists a basic aesthetic for how to design and structure complicated collections of software.  In particular one learns that the designers of UNIX tried to structure the system around a small core set of ideas, \"abstractions\", that once understood allows a programmer to understand the rest of the system and how to get things done.   In this chapter we introduce some of those key abstractions. \n",
    "\n"
   ]
  },
  {
   "cell_type": "markdown",
   "id": "a0f72289-4d0c-4e06-8758-60288006ae5e",
   "metadata": {},
   "source": [
    "## Files\n",
    "\n",
    "Probably the most novel idea of Unix is that everything is a file, where a file is a stream of bytes.  A process can use files to access durable state on a disk, communicate with other processes, find out information about the system, and communicate over the network.   This central idea enables one to write programs that do the same task irrespective of where the data is coming from or going to.  As we will see, it also allows programmers to tie together multiple simple programs to do a more complex task.  \n",
    "\n",
    "\n",
    "```{figure} ../images/intro/file-desc.png\n",
    "---\n",
    "width: 50%\n",
    "name: file-desc\n",
    "---\n",
    "The kernel array of file descriptors.\n",
    "```"
   ]
  },
  {
   "cell_type": "markdown",
   "id": "90f0991b-6859-4363-9212-ae668e2fc5a4",
   "metadata": {},
   "source": [
    "### File Descriptors\n",
    "As shown {numref}`file-desc` the kernel maintains a table of open files, and a file descriptor is an index into that table that can be used to read or write to a particular file.  Entries are added to the table by operations that open or create a file or create a special file like a network connection.  There are three special file descriptors shown in {numref}`fd-table`, that programs (and libraries) should use for input, output and errors. \n",
    "\n",
    "```{list-table} Standard well known file descriptors. \n",
    ":header-rows: 1\n",
    ":name: fd-table\n",
    ":width: 50%\n",
    "\n",
    "* - Value\n",
    "  - Name\n",
    "  - Purpose\n",
    "* - 0\n",
    "  - stdin\n",
    "  - standard input; process should read data from here\n",
    "* - 1\n",
    "  - stdout\n",
    "  - standard output; process will write its output here\n",
    "* - 2\n",
    "  - stderr\n",
    "  - standard error; process should write out errors here\n",
    "```\n",
    "\n",
    "The two most important operations on files are:\n",
    "\n",
    "- **ssize_t read(int fd, void *buf, size_t count)**: read from file referenced by descriptor *fd* into memory pointed to by *buf* as up to *count* bytes.\n",
    "- **ssize_t write(int fd, void *buf, size_t count)**: write from file referenced by descriptor *fd* from memory pointed to by *buf*, up to *count* bytes.\n",
    "\n",
    "To understand how to use these operations, you really need to read the manual.  In Linux you can find out about everything using the **man** program.  For example:"
   ]
  },
  {
   "cell_type": "code",
   "execution_count": 13,
   "id": "a55b3059-7e74-4fc8-a52e-205ddeea7386",
   "metadata": {
    "tags": [
     "output_scroll",
     "remove-input"
    ]
   },
   "outputs": [
    {
     "data": {
      "application/vnd.jupyter.widget-view+json": {
       "model_id": "db35ca8f56d14f429255ddbf836522be",
       "version_major": 2,
       "version_minor": 0
      },
      "text/plain": [
       "Output(layout=Layout(border='1px solid black', height='1in', overflow_y='scroll'))"
      ]
     },
     "metadata": {},
     "output_type": "display_data"
    }
   ],
   "source": [
    "bash.run(\"man 2 write\", height='1in')"
   ]
  },
  {
   "cell_type": "markdown",
   "id": "715447a9-4c30-453f-8733-b2b6b3eafe37",
   "metadata": {
    "tags": []
   },
   "source": [
    "```{note}\n",
    ":class: margin\n",
    "In this case, the *2* refers to the section of the manual for system calls.  To find out about the different sections, you, of course, read the manual about the man command.\n",
    "```\n",
    "\n"
   ]
  },
  {
   "cell_type": "markdown",
   "id": "6c9f2702-ad03-4302-af56-5c9cb2da656b",
   "metadata": {
    "tags": []
   },
   "source": [
    "### Composing programs together\n",
    "\n",
    "So what's the big deal, well it turns out that if we can read and write streams, we can now write programs that combine together to do something very powerful.  For example, the **|** symbol tells the shell to take the output of one program and send it to the input of the next program.  So, lets say we are trying to find all the programs on our computer that have anything to do with perl, the following command will list the contents of the /usr/bin/ directory send the output of that listing to a grep program that searches for the word perl, and send the output of that to a program that counts the number of lines of input it had\n"
   ]
  },
  {
   "cell_type": "code",
   "execution_count": 18,
   "id": "80ef3824-4a47-4495-8eab-6e7d4ece0209",
   "metadata": {
    "tags": [
     "output_scroll",
     "remove-input"
    ]
   },
   "outputs": [
    {
     "data": {
      "application/vnd.jupyter.widget-view+json": {
       "model_id": "e471a8c23491496d81bca1d2db5590bf",
       "version_major": 2,
       "version_minor": 0
      },
      "text/plain": [
       "Output(layout=Layout(border='1px solid black', height='100%', overflow_y='scroll'))"
      ]
     },
     "metadata": {},
     "output_type": "display_data"
    }
   ],
   "source": [
    "bash.run(\"ls /usr/bin/ | grep perl | wc -l\")"
   ]
  },
  {
   "cell_type": "markdown",
   "id": "9b4fd6e0-8a4d-47a7-9698-d3233d205c96",
   "metadata": {},
   "source": [
    "Linux now exposes all kinds of information through synthetic file systems, giving users and administrators massive ability to automate.  For example, in ```bash``` the shell we are using ```$$``` lets us know the ``id`` of the process we are in.  So, stealing a nice example from [jonathan](https://jappavoo.github.io/UndertheCovers/textbook/unix/shellintro.html#standard-output-and-redirection), the following command shows the file descriptors for stdin, stdout, and stderr. "
   ]
  },
  {
   "cell_type": "code",
   "execution_count": 15,
   "id": "95701b2b-10c8-4717-a787-d108c0807e59",
   "metadata": {
    "tags": [
     "remove-input"
    ]
   },
   "outputs": [
    {
     "data": {
      "application/vnd.jupyter.widget-view+json": {
       "model_id": "870bce24aa074f248144c620dbdb24ea",
       "version_major": 2,
       "version_minor": 0
      },
      "text/plain": [
       "Output(layout=Layout(border='1px solid black', height='100%', overflow_y='scroll'))"
      ]
     },
     "metadata": {},
     "output_type": "display_data"
    }
   ],
   "source": [
    "bash.run('''ls -l /proc/$$/fd/{0..2}''')"
   ]
  },
  {
   "cell_type": "code",
   "execution_count": 16,
   "id": "9e8d3c19-0828-4e27-b437-f0d812154fa7",
   "metadata": {
    "tags": [
     "remove-input"
    ]
   },
   "outputs": [
    {
     "data": {
      "application/vnd.jupyter.widget-view+json": {
       "model_id": "120466ebd17347928b15c331c91ac492",
       "version_major": 2,
       "version_minor": 0
      },
      "text/plain": [
       "Output(layout=Layout(border='1px solid black', height='100%', overflow_y='scroll'))"
      ]
     },
     "metadata": {},
     "output_type": "display_data"
    }
   ],
   "source": [
    "bash_pid=bash.getPid()\n",
    "bash_stdout=os.path.realpath(\"/proc/\" + bash_pid.__str__() + \"/fd/1\")\n",
    "bash.run(\"file \" + bash_stdout)"
   ]
  },
  {
   "cell_type": "markdown",
   "id": "59700278-a13a-4d11-9daf-d41c1bd4f1d7",
   "metadata": {},
   "source": [
    "And we can see that our stdin, stdout, and stderr all point to a character special file, which in Unix is used to represent a terminal.  If we echo hello to that same special device, it will appear in our terminal. "
   ]
  },
  {
   "cell_type": "code",
   "execution_count": 17,
   "id": "fef47c6b-d6c0-4e83-987c-6f75a33fddb3",
   "metadata": {
    "tags": [
     "remove-input"
    ]
   },
   "outputs": [
    {
     "data": {
      "application/vnd.jupyter.widget-view+json": {
       "model_id": "274ba45f7217495bb1a1590ea79fe870",
       "version_major": 2,
       "version_minor": 0
      },
      "text/plain": [
       "Output(layout=Layout(border='1px solid black', height='100%', overflow_y='scroll'))"
      ]
     },
     "metadata": {},
     "output_type": "display_data"
    }
   ],
   "source": [
    "bash.run(\"echo \\\"hello class\\\" > \" + bash_stdout)"
   ]
  },
  {
   "cell_type": "markdown",
   "id": "cedf1dee-ebbf-4524-b07b-89faa8ae691b",
   "metadata": {},
   "source": [
    "The goal of this section was to discuss some of the power of the shell and the abstraction Unix has of everything being a file.  I would strongly encourage reading the shell and unix sections of [Under the Covers: The Secret Life of Software](https://jappavoo.github.io/UndertheCovers/textbook/intro_tb.html#under-the-covers-the-secret-life-of-software)  for a much more detailed coverage of this material."
   ]
  }
 ],
 "metadata": {
  "kernelspec": {
   "display_name": "Python 3 (ipykernel)",
   "language": "python",
   "name": "python3"
  },
  "language_info": {
   "codemirror_mode": {
    "name": "ipython",
    "version": 3
   },
   "file_extension": ".py",
   "mimetype": "text/x-python",
   "name": "python",
   "nbconvert_exporter": "python",
   "pygments_lexer": "ipython3",
   "version": "3.10.5"
  }
 },
 "nbformat": 4,
 "nbformat_minor": 5
}
