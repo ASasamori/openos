{
 "cells": [
  {
   "cell_type": "code",
   "execution_count": 1,
   "id": "94d0a792-04c5-4b8b-9110-6639e45eaa72",
   "metadata": {
    "tags": [
     "remove-cell",
     "remove-input",
     "hide-output"
    ]
   },
   "outputs": [],
   "source": [
    "%run -i ../python/common.py\n",
    "publish=False\n",
    "\n",
    "if not publish:\n",
    "    # cleanup any old state\n",
    "    bashCmds('''[[ -d mydir ]] && rm -rf mydir\n",
    "    [[ -a myfile ]] && rm myfile\n",
    "    [[ -a errors ]] && rm errors \n",
    "    [[ -a mydate ]] && rm mydate\n",
    "    [[ -a mynewdir ]] && rm -rf mynewdir\n",
    "    [[ -a anotherfile ]] && rm anotherfile\n",
    "    [[ -a mybin ]] && rm -rf  mybin\n",
    "    [[ -a myinfo ]] && rm myinfo''')\n",
    "else:\n",
    "    bashCmds('''rm -rf ~/*''')\n",
    "    \n",
    "closeAllOpenTtySessions()\n",
    "bash = BashSession()\n",
    "\n",
    "generated=\"~/myfile ~/errors ~/mydate ~/mydir ~/mynewdir ~/out\"\n"
   ]
  },
  {
   "cell_type": "markdown",
   "id": "637f05df-9af8-423e-8689-a18d34f99c69",
   "metadata": {},
   "source": [
    "```{warning}\n",
    "This portion of the book is under construction, not ready to be read\n",
    "```"
   ]
  },
  {
   "cell_type": "markdown",
   "id": "f173d91e-16bf-44f5-8a99-8fbc5ef72fa0",
   "metadata": {},
   "source": [
    "(cont:gs:abstractions)=\n",
    "# Operating System Abstractions"
   ]
  },
  {
   "cell_type": "markdown",
   "id": "83ac9883-32e3-48eb-88a5-2b680bf22966",
   "metadata": {},
   "source": [
    "UNIX has instilled in generations of computer scientists a basic aesthetic for how to design and structure complicated collections of software.  In particular one learns that the designers of UNIX tried to structure the system around a small core set of ideas, \"abstractions\", that once understood allows a programmer to understand the rest of the system and how to get things done.   \n",
    "\n",
    "We first describe the fundamental abstraction of [files](cont:gs:abstractions:file) that is core to the power and understand of Unix's ability to enable programs, to be composed together, and how this enables powerful functionality to be implemented in a shell.  We then, using a shell as a example, briefly discuss key abstractions of [processes](cont:gs:abstractions:process), [file systems](cont:gs:abstractions:fs), [pipes](cont:gs:abstractions:pipes) and [signals](cont:gs:abstractions:signals). \n"
   ]
  },
  {
   "cell_type": "markdown",
   "id": "74add05c-24ef-45bb-bdf5-8d113e397d50",
   "metadata": {},
   "source": [
    "(cont:gs:abstractions:file)=\n",
    "## Everything is a file\n",
    "\n",
    "A core idea of Unix is that everything is a file, where a file is a stream of bytes.  As shown {numref}`file-desc` the kernel maintains a table of open files, and a file descriptor is an index into that table that can be used to read or write to a particular file.  The system calls that work on all files are:\n",
    "\n",
    "- `n = write(desc, buffer, len)`: Write `len` bytes from `buffer` into a stream identified by `desc`.\n",
    "\n",
    "- `n = read(desc, buffer, max)`: Read `max` bytes (or fewer if no data is available) from stream identified by `desc` into `buffer`and returning the actual number of bytes `n` read.  \n",
    "\n",
    "To understand how to use these operations, you really need to read the manual.  In Linux you can find out about everything using the **man** program.  For example, ```man 2 write``` tells you everything about the ```write``` system call:\n",
    "  "
   ]
  },
  {
   "cell_type": "code",
   "execution_count": 2,
   "id": "6d54d9b2-f5bd-426d-8df5-b38ed1c1e7ff",
   "metadata": {
    "jupyter": {
     "source_hidden": true
    },
    "tags": [
     "output_scroll",
     "remove-input"
    ]
   },
   "outputs": [
    {
     "data": {
      "application/vnd.jupyter.widget-view+json": {
       "model_id": "b158c9db1b564f799bd8662506694312",
       "version_major": 2,
       "version_minor": 0
      },
      "text/plain": [
       "Output(layout=Layout(border='1px solid black', height='1in', overflow_y='scroll'))"
      ]
     },
     "metadata": {},
     "output_type": "display_data"
    }
   ],
   "source": [
    "bash.run(\"man 2 write\", height='1in')"
   ]
  },
  {
   "cell_type": "markdown",
   "id": "715447a9-4c30-453f-8733-b2b6b3eafe37",
   "metadata": {
    "tags": []
   },
   "source": [
    "```{note}\n",
    ":class: margin\n",
    "In this case, the *2* refers to the section of the manual for system calls.  To find out about the different sections, you, of course, read the manual about the man command.\n",
    "```\n",
    "\n"
   ]
  },
  {
   "cell_type": "markdown",
   "id": "94286072-5486-4733-8950-5f696b05eff2",
   "metadata": {},
   "source": [
    "To make files in the file system look like a stream, on each read or write operation, the kernel increases a per `desc` offset by the amount of data read or written.  Turns out that this naturally matches many applications that read or write files in their entirety, and is key to enabling a common abstraction across all I/O. \n",
    "\n",
    "This idea, that you can read or write to any kind of I/O object, enabled programs to write a single application, and, depending on how it is launched by the shell, it could work on durable state on a disk, work interactively against input typed in by a programmer, or even work by communicating with other processes, potentially over a network.   \n",
    "\n",
    "\n",
    "Entries are added to the table by operations that open or create a file or create a special file like a network connection, or a tty.  There are three special file descriptors shown in {numref}`fd-table`, that programs (and libraries) should use for input, output and errors. \n",
    "\n",
    "```{figure} ../images/intro/osstructure-fd.drawio.png\n",
    "---\n",
    "width: 50%\n",
    "name: file-desc\n",
    "---\n",
    "The kernel maintains for each process an array of file descriptors, where a process can read or write to any kind of I/O object that are open in its table. \n",
    "```"
   ]
  },
  {
   "cell_type": "markdown",
   "id": "7cd21289-5b32-4847-8624-48c3b46367c5",
   "metadata": {
    "tags": [
     "margin"
    ]
   },
   "source": [
    "```{list-table} Standard well known file descriptors. \n",
    ":header-rows: 1\n",
    ":name: fd-table\n",
    ":widths: 3 5 20\n",
    ":width: 4in\n",
    "\n",
    "* - Value\n",
    "  - Name\n",
    "  - Purpose\n",
    "* - 0\n",
    "  - stdin\n",
    "  - standard input; process should read data from here\n",
    "* - 1\n",
    "  - stdout\n",
    "  - standard output; process will write its output here\n",
    "* - 2\n",
    "  - stderr\n",
    "  - standard error; process should write out errors here\n",
    "```"
   ]
  },
  {
   "cell_type": "markdown",
   "id": "1c62d8a2-25ed-4d2a-937d-92a7c0d02b39",
   "metadata": {
    "tags": []
   },
   "source": [
    "So, for example, the following program echos a string to the terminal:"
   ]
  },
  {
   "cell_type": "code",
   "execution_count": 3,
   "id": "445b230c-032c-4df6-8d9e-380ec9829c64",
   "metadata": {
    "tags": [
     "output_scroll",
     "remove-input"
    ]
   },
   "outputs": [
    {
     "data": {
      "application/vnd.jupyter.widget-view+json": {
       "model_id": "f70d5da7d8614d868662b70efc8b5260",
       "version_major": 2,
       "version_minor": 0
      },
      "text/plain": [
       "Output(layout=Layout(border='1px solid black', height='1in', overflow_y='scroll'))"
      ]
     },
     "metadata": {},
     "output_type": "display_data"
    }
   ],
   "source": [
    "bash.run(\"echo \\\"Hello class\\\"\", height='1in')"
   ]
  },
  {
   "cell_type": "code",
   "execution_count": 4,
   "id": "d6184aac-cd75-4f6d-a4b9-fe59f0633d96",
   "metadata": {
    "tags": [
     "output_scroll",
     "remove-input"
    ]
   },
   "outputs": [
    {
     "data": {
      "application/vnd.jupyter.widget-view+json": {
       "model_id": "bdd711b18f7f424a96c6a8be837cdcf1",
       "version_major": 2,
       "version_minor": 0
      },
      "text/plain": [
       "Output(layout=Layout(border='1px solid black', height='100%', overflow_y='scroll'))"
      ]
     },
     "metadata": {},
     "output_type": "display_data"
    }
   ],
   "source": [
    "bash.run(\"echo \\\"Hello class\\\" > /tmp/reshello\")"
   ]
  },
  {
   "cell_type": "markdown",
   "id": "443f534d-dcfc-452d-971a-0d8934bf5509",
   "metadata": {
    "tags": []
   },
   "source": [
    "While the same program, can have its output redirected to a file, as we can see from ```cat ``` which then prints the contents of that file to the terminal:"
   ]
  },
  {
   "cell_type": "code",
   "execution_count": 5,
   "id": "a55b3059-7e74-4fc8-a52e-205ddeea7386",
   "metadata": {
    "tags": [
     "output_scroll",
     "remove-input"
    ]
   },
   "outputs": [
    {
     "data": {
      "application/vnd.jupyter.widget-view+json": {
       "model_id": "360960c2149b49a3a2f59c4d0a9d829d",
       "version_major": 2,
       "version_minor": 0
      },
      "text/plain": [
       "Output(layout=Layout(border='1px solid black', height='100%', overflow_y='scroll'))"
      ]
     },
     "metadata": {},
     "output_type": "display_data"
    }
   ],
   "source": [
    "bash.run('''cat /tmp/reshello''')"
   ]
  },
  {
   "cell_type": "markdown",
   "id": "ee5a1c2d-5fe8-4158-93d5-6b63cd5cdd42",
   "metadata": {
    "tags": []
   },
   "source": [
    "This probably seems obvious to a modern reader, i.e., an object oriented design, where you can do the same operations on any object. However, at the time, it was a radical idea, operating systems had specialized interfaces for files with records, terminals, etc…  Moreover, by introducing the idea of a special object/file, a *pipe*, you could allow programs to be combined together to do much more powerful tasks.   The **|** symbol tells the shell to create a pipe that connects the output of one program to the input of the next program.  So, lets say we are trying to find all the programs on our computer that have anything to do with perl, the following command will list the contents of the /usr/bin/ directory send the output of that listing to a grep program that searches for the word perl, and send the output of that to a program that counts the number of lines of input it had"
   ]
  },
  {
   "cell_type": "code",
   "execution_count": 6,
   "id": "80ef3824-4a47-4495-8eab-6e7d4ece0209",
   "metadata": {
    "tags": [
     "output_scroll",
     "remove-input"
    ]
   },
   "outputs": [
    {
     "data": {
      "application/vnd.jupyter.widget-view+json": {
       "model_id": "4e8903ec3e6e492885cad78a928ad427",
       "version_major": 2,
       "version_minor": 0
      },
      "text/plain": [
       "Output(layout=Layout(border='1px solid black', height='1in', overflow_y='scroll'))"
      ]
     },
     "metadata": {},
     "output_type": "display_data"
    }
   ],
   "source": [
    "bash.run(\"ls /usr/bin/ | grep perl | wc -l\", height='1in')"
   ]
  },
  {
   "cell_type": "markdown",
   "id": "9b4fd6e0-8a4d-47a7-9698-d3233d205c96",
   "metadata": {},
   "source": [
    "Today, this has gone much further.  Linux now exposes all kinds of information through synthetic file systems, giving users and administrators massive ability to automate.  For example, in ```bash``` the shell we are using ```$$``` lets us know the ``id`` of the process we are in.  So, stealing a nice example from [jonathan](https://jappavoo.github.io/UndertheCovers/textbook/unix/shellintro.html#standard-output-and-redirection), the following command shows the "
   ]
  },
  {
   "cell_type": "code",
   "execution_count": 7,
   "id": "95701b2b-10c8-4717-a787-d108c0807e59",
   "metadata": {
    "tags": [
     "remove-input"
    ]
   },
   "outputs": [
    {
     "data": {
      "application/vnd.jupyter.widget-view+json": {
       "model_id": "a7c59b4144124b5cb962c4465e341f45",
       "version_major": 2,
       "version_minor": 0
      },
      "text/plain": [
       "Output(layout=Layout(border='1px solid black', height='100%', overflow_y='scroll'))"
      ]
     },
     "metadata": {},
     "output_type": "display_data"
    }
   ],
   "source": [
    "bash.run('''ls -l /proc/$$/fd/{0..2}''')"
   ]
  },
  {
   "cell_type": "code",
   "execution_count": 8,
   "id": "9e8d3c19-0828-4e27-b437-f0d812154fa7",
   "metadata": {
    "tags": [
     "remove-input"
    ]
   },
   "outputs": [
    {
     "data": {
      "application/vnd.jupyter.widget-view+json": {
       "model_id": "49c8bb52bea54bb6b32b87b6453db15f",
       "version_major": 2,
       "version_minor": 0
      },
      "text/plain": [
       "Output(layout=Layout(border='1px solid black', height='100%', overflow_y='scroll'))"
      ]
     },
     "metadata": {},
     "output_type": "display_data"
    }
   ],
   "source": [
    "bash_pid=bash.getPid()\n",
    "bash_stdout=os.path.realpath(\"/proc/\" + bash_pid.__str__() + \"/fd/1\")\n",
    "bash.run(\"file \" + bash_stdout)"
   ]
  },
  {
   "cell_type": "markdown",
   "id": "59700278-a13a-4d11-9daf-d41c1bd4f1d7",
   "metadata": {},
   "source": [
    "And we can see that our stdin, stdout, and stderr all point to a character special file is in Unix is used to represent a terminal, and we can write to that same special device and it will appear in our terminal. "
   ]
  },
  {
   "cell_type": "code",
   "execution_count": 9,
   "id": "fef47c6b-d6c0-4e83-987c-6f75a33fddb3",
   "metadata": {
    "tags": [
     "remove-input"
    ]
   },
   "outputs": [
    {
     "data": {
      "application/vnd.jupyter.widget-view+json": {
       "model_id": "7ab21203212341da9d9d3df49965a2a4",
       "version_major": 2,
       "version_minor": 0
      },
      "text/plain": [
       "Output(layout=Layout(border='1px solid black', height='100%', overflow_y='scroll'))"
      ]
     },
     "metadata": {},
     "output_type": "display_data"
    }
   ],
   "source": [
    "bash.run(\"echo \\\"hello class\\\" > \" + bash_stdout)"
   ]
  },
  {
   "cell_type": "markdown",
   "id": "cedf1dee-ebbf-4524-b07b-89faa8ae691b",
   "metadata": {},
   "source": [
    "I would strongly encourage reading the shell and unix sections of [Under the Covers: The Secret Life of Software](https://jappavoo.github.io/UndertheCovers/textbook/intro_tb.html#under-the-covers-the-secret-life-of-software)  for a much more detailed coverage of this material.  However, hopefully this has given you enough information to understand the power Unix introduced by introducing polymorphism in the operating system, and creating a shell that enables you to combine all kinds of programs together in complicated ways.  \n",
    "\n",
    "The remainder of this chapter introduces the core abstractions of Unix, and the system calls you use on those examples, all with examples from a shell. "
   ]
  },
  {
   "cell_type": "markdown",
   "id": "2a497ee9-e89a-47f9-82b7-54c98eabdb18",
   "metadata": {
    "tags": []
   },
   "source": [
    "(cont:gs:abstractions:process)=\n",
    "## Process management\n",
    "\n",
    "We have already introduced the abstraction of a process, it is a virtual computer.\n",
    "\n",
    "- new architecture picture with a process descriptor, pointing to file table, and mm data structures, P1, then P2 created by fork\n",
    "- show fork and exec system calls; and say how they are so stupid\n",
    "\n",
    "- show a simple shell, reads a program name from stdin, forks, execs, cool.  "
   ]
  },
  {
   "cell_type": "markdown",
   "id": "6168d9af-ba49-43c0-8b8f-62d9772eb77a",
   "metadata": {
    "tags": []
   },
   "source": [
    "### Changing stdin/stdout \n",
    "\n",
    "Introduce dup2, show how that works"
   ]
  },
  {
   "cell_type": "markdown",
   "id": "3e617704-746e-4770-857e-9f6458827d97",
   "metadata": {},
   "source": [
    "### File system system calls\n",
    "\n",
    "So, we know how to read and write from stdin, but how do we direct into a file.  \n",
    "\n",
    "Read and write work for all files, there are also a number of system calls specific to file systems. While we discuss this in more detail [later](cont:fs:interface), we briefly introduce the key information you need to know.  First, it is important to realize that all Unix file systems organize information in a hierarchy as shown in numref}`fs:tree-logical-abs`.  \n",
    "\n",
    "```{figure} ../images/pb-figures/fs/filesys-tree.png\n",
    "---\n",
    "width: 45%\n",
    "name: fs:tree-logical-abs\n",
    "---\n",
    "Logical view: hierarchical file system name space\n",
    "```\n",
    "\n",
    "Some of the system calls specific to file systems are:\n",
    "\n",
    "- `int desc = open(name, O_READ)`: Verify that file `name` exists and may\n",
    "be read, and then return a *descriptor* which may be used to refer to\n",
    "that file when reading it.\n",
    "\n",
    "- `int desc = open(name, O_WRITE | flags, mode)`: Verify permissions and\n",
    "open `name` for writing, creating it (or erasing existing contents) if\n",
    "necessary as specified in `flags`. Returns a descriptor which may be\n",
    "used for writing to that file.\n",
    "\n",
    "- `close(desc)`: stop using this descriptor, and free any resources\n",
    "allocated for it.\n",
    "\n",
    "- `lseek(desc, offset, flag)`: Set an open file's current position to that\n",
    "specified by `offset` and `flag`, which specifies whether `offset` is\n",
    "relative to the beginning, end, or current position in the file.\n",
    "\n",
    "\n",
    "Show new picture of shell code, with redirection"
   ]
  },
  {
   "cell_type": "markdown",
   "id": "d30b3ebe-971c-43ac-b560-ec8105a28fd1",
   "metadata": {
    "tags": []
   },
   "source": [
    "(cont:gs:abstractions:pipes)=\n",
    "## Pipes\n",
    "\n",
    "Okay, but remember that idea of pipe we talked about, well, .. \n"
   ]
  },
  {
   "cell_type": "markdown",
   "id": "16be6171-8e1b-45ff-9771-2da5f390d05a",
   "metadata": {},
   "source": [
    "(cont:gs:abstractions:signals)=\n",
    "## Signals \n",
    "\n",
    "What if you don't want to wait for the program to finish.  Turns out... introduce background.\n",
    "\n",
    "talk about zombies\n",
    "\n",
    "Well remember, we have the abstraction of a virtual computer.  For the physical compter, we have the idea of interrupts.  For virtual comptuer, signals do the same thing. "
   ]
  },
  {
   "cell_type": "markdown",
   "id": "e210ca8a-7fb1-49c1-8633-b66c9a0fdcf2",
   "metadata": {
    "tags": []
   },
   "source": [
    "## Conclusion\n",
    "\n",
    "You might think you know it all, but, we have only talked about \n",
    "\n"
   ]
  },
  {
   "cell_type": "code",
   "execution_count": null,
   "id": "a37a9f84-a382-4fe1-821d-0ca784271e31",
   "metadata": {},
   "outputs": [],
   "source": []
  }
 ],
 "metadata": {
  "kernelspec": {
   "display_name": "Python 3 (ipykernel)",
   "language": "python",
   "name": "python3"
  },
  "language_info": {
   "codemirror_mode": {
    "name": "ipython",
    "version": 3
   },
   "file_extension": ".py",
   "mimetype": "text/x-python",
   "name": "python",
   "nbconvert_exporter": "python",
   "pygments_lexer": "ipython3",
   "version": "3.10.5"
  }
 },
 "nbformat": 4,
 "nbformat_minor": 5
}
