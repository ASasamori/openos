{
 "cells": [
  {
   "cell_type": "code",
   "execution_count": 8,
   "id": "94d0a792-04c5-4b8b-9110-6639e45eaa72",
   "metadata": {
    "tags": [
     "remove-cell",
     "remove-input",
     "hide-output"
    ]
   },
   "outputs": [
    {
     "name": "stderr",
     "output_type": "stream",
     "text": [
      "Exception ignored in: <function BashSession.__del__ at 0x7f3226306050>\n",
      "Traceback (most recent call last):\n",
      "  File \"/opt/app-root/src/openos/content/python/common.py\", line 868, in __del__\n",
      "    bashSessionClose(self.session)\n",
      "  File \"/opt/app-root/src/openos/content/python/common.py\", line 847, in bashSessionClose\n",
      "    closeTtySession(session)\n",
      "  File \"/opt/app-root/src/openos/content/python/common.py\", line 618, in closeTtySession\n",
      "    TtyOpenSessions.remove(session)\n",
      "ValueError: list.remove(x): x not in list\n"
     ]
    }
   ],
   "source": [
    "%run -i ../python/common.py\n",
    "publish=False\n",
    "\n",
    "if not publish:\n",
    "    # cleanup any old state\n",
    "    bashCmds('''[[ -d mydir ]] && rm -rf mydir\n",
    "    [[ -a myfile ]] && rm myfile\n",
    "    [[ -a errors ]] && rm errors \n",
    "    [[ -a mydate ]] && rm mydate\n",
    "    [[ -a mynewdir ]] && rm -rf mynewdir\n",
    "    [[ -a anotherfile ]] && rm anotherfile\n",
    "    [[ -a mybin ]] && rm -rf  mybin\n",
    "    [[ -a myinfo ]] && rm myinfo''')\n",
    "else:\n",
    "    bashCmds('''rm -rf ~/*''')\n",
    "    \n",
    "closeAllOpenTtySessions()\n",
    "bash = BashSession()\n",
    "\n",
    "generated=\"~/myfile ~/errors ~/mydate ~/mydir ~/mynewdir ~/out\"\n"
   ]
  },
  {
   "cell_type": "markdown",
   "id": "637f05df-9af8-423e-8689-a18d34f99c69",
   "metadata": {},
   "source": [
    "```{warning}\n",
    "This portion of the book is under construction, not ready to be read\n",
    "```"
   ]
  },
  {
   "cell_type": "markdown",
   "id": "f173d91e-16bf-44f5-8a99-8fbc5ef72fa0",
   "metadata": {},
   "source": [
    "(cont:gs:abstractions)=\n",
    "# Operating System Abstractions"
   ]
  },
  {
   "cell_type": "markdown",
   "id": "83ac9883-32e3-48eb-88a5-2b680bf22966",
   "metadata": {},
   "source": [
    "UNIX has instilled in generations of computer scientists a basic aesthetic for how to design and structure complicated collections of software.  In particular one learns that the designers of UNIX tried to structure the system around a small core set of ideas, \"abstractions\", that once understood allows a programmer to understand the rest of the system and how to get things done.   In this chapter we introduce some of those key abstractions. \n",
    "\n"
   ]
  },
  {
   "cell_type": "markdown",
   "id": "5ebea3d2-aa1f-4a0a-9a5b-72fdda0215b5",
   "metadata": {},
   "source": [
    "## Files\n",
    "\n",
    "Probably the most novel idea of Unix is that everything is a file, where a file is a stream of bytes.  A process can use files to access durable state on a disk, communicate with other processes, find out information about the system, and communicate over the network.   This central idea enables one to write programs that do the same task irrespective of where the data is coming from or going to.  As we will see, it also allows programmers to tie together multiple simple programs to do a more complex task.  \n",
    "\n",
    "\n",
    "```{figure} ../images/intro/file-desc.png\n",
    "---\n",
    "width: 50%\n",
    "name: file-desc\n",
    "---\n",
    "The kernel array of file descriptors.\n",
    "```\n",
    "\n",
    "As shown {numref}`file-desc` the kernel maintains a table of open files, and a file descriptor is an index into that table that can be used to read or write to a particular file.  Entries are added to the table by operations that open or create a file or create a special file like a network connection.  There are three special file descriptors shown in {numref}`fd-table`\n",
    "\n",
    "```{list-table} Standard well known file descriptors. \n",
    ":header-rows: 1\n",
    ":name: fd-table\n",
    "\n",
    "* - Value\n",
    "  - Name\n",
    "  - Purpose\n",
    "* - 0\n",
    "  - stdin\n",
    "  - standard input; process should read data from here\n",
    "* - 1\n",
    "  - stdout\n",
    "  - standard output; process will write its output here\n",
    "* - 2\n",
    "  - stderr\n",
    "  - standard error; process should write out errors here\n",
    "```\n",
    "\n",
    "The two most important operations on files are:\n",
    "\n",
    "- **ssize_t read(int fd, void *buf, size_t count)**: read from file referenced by descriptor *fd* into memory pointed to by *buf* as up to *count* bytes.\n",
    "- **ssize_t write(int fd, void *buf, size_t count)**: write from file referenced by descriptor *fd* from memory pointed to by *buf*, up to *count* bytes.\n",
    "\n",
    "To understand how to use these operations, you really need to read the manual.  In Linux you can find out about everything using the **man** program.  For example:"
   ]
  },
  {
   "cell_type": "code",
   "execution_count": 9,
   "id": "a55b3059-7e74-4fc8-a52e-205ddeea7386",
   "metadata": {
    "tags": [
     "output_scroll",
     "remove-input"
    ]
   },
   "outputs": [
    {
     "data": {
      "application/vnd.jupyter.widget-view+json": {
       "model_id": "642f80eb7a0e455a8094a56d834d0b63",
       "version_major": 2,
       "version_minor": 0
      },
      "text/plain": [
       "Output(layout=Layout(border='1px solid black', height='1in', overflow_y='scroll'))"
      ]
     },
     "metadata": {},
     "output_type": "display_data"
    }
   ],
   "source": [
    "bash.run(\"man 2 write\", height='1in')"
   ]
  },
  {
   "cell_type": "markdown",
   "id": "715447a9-4c30-453f-8733-b2b6b3eafe37",
   "metadata": {},
   "source": [
    "```{note}\n",
    ":class: margin\n",
    "In this case, the *2* refers to the section of the manual for system calls.  To find out about the different sections, you, of course, read the manual about the man command.\n",
    "```\n",
    "\n",
    "So, what "
   ]
  },
  {
   "cell_type": "markdown",
   "id": "bbcce44a-2ac4-4056-b5f6-f0c6b6e2f58e",
   "metadata": {
    "tags": []
   },
   "source": [
    "(cont:gs:services)=\n",
    "# Operating System Services"
   ]
  },
  {
   "cell_type": "markdown",
   "id": "17d0a091-d1fb-4dd5-b3ca-659a90f5ba7d",
   "metadata": {},
   "source": []
  },
  {
   "cell_type": "markdown",
   "id": "b232afd8-8fd8-4393-b042-91872bb62c35",
   "metadata": {},
   "source": [
    "### File Systems\n",
    "\n",
    "use some of these \n",
    "\n",
    "\n",
    "\n",
    "```\n",
    "ls -l /proc/$$/fd/{0..2}\n",
    "lrwx------. 1 jovyan root 64 Aug  7 02:10 /proc/6121/fd/0 -> /dev/pts/2\n",
    "lrwx------. 1 jovyan root 64 Aug  7 02:10 /proc/6121/fd/1 -> /dev/pts/2\n",
    "lrwx------. 1 jovyan root 64 Aug  7 02:10 /proc/6121/fd/2 -> /dev/pts/2\n",
    "\n",
    "file /dev/pts/2\n",
    "/dev/pts/2: character special (136/2)\n",
    "```\n"
   ]
  },
  {
   "cell_type": "code",
   "execution_count": null,
   "id": "17836c77-941a-4f90-b63d-6acc44bbc8ab",
   "metadata": {},
   "outputs": [],
   "source": []
  }
 ],
 "metadata": {
  "kernelspec": {
   "display_name": "Python 3 (ipykernel)",
   "language": "python",
   "name": "python3"
  },
  "language_info": {
   "codemirror_mode": {
    "name": "ipython",
    "version": 3
   },
   "file_extension": ".py",
   "mimetype": "text/x-python",
   "name": "python",
   "nbconvert_exporter": "python",
   "pygments_lexer": "ipython3",
   "version": "3.10.5"
  }
 },
 "nbformat": 4,
 "nbformat_minor": 5
}
