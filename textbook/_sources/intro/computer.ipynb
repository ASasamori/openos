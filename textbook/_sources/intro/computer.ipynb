{
 "cells": [
  {
   "cell_type": "markdown",
   "id": "f0998f83-49e4-45f5-a8a4-a7788da18765",
   "metadata": {},
   "source": [
    " # physical computer\n",
    "      - structure of simple computer, with processor, memory, storage and communication devices\n",
    "      - forward reference to concurrency\n",
    "      - discuss core abstractions of each and fundamental properties slow/fast"
   ]
  },
  {
   "cell_type": "code",
   "execution_count": null,
   "id": "1d278708-5e3a-434d-8e41-2558173d1db3",
   "metadata": {},
   "outputs": [],
   "source": []
  }
 ],
 "metadata": {
  "kernelspec": {
   "display_name": "Python 3 (ipykernel)",
   "language": "python",
   "name": "python3"
  },
  "language_info": {
   "codemirror_mode": {
    "name": "ipython",
    "version": 3
   },
   "file_extension": ".py",
   "mimetype": "text/x-python",
   "name": "python",
   "nbconvert_exporter": "python",
   "pygments_lexer": "ipython3",
   "version": "3.10.5"
  }
 },
 "nbformat": 4,
 "nbformat_minor": 5
}
