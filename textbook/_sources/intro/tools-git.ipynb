{
 "cells": [
  {
   "cell_type": "markdown",
   "id": "b992a506-bf32-4b84-af66-82967f1d7055",
   "metadata": {},
   "source": [
    "(cont:gs:tools:git)=\n",
    "# Git Basics\n",
    "Version control is a good idea for any software project. For your work in this class, it will be required. The development environment will periodically wipe your directory, so if you haven't pushed your changes to a remote repository, you will lose all progress. We recommend committing and pushing your code often to avoid losing your work.\n",
    "\n",
    "If you are completely new to GitHub, we recommend [this guide](https://docs.github.com/en/get-started/quickstart/hello-world) to help get you started. [This documentation site](https://git-scm.com/docs) will also be helpful. \n",
    "\n",
    "Since you will not be collaborating on code, much of GitHub's functionality will be unnecessary. The following five commands should cover everything that you need for making sure you don't lose your work.\n",
    "\n",
    "## `git clone <repourl>`\n",
    "Clone a remote github repository to your machine. \n",
    "\n",
    "## `git status`\n",
    "See the status of the working directory and the staging area. It will show you which changes are and aren't being tracked by git and which changes have been staged. \n",
    "\n",
    "## `git add <files>`\n",
    "Stages a given change to go into your next commit. \n",
    "\n",
    "## `git commit -m \"what you changed\"`\n",
    "Commit any added changes. Once a change is committed it is safely stored in your local database.\n",
    "\n",
    "## `git push`\n",
    "Push your local commits to the remote repository. "
   ]
  },
  {
   "cell_type": "code",
   "execution_count": null,
   "id": "fec25a89-a0c6-491e-9999-325c743403c0",
   "metadata": {},
   "outputs": [],
   "source": []
  }
 ],
 "metadata": {
  "kernelspec": {
   "display_name": "Python 3 (ipykernel)",
   "language": "python",
   "name": "python3"
  },
  "language_info": {
   "codemirror_mode": {
    "name": "ipython",
    "version": 3
   },
   "file_extension": ".py",
   "mimetype": "text/x-python",
   "name": "python",
   "nbconvert_exporter": "python",
   "pygments_lexer": "ipython3",
   "version": "3.10.5"
  },
  "vscode": {
   "interpreter": {
    "hash": "f4e3c63a28d2eadc36e3bba0725a6dea388233dd4d06cf5319c6ed40df7370ac"
   }
  }
 },
 "nbformat": 4,
 "nbformat_minor": 5
}
