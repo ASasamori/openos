{
 "cells": [
  {
   "cell_type": "code",
   "execution_count": 2,
   "id": "db65ff54-ea2a-44b1-b5ce-ee34fa3cbb11",
   "metadata": {},
   "outputs": [],
   "source": [
    "%run -i ../python/common.py"
   ]
  },
  {
   "cell_type": "markdown",
   "id": "9441ba8c-a814-4083-a3d4-df39a731d06e",
   "metadata": {
    "tags": []
   },
   "source": [
    "(cont:sync:sharing)=\n",
    "# Cooperating Processes"
   ]
  },
  {
   "cell_type": "markdown",
   "id": "785e8e85-70cf-4d2f-baa8-2a5ae954bb83",
   "metadata": {},
   "source": [
    "The process abstraction is designed to give the illusion that a program executes on its own\n",
    "private, isolated (virtual) machine. The OS scheduling mechanism hides the fact that the\n",
    "physical CPU is, in fact, shared by multiple processes. From the perspective of any given \n",
    "process, it appears as though its instructions execute one after the other, in the order \n",
    "that they appear in the program, on a dedicated CPU, without interruption or interference \n",
    "by the execution of other processes. The process also has sole access to a virtual address\n",
    "space, where it can store and operate on its data -- there is no concern about access to\n",
    "the process's memory from other processes, or that the process may inadvertently access \n",
    "memory that does not belong to it.\n",
    "\n",
    "But what if multiple processes need to work together to solve a problem? How can they\n",
    "cooperate if they are completely isolated from each other?\n",
    "\n",
    "Why use multiple processes to solve a problem? \n",
    "1. Unix command pipelines - each program is designed to do one thing well, output from one becomes the input to the next.\n",
    "1. Logical concurrency - structure service with multiple processes, each handles a particular task, OS scheduler ensures all tasks make progress. e.g., bank server with input handling process, withdrawal handling process, deposit handling process. \n",
    "1. Parallel execution - use multiple physical compute cores to complete a task faster, e.g., sorting very large set of values, each process sorts a portion of the input, then merge the results together. \n"
   ]
  },
  {
   "cell_type": "code",
   "execution_count": 26,
   "id": "3d054ba0-e96c-4d1f-8b1e-dd5ac9a1f3a1",
   "metadata": {},
   "outputs": [],
   "source": [
    "def true_fn(x):\n",
    "    if x == 'No Selection':\n",
    "        outstr = \"No answer is selected.\"\n",
    "    elif x == 'True':\n",
    "        outstr = \"That's correct!\"\n",
    "    else:\n",
    "        outstr = \"Sorry, that is not the expected response.\"\n",
    "    return outstr\n",
    "\n",
    "def false_fn(x):\n",
    "    if x == 'No Selection':\n",
    "        outstr = \"No answer is selected.\"\n",
    "    elif x == 'False':\n",
    "        outstr = \"That's correct!\"\n",
    "    else:\n",
    "        outstr = \"Sorry, that is not the expected response.\"\n",
    "    return outstr\n",
    "\n",
    "w = widgets.Select(\n",
    "    options=['No Selection', 'True', 'False'],\n",
    "    description='Your Answer',\n",
    "    value='No Selection',\n",
    "    disabled=False,\n",
    ")\n"
   ]
  },
  {
   "cell_type": "markdown",
   "id": "d0d36677-92ca-4ffe-973f-7d8b0459a435",
   "metadata": {},
   "source": [
    "**Question** The sky is blue."
   ]
  },
  {
   "cell_type": "code",
   "execution_count": 27,
   "id": "b58ae709-6d56-4f0c-b390-cc7badcc73fd",
   "metadata": {},
   "outputs": [
    {
     "data": {
      "application/vnd.jupyter.widget-view+json": {
       "model_id": "59ea2f49b6b842f7a54be8c60f93d9cf",
       "version_major": 2,
       "version_minor": 0
      },
      "text/plain": [
       "interactive(children=(Select(description='Your Answer', options=('No Selection', 'True', 'False'), value='No S…"
      ]
     },
     "metadata": {},
     "output_type": "display_data"
    }
   ],
   "source": [
    "interact(true_fn, x=w);"
   ]
  },
  {
   "cell_type": "code",
   "execution_count": null,
   "id": "5c4c6d0f-84f7-48d4-afc1-e7fdeb78a434",
   "metadata": {},
   "outputs": [],
   "source": []
  }
 ],
 "metadata": {
  "kernelspec": {
   "display_name": "Python 3 (ipykernel)",
   "language": "python",
   "name": "python3"
  },
  "language_info": {
   "codemirror_mode": {
    "name": "ipython",
    "version": 3
   },
   "file_extension": ".py",
   "mimetype": "text/x-python",
   "name": "python",
   "nbconvert_exporter": "python",
   "pygments_lexer": "ipython3",
   "version": "3.10.5"
  }
 },
 "nbformat": 4,
 "nbformat_minor": 5
}
