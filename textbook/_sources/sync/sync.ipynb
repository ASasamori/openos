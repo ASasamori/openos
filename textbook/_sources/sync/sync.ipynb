{
 "cells": [
  {
   "cell_type": "markdown",
   "id": "19b2e306-8ddd-410e-9744-b264b713cd01",
   "metadata": {},
   "source": [
    "```{warning}\n",
    "This portion of the book is under construction, not ready to be read\n",
    "```"
   ]
  },
  {
   "cell_type": "markdown",
   "id": "333d054c-7921-4f34-a537-9d7228007335",
   "metadata": {
    "tags": []
   },
   "source": [
    "(cont:conc:intro)=\n",
    "# Introduction \n",
    "\n",
    "One of the key responsibilities of an operating system is that of synchronization---handling concurrent events in a reasonable way, and providing mechanisms for user applications to do so as well.  Synchronization occurs for multi-threaded applications and when processes share memory.  We [first](cont:sync:sharing) discuss mechanisms in unix to share memory and provide simple motivating examples for synchronization.  We then discuss the idea of a [critical section and locking](cont:sync:criticalsection), and [then](cont:sync:locks) review different implementations of locks.  The following [chapter](cont:sync:ordering) discusses some of the challenges of ordering thread events and introduces a key OS primitive, semaphores, to enable thread to block rather than spin.  We then discuss common [concurrency bugs](cont:sync:concurrency_bugs) and introduce the concept of deadlock, where no progress is made. Many data structures are read-mostly, and the following chapter [discusses](cont:sync:readmostly) synchronization primitives optimized for accessing these data structures. We then discuss some of the challenges introduced by [modern hardware](cont:sync:hardware_challenge), and synchronization in the [Linux kernel](cont:sync:linux_locking). \n"
   ]
  }
 ],
 "metadata": {
  "kernelspec": {
   "display_name": "Python 3 (ipykernel)",
   "language": "python",
   "name": "python3"
  },
  "language_info": {
   "codemirror_mode": {
    "name": "ipython",
    "version": 3
   },
   "file_extension": ".py",
   "mimetype": "text/x-python",
   "name": "python",
   "nbconvert_exporter": "python",
   "pygments_lexer": "ipython3",
   "version": "3.10.5"
  }
 },
 "nbformat": 4,
 "nbformat_minor": 5
}
