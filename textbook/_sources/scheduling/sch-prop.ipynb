{
 "cells": [
  {
   "cell_type": "markdown",
   "id": "2f8228b9-b9f6-4733-84d9-a23ee1b79dc9",
   "metadata": {},
   "source": [
    "# Proportional share"
   ]
  },
  {
   "cell_type": "markdown",
   "id": "c0029510-77a6-400e-b6b4-746ac3b68ef7",
   "metadata": {},
   "source": [
    "## Lottery\n",
    "\n",
    "As the name suggests, in lottery scheduling the OS gives 'tickets' to each runnable process. When the scheduler needs to select a new process to run, it picks a ticket at random and the process holding that ticket runs. With a small modification, we can express priority in this method by assigning more tickets to high priority processes than low."
   ]
  }
 ],
 "metadata": {
  "kernelspec": {
   "display_name": "Python 3 (ipykernel)",
   "language": "python",
   "name": "python3"
  },
  "language_info": {
   "codemirror_mode": {
    "name": "ipython",
    "version": 3
   },
   "file_extension": ".py",
   "mimetype": "text/x-python",
   "name": "python",
   "nbconvert_exporter": "python",
   "pygments_lexer": "ipython3",
   "version": "3.10.5"
  }
 },
 "nbformat": 4,
 "nbformat_minor": 5
}
