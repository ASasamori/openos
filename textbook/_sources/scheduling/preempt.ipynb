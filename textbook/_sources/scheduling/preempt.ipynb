{
 "cells": [
  {
   "cell_type": "markdown",
   "id": "ed424664-1ca7-47db-a3e3-d59937162405",
   "metadata": {},
   "source": [
    "# Preemptive Scheduling\n",
    "\n",
    "We allot a bounded amount of time for a process to run in a given turn and this bounded time is called a *time slice*. In *batch scheduling*, this time slice is the entire time needed to execute the job, while in *preemptive scheduling* the time slice is typically much shorter than the time to run a process to completion (though not necessarily static, as we will see). "
   ]
  }
 ],
 "metadata": {
  "kernelspec": {
   "display_name": "Python 3 (ipykernel)",
   "language": "python",
   "name": "python3"
  },
  "language_info": {
   "codemirror_mode": {
    "name": "ipython",
    "version": 3
   },
   "file_extension": ".py",
   "mimetype": "text/x-python",
   "name": "python",
   "nbconvert_exporter": "python",
   "pygments_lexer": "ipython3",
   "version": "3.10.5"
  }
 },
 "nbformat": 4,
 "nbformat_minor": 5
}
