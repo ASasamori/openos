{
 "cells": [
  {
   "cell_type": "markdown",
   "id": "1849611c-6ebb-404c-a273-ba5fda65da03",
   "metadata": {},
   "source": [
    "```{warning}\n",
    "This portion of the book is under construction, not ready to be read\n",
    "```"
   ]
  },
  {
   "cell_type": "markdown",
   "id": "333d054c-7921-4f34-a537-9d7228007335",
   "metadata": {},
   "source": [
    "(cont:scheduling)=\n",
    "# Processor Scheduling"
   ]
  },
  {
   "cell_type": "markdown",
   "id": "61b345fb-e652-46df-91fb-6a6caeef4b45",
   "metadata": {},
   "source": [
    "We are talking here about scheduling the processor not the damn memory, disk, ... "
   ]
  }
 ],
 "metadata": {
  "kernelspec": {
   "display_name": "Python 3 (ipykernel)",
   "language": "python",
   "name": "python3"
  },
  "language_info": {
   "codemirror_mode": {
    "name": "ipython",
    "version": 3
   },
   "file_extension": ".py",
   "mimetype": "text/x-python",
   "name": "python",
   "nbconvert_exporter": "python",
   "pygments_lexer": "ipython3",
   "version": "3.10.5"
  }
 },
 "nbformat": 4,
 "nbformat_minor": 5
}
