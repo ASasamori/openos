{
 "cells": [
  {
   "cell_type": "markdown",
   "id": "333d054c-7921-4f34-a537-9d7228007335",
   "metadata": {},
   "source": [
    "# Processor Scheduling"
   ]
  },
  {
   "cell_type": "code",
   "execution_count": null,
   "id": "fd48b318-af52-4013-9b64-34ca33d2f985",
   "metadata": {},
   "outputs": [],
   "source": [
    "We are talking here about scheduling the processor not the fukcing memory, disk, ... "
   ]
  }
 ],
 "metadata": {
  "kernelspec": {
   "display_name": "Python 3 (ipykernel)",
   "language": "python",
   "name": "python3"
  },
  "language_info": {
   "codemirror_mode": {
    "name": "ipython",
    "version": 3
   },
   "file_extension": ".py",
   "mimetype": "text/x-python",
   "name": "python",
   "nbconvert_exporter": "python",
   "pygments_lexer": "ipython3",
   "version": "3.10.5"
  }
 },
 "nbformat": 4,
 "nbformat_minor": 5
}
