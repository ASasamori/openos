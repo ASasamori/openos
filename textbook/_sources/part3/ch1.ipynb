{
 "cells": [
  {
   "cell_type": "markdown",
   "id": "19e9326c-3dee-4dd9-b3f7-c6d53bd6ac03",
   "metadata": {},
   "source": [
    "# Information for status & getting started"
   ]
  },
  {
   "cell_type": "markdown",
   "id": "a68cf0a0-2b93-42c9-9c49-bcf77d7cbdaf",
   "metadata": {},
   "source": [
    "## Status\n",
    "\n",
    "Right now we want to build some simple examples of textbook, content, slides, and labmanual.  The goal is to get used to the environment, provide feedback on common information for the large [Open Education effort](https://github.com/OPEFFORT), with the intent that we will have materials for the start of the spring 2023 operating system course at BU.  \n",
    "\n",
    "Things we are not doing right now, but do need to do:\n",
    "- customize container for the OS book for openshift environment - for now we are using the base OPE container\n",
    "- create a container for gradescope. \n",
    "- have a container running in local environment to avoid network problems. \n"
   ]
  },
  {
   "cell_type": "markdown",
   "id": "09c79a1c-f3cb-4e06-9e12-3b0b70742e5c",
   "metadata": {
    "tags": []
   },
   "source": [
    "## Resources to look at\n",
    "\n",
    "- [jupyterbook: ](https://jupyterbook.org/en/stable/intro.html): look here for basic instructions on authoring; we are basically using jupyterbook in a prescriptive fashion for the static content.\n",
    "    - [cheat sheet for myst markdown](https://jupyterbook.org/en/stable/reference/cheatsheet.html)\n",
    "    - [modifying table of contents](https://jupyterbook.org/en/stable/structure/toc.html)\n",
    "    - [myst markdown](https://jupyterbook.org/en/stable/content/myst.html): we plan on authoring much of this with myst, although the current implementation of myst for jupyterbook is experimental.\n",
    "    - [tags on cells](https://jupyterbook.org/en/stable/content/metadata.html#jupyter-cell-tags): use this to, for example hide inputs\n",
    "- [jonathan notes on looking slides](https://jappavoo.github.io/UndertheCovers/lecturenotes/lnhowto.html)\n",
    "- [jonthans repo for under the covers](https://github.com/jappavoo/UndertheCovers)\n"
   ]
  },
  {
   "cell_type": "markdown",
   "id": "1251ffd9-86c9-4cdc-80fc-7d8f4220952e",
   "metadata": {},
   "source": [
    "## Some simple things that are useful\n",
    "\n",
    "Checkout repo for book, it contains on main branch the book source and on other branches container images that we will use for the book.  \n",
    "\n",
    "For more complex examples see [here](advanced-examples)"
   ]
  }
 ],
 "metadata": {
  "kernelspec": {
   "display_name": "Python 3 (ipykernel)",
   "language": "python",
   "name": "python3"
  },
  "language_info": {
   "codemirror_mode": {
    "name": "ipython",
    "version": 3
   },
   "file_extension": ".py",
   "mimetype": "text/x-python",
   "name": "python",
   "nbconvert_exporter": "python",
   "pygments_lexer": "ipython3",
   "version": "3.10.5"
  }
 },
 "nbformat": 4,
 "nbformat_minor": 5
}
