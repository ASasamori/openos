{
 "cells": [
  {
   "cell_type": "markdown",
   "id": "19e9326c-3dee-4dd9-b3f7-c6d53bd6ac03",
   "metadata": {},
   "source": [
    "# Information for status & getting started"
   ]
  },
  {
   "cell_type": "markdown",
   "id": "a68cf0a0-2b93-42c9-9c49-bcf77d7cbdaf",
   "metadata": {},
   "source": [
    "## Status\n",
    "\n",
    "Right now we want to build some simple examples of textbook, content, slides, and labmanual.  The goal is to get used to the environment, provide feedback on common information for the large [Open Education effort](https://github.com/OPEFFORT), with the intent that we will have materials for the start of the spring 2023 operating system course at BU.  \n",
    "\n",
    "Things we are not doing right now, but do need to do:\n",
    "- customize container for the OS book for openshift environment - for now we are using the base OPE container\n",
    "- create a container for gradescope. \n",
    "- have a container running in local environment to avoid network problems. \n"
   ]
  },
  {
   "cell_type": "markdown",
   "id": "09c79a1c-f3cb-4e06-9e12-3b0b70742e5c",
   "metadata": {
    "tags": []
   },
   "source": [
    "## Resources to look at\n",
    "\n",
    "- [jupyterbook: ](https://jupyterbook.org/en/stable/intro.html): look here for basic instructions on authoring; we are basically using jupyterbook in a prescriptive fashion for the static content.\n",
    "    - [cheat sheet for myst markdown](https://jupyterbook.org/en/stable/reference/cheatsheet.html)\n",
    "    - [modifying table of contents](https://jupyterbook.org/en/stable/structure/toc.html)\n",
    "    - [myst markdown](https://jupyterbook.org/en/stable/content/myst.html): we plan on authoring much of this with myst, although the current implementation of myst for jupyterbook is experimental.\n",
    "    - [tags on cells](https://jupyterbook.org/en/stable/content/metadata.html#jupyter-cell-tags): use this to, for example hide inputs\n",
    "- [jonathan notes on looking slides](https://jappavoo.github.io/UndertheCovers/lecturenotes/lnhowto.html)\n",
    "- [jonthans repo for under the covers](https://github.com/jappavoo/UndertheCovers)\n"
   ]
  },
  {
   "cell_type": "markdown",
   "id": "1251ffd9-86c9-4cdc-80fc-7d8f4220952e",
   "metadata": {},
   "source": [
    "## Some simple things that are useful\n",
    "\n",
    "Checkout repo for book, it contains on main branch the book source and on other branches container images that we will use for the book.  \n",
    "\n",
    "For more complex examples see [here](advanced-examples)"
   ]
  },
  {
   "cell_type": "markdown",
   "id": "94cabe89-2e00-4b04-98a0-4e43ad38a841",
   "metadata": {},
   "source": [
    "## Git commands\n",
    "- git remote add ope git@github.com:OPEFFORT/ope.git\n",
    "- git log --oneline --all --graph --decorate\n",
    "- git log --oneline --graph --decorate  --all\n",
    "- git rebase ope/coursecontenttemplate\n",
    "- git log --oneline --graph --decorate  new-structure\n",
    "- git switch main\n",
    "- git rebase new-feature\n",
    "- git fetch origin\n",
    "- git fetch  ope\n",
    "\n"
   ]
  },
  {
   "cell_type": "markdown",
   "id": "ac9609d0-43b1-4565-8924-d307b65b3090",
   "metadata": {},
   "source": []
  },
  {
   "cell_type": "markdown",
   "id": "4517f509-bce3-4e1e-8b09-259cfc358bdf",
   "metadata": {},
   "source": [
    "## Stuff to refer to/steal from Jonathan's book\n",
    "- [examples of proc file system](https://jappavoo.github.io/UndertheCovers/textbook/unix/shellintro.html#standard-output-and-redirection)"
   ]
  },
  {
   "cell_type": "markdown",
   "id": "d794c7c4-23ce-4c48-8edb-89ac1b215ace",
   "metadata": {},
   "source": [
    "```\n",
    "$ which date\n",
    "/usr/bin/date\n",
    "$ file /usr/bin/date \n",
    "/usr/bin/date: ELF 64-bit LSB shared object, x86-64, version 1 (SYSV), dynamically linked, interpreter /lib64/ld-linux-x86-64.so.2, BuildID[sha1]=731c2a7a56b2d07e67ac99b4960ec700b3faad68, for GNU/Linux 3.2.0, stripped\n",
    "```"
   ]
  }
 ],
 "metadata": {
  "kernelspec": {
   "display_name": "Python 3 (ipykernel)",
   "language": "python",
   "name": "python3"
  },
  "language_info": {
   "codemirror_mode": {
    "name": "ipython",
    "version": 3
   },
   "file_extension": ".py",
   "mimetype": "text/x-python",
   "name": "python",
   "nbconvert_exporter": "python",
   "pygments_lexer": "ipython3",
   "version": "3.10.5"
  }
 },
 "nbformat": 4,
 "nbformat_minor": 5
}
