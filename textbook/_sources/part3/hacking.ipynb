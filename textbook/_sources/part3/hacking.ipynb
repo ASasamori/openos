{
 "cells": [
  {
   "cell_type": "markdown",
   "id": "7d739c56-92ec-4e4c-82a7-8c1685f31d58",
   "metadata": {},
   "source": [
    "# Larry/Orran Hacking\n"
   ]
  },
  {
   "cell_type": "markdown",
   "id": "e9e97043-2b99-47c5-baa9-fa4fad00d6c8",
   "metadata": {},
   "source": [
    "## Overview of course\n",
    "- intro\n",
    "   - history \n",
    "- memory mangement\n",
    "- shell \n",
    "\n",
    "\n"
   ]
  }
 ],
 "metadata": {
  "kernelspec": {
   "display_name": "Python 3 (ipykernel)",
   "language": "python",
   "name": "python3"
  },
  "language_info": {
   "codemirror_mode": {
    "name": "ipython",
    "version": 3
   },
   "file_extension": ".py",
   "mimetype": "text/x-python",
   "name": "python",
   "nbconvert_exporter": "python",
   "pygments_lexer": "ipython3",
   "version": "3.10.5"
  }
 },
 "nbformat": 4,
 "nbformat_minor": 5
}
