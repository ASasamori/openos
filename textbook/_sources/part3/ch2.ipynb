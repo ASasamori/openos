{
 "cells": [
  {
   "cell_type": "code",
   "execution_count": 3,
   "id": "8ce5e2ec-2118-492a-ba96-5913f696400b",
   "metadata": {
    "tags": [
     "hide-input"
    ]
   },
   "outputs": [
    {
     "ename": "SyntaxError",
     "evalue": "invalid syntax (2414357253.py, line 1)",
     "output_type": "error",
     "traceback": [
      "\u001b[0;36m  Input \u001b[0;32mIn [3]\u001b[0;36m\u001b[0m\n\u001b[0;31m    run -i ../python/common.py\u001b[0m\n\u001b[0m            ^\u001b[0m\n\u001b[0;31mSyntaxError\u001b[0m\u001b[0;31m:\u001b[0m invalid syntax\n"
     ]
    }
   ],
   "source": [
    "run -i ../python/common.py\n",
    "\n",
    "# cleanup any old state\n",
    "bashCmds('''[[ -d mydir ]] && rm -rf mydir\n",
    "[[ -a myfile ]] && rm myfile\n",
    "[[ -a errors ]] && rm errors \n",
    "[[ -a mydate ]] && rm mydate\n",
    "[[ -a mynewdir ]] && rm -rf mynewdir\n",
    "[[ -a anotherfile ]] && rm anotherfile\n",
    "[[ -a mybin ]] && rm -rf  mybin''')\n",
    "\n",
    "closeAllOpenTtySessions()\n",
    "bash = BashSession()\n",
    "\n",
    "#generated=\"~/myfile ~/errors ~/mydate ~/mydir ~/mynewdir ~/out\"\n",
    "\n",
    "# remember to avoid something having a history entry put a space at the beginning of the line\n",
    "#bash.run(\" history\")"
   ]
  },
  {
   "cell_type": "markdown",
   "id": "805fadc2-b231-46a6-b735-9e513f851f8b",
   "metadata": {},
   "source": [
    "(advanced-examples)=\n",
    "% - doesn't look like references work yet; commented out\n",
    "# Notes on more advanced development"
   ]
  },
  {
   "cell_type": "markdown",
   "id": "8b858cff-285f-44c5-96c9-21661a8b217a",
   "metadata": {},
   "source": [
    "Here are some simple examples of interesting stuff stolen from Jonathan's textbook:"
   ]
  },
  {
   "cell_type": "code",
   "execution_count": 4,
   "id": "b71c6ac5-eaa5-4486-88fa-06992ee68d21",
   "metadata": {},
   "outputs": [
    {
     "data": {
      "application/vnd.jupyter.widget-view+json": {
       "model_id": "748d88e011ff4277a366e93626c21d66",
       "version_major": 2,
       "version_minor": 0
      },
      "text/plain": [
       "Output(layout=Layout(border='1px solid black', height='20em', overflow_y='scroll'))"
      ]
     },
     "metadata": {},
     "output_type": "display_data"
    }
   ],
   "source": [
    "bash.run(\"man bash\", height='20em')"
   ]
  },
  {
   "cell_type": "markdown",
   "id": "83971625-5987-44a9-8b72-ae69897a7728",
   "metadata": {},
   "source": [
    "```{note}\n",
    "Here is a note\n",
    "```"
   ]
  },
  {
   "cell_type": "code",
   "execution_count": 5,
   "id": "2971838b-b04e-4f64-bbfe-797f1b40de97",
   "metadata": {},
   "outputs": [
    {
     "data": {
      "application/vnd.jupyter.widget-view+json": {
       "model_id": "bed73a9afc5248adb8182339f281c1d1",
       "version_major": 2,
       "version_minor": 0
      },
      "text/plain": [
       "Output(layout=Layout(border='1px solid black', height='20em', overflow_y='scroll'))"
      ]
     },
     "metadata": {},
     "output_type": "display_data"
    }
   ],
   "source": [
    "bash.run(\"ls -al\", height='20em')"
   ]
  },
  {
   "cell_type": "code",
   "execution_count": null,
   "id": "be58d775-2f04-4c2a-88fb-af0f419711e2",
   "metadata": {},
   "outputs": [],
   "source": []
  }
 ],
 "metadata": {
  "kernelspec": {
   "display_name": "Python 3 (ipykernel)",
   "language": "python",
   "name": "python3"
  },
  "language_info": {
   "codemirror_mode": {
    "name": "ipython",
    "version": 3
   },
   "file_extension": ".py",
   "mimetype": "text/x-python",
   "name": "python",
   "nbconvert_exporter": "python",
   "pygments_lexer": "ipython3",
   "version": "3.10.5"
  }
 },
 "nbformat": 4,
 "nbformat_minor": 5
}
