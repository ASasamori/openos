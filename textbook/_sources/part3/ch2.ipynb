{
 "cells": [
  {
   "cell_type": "code",
   "execution_count": 1,
   "id": "8ce5e2ec-2118-492a-ba96-5913f696400b",
   "metadata": {
    "tags": [
     "hide-input"
    ]
   },
   "outputs": [],
   "source": [
    "%run -i ../python/common.py\n",
    "bash = BashSession()"
   ]
  },
  {
   "cell_type": "markdown",
   "id": "805fadc2-b231-46a6-b735-9e513f851f8b",
   "metadata": {},
   "source": [
    "(advanced-examples)=\n",
    "% - doesn't look like references work yet; commented out\n",
    "# Notes on more advanced development"
   ]
  },
  {
   "cell_type": "markdown",
   "id": "8b858cff-285f-44c5-96c9-21661a8b217a",
   "metadata": {},
   "source": [
    "Here are some simple examples of interesting stuff stolen from Jonathan's textbook:"
   ]
  },
  {
   "cell_type": "code",
   "execution_count": 2,
   "id": "b71c6ac5-eaa5-4486-88fa-06992ee68d21",
   "metadata": {},
   "outputs": [
    {
     "ename": "NameError",
     "evalue": "name 'bash' is not defined",
     "output_type": "error",
     "traceback": [
      "\u001b[0;31m---------------------------------------------------------------------------\u001b[0m",
      "\u001b[0;31mNameError\u001b[0m                                 Traceback (most recent call last)",
      "Input \u001b[0;32mIn [2]\u001b[0m, in \u001b[0;36m<cell line: 1>\u001b[0;34m()\u001b[0m\n\u001b[0;32m----> 1\u001b[0m \u001b[43mbash\u001b[49m\u001b[38;5;241m.\u001b[39mrun(\u001b[38;5;124m\"\u001b[39m\u001b[38;5;124mman bash\u001b[39m\u001b[38;5;124m\"\u001b[39m, height\u001b[38;5;241m=\u001b[39m\u001b[38;5;124m'\u001b[39m\u001b[38;5;124m20em\u001b[39m\u001b[38;5;124m'\u001b[39m)\n",
      "\u001b[0;31mNameError\u001b[0m: name 'bash' is not defined"
     ]
    }
   ],
   "source": [
    "bash.run(\"man bash\", height='20em')"
   ]
  },
  {
   "cell_type": "markdown",
   "id": "83971625-5987-44a9-8b72-ae69897a7728",
   "metadata": {},
   "source": [
    "```{note}\n",
    "Here is a note\n",
    "```"
   ]
  },
  {
   "cell_type": "code",
   "execution_count": null,
   "id": "2971838b-b04e-4f64-bbfe-797f1b40de97",
   "metadata": {},
   "outputs": [],
   "source": [
    "bash.run(\"ls -al\", height='20em')"
   ]
  },
  {
   "cell_type": "code",
   "execution_count": null,
   "id": "be58d775-2f04-4c2a-88fb-af0f419711e2",
   "metadata": {},
   "outputs": [],
   "source": []
  }
 ],
 "metadata": {
  "kernelspec": {
   "display_name": "Python 3 (ipykernel)",
   "language": "python",
   "name": "python3"
  },
  "language_info": {
   "codemirror_mode": {
    "name": "ipython",
    "version": 3
   },
   "file_extension": ".py",
   "mimetype": "text/x-python",
   "name": "python",
   "nbconvert_exporter": "python",
   "pygments_lexer": "ipython3",
   "version": "3.10.5"
  }
 },
 "nbformat": 4,
 "nbformat_minor": 5
}
