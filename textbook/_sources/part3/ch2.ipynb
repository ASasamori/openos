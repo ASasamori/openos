{
 "cells": [
  {
   "cell_type": "code",
   "execution_count": null,
   "id": "8ce5e2ec-2118-492a-ba96-5913f696400b",
   "metadata": {
    "tags": [
     "hide-input"
    ]
   },
   "outputs": [],
   "source": [
    "%run -i ../python/common.py\n",
    "bash = BashSession()"
   ]
  },
  {
   "cell_type": "markdown",
   "id": "805fadc2-b231-46a6-b735-9e513f851f8b",
   "metadata": {},
   "source": [
    "(advanced-examples)=\n",
    "% - doesn't look like references work yet; commented out\n",
    "# Notes on more advanced development"
   ]
  },
  {
   "cell_type": "markdown",
   "id": "8b858cff-285f-44c5-96c9-21661a8b217a",
   "metadata": {},
   "source": [
    "Here are some simple examples of interesting stuff stolen from Jonathan's textbook:"
   ]
  },
  {
   "cell_type": "code",
   "execution_count": null,
   "id": "b71c6ac5-eaa5-4486-88fa-06992ee68d21",
   "metadata": {},
   "outputs": [],
   "source": [
    "bash.run(\"man bash\", height='20em')"
   ]
  },
  {
   "cell_type": "markdown",
   "id": "83971625-5987-44a9-8b72-ae69897a7728",
   "metadata": {},
   "source": [
    "```{note}\n",
    "Here is a note\n",
    "```"
   ]
  },
  {
   "cell_type": "code",
   "execution_count": null,
   "id": "2971838b-b04e-4f64-bbfe-797f1b40de97",
   "metadata": {},
   "outputs": [],
   "source": [
    "bash.run(\"ls -al\", height='20em')"
   ]
  }
 ],
 "metadata": {
  "kernelspec": {
   "display_name": "Python 3 (ipykernel)",
   "language": "python",
   "name": "python3"
  },
  "language_info": {
   "codemirror_mode": {
    "name": "ipython",
    "version": 3
   },
   "file_extension": ".py",
   "mimetype": "text/x-python",
   "name": "python",
   "nbconvert_exporter": "python",
   "pygments_lexer": "ipython3",
   "version": "3.10.5"
  }
 },
 "nbformat": 4,
 "nbformat_minor": 5
}
