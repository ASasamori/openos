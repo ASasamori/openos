{
 "cells": [
  {
   "cell_type": "markdown",
   "id": "f70e9410-e4b1-46ef-8e39-ee868f4aa3cf",
   "metadata": {},
   "source": [
    "# Processes and Threads\n",
    "\n",
    "This section will describe what is associated with processes and threads, the system calls to create them, and the associated"
   ]
  }
 ],
 "metadata": {
  "kernelspec": {
   "display_name": "Python 3 (ipykernel)",
   "language": "python",
   "name": "python3"
  },
  "language_info": {
   "codemirror_mode": {
    "name": "ipython",
    "version": 3
   },
   "file_extension": ".py",
   "mimetype": "text/x-python",
   "name": "python",
   "nbconvert_exporter": "python",
   "pygments_lexer": "ipython3",
   "version": "3.10.5"
  }
 },
 "nbformat": 4,
 "nbformat_minor": 5
}
