{
 "cells": [
  {
   "cell_type": "markdown",
   "id": "daedc37e-0a29-457f-a3c3-efc448d813bc",
   "metadata": {},
   "source": [
    "# Device Driver Architecture\n",
    "\n",
    "{numref}`fig:iobus:driver` illustrates the I/O process for a typical\n",
    "device from user-space application request through the driver, hardware\n",
    "I/O operation, interrupt, and finally back to user space.\n",
    "\n",
    "```{figure} ../images/pb-figures/devs/iobus-driver.png\n",
    "---\n",
    "width: 70% \n",
    "name: fig:iobus:driver\n",
    "---\n",
    "Driver Architecture\n",
    "```\n",
    "\n",
    "In more detail:\n",
    "\n",
    "- The user process executes a `read` system call, which in turn invokes\n",
    "the driver `read` operation, found via the `read` method of the file\n",
    "operations structure.\n",
    "\n",
    "- The driver fills in a DMA descriptor (in motherboard RAM), writes the\n",
    "physical address of the descriptor to a device register (generating a\n",
    "Memory Write operation across the PCIe bus), and then goes to sleep.\n",
    "\n",
    "- The device issues a PCIe Memory Read Multiple command to read the DMA\n",
    "descriptor from RAM.\n",
    "\n",
    "- The device does some sort of I/O. (e.g. read from a disk, or receive a\n",
    "network packet)\n",
    "\n",
    "- A Memory Write and Invalidate operation is used to write the received\n",
    "data back across the PCIe bus to the motherboard RAM, and to tell the\n",
    "CPU to invalidate any cached copies of those addresses.\n",
    "\n",
    "- A hardware interrupt from the device causes the device driver interrupt\n",
    "handler to run.\n",
    "\n",
    "- The interrupt handler wakes up the original process, which is currently\n",
    "in kernel space in the device driver read method, in a call to something\n",
    "like `interruptible_sleep_on`. After waking up, the read method copies\n",
    "the data to the user buffer and returns."
   ]
  }
 ],
 "metadata": {
  "kernelspec": {
   "display_name": "Python 3 (ipykernel)",
   "language": "python",
   "name": "python3"
  },
  "language_info": {
   "codemirror_mode": {
    "name": "ipython",
    "version": 3
   },
   "file_extension": ".py",
   "mimetype": "text/x-python",
   "name": "python",
   "nbconvert_exporter": "python",
   "pygments_lexer": "ipython3",
   "version": "3.10.5"
  }
 },
 "nbformat": 4,
 "nbformat_minor": 5
}
