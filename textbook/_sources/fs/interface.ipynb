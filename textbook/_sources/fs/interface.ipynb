{
 "cells": [
  {
   "cell_type": "code",
   "execution_count": 2,
   "id": "0353e06e-eb4d-4d20-b053-080438822cd5",
   "metadata": {
    "tags": [
     "remove-input",
     "hide-output"
    ]
   },
   "outputs": [],
   "source": [
    "%run -i ../python/common.py\n",
    "publish=False\n",
    "\n",
    "if not publish:\n",
    "    # cleanup any old state\n",
    "    bashCmds('''rm -rf bad-link\n",
    "    rm -rf loopy''')\n",
    "else:\n",
    "    bashCmds('''rm -rf ~/*''')\n",
    "    \n",
    "closeAllOpenTtySessions()\n",
    "bash = BashSession()\n",
    "\n",
    "generated=\"~/myfile ~/errors ~/mydate ~/mydir ~/mynewdir ~/out\"\n",
    "\n",
    "# remember to avoid something having a history entry put a space at the beginning of the line\n",
    "#bash.run(\" history\")"
   ]
  },
  {
   "cell_type": "markdown",
   "id": "2b51a1d2-d2ef-4ab3-a1ec-5949f3c75612",
   "metadata": {},
   "source": [
    "(cont:fs:interface)= \n",
    "# Interface"
   ]
  },
  {
   "cell_type": "markdown",
   "id": "0f27629a-b6e2-4175-9214-2f33ec77252c",
   "metadata": {},
   "source": [
    "## Objects\n",
    "\n",
    "General-purpose operating systems typically provide access to block\n",
    "storage (i.e. disks) via a *file system*, which provides a much more\n",
    "application- and user-friendly interface to storage. From the point of\n",
    "view of the user, a file system contains the following elements:\n",
    "\n",
    "\n",
    "- a *name space*, the set of names identifying objects;\n",
    "- *objects* such as the files themselves as well as directories and other supporting objects;\n",
    "- *operations* on these objects.\n",
    "\n",
    "[^hier]: Very early file systems sometimes had a single flat directory per user, or like MS-DOS 1.0, a single directory per floppy disk\n",
    "\n",
    "**Hierarchical namespace:** File systems have traditionally used a\n",
    "tree-structured namespace[^hier], as shown in {numref}`fs:tree-logical`. \n",
    "This tree is constructed via the use of\n",
    "*directories*, or objects in the namespace which map strings to further\n",
    "file system objects. A full filename thus specifies a *path* from the\n",
    "root, through the tree, to the object (a file or directory) itself.\n",
    "(Hence the use of the term \"path\" to mean \"filename\" in Unix\n",
    "documentation)\n",
    "\n",
    "```{figure} ../images/pb-figures/fs/filesys-tree.png\n",
    "---\n",
    "width: 45%\n",
    "name: fs:tree-logical\n",
    "---\n",
    "Logical view: hierarchical file system name space\n",
    "```\n",
    "\n",
    "**File:** Early operating systems supported many different file\n",
    "types---binary executables, text files, and record-structured files, and\n",
    "others. The Unix operating system is the earliest I know of that\n",
    "restricted files to sequences of 8-bit bytes; it is probably not a\n",
    "coincidence that Unix arrived at the same time as computers which dealt\n",
    "only with multiples of 8-bit bytes (e.g. 16 and 32-bit words), replacing\n",
    "older systems which frequently used odd word sizes such as 36 bits.\n",
    "(Note that a machine with 36-bit instructions already needs two\n",
    "incompatible types of files, one for text and one for executable code)\n",
    "\n",
    "\n",
    "% an attempt to put side by side; didn't work\n",
    "% :::{figure-md} fig:filesys:tree\n",
    "% ![alt](../images/pb-figures/fs/filesys-tree.png) ![alt](../images/pb-figures/fs/filesys-tree2.png)\n",
    "% \n",
    "% Logical (left) and implementation (right) view of a hierarchical file system name space.\n",
    "% :::\n",
    "\n",
    "\n",
    "```{figure} ../images/pb-figures/fs/filesys-tree2.png\n",
    "---\n",
    "width: 40% \n",
    "name: fs:tree-imp\n",
    "---\n",
    "Implementation view: hierarchical file system name space. Gray blocks are directories that contain entries that point to files.\n",
    "```\n",
    "\n",
    "Modern operating systems follow the UNIX model, which imposes no\n",
    "structure on a file---a file is merely a sequence of bytes.[^simple] Any\n",
    "structure to the file (such as a JPEG image, an executable program, or a\n",
    "database) is the responsibility of applications which read and write the\n",
    "file. The file format is commonly indicated by a file extension like\n",
    ".jpg or .xml, but this is just a convention followed by applications and\n",
    "users. You can do things like rename file.pdf to file.jpg, which will\n",
    "confuse some applications and users, but have no effect on the file\n",
    "contents.\n",
    "\n",
    "% example of a footnote\n",
    "[^simple]: Almost. Apple OSX uses resource forks to store information associated with a file (HFS and HFS+ file systems only), Windows NTFS provides for multiple data streams in single file, although they were never put to use, and several file systems support file attributes, small tags associated with a file.\n",
    "\n",
    "Data in a byte-sequence file is identified by the combination of the\n",
    "file and its offset (in bytes) within the file. Unlike in-memory objects\n",
    "in an application, where a reference (pointer) to a component of an\n",
    "object may be passed around independently, a portion of a file cannot be\n",
    "named without identifying the file it is contained in. Data in a file\n",
    "can be created by a write which appends more data to the end of a\n",
    "shorter file, and modified by over-writing in the middle of a file.\n",
    "However, it can't be \"moved\" from one offset to another: if you use a\n",
    "text editor to add or delete text in the middle of a file, the editor\n",
    "must re-write the entire file (or at least from the modified part to the\n",
    "end).\n",
    "\n",
    "**Unix file name translation:** each process has an associated *current\n",
    "directory*, which may be changed via the `chdir` system call. File names\n",
    "beginning in '`/`' are termed *absolute* names, and are interpreted\n",
    "relative to the root of the naming tree, while *relative* names are\n",
    "interpreted beginning at the current directory. (In addition, `d/..`\n",
    "always points to the parent directory of `d`, and `d/.` points to `d`\n",
    "itself.) Thus in the file system in\n",
    "{numref}`fs:tree-logical`, if the current directory were `/home`,\n",
    "the the paths `pjd/.profile` and `/home/pjd/.profile` refer to the same\n",
    "file, and `../bin/cat` and `/bin/cat` refer to the same file."
   ]
  },
  {
   "cell_type": "markdown",
   "id": "f19b4b25-0dcc-484b-9ec4-f1d1b1bcba52",
   "metadata": {},
   "source": [
    "## File System Operations:\n",
    "\n",
    "There are several common types of file operations supported by Linux\n",
    "(and with slight differences, Windows). They can be classified into\n",
    "three main categories: open/close, read/write, and naming and\n",
    "directories.\n",
    "\n",
    "**Open/close**: In order to access a file in Linux (or most operating\n",
    "systems) you first need to open the file, passing the file name and\n",
    "other parameters and receiving a *handle* (called a *file descriptor* in\n",
    "Unix) which may be used for further operations. The corresponding system\n",
    "calls are:\n",
    "\n",
    "- `int desc = open(name, O_READ)` - Verify that file `name` exists and may\n",
    "be read, and then return a *descriptor* which may be used to refer to\n",
    "that file when reading it.\n",
    "\n",
    "- `int desc = open(name, O_WRITE | flags, mode)` - Verify permissions and\n",
    "open `name` for writing, creating it (or erasing existing contents) if\n",
    "necessary as specified in `flags`. Returns a descriptor which may be\n",
    "used for writing to that file.\n",
    "\n",
    "- `close(desc)` - stop using this descriptor, and free any resources\n",
    "allocated for it.\n",
    "\n",
    "\n",
    "Note that application programs rarely use the system calls themselves to\n",
    "access files, but instead use higher-level frameworks, ranging from Unix\n",
    "Standard I/O to high-level application frameworks.\n",
    "\n",
    "**Read/Write operations**: To get a file with data in it, you need to\n",
    "write it; to use that data you need to read it. To allow reading and\n",
    "writing in units of less than an entire file, or tedius calculations of\n",
    "the current file offset, UNIX uses the concept of a *current position*\n",
    "associated with a file descriptor. When you read 100 bytes (i.e. bytes 0\n",
    "to 99) from a file this pointer advances by 100 bytes, so that the next\n",
    "read will start at byte 100, and similarly for write. When a file is\n",
    "opened for reading the pointer starts at 0; when open for writing the\n",
    "application writer can choose to start at the beginning (default) and\n",
    "overwrite old data, or start at the end (`O_APPEND` flag) to append new\n",
    "data to the file.\n",
    "\n",
    "System calls for reading and writing are:\n",
    "\n",
    "- `n = read(desc, buffer, max)` - Read `max` bytes (or fewer if the end of\n",
    "the file is reached) into `buffer`, starting at the current position,\n",
    "and returning the actual number of bytes `n` read; the current position\n",
    "is then incremented by `n`.\n",
    "\n",
    "- `n = write(desc, buffer, len)` - write `len` bytes from `buffer` into\n",
    "the file, starting at the current position, and incrementing the current\n",
    "position by `len`.\n",
    "\n",
    "- `lseek(desc, offset, flag)` Set an open file's current position to that\n",
    "specified by `offset` and `flag`, which specifies whether `offset` is\n",
    "relative to the beginning, end, or current position in the file.\n",
    "\n",
    "[^3]: On Linux the `pread` and `pwrite` system calls allow specifying an\n",
    "    offset for the read or write; other UNIX-derived operating systems\n",
    "    have their own extensions for this purpose.\n",
    "\n",
    "\n",
    "Note that in the basic Unix interface (unlike e.g. Windows) there is no\n",
    "way to specify a particular location in a file to read or write\n",
    "from[^3]. Programs like databases (e.g. SQLite, MySQL) which need to\n",
    "write to and read from arbitrary file locations must instead move the\n",
    "current position by using `lseek` before a read or write. However most\n",
    "programs either read or write a file from the beginning to the end\n",
    "(especially when written for an OS that makes it easier to do things\n",
    "that way), and thus don't really need to perform seeks. Because most\n",
    "Unix programs use simple \"stream\" input and output, these may be\n",
    "re-directed so that the same program can---without any special\n",
    "programming---read from or write to a terminal, a network connection, a\n",
    "file, or a pipe from or to another program.\n",
    "\n",
    "[^4]: A hard link is an additional directory entry pointing to the same\n",
    "    file, giving the file two (or more) names. Hard links are peculiar\n",
    "    to Unix, and in modern systems have mostly been replaced with\n",
    "    symbolic links (covered next); however Apple's Time Machine makes\n",
    "    very good use of them: multiple backups can point to the same single\n",
    "    copy of an un-modified file using hard links.\n",
    "\n",
    "[^5]: Sort of. If there are multiple hard links to a file, then this\n",
    "    just removes one of them; the file isn't deleted until the last link\n",
    "    is removed. Even then it might not be removed yet - on Unix, if you\n",
    "    delete an open file it won't actually be removed until all open file\n",
    "    handles are closed.. In general, deleting open files is a problem:\n",
    "    while Unix solves the problem by deferring the actual delete,\n",
    "    Windows solves it by protecting open files so that they cannot be\n",
    "    deleted\n",
    "\n",
    "**Naming and Directories**: In Unix there is a difference between a name\n",
    "(a directory entry) and the object (file or directory) that the name\n",
    "points to. The naming and directories operations are:\n",
    "\n",
    "- `rename(path1, path2)` - Rename an object (i.e. file or directory) by\n",
    "either changing the name in its directory entry (if the destination is\n",
    "in the same directory) or creating a new entry and deleting the old one\n",
    "(if moving into a new directory).\n",
    "\n",
    "- `link(path1, path2)` Add a *hard link* to a file[^4].\n",
    "\n",
    "- `unlink(path)` - Delete a file.[^5]\n",
    "\n",
    "- `desc = opendir(path)`\\\n",
    "`readdir(desc, dirent*), dirent=(name,type,length)` This interface\n",
    "allows a program to enumerate names in a directory, and determine their\n",
    "type. (i.e. file, directory, symbolic link, or special-purpose file)\n",
    "\n",
    "- `stat(file, statbuf)`\\\n",
    "`fstat(desc, statbuf)` - returns file attributes - size, owner,\n",
    "permissions, modification time, etc. In Unix these are attributes of the\n",
    "file itself, residing in the i-node, and can't be found in the directory\n",
    "entry - otherwise it would be necessary to keep multiple copies\n",
    "consistent.\n",
    "\n",
    "- `mkdir(path)`\\\n",
    "`rmdir(path)` - directory operations: create a new, empty directory, or\n",
    "delete an empty directory.\n"
   ]
  },
  {
   "cell_type": "markdown",
   "id": "3e281903-17eb-482c-ba08-f048d8e5a5db",
   "metadata": {},
   "source": [
    "## Symbolic links\n",
    "\n",
    "An alternative to hard links to allow multiple names for a file is a\n",
    "third file system object (in addition to files and directories), a\n",
    "*symbolic link*. This holds a text string which is interpreted as a\n",
    "\"pointer\" to another location in the file system. When the kernel is\n",
    "searching for a file and encounters a symbolic link, it substitutes this\n",
    "text into the current portion of the path, and continues the translation\n",
    "process.\n",
    "\n",
    "Thus if we have:\n",
    "\n",
    "<pre>\n",
    "directory: /usr/program-1.0.1\n",
    "  file:      /usr/program-1.0.1/file.txt\n",
    "  sym link:  /usr/program-current -> \"program-1.0.1\"\n",
    "</pre>\n",
    "\n",
    "and if the OS is looking up the file `/usr/program-current/file.txt`, it\n",
    "will:\n",
    "\n",
    "1. look up `usr` in the root directory, finding a pointer to the `/usr`\n",
    "directory\n",
    "2. look up `program-current` in `/usr`, finding the link with contents\n",
    "`program-1.0.1`\n",
    "\n",
    "3. look up `program-1.0.1` and use this result instead of the result from\n",
    "looking up `program-current`, getting a pointer to the\n",
    "`/usr/program-1.0.1` directory.\n",
    "\n",
    "4. look up `file.txt` in this directory, and find it.\n",
    "\n",
    "\n",
    "Note that unlike hard links, a symbolic link may be \"broken\"---i.e. if\n",
    "the file it points to does not exist. This can happen if the link was\n",
    "created in error, or the file or directory it points to is deleted\n",
    "later. In that case path translation will fail with an error:"
   ]
  },
  {
   "cell_type": "code",
   "execution_count": 3,
   "id": "82a792dd-f18b-43e3-aa85-ca88b9f71643",
   "metadata": {
    "tags": [
     "remove-input"
    ]
   },
   "outputs": [
    {
     "data": {
      "application/vnd.jupyter.widget-view+json": {
       "model_id": "179278d8a4094d62bc96ed6a68b4c66a",
       "version_major": 2,
       "version_minor": 0
      },
      "text/plain": [
       "Output(layout=Layout(border='1px solid black', height='100%', overflow_y='scroll'))"
      ]
     },
     "metadata": {},
     "output_type": "display_data"
    }
   ],
   "source": [
    "bash.run('''ln -s /bad/file/name bad-link\n",
    "ls -l bad-link\n",
    "cat bat-link''')"
   ]
  },
  {
   "cell_type": "markdown",
   "id": "64959fa5-55d5-4ce2-bf1b-c7c553c386f4",
   "metadata": {
    "tags": [
     "remove-cell",
     "remove-input",
     "hide-output"
    ]
   },
   "source": [
    "<pre>\n",
    "pjd-1:tmp pjd$ ln -s /bad/file/name bad-link\n",
    "pjd-1:tmp pjd$ ls -l bad-link \n",
    "lrwxr-xr-x  1 pjd  wheel  22 Aug  2 00:07 bad-link -> /bad/file/name\n",
    "pjd-1:tmp pjd$ cat bad-link\n",
    "cat: bad-link: No such file or directory\n",
    "</pre>"
   ]
  },
  {
   "cell_type": "markdown",
   "id": "0b49234e-d550-48f4-94bc-4c02c4a9ddc3",
   "metadata": {},
   "source": [
    "Finally, to prevent loops there is a limit on how many levels of\n",
    "symbolic link may be traversed in a single path translation:"
   ]
  },
  {
   "cell_type": "markdown",
   "id": "cdd152a0-6880-437c-a348-98dbe3d7178b",
   "metadata": {
    "tags": [
     "remove-cell",
     "remove-input",
     "hide-output"
    ]
   },
   "source": [
    "<pre>\n",
    "pjd@pjd-fx:/tmp$ ln -s loopy loopy\n",
    "pjd@pjd-fx:/tmp$ ls -l loopy\n",
    "lrwxrwxrwx 1 pjd pjd 5 Aug 24 04:25 loopy -> loopy\n",
    "pjd@pjd-fx:/tmp$ cat loopy\n",
    "cat: loopy: Too many levels of symbolic links\n",
    "pjd@pjd-fx:/tmp$ \n",
    "</pre>"
   ]
  },
  {
   "cell_type": "code",
   "execution_count": 4,
   "id": "d9960ebd-fc1f-4e8d-9c0d-c17ba0722bf4",
   "metadata": {
    "tags": [
     "remove-input"
    ]
   },
   "outputs": [
    {
     "data": {
      "application/vnd.jupyter.widget-view+json": {
       "model_id": "aecad69eb5cc4a12ab51d4e6c1058562",
       "version_major": 2,
       "version_minor": 0
      },
      "text/plain": [
       "Output(layout=Layout(border='1px solid black', height='100%', overflow_y='scroll'))"
      ]
     },
     "metadata": {},
     "output_type": "display_data"
    }
   ],
   "source": [
    "bash.run('''ln -s loopy loopy\n",
    "ls -l loopy\n",
    "cat loopy''')"
   ]
  },
  {
   "cell_type": "markdown",
   "id": "615d272e-e896-407b-b822-530506afb155",
   "metadata": {},
   "source": [
    "In early versions of Linux (pre-2.6.18) the link translation code was\n",
    "recursive, and this limit was set to 5 to avoid stack overflow. Current\n",
    "versions use an iterative algorithm, and the limit is set to 40.\n",
    "\n",
    "**Device Names vs. Mounting**: A typical system may provide access to\n",
    "several file systems at once, e.g. a local disk and an external USB\n",
    "drive or network volume. In order to unambiguously specify a file we\n",
    "thus need to both identify the file within possibly nested directories\n",
    "in a single file system, as well as identifying the file system itself.\n",
    "(in Unix this name is called an *absolute pathname*, providing an\n",
    "unambiguous \"path\" to the file.) There are two common approaches to\n",
    "identifying file systems:\n",
    "\n",
    "\n",
    "[^6]: Modern Windows systems actually use a mount-like naming convention\n",
    "    internally; e.g. the `C:` drive actually corresponds to the name\n",
    "    `\\``DosDevices``\\``C:` in this internal namespace.\n",
    "\n",
    "1. Explicitly: each file system is given a name, so that a full pathname\n",
    "looks like e.g. `C:``\\``MyDirectory``\\``file.txt` (Windows[^6]) or\n",
    "`DISK1:[MYDIR]file.txt` (VMS).\n",
    "\n",
    "2. Implicitly: a file system is transparently *mounted* onto a directory in\n",
    "another file system, giving a single uniform namespace; thus on a Linux\n",
    "system with a separate disk for user directories, the file \"/etc/passwd\"\n",
    "would be on one file system (e.g. \"disk1\"), while \"/home/pjd/file.txt\"\n",
    "would be on another (e.g. \"disk2\").\n",
    "\n",
    "\n",
    "The actual implementation of mounting in Linux and other Unix-like\n",
    "systems is implemented via a *mount table*, a small table in the kernel\n",
    "mapping directories to directories on other file systems. In the example\n",
    "above, one entry would map \"/home\" on disk1 to (\"disk2\", \"/\"). As the\n",
    "kernel translates a pathname it checks each directory in this table; if\n",
    "found, it substitutes the mapped file system and directory before\n",
    "searching for an entry. Thus before searching \"/home\" on disk1 (which is\n",
    "probably empty) for the entry \"pjd\", the kernel will substitute the\n",
    "top-level directory on disk2,and then search for \"pjd\".\n",
    "\n",
    "For a more thorough explanation of path translation in Linux and other\n",
    "Unix systems see the `path_resolution(7)` man page, which may be\n",
    "accessed with the command `man path_resolution`.\n",
    "\n",
    "#### Review Questions\n",
    "\n",
    "::: enumerate\n",
    ":::"
   ]
  },
  {
   "cell_type": "code",
   "execution_count": null,
   "id": "06c5d39a-b459-47ed-be57-5a2cd606ba56",
   "metadata": {
    "tags": [
     "remove-input"
    ]
   },
   "outputs": [],
   "source": []
  }
 ],
 "metadata": {
  "kernelspec": {
   "display_name": "Python 3 (ipykernel)",
   "language": "python",
   "name": "python3"
  },
  "language_info": {
   "codemirror_mode": {
    "name": "ipython",
    "version": 3
   },
   "file_extension": ".py",
   "mimetype": "text/x-python",
   "name": "python",
   "nbconvert_exporter": "python",
   "pygments_lexer": "ipython3",
   "version": "3.10.5"
  }
 },
 "nbformat": 4,
 "nbformat_minor": 5
}
