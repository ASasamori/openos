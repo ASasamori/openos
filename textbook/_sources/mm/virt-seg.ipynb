{
 "cells": [
  {
   "cell_type": "markdown",
   "id": "40a5367e-a274-4572-a1c8-463bc0cf02f6",
   "metadata": {},
   "source": [
    "(cont:mm:virt-seg)=\n",
    "# Segmentation"
   ]
  },
  {
   "cell_type": "markdown",
   "id": "97be63f4-6eeb-4320-b3e4-d9ed60a8fc83",
   "metadata": {},
   "source": [
    "## Base and Bounds translation\n",
    "\n",
    "\n",
    "% ![image](../images/pb-figures/mm/virt-mem-base-bounds.png)\n",
    "\n",
    "```{figure} ../images/pb-figures/mm/virt-mem-base-bounds.png\n",
    "---\n",
    "width: 45%\n",
    "name: mm:base-bound\n",
    "---\n",
    "Base-bound registers for translation \n",
    "```\n",
    "\n",
    "\n",
    "We first looked at direct physical addressing, where no matter which\n",
    "process is executing, the same address (e.g. 0x1000) refers to the same\n",
    "memory location. In addition we reviewed a very simple form of address\n",
    "translation, shown here in {numref}`mm:base-bound`\n",
    "% [\\[fig:vm:fig1\\]](#fig:vm:fig1){reference-type=\"autoref\" reference=\"fig:vm:fig1\"}, \n",
    "where base and bounds registers are used to\n",
    "relocate a section of the *virtual address space*---the addresses seen\n",
    "by the program, corresponding to values in the CPU registers---to\n",
    "somewhere else in the physical address space. By changing these\n",
    "translations the operating system can create multiple virtual address\n",
    "spaces, one per process; however there is still only one physical\n",
    "address space, uniquely identifying each byte in each memory chip. In\n",
    "this chapter we introduce *paged address translation*, a more complex\n",
    "address translation mechanism used by most modern CPUs, and present the\n",
    "32-bit Intel implementation as an example.\n",
    "\n",
    "**Limitations of base+bound translation:** Modern hardware and operating\n",
    "systems provide a very similar process address space model, but no\n",
    "longer use base and bounds registers for address translation[^1] ,\n",
    "despite it being simple, cheap, and quite possibly faster than alternate\n",
    "methods. There are a number of reasons why base and bounds translation\n",
    "is no longer used, but the fundamental reason is memory fragmentation.\n",
    "\n",
    "Base and bounds address translation requires a contiguous memory region\n",
    "for each process. If memory is allocated and de-allocated in chunks of\n",
    "different sizes and at different times, then it can become *fragmented*\n",
    "so that even if large amounts of memory are free, it will be divided\n",
    "into smaller fragments, separated by longer-lived small allocations, as\n",
    "seen in [\\[fig:vm:fig2\\]](#fig:vm:fig2){reference-type=\"autoref\"\n",
    "reference=\"fig:vm:fig2\"}.\n",
    "\n",
    "Start: 32 locations, all free\\\n",
    "![image](../images/pb-figures/mm/virt-mem-frag-1.png){width=\"80%\"}\\\n",
    "\n",
    "Step 1, 2: a = alloc(10), b = alloc(1)\\\n",
    "![image](../images/pb-figures/mm/virt-mem-frag-2.png){width=\"80%\"}\\\n",
    "\n",
    "Step 3, 4, 5: c = alloc(10), d = alloc(1), e = alloc(10)\\\n",
    "![image](../images/pb-figures/mm/virt-mem-frag-3.png){width=\"80%\"}\\\n",
    "\n",
    "Step 6, 7, 8: free(a), free(c), free(e)\\\n",
    "![image](../images/pb-figures/mm/virt-mem-frag-4.png){width=\"80%\"}\n",
    "\n",
    "In the last line, you can see that only 2 units of memory (out of 32)\n",
    "remain allocated, but the largest amount that can be allocated at one\n",
    "time is 10 units. If all allocation requests are small, this might not\n",
    "be a problem; however, in an operating system it is common to have one\n",
    "or two very large processes (e.g., a web browser and word processing\n",
    "software), and many small, long-running processes (e.g., the on-screen\n",
    "battery display or wifi signal strength indicator). In this case, large\n",
    "memory allocations may fail, even when there is enough total memory\n",
    "free, because long-lived small allocations fragment the available\n",
    "contiguous memory into smaller pieces."
   ]
  },
  {
   "cell_type": "code",
   "execution_count": null,
   "id": "a6fe60ff-de7a-4f6e-b8e7-70e9799e284d",
   "metadata": {},
   "outputs": [],
   "source": []
  }
 ],
 "metadata": {
  "kernelspec": {
   "display_name": "Python 3 (ipykernel)",
   "language": "python",
   "name": "python3"
  },
  "language_info": {
   "codemirror_mode": {
    "name": "ipython",
    "version": 3
   },
   "file_extension": ".py",
   "mimetype": "text/x-python",
   "name": "python",
   "nbconvert_exporter": "python",
   "pygments_lexer": "ipython3",
   "version": "3.10.5"
  }
 },
 "nbformat": 4,
 "nbformat_minor": 5
}
