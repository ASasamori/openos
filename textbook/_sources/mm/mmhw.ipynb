{
 "cells": [
  {
   "cell_type": "markdown",
   "id": "c937e975-e5ca-4190-a105-cc895afc1ab5",
   "metadata": {
    "tags": []
   },
   "source": [
    "(cont:mm:HW)=\n",
    "# Memory management hardware\n",
    "   - Translations\n",
    "       - Page Table entries\n",
    "       - Page tables\n",
    "           - Multiple level page tables\n",
    "           - Page table entries\n",
    "           - Inverted page tables\n",
    "           - Variable page sizes\n",
    "   - TLB - Transpation Lookaside Buffers and entries\n",
    "       - Global TLB entries\n",
    "       - Local TLB entries\n",
    "       - Tagging TLB entries\n",
    "       "
   ]
  }
 ],
 "metadata": {
  "kernelspec": {
   "display_name": "Python 3 (ipykernel)",
   "language": "python",
   "name": "python3"
  },
  "language_info": {
   "codemirror_mode": {
    "name": "ipython",
    "version": 3
   },
   "file_extension": ".py",
   "mimetype": "text/x-python",
   "name": "python",
   "nbconvert_exporter": "python",
   "pygments_lexer": "ipython3",
   "version": "3.10.5"
  }
 },
 "nbformat": 4,
 "nbformat_minor": 5
}
