{
 "cells": [
  {
   "cell_type": "markdown",
   "id": "40a5367e-a274-4572-a1c8-463bc0cf02f6",
   "metadata": {},
   "source": [
    "(cont:mm:paging)=\n",
    "# Paging"
   ]
  },
  {
   "cell_type": "markdown",
   "id": "f47b2d65-39dc-4c1f-bd71-766658940ce2",
   "metadata": {},
   "source": [
    "## Paging - Avoiding Fragmentation\n",
    "\n",
    "The fragmentation in\n",
    "[\\[fig:vm:fig2\\]](#fig:vm:fig2){reference-type=\"autoref\"\n",
    "reference=\"fig:vm:fig2\"} is termed *external fragmentation*, because the\n",
    "memory wasted is *external* to the regions allocated. This situation can\n",
    "be avoided by *compacting* memory---moving existing allocations around,\n",
    "thereby consolidating multiple blocks of free memory into a single large\n",
    "chunk. This is a slow process, requiring processes to be paused, large\n",
    "amounts of memory to be copied, and base+bounds registers modified to\n",
    "point to new locations[^2].\n",
    "\n",
    "![image](../images/pb-figures/mm/virt-mem-map.png){height=\"8\\\\baselineskip\"}"
   ]
  },
  {
   "cell_type": "markdown",
   "id": "e08c8a3f-5bd5-4ce8-8789-4bde6f40cc9d",
   "metadata": {},
   "source": [
    "Instead, modern CPUs use *paged address translation*, which divides the\n",
    "physical and virtual memory spaces into fixed-sized pages, typically\n",
    "4KB, and provides a flexible mapping between virtual and physical pages,\n",
    "as shown in [\\[fig:vm:fig3\\]](#fig:vm:fig3){reference-type=\"autoref\"\n",
    "reference=\"fig:vm:fig3\"}. The operating system can then maintain a list\n",
    "of free physical pages, and allocate them as needed. Because any\n",
    "combination of physical pages may be used for an allocation request,\n",
    "there is no external fragmentation, and a request will not fail as long\n",
    "as there are enough free physical pages to fulfill it."
   ]
  },
  {
   "cell_type": "markdown",
   "id": "fbf91212-af27-4075-ae5a-3c9e8fd259fa",
   "metadata": {},
   "source": [
    "Instead, modern CPUs use *paged address translation*, which divides the\n",
    "physical and virtual memory spaces into fixed-sized pages, typically\n",
    "4KB, and provides a flexible mapping between virtual and physical pages,\n",
    "as shown in [\\[fig:vm:fig3\\]](#fig:vm:fig3){reference-type=\"autoref\"\n",
    "reference=\"fig:vm:fig3\"}. The operating system can then maintain a list\n",
    "of free physical pages, and allocate them as needed. Because any\n",
    "combination of physical pages may be used for an allocation request,\n",
    "there is no external fragmentation, and a request will not fail as long\n",
    "as there are enough free physical pages to fulfill it."
   ]
  },
  {
   "cell_type": "markdown",
   "id": "c7eedc8e-b5c8-4aa0-bcca-e9bc71eb9dfa",
   "metadata": {
    "jp-MarkdownHeadingCollapsed": true,
    "tags": []
   },
   "source": [
    "### Internal Fragmentation\n",
    "\n",
    "Paging solves the problem of external fragmentation, but it suffers from\n",
    "another issue, *internal fragmentation*, because space may be wasted\n",
    "*inside* the allocated pages. E.g. if 10 KB of memory is allocated in\n",
    "4KB pages, 3 pages (a total of 12 KB) are allocated, and 2KB is wasted.\n",
    "To allocate hundreds of KB in pages of 4KB this is a minor overhead:\n",
    "about $\\frac{1}{2}$ a page, or 2 KB, wasted per allocation. But internal\n",
    "fragmentation makes this approach inefficient for very small allocations\n",
    "(e.g. the `new` operator in C++), as shown in\n",
    "[\\[fig:vm:fig4\\]](#fig:vm:fig4){reference-type=\"autoref\"\n",
    "reference=\"fig:vm:fig4\"}. (It is also one reason why even though most\n",
    "CPUs support multi-megabyte or even multi-gigabyte \"huge\" pages, which\n",
    "are slightly more efficient than 4 KB pages, they are rarely used.)\n",
    "\n",
    "![image](../images/pb-figures/mm/virt-mem-pic7.png){width=\"90%\"}\\"
   ]
  },
  {
   "cell_type": "markdown",
   "id": "c9c95411-bd95-4f17-aa32-e72796b61ef5",
   "metadata": {},
   "source": [
    "## Paged Address Translation\n",
    "\n",
    "We examine a single model of address translation in detail: the one used\n",
    "by the original Pentium, and by any Intel-compatible CPU running in\n",
    "32-bit mode. It uses 32-bit virtual addresses, 32-bit physical\n",
    "addresses, and a page size of 4096 bytes. Since pages are $2^{12}$ bytes\n",
    "each, addresses can be divided into 20-bit page numbers and 12-bit\n",
    "offsets within each page, as shown in\n",
    "[\\[fig:vm:fig5\\]](#fig:vm:fig5){reference-type=\"autoref\"\n",
    "reference=\"fig:vm:fig5\"}\n",
    "\n",
    "\n",
    "![image](../images/pb-figures/mm/virt-mem-pic10.png){height=\"5.5\\\\baselineskip\"}\n",
    "\n",
    "\n",
    "The Memory Management Unit (MMU) maps a 20-bit virtual page number to a\n",
    "20-bit physical page number; the offset can pass through unchanged, as\n",
    "shown in [\\[fig:vm:fig6\\]](#fig:vm:fig6){reference-type=\"autoref\"\n",
    "reference=\"fig:vm:fig6\"}, giving the physical address the CPU should\n",
    "access.\n",
    "\n",
    "![Page number and offset in 32-bit paged translation with 4KB\n",
    "pages](../images/pb-figures/mm/virt-mem-pic9.png){#fig:vm:fig5 width=\"\\\\textwidth\"}\n",
    "\n",
    "Although paged address translation is far more flexible than base and\n",
    "bounds registers, it requires much more information. Base and bounds\n",
    "translation only requires two values, which can easily be held in\n",
    "registers in the MMU. In contrast, paged translation must be able to\n",
    "handle a separate mapping value for each of over a million virtual\n",
    "pages. (although most programs will only map a fraction of those pages)\n",
    "The only possible place to store the amount of information required by\n",
    "paged address translation is in memory itself, so the MMU uses page\n",
    "tables in memory to specify virtual-to-physical mappings."
   ]
  }
 ],
 "metadata": {
  "kernelspec": {
   "display_name": "Python 3 (ipykernel)",
   "language": "python",
   "name": "python3"
  },
  "language_info": {
   "codemirror_mode": {
    "name": "ipython",
    "version": 3
   },
   "file_extension": ".py",
   "mimetype": "text/x-python",
   "name": "python",
   "nbconvert_exporter": "python",
   "pygments_lexer": "ipython3",
   "version": "3.10.5"
  }
 },
 "nbformat": 4,
 "nbformat_minor": 5
}
