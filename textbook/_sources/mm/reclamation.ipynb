{
 "cells": [
  {
   "cell_type": "markdown",
   "id": "53534567-6e35-4cad-b67f-639299ba8364",
   "metadata": {
    "tags": []
   },
   "source": [
    "(cont:mm:reclaim)=\n",
    "# Memory reclaiming algorithms.\n",
    "- Global page reclaiming\n",
    "   - FIFO, LRU, NRU...\n",
    "- Local page reclaiming\n",
    "   - Reclaiming within a specific address space\n",
    "- Working set page reclaiming"
   ]
  }
 ],
 "metadata": {
  "kernelspec": {
   "display_name": "Python 3 (ipykernel)",
   "language": "python",
   "name": "python3"
  },
  "language_info": {
   "codemirror_mode": {
    "name": "ipython",
    "version": 3
   },
   "file_extension": ".py",
   "mimetype": "text/x-python",
   "name": "python",
   "nbconvert_exporter": "python",
   "pygments_lexer": "ipython3",
   "version": "3.10.5"
  }
 },
 "nbformat": 4,
 "nbformat_minor": 5
}
