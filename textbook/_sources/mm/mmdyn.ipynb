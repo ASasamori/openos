{
 "cells": [
  {
   "cell_type": "markdown",
   "id": "59f7b278-ae37-4213-915b-c4516e36194f",
   "metadata": {
    "tags": []
   },
   "source": [
    "(cont:mm:dynamics)=\n",
    "# Paging Dynamics\n",
    "- Boot-time\n",
    "- Consuming physical memory\n",
    "   - Kernel page wiring\n",
    "   - Page faults\n",
    "   - Buffer Cache\n",
    "- Freeing physical memory\n",
    "   - Process exiting\n",
    "   - un-mapping\n",
    "   - Page reclaiming\n",
    "       - Paging\n",
    "       - Swapping\n",
    "       - Page cache purging\n",
    "- System shutdown"
   ]
  }
 ],
 "metadata": {
  "kernelspec": {
   "display_name": "Python 3 (ipykernel)",
   "language": "python",
   "name": "python3"
  },
  "language_info": {
   "codemirror_mode": {
    "name": "ipython",
    "version": 3
   },
   "file_extension": ".py",
   "mimetype": "text/x-python",
   "name": "python",
   "nbconvert_exporter": "python",
   "pygments_lexer": "ipython3",
   "version": "3.10.5"
  }
 },
 "nbformat": 4,
 "nbformat_minor": 5
}
