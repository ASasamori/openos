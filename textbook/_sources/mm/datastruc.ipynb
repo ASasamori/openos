{
 "cells": [
  {
   "cell_type": "markdown",
   "id": "05334e9c-2ef0-45a8-9c47-a74783dd089c",
   "metadata": {
    "tags": []
   },
   "source": [
    "(cont:mm:ds)=\n",
    "# Data structures\n",
    "We need to keep track of ... what is free, what is used... \n",
    "- Free lists\n",
    "   - coalescing free memory.\n",
    "- In-use page lists\n",
    "   - active and inactive lists for reclaiming.\n",
    "   - Buffer Cache \n",
    "       - Using RAM to cache file system data & metadata\n",
    "           - Global page hash\n",
    "           - Per file page hash"
   ]
  }
 ],
 "metadata": {
  "kernelspec": {
   "display_name": "Python 3 (ipykernel)",
   "language": "python",
   "name": "python3"
  },
  "language_info": {
   "codemirror_mode": {
    "name": "ipython",
    "version": 3
   },
   "file_extension": ".py",
   "mimetype": "text/x-python",
   "name": "python",
   "nbconvert_exporter": "python",
   "pygments_lexer": "ipython3",
   "version": "3.10.5"
  }
 },
 "nbformat": 4,
 "nbformat_minor": 5
}
