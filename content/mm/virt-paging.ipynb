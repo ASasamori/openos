{
 "cells": [
  {
   "cell_type": "markdown",
   "id": "40a5367e-a274-4572-a1c8-463bc0cf02f6",
   "metadata": {},
   "source": [
    "(cont:mm:paging)=\n",
    "# Paging"
   ]
  },
  {
   "cell_type": "markdown",
   "id": "f47b2d65-39dc-4c1f-bd71-766658940ce2",
   "metadata": {},
   "source": [
    "## Paging - Avoiding Fragmentation\n",
    "\n",
    "The fragmentation in\n",
    "[\\[fig:vm:fig2\\]](#fig:vm:fig2){reference-type=\"autoref\"\n",
    "reference=\"fig:vm:fig2\"} is termed *external fragmentation*, because the\n",
    "memory wasted is *external* to the regions allocated. This situation can\n",
    "be avoided by *compacting* memory---moving existing allocations around,\n",
    "thereby consolidating multiple blocks of free memory into a single large\n",
    "chunk. This is a slow process, requiring processes to be paused, large\n",
    "amounts of memory to be copied, and base+bounds registers modified to\n",
    "point to new locations[^2].\n",
    "\n",
    "![image](../images/pb-figures/mm/virt-mem-map.png){height=\"8\\\\baselineskip\"}"
   ]
  },
  {
   "cell_type": "markdown",
   "id": "e08c8a3f-5bd5-4ce8-8789-4bde6f40cc9d",
   "metadata": {},
   "source": [
    "Instead, modern CPUs use *paged address translation*, which divides the\n",
    "physical and virtual memory spaces into fixed-sized pages, typically\n",
    "4KB, and provides a flexible mapping between virtual and physical pages,\n",
    "as shown in [\\[fig:vm:fig3\\]](#fig:vm:fig3){reference-type=\"autoref\"\n",
    "reference=\"fig:vm:fig3\"}. The operating system can then maintain a list\n",
    "of free physical pages, and allocate them as needed. Because any\n",
    "combination of physical pages may be used for an allocation request,\n",
    "there is no external fragmentation, and a request will not fail as long\n",
    "as there are enough free physical pages to fulfill it."
   ]
  },
  {
   "cell_type": "markdown",
   "id": "fbf91212-af27-4075-ae5a-3c9e8fd259fa",
   "metadata": {},
   "source": [
    "Instead, modern CPUs use *paged address translation*, which divides the\n",
    "physical and virtual memory spaces into fixed-sized pages, typically\n",
    "4KB, and provides a flexible mapping between virtual and physical pages,\n",
    "as shown in [\\[fig:vm:fig3\\]](#fig:vm:fig3){reference-type=\"autoref\"\n",
    "reference=\"fig:vm:fig3\"}. The operating system can then maintain a list\n",
    "of free physical pages, and allocate them as needed. Because any\n",
    "combination of physical pages may be used for an allocation request,\n",
    "there is no external fragmentation, and a request will not fail as long\n",
    "as there are enough free physical pages to fulfill it."
   ]
  }
 ],
 "metadata": {
  "kernelspec": {
   "display_name": "Python 3 (ipykernel)",
   "language": "python",
   "name": "python3"
  },
  "language_info": {
   "codemirror_mode": {
    "name": "ipython",
    "version": 3
   },
   "file_extension": ".py",
   "mimetype": "text/x-python",
   "name": "python",
   "nbconvert_exporter": "python",
   "pygments_lexer": "ipython3",
   "version": "3.10.5"
  }
 },
 "nbformat": 4,
 "nbformat_minor": 5
}
