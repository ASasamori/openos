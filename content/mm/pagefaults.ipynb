{
 "cells": [
  {
   "cell_type": "markdown",
   "id": "488283d6-a5a9-4092-8237-631367f09fee",
   "metadata": {
    "tags": []
   },
   "source": [
    "(cont:mm:pf)=\n",
    "# Page Faults\n",
    "- File backed page faults\n",
    "- Anonymous page faults\n",
    "- Copy On Write page faults"
   ]
  }
 ],
 "metadata": {
  "kernelspec": {
   "display_name": "Python 3 (ipykernel)",
   "language": "python",
   "name": "python3"
  },
  "language_info": {
   "codemirror_mode": {
    "name": "ipython",
    "version": 3
   },
   "file_extension": ".py",
   "mimetype": "text/x-python",
   "name": "python",
   "nbconvert_exporter": "python",
   "pygments_lexer": "ipython3",
   "version": "3.10.5"
  }
 },
 "nbformat": 4,
 "nbformat_minor": 5
}
