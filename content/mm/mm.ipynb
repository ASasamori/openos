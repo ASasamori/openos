{
 "cells": [
  {
   "cell_type": "markdown",
   "id": "333d054c-7921-4f34-a537-9d7228007335",
   "metadata": {},
   "source": [
    "# Memory Management"
   ]
  },
  {
   "cell_type": "markdown",
   "id": "61b345fb-e652-46df-91fb-6a6caeef4b45",
   "metadata": {},
   "source": [
    "## Task of Memory Management"
   ]
  },
  {
   "cell_type": "markdown",
   "id": "adf21cc3-3bae-4794-8d47-96d1fac6d9c0",
   "metadata": {},
   "source": [
    "## Physical Mode"
   ]
  },
  {
   "cell_type": "code",
   "execution_count": null,
   "id": "f9371cce-8261-4e23-bcfd-5759ffa971ca",
   "metadata": {},
   "outputs": [],
   "source": []
  }
 ],
 "metadata": {
  "kernelspec": {
   "display_name": "Python 3 (ipykernel)",
   "language": "python",
   "name": "python3"
  },
  "language_info": {
   "codemirror_mode": {
    "name": "ipython",
    "version": 3
   },
   "file_extension": ".py",
   "mimetype": "text/x-python",
   "name": "python",
   "nbconvert_exporter": "python",
   "pygments_lexer": "ipython3",
   "version": "3.10.5"
  }
 },
 "nbformat": 4,
 "nbformat_minor": 5
}
