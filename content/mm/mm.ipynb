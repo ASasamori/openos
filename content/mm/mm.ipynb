{
 "cells": [
  {
   "cell_type": "markdown",
   "id": "333d054c-7921-4f34-a537-9d7228007335",
   "metadata": {},
   "source": [
    "# Memory Management\n",
    "\n",
    "We first talk about the [tasks](cont:mm:task) of the operating system memory management. "
   ]
  },
  {
   "cell_type": "markdown",
   "id": "61b345fb-e652-46df-91fb-6a6caeef4b45",
   "metadata": {},
   "source": [
    "(cont:mm:task)=\n",
    "## Task of Memory Management\n",
    "The memory manager is responsible for 1.) Managing all of the RAM or physical memory on the whole system, 2.) Creating and managing virtual memory for each process and 3.) transitioning the processor(s) between physical memory mode and virtual memory mode as the kernel runs."
   ]
  },
  {
   "cell_type": "markdown",
   "id": "adf21cc3-3bae-4794-8d47-96d1fac6d9c0",
   "metadata": {},
   "source": [
    "(cont:mm:physem)=\n",
    "## Physical Memory\n",
    "Physical memory can be viewed as a simple array of bytes.\n",
    " "
   ]
  },
  {
   "cell_type": "markdown",
   "id": "8145480c-d1c1-4f8a-991d-b94234c366c5",
   "metadata": {},
   "source": [
    "(cont:mm:virtmem)=\n",
    "## Virtual Memory\n",
    "Virtual memory is the address space that physical memory is mapped."
   ]
  },
  {
   "cell_type": "markdown",
   "id": "d6513cea-78ca-4182-9af6-6db38d2baa32",
   "metadata": {},
   "source": [
    "(cont:mm:modes)=\n",
    "## Memory Modes\n",
    "Physical memory mode implies that no translation occurs.\n",
    "Virtual memory mode implies that virtual memory addresses are translated to to physical memory addresses."
   ]
  },
  {
   "cell_type": "markdown",
   "id": "1a796c0a-43f0-455f-b51c-29ead9ad7ed8",
   "metadata": {},
   "source": [
    "## Notes\n",
    "\n",
    "Refer [here](https://jappavoo.github.io/UndertheCovers/textbook/unix/shellintro.html#arithmetic-expansion) for doing binary math in shell "
   ]
  },
  {
   "cell_type": "code",
   "execution_count": null,
   "id": "87a8b4ac-4fd9-4ef2-9586-896c32c4db02",
   "metadata": {},
   "outputs": [],
   "source": []
  }
 ],
 "metadata": {
  "kernelspec": {
   "display_name": "Python 3 (ipykernel)",
   "language": "python",
   "name": "python3"
  },
  "language_info": {
   "codemirror_mode": {
    "name": "ipython",
    "version": 3
   },
   "file_extension": ".py",
   "mimetype": "text/x-python",
   "name": "python",
   "nbconvert_exporter": "python",
   "pygments_lexer": "ipython3",
   "version": "3.10.5"
  }
 },
 "nbformat": 4,
 "nbformat_minor": 5
}
