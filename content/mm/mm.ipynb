{
 "cells": [
  {
   "cell_type": "markdown",
   "id": "1c7126fc-eb31-462e-9b73-ae2a8142ceef",
   "metadata": {
    "tags": []
   },
   "source": [
    "(cont:mm:intro)=\n",
    "# Memory Management\n",
    "\n",
    "- Introduction: Fundamental jobs of the memory manager:\n",
    "    - Abstracting a useful memory model.\n",
    "    - Managing the physical memory on the system.\n",
    "    - Providing and managing a private virtual address space for each user.\n",
    "give an overview of the chapters in this section. \n",
    "\n",
    "- The memory manager is responsible for:\n",
    "    - 1.) Managing all of the RAM or physical memory on the whole system. \n",
    "    - 2.) Creating and managing virtual memory for each process. \n",
    "    - 3.) Transitioning the processor(s) between physical memory mode and virtual memory mode as the kernel boots and initializes.\n",
    "\n",
    "Stole below from elsewhere\n",
    "\n",
    "The memory management subsystem has 3 basic responsibilities; \n",
    "1. Providing an abstraction so that every user appears to have total and unique access to all of the memory on the system.  \n",
    "2. Managing all of the physical memory on the system.  \n",
    "3. Providing and managing a unique private virtual address space for every process currently running on the system. \n",
    "\n",
    "Very basic systems do not abstract memory at all.  Instead, programs are loaded directly into physical memory\n",
    "and all the addresses presented to those programs are physical addresses.  This means that programs running in\n",
    "a physical memory model must be relocatable because its not known what address they will be loaded and run at.\n",
    "Being relocatable means that all addresses are either relative or they can be fixed up whenever the program is loaded and/or\n",
    "moved to a different physical address.  \n",
    "\n",
    "No memory abstraction also implies that there is no protection between multiple programs loaded into memory at the same time.\n",
    "If a program takes a wild branch or writes to a random address it will corrupt other programs or even the entire system."
   ]
  },
  {
   "cell_type": "markdown",
   "id": "1a796c0a-43f0-455f-b51c-29ead9ad7ed8",
   "metadata": {},
   "source": [
    "## Notes\n",
    "\n",
    "Refer [here](https://jappavoo.github.io/UndertheCovers/textbook/unix/shellintro.html#arithmetic-expansion) for doing binary math in shell "
   ]
  },
  {
   "cell_type": "code",
   "execution_count": null,
   "id": "87a8b4ac-4fd9-4ef2-9586-896c32c4db02",
   "metadata": {},
   "outputs": [],
   "source": []
  }
 ],
 "metadata": {
  "kernelspec": {
   "display_name": "Python 3 (ipykernel)",
   "language": "python",
   "name": "python3"
  },
  "language_info": {
   "codemirror_mode": {
    "name": "ipython",
    "version": 3
   },
   "file_extension": ".py",
   "mimetype": "text/x-python",
   "name": "python",
   "nbconvert_exporter": "python",
   "pygments_lexer": "ipython3",
   "version": "3.10.5"
  }
 },
 "nbformat": 4,
 "nbformat_minor": 5
}
