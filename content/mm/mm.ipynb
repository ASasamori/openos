{
 "cells": [
  {
   "cell_type": "markdown",
   "id": "333d054c-7921-4f34-a537-9d7228007335",
   "metadata": {},
   "source": [
    "# Memory Management\n",
    "(cont:mm:outline)=\n",
    "Outline of memory management:\n",
    "- Fundamental jobs of the memory manager:\n",
    "    - Abstracting a useful memory model.\n",
    "    - Managing the physical memory on the system.\n",
    "    - Providing and managing a private virtual address space for each user.\n",
    "- The evolution of memory management:\n",
    "    - Simple physical memory management.\n",
    "        - Sharing one physical address space.\n",
    "        - Relocating programs.\n",
    "        - Swapping whole programs.\n",
    "        - Compaction.\n",
    "    - Virtual memory management.\n",
    "        - Segmentation.\n",
    "            - Single segments per address space\n",
    "            - Multiple segments per address space.\n",
    "            - Swapping.\n",
    "            - Compaction.\n",
    "        - Paging.\n",
    "            - Virtual pages and page frames.\n",
    "            - Virtual address spaces larger than RAM.\n",
    "            - Page tables.\n",
    "- Modern memory management systems\n",
    "    - Demand Paging\n",
    "        - Several very large sparse virtual address spaces.\n",
    "        - Millions or Billions of physical memory page frames.\n",
    "    - Managing the pages of physical memory.\n",
    "        - Page structures\n",
    "        - Page lists\n",
    "           - Free lists\n",
    "               - coalescing free memory.\n",
    "           - In-use page lists\n",
    "               - active and inactive lists for reclaiming.\n",
    "               - Over-committing physical memory\n",
    "       - Over-committing physical memory\n",
    "           - Reclaiming memory\n",
    "           - paging and swapping\n",
    "       - Reclaiming memory\n",
    "           - paging and swapping\n",
    "   - Maintaining a separate virtual address space for each process.\n",
    "       - Types of virtual memory regions:\n",
    "           - Mapped file memory regions\n",
    "           - Anonymous memory regions\n",
    "       - Page tables\n",
    "           - Multiple level page tables\n",
    "           - Page table entries\n",
    "           - Inverted page tables\n",
    "           - Variable page sizes\n",
    "       - Page Faults\n",
    "           - File backed page faults\n",
    "           - Anonymous page faults\n",
    "           - Copy On Write page faults\n",
    "   - Memory reclaiming algorithms.\n",
    "       - Global page reclaiming\n",
    "           - FIFO, LRU, NRU\n",
    "       - Local page reclaiming\n",
    "           - Reclaiming within a specific address space\n",
    "       - Working set page reclaiming\n",
    "   - Buffer Cache\n",
    "       - Using RAM to cache file system data & metadata\n",
    "       - Global page hash\n",
    "       - Per file page hash\n",
    "   - Paging Dynamics\n",
    "       - Boot-time\n",
    "       - Consuming physical memory\n",
    "           - Kernel page wiring\n",
    "           - Page faults\n",
    "           - Buffer Cache\n",
    "       - Freeing physical memory\n",
    "           - Process exiting\n",
    "           - un-mapping\n",
    "           - Page reclaiming\n",
    "               - Paging\n",
    "               - Swapping\n",
    "               - Page cache purging\n",
    "       - System shutdown\n",
    "   - Memory Management Hardware\n",
    "       - Translations\n",
    "           - Page Table entries\n",
    "       - TLB - Transpation Lookaside Buffers and entries\n",
    "           - Global TLB entries\n",
    "           - Local TLB entries\n",
    "           - Tagging TLB entries\n",
    "   - Linux specific memory management\n",
    " \n",
    "We first talk about the [tasks](cont:mm:task) of the operating system memory management. \n",
    "\n",
    "- why do we need memory mangement sharing memory between different processes, what is ram...\n",
    "- physical memory management\n",
    "- virtual memory management\n",
    "  - segmentation\n",
    "  - paging\n"
   ]
  },
  {
   "cell_type": "markdown",
   "id": "61b345fb-e652-46df-91fb-6a6caeef4b45",
   "metadata": {},
   "source": [
    "(cont:mm:task)=\n",
    "## Task of Memory Management\n",
    "The memory manager is responsible for 1.) Managing all of the RAM or physical memory on the whole system, 2.) Creating and managing virtual memory for each process and 3.) transitioning the processor(s) between physical memory mode and virtual memory mode as the kernel runs."
   ]
  },
  {
   "cell_type": "markdown",
   "id": "adf21cc3-3bae-4794-8d47-96d1fac6d9c0",
   "metadata": {},
   "source": [
    "(cont:mm:physem)=\n",
    "## Physical Memory\n",
    "Physical memory can be viewed as a simple array of bytes.\n",
    " "
   ]
  },
  {
   "cell_type": "markdown",
   "id": "8145480c-d1c1-4f8a-991d-b94234c366c5",
   "metadata": {},
   "source": [
    "(cont:mm:virtmem)=\n",
    "## Virtual Memory\n",
    "Virtual memory is the address space that physical memory is mapped."
   ]
  },
  {
   "cell_type": "markdown",
   "id": "d6513cea-78ca-4182-9af6-6db38d2baa32",
   "metadata": {},
   "source": [
    "(cont:mm:modes)=\n",
    "## Memory Modes\n",
    "Physical memory mode implies that no translation occurs.\n",
    "Virtual memory mode implies that virtual memory addresses are translated to to physical memory addresses."
   ]
  },
  {
   "cell_type": "markdown",
   "id": "1a796c0a-43f0-455f-b51c-29ead9ad7ed8",
   "metadata": {},
   "source": [
    "## Notes\n",
    "\n",
    "Refer [here](https://jappavoo.github.io/UndertheCovers/textbook/unix/shellintro.html#arithmetic-expansion) for doing binary math in shell "
   ]
  },
  {
   "cell_type": "code",
   "execution_count": null,
   "id": "87a8b4ac-4fd9-4ef2-9586-896c32c4db02",
   "metadata": {},
   "outputs": [],
   "source": []
  }
 ],
 "metadata": {
  "kernelspec": {
   "display_name": "Python 3 (ipykernel)",
   "language": "python",
   "name": "python3"
  },
  "language_info": {
   "codemirror_mode": {
    "name": "ipython",
    "version": 3
   },
   "file_extension": ".py",
   "mimetype": "text/x-python",
   "name": "python",
   "nbconvert_exporter": "python",
   "pygments_lexer": "ipython3",
   "version": "3.10.5"
  }
 },
 "nbformat": 4,
 "nbformat_minor": 5
}
