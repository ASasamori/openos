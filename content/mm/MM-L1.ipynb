{
 "cells": [
  {
   "cell_type": "markdown",
   "id": "e0dce3b0-68cc-4dc0-a778-e771fc9ef6c9",
   "metadata": {
    "slideshow": {
     "slide_type": "skip"
    },
    "tags": []
   },
   "source": [
    "# Memory Management"
   ]
  },
  {
   "cell_type": "markdown",
   "id": "81ec2b76",
   "metadata": {
    "slideshow": {
     "slide_type": "slide"
    },
    "tags": []
   },
   "source": [
    "<img src=\"../from-google-slides/MM01/MM-01.001.png\">"
   ]
  },
  {
   "cell_type": "markdown",
   "id": "115a8abd",
   "metadata": {
    "slideshow": {
     "slide_type": "skip"
    },
    "tags": []
   },
   "source": [
    "**NOTE:**"
   ]
  },
  {
   "cell_type": "markdown",
   "id": "f7fce09d",
   "metadata": {
    "slideshow": {
     "slide_type": "notes"
    },
    "tags": []
   },
   "source": []
  },
  {
   "cell_type": "markdown",
   "id": "97baffc9",
   "metadata": {
    "slideshow": {
     "slide_type": "Skip"
    },
    "tags": []
   },
   "source": [
    "- - -"
   ]
  },
  {
   "cell_type": "markdown",
   "id": "2a777754",
   "metadata": {
    "slideshow": {
     "slide_type": "Skip"
    },
    "tags": []
   },
   "source": [
    "- - -"
   ]
  },
  {
   "cell_type": "markdown",
   "id": "476aae28",
   "metadata": {
    "slideshow": {
     "slide_type": "slide"
    },
    "tags": []
   },
   "source": [
    "<img src=\"../from-google-slides/MM01/MM-01.003.png\">"
   ]
  },
  {
   "cell_type": "markdown",
   "id": "54434c4d",
   "metadata": {
    "slideshow": {
     "slide_type": "skip"
    },
    "tags": []
   },
   "source": [
    "**NOTE:**"
   ]
  },
  {
   "cell_type": "markdown",
   "id": "932dc542",
   "metadata": {
    "slideshow": {
     "slide_type": "notes"
    },
    "tags": []
   },
   "source": []
  },
  {
   "cell_type": "markdown",
   "id": "f9279e88",
   "metadata": {
    "slideshow": {
     "slide_type": "Skip"
    },
    "tags": []
   },
   "source": [
    "- - -"
   ]
  },
  {
   "cell_type": "markdown",
   "id": "9c4d6634",
   "metadata": {
    "slideshow": {
     "slide_type": "slide"
    },
    "tags": []
   },
   "source": [
    "<img src=\"../from-google-slides/MM01/MM-01.004.png\">"
   ]
  },
  {
   "cell_type": "markdown",
   "id": "9f7da6d1",
   "metadata": {
    "slideshow": {
     "slide_type": "skip"
    },
    "tags": []
   },
   "source": [
    "**NOTE:**"
   ]
  },
  {
   "cell_type": "markdown",
   "id": "02ea0431",
   "metadata": {
    "slideshow": {
     "slide_type": "notes"
    },
    "tags": []
   },
   "source": []
  },
  {
   "cell_type": "markdown",
   "id": "2800b1fc",
   "metadata": {
    "slideshow": {
     "slide_type": "Skip"
    },
    "tags": []
   },
   "source": [
    "- - -"
   ]
  },
  {
   "cell_type": "markdown",
   "id": "9cbac0c6",
   "metadata": {
    "slideshow": {
     "slide_type": "slide"
    },
    "tags": []
   },
   "source": [
    "<img src=\"../from-google-slides/MM01/MM-01.005.png\">"
   ]
  },
  {
   "cell_type": "markdown",
   "id": "285658ac",
   "metadata": {
    "slideshow": {
     "slide_type": "skip"
    },
    "tags": []
   },
   "source": [
    "**NOTE:**"
   ]
  },
  {
   "cell_type": "markdown",
   "id": "305fd75d",
   "metadata": {
    "slideshow": {
     "slide_type": "notes"
    },
    "tags": []
   },
   "source": []
  },
  {
   "cell_type": "markdown",
   "id": "c9cefa85",
   "metadata": {
    "slideshow": {
     "slide_type": "Skip"
    },
    "tags": []
   },
   "source": [
    "- - -"
   ]
  },
  {
   "cell_type": "markdown",
   "id": "7eb0d557",
   "metadata": {
    "slideshow": {
     "slide_type": "slide"
    },
    "tags": []
   },
   "source": [
    "<img src=\"../from-google-slides/MM01/MM-01.006.png\">"
   ]
  },
  {
   "cell_type": "markdown",
   "id": "a4cd4cf3",
   "metadata": {
    "slideshow": {
     "slide_type": "skip"
    },
    "tags": []
   },
   "source": [
    "**NOTE:**"
   ]
  },
  {
   "cell_type": "markdown",
   "id": "e95b7738",
   "metadata": {
    "slideshow": {
     "slide_type": "notes"
    },
    "tags": []
   },
   "source": []
  },
  {
   "cell_type": "markdown",
   "id": "9e713c8a",
   "metadata": {
    "slideshow": {
     "slide_type": "Skip"
    },
    "tags": []
   },
   "source": [
    "- - -"
   ]
  },
  {
   "cell_type": "markdown",
   "id": "17169527-567f-4aa8-9b17-20b5b9eddfeb",
   "metadata": {
    "slideshow": {
     "slide_type": "Skip"
    },
    "tags": []
   },
   "source": [
    "- - -"
   ]
  },
  {
   "cell_type": "markdown",
   "id": "786afce0-d721-4f33-b97f-2501b22b4cd3",
   "metadata": {
    "slideshow": {
     "slide_type": "slide"
    },
    "tags": []
   },
   "source": [
    "### The Memory Manager\n",
    "- The portion of the OS that allocates, frees, and tracks the usage of memory\n",
    "- Fundamental jobs of the memory manager:\n",
    "  - blah\n",
    "  - blan"
   ]
  },
  {
   "cell_type": "markdown",
   "id": "dab177d6-afe3-49a4-9d17-def66c4c57c7",
   "metadata": {
    "slideshow": {
     "slide_type": "skip"
    },
    "tags": []
   },
   "source": [
    "**NOTE:**"
   ]
  },
  {
   "cell_type": "markdown",
   "id": "62b828c8-d73f-4ace-bb9c-2487371fe666",
   "metadata": {
    "slideshow": {
     "slide_type": "notes"
    },
    "tags": []
   },
   "source": []
  },
  {
   "cell_type": "markdown",
   "id": "f727a56f-dd88-484c-b341-899a2b1f535e",
   "metadata": {
    "slideshow": {
     "slide_type": "Skip"
    },
    "tags": []
   },
   "source": [
    "- - -"
   ]
  },
  {
   "cell_type": "markdown",
   "id": "66d03deb",
   "metadata": {
    "slideshow": {
     "slide_type": "slide"
    },
    "tags": []
   },
   "source": [
    "<img src=\"../from-google-slides/MM01/MM-01.007.png\">"
   ]
  },
  {
   "cell_type": "markdown",
   "id": "ac582185",
   "metadata": {
    "slideshow": {
     "slide_type": "skip"
    },
    "tags": []
   },
   "source": [
    "**NOTE:**"
   ]
  },
  {
   "cell_type": "markdown",
   "id": "4dd85e36",
   "metadata": {
    "slideshow": {
     "slide_type": "notes"
    },
    "tags": []
   },
   "source": []
  },
  {
   "cell_type": "markdown",
   "id": "3ab37a16",
   "metadata": {
    "slideshow": {
     "slide_type": "Skip"
    },
    "tags": []
   },
   "source": [
    "- - -"
   ]
  },
  {
   "cell_type": "markdown",
   "id": "076ea979",
   "metadata": {
    "slideshow": {
     "slide_type": "slide"
    },
    "tags": []
   },
   "source": [
    "<img src=\"../from-google-slides/MM01/MM-01.008.png\">"
   ]
  },
  {
   "cell_type": "markdown",
   "id": "bab5c24f",
   "metadata": {
    "slideshow": {
     "slide_type": "skip"
    },
    "tags": []
   },
   "source": [
    "**NOTE:**"
   ]
  },
  {
   "cell_type": "markdown",
   "id": "393a8537",
   "metadata": {
    "slideshow": {
     "slide_type": "notes"
    },
    "tags": []
   },
   "source": []
  },
  {
   "cell_type": "markdown",
   "id": "1a845be4",
   "metadata": {
    "slideshow": {
     "slide_type": "Skip"
    },
    "tags": []
   },
   "source": [
    "- - -"
   ]
  },
  {
   "cell_type": "markdown",
   "id": "c1325ec3",
   "metadata": {
    "slideshow": {
     "slide_type": "slide"
    },
    "tags": []
   },
   "source": [
    "<img src=\"../from-google-slides/MM01/MM-01.009.png\">"
   ]
  },
  {
   "cell_type": "markdown",
   "id": "ef87c41e",
   "metadata": {
    "slideshow": {
     "slide_type": "skip"
    },
    "tags": []
   },
   "source": [
    "**NOTE:**"
   ]
  },
  {
   "cell_type": "markdown",
   "id": "2fa79143",
   "metadata": {
    "slideshow": {
     "slide_type": "notes"
    },
    "tags": []
   },
   "source": []
  },
  {
   "cell_type": "markdown",
   "id": "df48f739",
   "metadata": {
    "slideshow": {
     "slide_type": "Skip"
    },
    "tags": []
   },
   "source": [
    "- - -"
   ]
  },
  {
   "cell_type": "markdown",
   "id": "cd535efc",
   "metadata": {
    "slideshow": {
     "slide_type": "slide"
    },
    "tags": []
   },
   "source": [
    "<img src=\"../from-google-slides/MM01/MM-01.010.png\">"
   ]
  },
  {
   "cell_type": "markdown",
   "id": "8eee0ce2",
   "metadata": {
    "slideshow": {
     "slide_type": "skip"
    },
    "tags": []
   },
   "source": [
    "**NOTE:**"
   ]
  },
  {
   "cell_type": "markdown",
   "id": "8e939a8e",
   "metadata": {
    "slideshow": {
     "slide_type": "notes"
    },
    "tags": []
   },
   "source": []
  },
  {
   "cell_type": "markdown",
   "id": "71f44322",
   "metadata": {
    "slideshow": {
     "slide_type": "Skip"
    },
    "tags": []
   },
   "source": [
    "- - -"
   ]
  },
  {
   "cell_type": "markdown",
   "id": "466cacf3",
   "metadata": {
    "slideshow": {
     "slide_type": "slide"
    },
    "tags": []
   },
   "source": [
    "<img src=\"../from-google-slides/MM01/MM-01.011.png\">"
   ]
  },
  {
   "cell_type": "markdown",
   "id": "e4cfe883",
   "metadata": {
    "slideshow": {
     "slide_type": "skip"
    },
    "tags": []
   },
   "source": [
    "**NOTE:**"
   ]
  },
  {
   "cell_type": "markdown",
   "id": "5c261454",
   "metadata": {
    "slideshow": {
     "slide_type": "notes"
    },
    "tags": []
   },
   "source": []
  },
  {
   "cell_type": "markdown",
   "id": "624502ea",
   "metadata": {
    "slideshow": {
     "slide_type": "Skip"
    },
    "tags": []
   },
   "source": [
    "- - -"
   ]
  },
  {
   "cell_type": "markdown",
   "id": "a62d69d6",
   "metadata": {
    "slideshow": {
     "slide_type": "slide"
    },
    "tags": []
   },
   "source": [
    "<img src=\"../from-google-slides/MM01/MM-01.012.png\">"
   ]
  },
  {
   "cell_type": "markdown",
   "id": "67a59bb4",
   "metadata": {
    "slideshow": {
     "slide_type": "skip"
    },
    "tags": []
   },
   "source": [
    "**NOTE:**"
   ]
  },
  {
   "cell_type": "markdown",
   "id": "51f4689d",
   "metadata": {
    "slideshow": {
     "slide_type": "notes"
    },
    "tags": []
   },
   "source": []
  },
  {
   "cell_type": "markdown",
   "id": "05ec4448",
   "metadata": {
    "slideshow": {
     "slide_type": "Skip"
    },
    "tags": []
   },
   "source": [
    "- - -"
   ]
  },
  {
   "cell_type": "markdown",
   "id": "34fab8df",
   "metadata": {
    "slideshow": {
     "slide_type": "slide"
    },
    "tags": []
   },
   "source": [
    "<img src=\"../from-google-slides/MM01/MM-01.013.png\">"
   ]
  },
  {
   "cell_type": "markdown",
   "id": "77797361",
   "metadata": {
    "slideshow": {
     "slide_type": "skip"
    },
    "tags": []
   },
   "source": [
    "**NOTE:**"
   ]
  },
  {
   "cell_type": "markdown",
   "id": "70475b60",
   "metadata": {
    "slideshow": {
     "slide_type": "notes"
    },
    "tags": []
   },
   "source": []
  },
  {
   "cell_type": "markdown",
   "id": "e2282587",
   "metadata": {
    "slideshow": {
     "slide_type": "Skip"
    },
    "tags": []
   },
   "source": [
    "- - -"
   ]
  },
  {
   "cell_type": "markdown",
   "id": "003a4dce",
   "metadata": {
    "slideshow": {
     "slide_type": "slide"
    },
    "tags": []
   },
   "source": [
    "<img src=\"../from-google-slides/MM01/MM-01.014.png\">"
   ]
  },
  {
   "cell_type": "markdown",
   "id": "281deaf7",
   "metadata": {
    "slideshow": {
     "slide_type": "skip"
    },
    "tags": []
   },
   "source": [
    "**NOTE:**"
   ]
  },
  {
   "cell_type": "markdown",
   "id": "8a105d3f",
   "metadata": {
    "slideshow": {
     "slide_type": "notes"
    },
    "tags": []
   },
   "source": []
  },
  {
   "cell_type": "markdown",
   "id": "4e27025e",
   "metadata": {
    "slideshow": {
     "slide_type": "Skip"
    },
    "tags": []
   },
   "source": [
    "- - -"
   ]
  },
  {
   "cell_type": "markdown",
   "id": "c47f13f3",
   "metadata": {
    "slideshow": {
     "slide_type": "slide"
    },
    "tags": []
   },
   "source": [
    "<img src=\"../from-google-slides/MM01/MM-01.015.png\">"
   ]
  },
  {
   "cell_type": "markdown",
   "id": "28f459f7",
   "metadata": {
    "slideshow": {
     "slide_type": "skip"
    },
    "tags": []
   },
   "source": [
    "**NOTE:**"
   ]
  },
  {
   "cell_type": "markdown",
   "id": "24f39260",
   "metadata": {
    "slideshow": {
     "slide_type": "notes"
    },
    "tags": []
   },
   "source": []
  },
  {
   "cell_type": "markdown",
   "id": "2a0f74dc",
   "metadata": {
    "slideshow": {
     "slide_type": "Skip"
    },
    "tags": []
   },
   "source": [
    "- - -"
   ]
  },
  {
   "cell_type": "markdown",
   "id": "d0c24824",
   "metadata": {
    "slideshow": {
     "slide_type": "slide"
    },
    "tags": []
   },
   "source": [
    "<img src=\"../from-google-slides/MM01/MM-01.016.png\">"
   ]
  },
  {
   "cell_type": "markdown",
   "id": "2257c189",
   "metadata": {
    "slideshow": {
     "slide_type": "skip"
    },
    "tags": []
   },
   "source": [
    "**NOTE:**"
   ]
  },
  {
   "cell_type": "markdown",
   "id": "3d422df2",
   "metadata": {
    "slideshow": {
     "slide_type": "notes"
    },
    "tags": []
   },
   "source": []
  },
  {
   "cell_type": "markdown",
   "id": "74f836a5",
   "metadata": {
    "slideshow": {
     "slide_type": "Skip"
    },
    "tags": []
   },
   "source": [
    "- - -"
   ]
  },
  {
   "cell_type": "markdown",
   "id": "dfe28d21",
   "metadata": {
    "slideshow": {
     "slide_type": "slide"
    },
    "tags": []
   },
   "source": [
    "<img src=\"../from-google-slides/MM01/MM-01.017.png\">"
   ]
  },
  {
   "cell_type": "markdown",
   "id": "f946637c",
   "metadata": {
    "slideshow": {
     "slide_type": "skip"
    },
    "tags": []
   },
   "source": [
    "**NOTE:**"
   ]
  },
  {
   "cell_type": "markdown",
   "id": "de72e380",
   "metadata": {
    "slideshow": {
     "slide_type": "notes"
    },
    "tags": []
   },
   "source": []
  },
  {
   "cell_type": "markdown",
   "id": "5efd86e5",
   "metadata": {
    "slideshow": {
     "slide_type": "Skip"
    },
    "tags": []
   },
   "source": [
    "- - -"
   ]
  },
  {
   "cell_type": "markdown",
   "id": "a281470e",
   "metadata": {
    "slideshow": {
     "slide_type": "slide"
    },
    "tags": []
   },
   "source": [
    "<img src=\"../from-google-slides/MM01/MM-01.018.png\">"
   ]
  },
  {
   "cell_type": "markdown",
   "id": "c536d81e",
   "metadata": {
    "slideshow": {
     "slide_type": "skip"
    },
    "tags": []
   },
   "source": [
    "**NOTE:**"
   ]
  },
  {
   "cell_type": "markdown",
   "id": "ec0cb132",
   "metadata": {
    "slideshow": {
     "slide_type": "notes"
    },
    "tags": []
   },
   "source": []
  },
  {
   "cell_type": "markdown",
   "id": "edbe73a2",
   "metadata": {
    "slideshow": {
     "slide_type": "Skip"
    },
    "tags": []
   },
   "source": [
    "- - -"
   ]
  },
  {
   "cell_type": "markdown",
   "id": "342b6b2c",
   "metadata": {
    "slideshow": {
     "slide_type": "slide"
    },
    "tags": []
   },
   "source": [
    "<img src=\"../from-google-slides/MM01/MM-01.019.png\">"
   ]
  },
  {
   "cell_type": "markdown",
   "id": "5847c794",
   "metadata": {
    "slideshow": {
     "slide_type": "skip"
    },
    "tags": []
   },
   "source": [
    "**NOTE:**"
   ]
  },
  {
   "cell_type": "markdown",
   "id": "6c920e9c",
   "metadata": {
    "slideshow": {
     "slide_type": "notes"
    },
    "tags": []
   },
   "source": []
  },
  {
   "cell_type": "markdown",
   "id": "d7e4daeb",
   "metadata": {
    "slideshow": {
     "slide_type": "Skip"
    },
    "tags": []
   },
   "source": [
    "- - -"
   ]
  },
  {
   "cell_type": "markdown",
   "id": "c4d7000d",
   "metadata": {
    "slideshow": {
     "slide_type": "slide"
    },
    "tags": []
   },
   "source": [
    "<img src=\"../from-google-slides/MM01/MM-01.020.png\">"
   ]
  },
  {
   "cell_type": "markdown",
   "id": "65834934",
   "metadata": {
    "slideshow": {
     "slide_type": "skip"
    },
    "tags": []
   },
   "source": [
    "**NOTE:**"
   ]
  },
  {
   "cell_type": "markdown",
   "id": "e909188f",
   "metadata": {
    "slideshow": {
     "slide_type": "notes"
    },
    "tags": []
   },
   "source": []
  },
  {
   "cell_type": "markdown",
   "id": "fb4ed819",
   "metadata": {
    "slideshow": {
     "slide_type": "Skip"
    },
    "tags": []
   },
   "source": [
    "- - -"
   ]
  },
  {
   "cell_type": "markdown",
   "id": "84ebcfb5",
   "metadata": {
    "slideshow": {
     "slide_type": "slide"
    },
    "tags": []
   },
   "source": [
    "<img src=\"../from-google-slides/MM01/MM-01.021.png\">"
   ]
  },
  {
   "cell_type": "markdown",
   "id": "20ecba81",
   "metadata": {
    "slideshow": {
     "slide_type": "skip"
    },
    "tags": []
   },
   "source": [
    "**NOTE:**"
   ]
  },
  {
   "cell_type": "markdown",
   "id": "ba9454b9",
   "metadata": {
    "slideshow": {
     "slide_type": "notes"
    },
    "tags": []
   },
   "source": []
  },
  {
   "cell_type": "markdown",
   "id": "782586b7",
   "metadata": {
    "slideshow": {
     "slide_type": "Skip"
    },
    "tags": []
   },
   "source": [
    "- - -"
   ]
  },
  {
   "cell_type": "markdown",
   "id": "f9ce6e8c",
   "metadata": {
    "slideshow": {
     "slide_type": "slide"
    },
    "tags": []
   },
   "source": [
    "<img src=\"../from-google-slides/MM01/MM-01.022.png\">"
   ]
  },
  {
   "cell_type": "markdown",
   "id": "50a59cf3",
   "metadata": {
    "slideshow": {
     "slide_type": "skip"
    },
    "tags": []
   },
   "source": [
    "**NOTE:**"
   ]
  },
  {
   "cell_type": "markdown",
   "id": "875da409",
   "metadata": {
    "slideshow": {
     "slide_type": "notes"
    },
    "tags": []
   },
   "source": []
  },
  {
   "cell_type": "markdown",
   "id": "5a2cc27e",
   "metadata": {
    "slideshow": {
     "slide_type": "Skip"
    },
    "tags": []
   },
   "source": [
    "- - -"
   ]
  },
  {
   "cell_type": "markdown",
   "id": "3f550c18",
   "metadata": {
    "slideshow": {
     "slide_type": "slide"
    },
    "tags": []
   },
   "source": [
    "<img src=\"../from-google-slides/MM01/MM-01.023.png\">"
   ]
  },
  {
   "cell_type": "markdown",
   "id": "466e245b",
   "metadata": {
    "slideshow": {
     "slide_type": "skip"
    },
    "tags": []
   },
   "source": [
    "**NOTE:**"
   ]
  },
  {
   "cell_type": "markdown",
   "id": "6622c4c5",
   "metadata": {
    "slideshow": {
     "slide_type": "notes"
    },
    "tags": []
   },
   "source": []
  },
  {
   "cell_type": "markdown",
   "id": "4f2ce1f1",
   "metadata": {
    "slideshow": {
     "slide_type": "Skip"
    },
    "tags": []
   },
   "source": [
    "- - -"
   ]
  },
  {
   "cell_type": "markdown",
   "id": "9070c7cf",
   "metadata": {
    "slideshow": {
     "slide_type": "slide"
    },
    "tags": []
   },
   "source": [
    "<img src=\"../from-google-slides/MM01/MM-01.024.png\">"
   ]
  },
  {
   "cell_type": "markdown",
   "id": "fcf02c1b",
   "metadata": {
    "slideshow": {
     "slide_type": "skip"
    },
    "tags": []
   },
   "source": [
    "**NOTE:**"
   ]
  },
  {
   "cell_type": "markdown",
   "id": "6e109ead",
   "metadata": {
    "slideshow": {
     "slide_type": "notes"
    },
    "tags": []
   },
   "source": []
  },
  {
   "cell_type": "markdown",
   "id": "63410558",
   "metadata": {
    "slideshow": {
     "slide_type": "Skip"
    },
    "tags": []
   },
   "source": [
    "- - -"
   ]
  },
  {
   "cell_type": "markdown",
   "id": "a65566db",
   "metadata": {
    "slideshow": {
     "slide_type": "slide"
    },
    "tags": []
   },
   "source": [
    "<img src=\"../from-google-slides/MM01/MM-01.025.png\">"
   ]
  },
  {
   "cell_type": "markdown",
   "id": "f4e2b0ae",
   "metadata": {
    "slideshow": {
     "slide_type": "skip"
    },
    "tags": []
   },
   "source": [
    "**NOTE:**"
   ]
  },
  {
   "cell_type": "markdown",
   "id": "6d26a0e7",
   "metadata": {
    "slideshow": {
     "slide_type": "notes"
    },
    "tags": []
   },
   "source": []
  },
  {
   "cell_type": "markdown",
   "id": "0838f7a2",
   "metadata": {
    "slideshow": {
     "slide_type": "Skip"
    },
    "tags": []
   },
   "source": [
    "- - -"
   ]
  },
  {
   "cell_type": "markdown",
   "id": "f4dba428",
   "metadata": {
    "slideshow": {
     "slide_type": "slide"
    },
    "tags": []
   },
   "source": [
    "<img src=\"../from-google-slides/MM01/MM-01.026.png\">"
   ]
  },
  {
   "cell_type": "markdown",
   "id": "9ed59f6c",
   "metadata": {
    "slideshow": {
     "slide_type": "skip"
    },
    "tags": []
   },
   "source": [
    "**NOTE:**"
   ]
  },
  {
   "cell_type": "markdown",
   "id": "39bbeadb",
   "metadata": {
    "slideshow": {
     "slide_type": "notes"
    },
    "tags": []
   },
   "source": []
  },
  {
   "cell_type": "markdown",
   "id": "1d7de444",
   "metadata": {
    "slideshow": {
     "slide_type": "Skip"
    },
    "tags": []
   },
   "source": [
    "- - -"
   ]
  },
  {
   "cell_type": "markdown",
   "id": "3fa19993",
   "metadata": {
    "slideshow": {
     "slide_type": "slide"
    },
    "tags": []
   },
   "source": [
    "<img src=\"../from-google-slides/MM01/MM-01.027.png\">"
   ]
  },
  {
   "cell_type": "markdown",
   "id": "5f99bcec",
   "metadata": {
    "slideshow": {
     "slide_type": "skip"
    },
    "tags": []
   },
   "source": [
    "**NOTE:**"
   ]
  },
  {
   "cell_type": "markdown",
   "id": "090ce83d",
   "metadata": {
    "slideshow": {
     "slide_type": "notes"
    },
    "tags": []
   },
   "source": []
  },
  {
   "cell_type": "markdown",
   "id": "3cabd1c2",
   "metadata": {
    "slideshow": {
     "slide_type": "Skip"
    },
    "tags": []
   },
   "source": [
    "- - -"
   ]
  },
  {
   "cell_type": "markdown",
   "id": "47e2b7f1",
   "metadata": {
    "slideshow": {
     "slide_type": "slide"
    },
    "tags": []
   },
   "source": [
    "<img src=\"../from-google-slides/MM01/MM-01.028.png\">"
   ]
  },
  {
   "cell_type": "markdown",
   "id": "a0446ace",
   "metadata": {
    "slideshow": {
     "slide_type": "skip"
    },
    "tags": []
   },
   "source": [
    "**NOTE:**"
   ]
  },
  {
   "cell_type": "markdown",
   "id": "b46c05a2",
   "metadata": {
    "slideshow": {
     "slide_type": "notes"
    },
    "tags": []
   },
   "source": []
  },
  {
   "cell_type": "markdown",
   "id": "efa311d9",
   "metadata": {
    "slideshow": {
     "slide_type": "Skip"
    },
    "tags": []
   },
   "source": [
    "- - -"
   ]
  },
  {
   "cell_type": "markdown",
   "id": "66b18df3",
   "metadata": {
    "slideshow": {
     "slide_type": "slide"
    },
    "tags": []
   },
   "source": [
    "<img src=\"../from-google-slides/MM01/MM-01.029.png\">"
   ]
  },
  {
   "cell_type": "markdown",
   "id": "1ed28bd9",
   "metadata": {
    "slideshow": {
     "slide_type": "skip"
    },
    "tags": []
   },
   "source": [
    "**NOTE:**"
   ]
  },
  {
   "cell_type": "markdown",
   "id": "763b4afc",
   "metadata": {
    "slideshow": {
     "slide_type": "notes"
    },
    "tags": []
   },
   "source": []
  },
  {
   "cell_type": "markdown",
   "id": "543e6e53",
   "metadata": {
    "slideshow": {
     "slide_type": "Skip"
    },
    "tags": []
   },
   "source": [
    "- - -"
   ]
  },
  {
   "cell_type": "markdown",
   "id": "55664eca",
   "metadata": {
    "slideshow": {
     "slide_type": "slide"
    },
    "tags": []
   },
   "source": [
    "<img src=\"../from-google-slides/MM01/MM-01.030.png\">"
   ]
  },
  {
   "cell_type": "markdown",
   "id": "fe7e3055",
   "metadata": {
    "slideshow": {
     "slide_type": "skip"
    },
    "tags": []
   },
   "source": [
    "**NOTE:**"
   ]
  },
  {
   "cell_type": "markdown",
   "id": "0113e681",
   "metadata": {
    "slideshow": {
     "slide_type": "notes"
    },
    "tags": []
   },
   "source": []
  },
  {
   "cell_type": "markdown",
   "id": "437f49b1",
   "metadata": {
    "slideshow": {
     "slide_type": "Skip"
    },
    "tags": []
   },
   "source": [
    "- - -"
   ]
  },
  {
   "cell_type": "markdown",
   "id": "f12ac512",
   "metadata": {
    "slideshow": {
     "slide_type": "slide"
    },
    "tags": []
   },
   "source": [
    "<img src=\"../from-google-slides/MM01/MM-01.031.png\">"
   ]
  },
  {
   "cell_type": "markdown",
   "id": "f727b7b9",
   "metadata": {
    "slideshow": {
     "slide_type": "skip"
    },
    "tags": []
   },
   "source": [
    "**NOTE:**"
   ]
  },
  {
   "cell_type": "markdown",
   "id": "7e9ce34c",
   "metadata": {
    "slideshow": {
     "slide_type": "notes"
    },
    "tags": []
   },
   "source": []
  },
  {
   "cell_type": "markdown",
   "id": "9e7686a4",
   "metadata": {
    "slideshow": {
     "slide_type": "Skip"
    },
    "tags": []
   },
   "source": [
    "- - -"
   ]
  },
  {
   "cell_type": "markdown",
   "id": "1f0200a9",
   "metadata": {
    "slideshow": {
     "slide_type": "slide"
    },
    "tags": []
   },
   "source": [
    "<img src=\"../from-google-slides/MM01/MM-01.032.png\">"
   ]
  },
  {
   "cell_type": "markdown",
   "id": "a348fb79",
   "metadata": {
    "slideshow": {
     "slide_type": "skip"
    },
    "tags": []
   },
   "source": [
    "**NOTE:**"
   ]
  },
  {
   "cell_type": "markdown",
   "id": "a92258f0",
   "metadata": {
    "slideshow": {
     "slide_type": "notes"
    },
    "tags": []
   },
   "source": []
  },
  {
   "cell_type": "markdown",
   "id": "c57091c6",
   "metadata": {
    "slideshow": {
     "slide_type": "Skip"
    },
    "tags": []
   },
   "source": [
    "- - -"
   ]
  },
  {
   "cell_type": "markdown",
   "id": "2a546927",
   "metadata": {
    "slideshow": {
     "slide_type": "slide"
    },
    "tags": []
   },
   "source": [
    "<img src=\"../from-google-slides/MM01/MM-01.033.png\">"
   ]
  },
  {
   "cell_type": "markdown",
   "id": "5628ccb8",
   "metadata": {
    "slideshow": {
     "slide_type": "skip"
    },
    "tags": []
   },
   "source": [
    "**NOTE:**"
   ]
  },
  {
   "cell_type": "markdown",
   "id": "bacc096b",
   "metadata": {
    "slideshow": {
     "slide_type": "notes"
    },
    "tags": []
   },
   "source": []
  },
  {
   "cell_type": "markdown",
   "id": "998702b7",
   "metadata": {
    "slideshow": {
     "slide_type": "Skip"
    },
    "tags": []
   },
   "source": [
    "- - -"
   ]
  },
  {
   "cell_type": "markdown",
   "id": "9db4b5da",
   "metadata": {
    "slideshow": {
     "slide_type": "slide"
    },
    "tags": []
   },
   "source": [
    "<img src=\"../from-google-slides/MM01/MM-01.034.png\">"
   ]
  },
  {
   "cell_type": "markdown",
   "id": "367855b2",
   "metadata": {
    "slideshow": {
     "slide_type": "skip"
    },
    "tags": []
   },
   "source": [
    "**NOTE:**"
   ]
  },
  {
   "cell_type": "markdown",
   "id": "54d5d389",
   "metadata": {
    "slideshow": {
     "slide_type": "notes"
    },
    "tags": []
   },
   "source": []
  },
  {
   "cell_type": "markdown",
   "id": "102f54a5",
   "metadata": {
    "slideshow": {
     "slide_type": "Skip"
    },
    "tags": []
   },
   "source": [
    "- - -"
   ]
  },
  {
   "cell_type": "markdown",
   "id": "d58ed4d9",
   "metadata": {
    "slideshow": {
     "slide_type": "slide"
    },
    "tags": []
   },
   "source": [
    "<img src=\"../from-google-slides/MM01/MM-01.035.png\">"
   ]
  },
  {
   "cell_type": "markdown",
   "id": "daf96df5",
   "metadata": {
    "slideshow": {
     "slide_type": "skip"
    },
    "tags": []
   },
   "source": [
    "**NOTE:**"
   ]
  },
  {
   "cell_type": "markdown",
   "id": "c463ca6e",
   "metadata": {
    "slideshow": {
     "slide_type": "notes"
    },
    "tags": []
   },
   "source": []
  },
  {
   "cell_type": "markdown",
   "id": "4fe2396f",
   "metadata": {
    "slideshow": {
     "slide_type": "Skip"
    },
    "tags": []
   },
   "source": [
    "- - -"
   ]
  },
  {
   "cell_type": "markdown",
   "id": "3db783c7",
   "metadata": {
    "slideshow": {
     "slide_type": "slide"
    },
    "tags": []
   },
   "source": [
    "<img src=\"../from-google-slides/MM01/MM-01.036.png\">"
   ]
  },
  {
   "cell_type": "markdown",
   "id": "23844ba5",
   "metadata": {
    "slideshow": {
     "slide_type": "skip"
    },
    "tags": []
   },
   "source": [
    "**NOTE:**"
   ]
  },
  {
   "cell_type": "markdown",
   "id": "ddba98f8",
   "metadata": {
    "slideshow": {
     "slide_type": "notes"
    },
    "tags": []
   },
   "source": []
  },
  {
   "cell_type": "markdown",
   "id": "56bd5044",
   "metadata": {
    "slideshow": {
     "slide_type": "Skip"
    },
    "tags": []
   },
   "source": [
    "- - -"
   ]
  },
  {
   "cell_type": "markdown",
   "id": "0c8727d2",
   "metadata": {
    "slideshow": {
     "slide_type": "slide"
    },
    "tags": []
   },
   "source": [
    "<img src=\"../from-google-slides/MM01/MM-01.037.png\">"
   ]
  },
  {
   "cell_type": "markdown",
   "id": "b261df56",
   "metadata": {
    "slideshow": {
     "slide_type": "skip"
    },
    "tags": []
   },
   "source": [
    "**NOTE:**"
   ]
  },
  {
   "cell_type": "markdown",
   "id": "f654f999",
   "metadata": {
    "slideshow": {
     "slide_type": "notes"
    },
    "tags": []
   },
   "source": []
  },
  {
   "cell_type": "markdown",
   "id": "1dec4d32",
   "metadata": {
    "slideshow": {
     "slide_type": "Skip"
    },
    "tags": []
   },
   "source": [
    "- - -"
   ]
  },
  {
   "cell_type": "markdown",
   "id": "a1653f8f",
   "metadata": {
    "slideshow": {
     "slide_type": "slide"
    },
    "tags": []
   },
   "source": [
    "<img src=\"../from-google-slides/MM01/MM-01.038.png\">"
   ]
  },
  {
   "cell_type": "markdown",
   "id": "bab64cc7",
   "metadata": {
    "slideshow": {
     "slide_type": "skip"
    },
    "tags": []
   },
   "source": [
    "**NOTE:**"
   ]
  },
  {
   "cell_type": "markdown",
   "id": "f9d5a14d",
   "metadata": {
    "slideshow": {
     "slide_type": "notes"
    },
    "tags": []
   },
   "source": []
  },
  {
   "cell_type": "markdown",
   "id": "179b2944",
   "metadata": {
    "slideshow": {
     "slide_type": "Skip"
    },
    "tags": []
   },
   "source": [
    "- - -"
   ]
  },
  {
   "cell_type": "markdown",
   "id": "e2e9aab6",
   "metadata": {
    "slideshow": {
     "slide_type": "slide"
    },
    "tags": []
   },
   "source": [
    "<img src=\"../from-google-slides/MM01/MM-01.039.png\">"
   ]
  },
  {
   "cell_type": "markdown",
   "id": "3e72b0d2",
   "metadata": {
    "slideshow": {
     "slide_type": "skip"
    },
    "tags": []
   },
   "source": [
    "**NOTE:**"
   ]
  },
  {
   "cell_type": "markdown",
   "id": "cc9e18c6",
   "metadata": {
    "slideshow": {
     "slide_type": "notes"
    },
    "tags": []
   },
   "source": []
  },
  {
   "cell_type": "markdown",
   "id": "2847c860",
   "metadata": {
    "slideshow": {
     "slide_type": "Skip"
    },
    "tags": []
   },
   "source": [
    "- - -"
   ]
  },
  {
   "cell_type": "markdown",
   "id": "a0615f45",
   "metadata": {
    "slideshow": {
     "slide_type": "slide"
    },
    "tags": []
   },
   "source": [
    "<img src=\"../from-google-slides/MM01/MM-01.040.png\">"
   ]
  },
  {
   "cell_type": "markdown",
   "id": "7b56d871",
   "metadata": {
    "slideshow": {
     "slide_type": "skip"
    },
    "tags": []
   },
   "source": [
    "**NOTE:**"
   ]
  },
  {
   "cell_type": "markdown",
   "id": "00b5c87a",
   "metadata": {
    "slideshow": {
     "slide_type": "notes"
    },
    "tags": []
   },
   "source": []
  },
  {
   "cell_type": "markdown",
   "id": "28190b67",
   "metadata": {
    "slideshow": {
     "slide_type": "Skip"
    },
    "tags": []
   },
   "source": [
    "- - -"
   ]
  },
  {
   "cell_type": "markdown",
   "id": "ba3124e7",
   "metadata": {
    "slideshow": {
     "slide_type": "slide"
    },
    "tags": []
   },
   "source": [
    "<img src=\"../from-google-slides/MM01/MM-01.041.png\">"
   ]
  },
  {
   "cell_type": "markdown",
   "id": "6ef32ab4",
   "metadata": {
    "slideshow": {
     "slide_type": "skip"
    },
    "tags": []
   },
   "source": [
    "**NOTE:**"
   ]
  },
  {
   "cell_type": "markdown",
   "id": "bf4d14a3",
   "metadata": {
    "slideshow": {
     "slide_type": "notes"
    },
    "tags": []
   },
   "source": []
  },
  {
   "cell_type": "markdown",
   "id": "ad933a6f",
   "metadata": {
    "slideshow": {
     "slide_type": "Skip"
    },
    "tags": []
   },
   "source": [
    "- - -"
   ]
  },
  {
   "cell_type": "markdown",
   "id": "5fc20fa2",
   "metadata": {
    "slideshow": {
     "slide_type": "slide"
    },
    "tags": []
   },
   "source": [
    "<img src=\"../from-google-slides/MM01/MM-01.042.png\">"
   ]
  },
  {
   "cell_type": "markdown",
   "id": "99f9f043",
   "metadata": {
    "slideshow": {
     "slide_type": "skip"
    },
    "tags": []
   },
   "source": [
    "**NOTE:**"
   ]
  },
  {
   "cell_type": "markdown",
   "id": "ff079dcb",
   "metadata": {
    "slideshow": {
     "slide_type": "notes"
    },
    "tags": []
   },
   "source": []
  },
  {
   "cell_type": "markdown",
   "id": "bceefe95",
   "metadata": {
    "slideshow": {
     "slide_type": "Skip"
    },
    "tags": []
   },
   "source": [
    "- - -"
   ]
  },
  {
   "cell_type": "markdown",
   "id": "7d25f338",
   "metadata": {
    "slideshow": {
     "slide_type": "slide"
    },
    "tags": []
   },
   "source": [
    "<img src=\"../from-google-slides/MM01/MM-01.043.png\">"
   ]
  },
  {
   "cell_type": "markdown",
   "id": "1bbe8815",
   "metadata": {
    "slideshow": {
     "slide_type": "skip"
    },
    "tags": []
   },
   "source": [
    "**NOTE:**"
   ]
  },
  {
   "cell_type": "markdown",
   "id": "471b4f34",
   "metadata": {
    "slideshow": {
     "slide_type": "notes"
    },
    "tags": []
   },
   "source": []
  },
  {
   "cell_type": "markdown",
   "id": "792f1d14",
   "metadata": {
    "slideshow": {
     "slide_type": "Skip"
    },
    "tags": []
   },
   "source": [
    "- - -"
   ]
  },
  {
   "cell_type": "markdown",
   "id": "3adfc6ca",
   "metadata": {
    "slideshow": {
     "slide_type": "slide"
    },
    "tags": []
   },
   "source": [
    "<img src=\"../from-google-slides/MM01/MM-01.044.png\">"
   ]
  },
  {
   "cell_type": "markdown",
   "id": "d36de406",
   "metadata": {
    "slideshow": {
     "slide_type": "skip"
    },
    "tags": []
   },
   "source": [
    "**NOTE:**"
   ]
  },
  {
   "cell_type": "markdown",
   "id": "c621cdfa",
   "metadata": {
    "slideshow": {
     "slide_type": "notes"
    },
    "tags": []
   },
   "source": []
  },
  {
   "cell_type": "markdown",
   "id": "3d890ef5",
   "metadata": {
    "slideshow": {
     "slide_type": "Skip"
    },
    "tags": []
   },
   "source": [
    "- - -"
   ]
  },
  {
   "cell_type": "markdown",
   "id": "99e0995b",
   "metadata": {
    "slideshow": {
     "slide_type": "slide"
    },
    "tags": []
   },
   "source": [
    "<img src=\"../from-google-slides/MM01/MM-01.045.png\">"
   ]
  },
  {
   "cell_type": "markdown",
   "id": "48058f10",
   "metadata": {
    "slideshow": {
     "slide_type": "skip"
    },
    "tags": []
   },
   "source": [
    "**NOTE:**"
   ]
  },
  {
   "cell_type": "markdown",
   "id": "b018868e",
   "metadata": {
    "slideshow": {
     "slide_type": "notes"
    },
    "tags": []
   },
   "source": []
  },
  {
   "cell_type": "markdown",
   "id": "bbb437a2",
   "metadata": {
    "slideshow": {
     "slide_type": "Skip"
    },
    "tags": []
   },
   "source": [
    "- - -"
   ]
  },
  {
   "cell_type": "markdown",
   "id": "9aab98cf",
   "metadata": {
    "slideshow": {
     "slide_type": "slide"
    },
    "tags": []
   },
   "source": [
    "<img src=\"../from-google-slides/MM01/MM-01.046.png\">"
   ]
  },
  {
   "cell_type": "markdown",
   "id": "42715c85",
   "metadata": {
    "slideshow": {
     "slide_type": "skip"
    },
    "tags": []
   },
   "source": [
    "**NOTE:**"
   ]
  },
  {
   "cell_type": "markdown",
   "id": "91bb92f5",
   "metadata": {
    "slideshow": {
     "slide_type": "notes"
    },
    "tags": []
   },
   "source": []
  },
  {
   "cell_type": "markdown",
   "id": "65f6e16a",
   "metadata": {
    "slideshow": {
     "slide_type": "Skip"
    },
    "tags": []
   },
   "source": [
    "- - -"
   ]
  },
  {
   "cell_type": "markdown",
   "id": "a00f24cd",
   "metadata": {
    "slideshow": {
     "slide_type": "slide"
    },
    "tags": []
   },
   "source": [
    "<img src=\"../from-google-slides/MM01/MM-01.047.png\">"
   ]
  },
  {
   "cell_type": "markdown",
   "id": "eca3490c",
   "metadata": {
    "slideshow": {
     "slide_type": "skip"
    },
    "tags": []
   },
   "source": [
    "**NOTE:**"
   ]
  },
  {
   "cell_type": "markdown",
   "id": "ba73822c",
   "metadata": {
    "slideshow": {
     "slide_type": "notes"
    },
    "tags": []
   },
   "source": []
  },
  {
   "cell_type": "markdown",
   "id": "47d02445",
   "metadata": {
    "slideshow": {
     "slide_type": "Skip"
    },
    "tags": []
   },
   "source": [
    "- - -"
   ]
  },
  {
   "cell_type": "markdown",
   "id": "a8a1d1fa",
   "metadata": {
    "slideshow": {
     "slide_type": "slide"
    },
    "tags": []
   },
   "source": [
    "<img src=\"../from-google-slides/MM01/MM-01.048.png\">"
   ]
  },
  {
   "cell_type": "markdown",
   "id": "c336de6c",
   "metadata": {
    "slideshow": {
     "slide_type": "skip"
    },
    "tags": []
   },
   "source": [
    "**NOTE:**"
   ]
  },
  {
   "cell_type": "markdown",
   "id": "8ec6de80",
   "metadata": {
    "slideshow": {
     "slide_type": "notes"
    },
    "tags": []
   },
   "source": []
  },
  {
   "cell_type": "markdown",
   "id": "a9523816",
   "metadata": {
    "slideshow": {
     "slide_type": "Skip"
    },
    "tags": []
   },
   "source": [
    "- - -"
   ]
  },
  {
   "cell_type": "markdown",
   "id": "a09d403a",
   "metadata": {
    "slideshow": {
     "slide_type": "slide"
    },
    "tags": []
   },
   "source": [
    "<img src=\"../from-google-slides/MM01/MM-01.049.png\">"
   ]
  },
  {
   "cell_type": "markdown",
   "id": "37baa91b",
   "metadata": {
    "slideshow": {
     "slide_type": "skip"
    },
    "tags": []
   },
   "source": [
    "**NOTE:**"
   ]
  },
  {
   "cell_type": "markdown",
   "id": "01bdba0b",
   "metadata": {
    "slideshow": {
     "slide_type": "notes"
    },
    "tags": []
   },
   "source": []
  },
  {
   "cell_type": "markdown",
   "id": "64c6074a",
   "metadata": {
    "slideshow": {
     "slide_type": "Skip"
    },
    "tags": []
   },
   "source": [
    "- - -"
   ]
  },
  {
   "cell_type": "markdown",
   "id": "8a2c25ff",
   "metadata": {
    "slideshow": {
     "slide_type": "slide"
    },
    "tags": []
   },
   "source": [
    "<img src=\"../from-google-slides/MM01/MM-01.050.png\">"
   ]
  },
  {
   "cell_type": "markdown",
   "id": "60395e15",
   "metadata": {
    "slideshow": {
     "slide_type": "skip"
    },
    "tags": []
   },
   "source": [
    "**NOTE:**"
   ]
  },
  {
   "cell_type": "markdown",
   "id": "686d4af7",
   "metadata": {
    "slideshow": {
     "slide_type": "notes"
    },
    "tags": []
   },
   "source": []
  },
  {
   "cell_type": "markdown",
   "id": "5484f1e7",
   "metadata": {
    "slideshow": {
     "slide_type": "Skip"
    },
    "tags": []
   },
   "source": [
    "- - -"
   ]
  },
  {
   "cell_type": "markdown",
   "id": "a6418898",
   "metadata": {
    "slideshow": {
     "slide_type": "slide"
    },
    "tags": []
   },
   "source": [
    "<img src=\"../from-google-slides/MM01/MM-01.051.png\">"
   ]
  },
  {
   "cell_type": "markdown",
   "id": "52ce38b7",
   "metadata": {
    "slideshow": {
     "slide_type": "skip"
    },
    "tags": []
   },
   "source": [
    "**NOTE:**"
   ]
  },
  {
   "cell_type": "markdown",
   "id": "3f7bf27e",
   "metadata": {
    "slideshow": {
     "slide_type": "notes"
    },
    "tags": []
   },
   "source": []
  },
  {
   "cell_type": "markdown",
   "id": "64060aa4",
   "metadata": {
    "slideshow": {
     "slide_type": "Skip"
    },
    "tags": []
   },
   "source": [
    "- - -"
   ]
  },
  {
   "cell_type": "markdown",
   "id": "71ff2beb",
   "metadata": {
    "slideshow": {
     "slide_type": "slide"
    },
    "tags": []
   },
   "source": [
    "<img src=\"../from-google-slides/MM01/MM-01.052.png\">"
   ]
  },
  {
   "cell_type": "markdown",
   "id": "66d44241",
   "metadata": {
    "slideshow": {
     "slide_type": "skip"
    },
    "tags": []
   },
   "source": [
    "**NOTE:**"
   ]
  },
  {
   "cell_type": "markdown",
   "id": "fd6594f0",
   "metadata": {
    "slideshow": {
     "slide_type": "notes"
    },
    "tags": []
   },
   "source": []
  },
  {
   "cell_type": "markdown",
   "id": "7984ac95",
   "metadata": {
    "slideshow": {
     "slide_type": "Skip"
    },
    "tags": []
   },
   "source": [
    "- - -"
   ]
  },
  {
   "cell_type": "markdown",
   "id": "30dcd149",
   "metadata": {
    "slideshow": {
     "slide_type": "slide"
    },
    "tags": []
   },
   "source": [
    "<img src=\"../from-google-slides/MM01/MM-01.053.png\">"
   ]
  },
  {
   "cell_type": "markdown",
   "id": "bb70a1a5",
   "metadata": {
    "slideshow": {
     "slide_type": "skip"
    },
    "tags": []
   },
   "source": [
    "**NOTE:**"
   ]
  },
  {
   "cell_type": "markdown",
   "id": "e1e0d507",
   "metadata": {
    "slideshow": {
     "slide_type": "notes"
    },
    "tags": []
   },
   "source": []
  },
  {
   "cell_type": "markdown",
   "id": "4091b629",
   "metadata": {
    "slideshow": {
     "slide_type": "Skip"
    },
    "tags": []
   },
   "source": [
    "- - -"
   ]
  },
  {
   "cell_type": "markdown",
   "id": "52e3e7b6",
   "metadata": {
    "slideshow": {
     "slide_type": "slide"
    },
    "tags": []
   },
   "source": [
    "<img src=\"../from-google-slides/MM01/MM-01.054.png\">"
   ]
  },
  {
   "cell_type": "markdown",
   "id": "ac04c77e",
   "metadata": {
    "slideshow": {
     "slide_type": "skip"
    },
    "tags": []
   },
   "source": [
    "**NOTE:**"
   ]
  },
  {
   "cell_type": "markdown",
   "id": "a68ecfd2",
   "metadata": {
    "slideshow": {
     "slide_type": "notes"
    },
    "tags": []
   },
   "source": []
  },
  {
   "cell_type": "markdown",
   "id": "045f0070",
   "metadata": {
    "slideshow": {
     "slide_type": "Skip"
    },
    "tags": []
   },
   "source": [
    "- - -"
   ]
  },
  {
   "cell_type": "markdown",
   "id": "aa4d870a",
   "metadata": {
    "slideshow": {
     "slide_type": "slide"
    },
    "tags": []
   },
   "source": [
    "<img src=\"../from-google-slides/MM01/MM-01.055.png\">"
   ]
  },
  {
   "cell_type": "markdown",
   "id": "7b6afbb0",
   "metadata": {
    "slideshow": {
     "slide_type": "skip"
    },
    "tags": []
   },
   "source": [
    "**NOTE:**"
   ]
  },
  {
   "cell_type": "markdown",
   "id": "7190fc21",
   "metadata": {
    "slideshow": {
     "slide_type": "notes"
    },
    "tags": []
   },
   "source": []
  },
  {
   "cell_type": "markdown",
   "id": "7bb8f362",
   "metadata": {
    "slideshow": {
     "slide_type": "Skip"
    },
    "tags": []
   },
   "source": [
    "- - -"
   ]
  },
  {
   "cell_type": "markdown",
   "id": "ddad0f05",
   "metadata": {
    "slideshow": {
     "slide_type": "slide"
    },
    "tags": []
   },
   "source": [
    "<img src=\"../from-google-slides/MM01/MM-01.056.png\">"
   ]
  },
  {
   "cell_type": "markdown",
   "id": "7ce1948f",
   "metadata": {
    "slideshow": {
     "slide_type": "skip"
    },
    "tags": []
   },
   "source": [
    "**NOTE:**"
   ]
  },
  {
   "cell_type": "markdown",
   "id": "ca59898d",
   "metadata": {
    "slideshow": {
     "slide_type": "notes"
    },
    "tags": []
   },
   "source": []
  },
  {
   "cell_type": "markdown",
   "id": "4734c36e",
   "metadata": {
    "slideshow": {
     "slide_type": "Skip"
    },
    "tags": []
   },
   "source": [
    "- - -"
   ]
  },
  {
   "cell_type": "markdown",
   "id": "4062fa21",
   "metadata": {
    "slideshow": {
     "slide_type": "slide"
    },
    "tags": []
   },
   "source": [
    "<img src=\"../from-google-slides/MM01/MM-01.057.png\">"
   ]
  },
  {
   "cell_type": "markdown",
   "id": "ae73f2cb",
   "metadata": {
    "slideshow": {
     "slide_type": "skip"
    },
    "tags": []
   },
   "source": [
    "**NOTE:**"
   ]
  },
  {
   "cell_type": "markdown",
   "id": "2bfb054e",
   "metadata": {
    "slideshow": {
     "slide_type": "notes"
    },
    "tags": []
   },
   "source": []
  },
  {
   "cell_type": "markdown",
   "id": "3e7311c2",
   "metadata": {
    "slideshow": {
     "slide_type": "Skip"
    },
    "tags": []
   },
   "source": [
    "- - -"
   ]
  },
  {
   "cell_type": "markdown",
   "id": "359e7782",
   "metadata": {
    "slideshow": {
     "slide_type": "slide"
    },
    "tags": []
   },
   "source": [
    "<img src=\"../from-google-slides/MM01/MM-01.058.png\">"
   ]
  },
  {
   "cell_type": "markdown",
   "id": "0883b910",
   "metadata": {
    "slideshow": {
     "slide_type": "skip"
    },
    "tags": []
   },
   "source": [
    "**NOTE:**"
   ]
  },
  {
   "cell_type": "markdown",
   "id": "82828df9",
   "metadata": {
    "slideshow": {
     "slide_type": "notes"
    },
    "tags": []
   },
   "source": []
  },
  {
   "cell_type": "markdown",
   "id": "4cd1b2e0",
   "metadata": {
    "slideshow": {
     "slide_type": "Skip"
    },
    "tags": []
   },
   "source": [
    "- - -"
   ]
  },
  {
   "cell_type": "markdown",
   "id": "807b2edb",
   "metadata": {
    "slideshow": {
     "slide_type": "slide"
    },
    "tags": []
   },
   "source": [
    "<img src=\"../from-google-slides/MM01/MM-01.059.png\">"
   ]
  },
  {
   "cell_type": "markdown",
   "id": "5e7ecd26",
   "metadata": {
    "slideshow": {
     "slide_type": "skip"
    },
    "tags": []
   },
   "source": [
    "**NOTE:**"
   ]
  },
  {
   "cell_type": "markdown",
   "id": "33baabaf",
   "metadata": {
    "slideshow": {
     "slide_type": "notes"
    },
    "tags": []
   },
   "source": []
  },
  {
   "cell_type": "markdown",
   "id": "75f1e2da",
   "metadata": {
    "slideshow": {
     "slide_type": "Skip"
    },
    "tags": []
   },
   "source": [
    "- - -"
   ]
  },
  {
   "cell_type": "markdown",
   "id": "1833da3a",
   "metadata": {
    "slideshow": {
     "slide_type": "slide"
    },
    "tags": []
   },
   "source": [
    "<img src=\"../from-google-slides/MM01/MM-01.060.png\">"
   ]
  },
  {
   "cell_type": "markdown",
   "id": "a76c7578",
   "metadata": {
    "slideshow": {
     "slide_type": "skip"
    },
    "tags": []
   },
   "source": [
    "**NOTE:**"
   ]
  },
  {
   "cell_type": "markdown",
   "id": "a3495daa",
   "metadata": {
    "slideshow": {
     "slide_type": "notes"
    },
    "tags": []
   },
   "source": []
  },
  {
   "cell_type": "markdown",
   "id": "3d6b1e9a",
   "metadata": {
    "slideshow": {
     "slide_type": "Skip"
    },
    "tags": []
   },
   "source": [
    "- - -"
   ]
  },
  {
   "cell_type": "markdown",
   "id": "9bab8937",
   "metadata": {
    "slideshow": {
     "slide_type": "slide"
    },
    "tags": []
   },
   "source": [
    "<img src=\"../from-google-slides/MM01/MM-01.061.png\">"
   ]
  },
  {
   "cell_type": "markdown",
   "id": "c2945441",
   "metadata": {
    "slideshow": {
     "slide_type": "skip"
    },
    "tags": []
   },
   "source": [
    "**NOTE:**"
   ]
  },
  {
   "cell_type": "markdown",
   "id": "2cdcd42a",
   "metadata": {
    "slideshow": {
     "slide_type": "notes"
    },
    "tags": []
   },
   "source": []
  },
  {
   "cell_type": "markdown",
   "id": "48b85249",
   "metadata": {
    "slideshow": {
     "slide_type": "Skip"
    },
    "tags": []
   },
   "source": [
    "- - -"
   ]
  },
  {
   "cell_type": "markdown",
   "id": "83664fa6",
   "metadata": {
    "slideshow": {
     "slide_type": "slide"
    },
    "tags": []
   },
   "source": [
    "<img src=\"../from-google-slides/MM01/MM-01.062.png\">"
   ]
  },
  {
   "cell_type": "markdown",
   "id": "ec5ea89f",
   "metadata": {
    "slideshow": {
     "slide_type": "skip"
    },
    "tags": []
   },
   "source": [
    "**NOTE:**"
   ]
  },
  {
   "cell_type": "markdown",
   "id": "43191a98",
   "metadata": {
    "slideshow": {
     "slide_type": "notes"
    },
    "tags": []
   },
   "source": []
  },
  {
   "cell_type": "markdown",
   "id": "12e4c608",
   "metadata": {
    "slideshow": {
     "slide_type": "Skip"
    },
    "tags": []
   },
   "source": [
    "- - -"
   ]
  },
  {
   "cell_type": "markdown",
   "id": "7119eca2",
   "metadata": {
    "slideshow": {
     "slide_type": "slide"
    },
    "tags": []
   },
   "source": [
    "<img src=\"../from-google-slides/MM01/MM-01.063.png\">"
   ]
  },
  {
   "cell_type": "markdown",
   "id": "390add49",
   "metadata": {
    "slideshow": {
     "slide_type": "skip"
    },
    "tags": []
   },
   "source": [
    "**NOTE:**"
   ]
  },
  {
   "cell_type": "markdown",
   "id": "025a2d4c",
   "metadata": {
    "slideshow": {
     "slide_type": "notes"
    },
    "tags": []
   },
   "source": []
  },
  {
   "cell_type": "markdown",
   "id": "d43fc026",
   "metadata": {
    "slideshow": {
     "slide_type": "Skip"
    },
    "tags": []
   },
   "source": [
    "- - -"
   ]
  },
  {
   "cell_type": "markdown",
   "id": "83d38dd9",
   "metadata": {
    "slideshow": {
     "slide_type": "slide"
    },
    "tags": []
   },
   "source": [
    "<img src=\"../from-google-slides/MM01/MM-01.064.png\">"
   ]
  },
  {
   "cell_type": "markdown",
   "id": "e0efe42c",
   "metadata": {
    "slideshow": {
     "slide_type": "skip"
    },
    "tags": []
   },
   "source": [
    "**NOTE:**"
   ]
  },
  {
   "cell_type": "markdown",
   "id": "a445b096",
   "metadata": {
    "slideshow": {
     "slide_type": "notes"
    },
    "tags": []
   },
   "source": []
  },
  {
   "cell_type": "markdown",
   "id": "e0d2ed03",
   "metadata": {
    "slideshow": {
     "slide_type": "Skip"
    },
    "tags": []
   },
   "source": [
    "- - -"
   ]
  },
  {
   "cell_type": "markdown",
   "id": "047499f5",
   "metadata": {
    "slideshow": {
     "slide_type": "slide"
    },
    "tags": []
   },
   "source": [
    "<img src=\"../from-google-slides/MM01/MM-01.065.png\">"
   ]
  },
  {
   "cell_type": "markdown",
   "id": "03c3c4b9",
   "metadata": {
    "slideshow": {
     "slide_type": "skip"
    },
    "tags": []
   },
   "source": [
    "**NOTE:**"
   ]
  },
  {
   "cell_type": "markdown",
   "id": "bd29a410",
   "metadata": {
    "slideshow": {
     "slide_type": "notes"
    },
    "tags": []
   },
   "source": []
  },
  {
   "cell_type": "markdown",
   "id": "5467f7d8",
   "metadata": {
    "slideshow": {
     "slide_type": "Skip"
    },
    "tags": []
   },
   "source": [
    "- - -"
   ]
  },
  {
   "cell_type": "markdown",
   "id": "13dbb65f",
   "metadata": {
    "slideshow": {
     "slide_type": "slide"
    },
    "tags": []
   },
   "source": [
    "<img src=\"../from-google-slides/MM01/MM-01.066.png\">"
   ]
  },
  {
   "cell_type": "markdown",
   "id": "202e48d1",
   "metadata": {
    "slideshow": {
     "slide_type": "skip"
    },
    "tags": []
   },
   "source": [
    "**NOTE:**"
   ]
  },
  {
   "cell_type": "markdown",
   "id": "3a387101",
   "metadata": {
    "slideshow": {
     "slide_type": "notes"
    },
    "tags": []
   },
   "source": []
  },
  {
   "cell_type": "markdown",
   "id": "96cd243d",
   "metadata": {
    "slideshow": {
     "slide_type": "Skip"
    },
    "tags": []
   },
   "source": [
    "- - -"
   ]
  },
  {
   "cell_type": "markdown",
   "id": "03a75af1",
   "metadata": {
    "slideshow": {
     "slide_type": "slide"
    },
    "tags": []
   },
   "source": [
    "<img src=\"../from-google-slides/MM01/MM-01.067.png\">"
   ]
  },
  {
   "cell_type": "markdown",
   "id": "c18a59aa",
   "metadata": {
    "slideshow": {
     "slide_type": "skip"
    },
    "tags": []
   },
   "source": [
    "**NOTE:**"
   ]
  },
  {
   "cell_type": "markdown",
   "id": "04753413",
   "metadata": {
    "slideshow": {
     "slide_type": "notes"
    },
    "tags": []
   },
   "source": []
  },
  {
   "cell_type": "markdown",
   "id": "27f4d664",
   "metadata": {
    "slideshow": {
     "slide_type": "Skip"
    },
    "tags": []
   },
   "source": [
    "- - -"
   ]
  },
  {
   "cell_type": "markdown",
   "id": "2c6dcf04",
   "metadata": {
    "slideshow": {
     "slide_type": "slide"
    },
    "tags": []
   },
   "source": [
    "<img src=\"../from-google-slides/MM01/MM-01.068.png\">"
   ]
  },
  {
   "cell_type": "markdown",
   "id": "ad5fe548",
   "metadata": {
    "slideshow": {
     "slide_type": "skip"
    },
    "tags": []
   },
   "source": [
    "**NOTE:**"
   ]
  },
  {
   "cell_type": "markdown",
   "id": "86a3114d",
   "metadata": {
    "slideshow": {
     "slide_type": "notes"
    },
    "tags": []
   },
   "source": []
  },
  {
   "cell_type": "markdown",
   "id": "a68b5c39",
   "metadata": {
    "slideshow": {
     "slide_type": "Skip"
    },
    "tags": []
   },
   "source": [
    "- - -"
   ]
  },
  {
   "cell_type": "markdown",
   "id": "f8ba96bf",
   "metadata": {
    "slideshow": {
     "slide_type": "slide"
    },
    "tags": []
   },
   "source": [
    "<img src=\"../from-google-slides/MM01/MM-01.069.png\">"
   ]
  },
  {
   "cell_type": "markdown",
   "id": "04e6ea85",
   "metadata": {
    "slideshow": {
     "slide_type": "skip"
    },
    "tags": []
   },
   "source": [
    "**NOTE:**"
   ]
  },
  {
   "cell_type": "markdown",
   "id": "2ae38ad8",
   "metadata": {
    "slideshow": {
     "slide_type": "notes"
    },
    "tags": []
   },
   "source": []
  },
  {
   "cell_type": "markdown",
   "id": "f82a0ce4",
   "metadata": {
    "slideshow": {
     "slide_type": "Skip"
    },
    "tags": []
   },
   "source": [
    "- - -"
   ]
  }
 ],
 "metadata": {
  "kernelspec": {
   "display_name": "Python 3 (ipykernel)",
   "language": "python",
   "name": "python3"
  },
  "language_info": {
   "codemirror_mode": {
    "name": "ipython",
    "version": 3
   },
   "file_extension": ".py",
   "mimetype": "text/x-python",
   "name": "python",
   "nbconvert_exporter": "python",
   "pygments_lexer": "ipython3",
   "version": "3.10.5"
  },
  "rise": {
   "autolaunch": false,
   "enable_chalkboard": true,
   "height": "100%",
   "scroll": true,
   "start_slideshow_at": "selected",
   "transition": "none",
   "width": "100%"
  }
 },
 "nbformat": 4,
 "nbformat_minor": 5
}
