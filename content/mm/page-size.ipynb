{
 "cells": [
  {
   "cell_type": "markdown",
   "id": "61bd7290-b583-4e58-a19f-aa7d88e60429",
   "metadata": {},
   "source": [
    "(cont:mm:page-size)=\n",
    "# Page Sizes\n",
    "\n",
    "Most modern processors that support a paged virtual memory model also support multiple page sizes.  There are several benefits and downsides of any page size.  \n",
    "\n",
    "A smaller page size reduces the internal fragmentation, on the average 1/2 of the last page of a region will be unused or wasted.  Half of 4KB is only 2KB but half of 1GB is 512MB!  Smaller page sizes also make for a more compact virtual address space since pages must be aligned on their size boundaries.  When the virtual address space is more compact both text and data regions can be smaller and closer together allowing for more efficient instruction use and therefore fewer memory references.\n",
    "\n",
    "A larger page size allows for fewer page structures that the memory management system has to manage.  This results in fewer page structures on various linked lists, etc. which typically results in needing to hols spin locks for shorter periods of time.  A larger page size also results in significantly more text and data being mapped in translation caches.  A cache that has 128 entries can only map 512KB with a 4KB page size where it can map 5\n",
    "The Intel x86_64 processor supports 3 page sizes; 4KB, 2MB and 1GB.  The ARM processor supports 4KB, 64KB and 1MB page sizes.  Since paging systems must have equal size virtual pages and physical page frames.   "
   ]
  },
  {
   "cell_type": "code",
   "execution_count": null,
   "id": "ee62e4a0-4ee8-473f-b6e5-bb5480812c3c",
   "metadata": {},
   "outputs": [],
   "source": []
  }
 ],
 "metadata": {
  "kernelspec": {
   "display_name": "Python 3 (ipykernel)",
   "language": "python",
   "name": "python3"
  },
  "language_info": {
   "codemirror_mode": {
    "name": "ipython",
    "version": 3
   },
   "file_extension": ".py",
   "mimetype": "text/x-python",
   "name": "python",
   "nbconvert_exporter": "python",
   "pygments_lexer": "ipython3",
   "version": "3.10.5"
  }
 },
 "nbformat": 4,
 "nbformat_minor": 5
}
