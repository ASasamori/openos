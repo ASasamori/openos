{
 "cells": [
  {
   "cell_type": "markdown",
   "id": "ff79cafa-6e35-4ad0-8aa1-e1b1ec887315",
   "metadata": {
    "slideshow": {
     "slide_type": "slide"
    },
    "tags": []
   },
   "source": [
    "# This an example slidedeck \n",
    "- we will try to illustrate examples we will use\n",
    "- single column slides like this one"
   ]
  },
  {
   "cell_type": "markdown",
   "id": "bea1e652-2695-4d52-a70f-9bc631793b95",
   "metadata": {
    "slideshow": {
     "slide_type": "skip"
    },
    "tags": []
   },
   "source": [
    "**NOTE**"
   ]
  },
  {
   "cell_type": "markdown",
   "id": "4b7928fa-86d5-49e9-9259-87f3a8c66e08",
   "metadata": {
    "slideshow": {
     "slide_type": "notes"
    },
    "tags": []
   },
   "source": [
    "- a Note that will display in the notes view\n"
   ]
  },
  {
   "cell_type": "markdown",
   "id": "ce7aaf15-a0c5-4a1a-96f6-2838924b4813",
   "metadata": {
    "slideshow": {
     "slide_type": "skip"
    },
    "tags": []
   },
   "source": [
    "- - - "
   ]
  },
  {
   "cell_type": "markdown",
   "id": "d32d16cc-eef6-4d43-bbb6-f1364b12ab6a",
   "metadata": {
    "slideshow": {
     "slide_type": "slide"
    },
    "tags": []
   },
   "source": [
    "# Slide two single column picture\n",
    "\n",
    "\n",
    "```{image} ../images/osstructure-1.drawio.png\n",
    ":width: 50%\n",
    ":align: left\n",
    "```\n",
    "- a bullet\n",
    "- another bullet"
   ]
  },
  {
   "cell_type": "markdown",
   "id": "5c7274e1-f424-4363-a8c6-69cefaa74730",
   "metadata": {
    "slideshow": {
     "slide_type": "skip"
    },
    "tags": []
   },
   "source": [
    "**NOTE**"
   ]
  },
  {
   "cell_type": "markdown",
   "id": "47df028a-2be1-4ea8-a3fa-959a39ccbd4a",
   "metadata": {
    "slideshow": {
     "slide_type": "notes"
    },
    "tags": []
   },
   "source": [
    "- A simple example that has bullets on right of figure while using markdown\n"
   ]
  },
  {
   "cell_type": "markdown",
   "id": "001a544b-1991-4b3d-9a3b-d04a663130ce",
   "metadata": {
    "slideshow": {
     "slide_type": "skip"
    },
    "tags": []
   },
   "source": [
    "- - - "
   ]
  },
  {
   "cell_type": "markdown",
   "id": "c571759e-3eb8-4ae7-b270-ab2f47364407",
   "metadata": {
    "slideshow": {
     "slide_type": "slide"
    },
    "tags": []
   },
   "source": [
    "## Two column slide picture right\n",
    "\n",
    "```{image} ../images/osstructure-1.drawio.png\n",
    ":width: 50%\n",
    ":align: right\n",
    "```\n",
    "- Something about figure\n",
    "- Something else about it\n",
    "- a long description\n",
    "\n",
    "Note, depends on scale of image"
   ]
  },
  {
   "cell_type": "markdown",
   "id": "ac8323bf-ff3e-4011-8ad6-01c0b37d88dc",
   "metadata": {
    "slideshow": {
     "slide_type": "skip"
    },
    "tags": []
   },
   "source": [
    "**NOTE**"
   ]
  },
  {
   "cell_type": "markdown",
   "id": "f9a6c603-4896-48f6-b68b-334d11abf7b2",
   "metadata": {
    "slideshow": {
     "slide_type": "notes"
    },
    "tags": []
   },
   "source": [
    "- A simple example that has bullets on left of figure while using markdown"
   ]
  },
  {
   "cell_type": "markdown",
   "id": "c3966a0f-e4c1-431b-b7a6-67b1f943adfd",
   "metadata": {
    "slideshow": {
     "slide_type": "skip"
    },
    "tags": []
   },
   "source": [
    "- - - "
   ]
  },
  {
   "cell_type": "markdown",
   "id": "71a96206-ccd2-43ea-8dfc-71db0b429fa1",
   "metadata": {
    "cell_style": "split",
    "hide_input": false,
    "slideshow": {
     "slide_type": "slide"
    },
    "tags": []
   },
   "source": [
    "<table>\n",
    "  <tr>\n",
    "   <td width=“100%“>\n",
    "<img align=\"left\" src=\"../images/osstructure-1.drawio.png\">\n",
    "    </td>\n",
    "   <td>\n",
    "      <p>\n",
    "         \n",
    "Here is a right column of notes: \n",
    "- Something about figure\n",
    "- Something else about it\n",
    "- a long description\n",
    "                 </p>\n",
    "    </td>\n",
    "    </tr>\n",
    "</table>"
   ]
  },
  {
   "cell_type": "markdown",
   "id": "2d284d97-d013-4c24-b837-2a0785913ea7",
   "metadata": {
    "slideshow": {
     "slide_type": "skip"
    },
    "tags": []
   },
   "source": [
    "**NOTE**"
   ]
  },
  {
   "cell_type": "markdown",
   "id": "d9e1d7f0-7970-46e1-8e38-4199e385ae63",
   "metadata": {
    "slideshow": {
     "slide_type": "notes"
    },
    "tags": []
   },
   "source": [
    "- Using a table to control % of slide for both parts"
   ]
  },
  {
   "cell_type": "markdown",
   "id": "16baa415-5ec2-415d-b5b4-d85c5eb5810f",
   "metadata": {
    "slideshow": {
     "slide_type": "skip"
    },
    "tags": []
   },
   "source": [
    "- - - "
   ]
  },
  {
   "cell_type": "markdown",
   "id": "1f0ea0c4-7c47-4e44-a1fd-108a82baa021",
   "metadata": {
    "slideshow": {
     "slide_type": "slide"
    },
    "tags": []
   },
   "source": [
    "<table>\n",
    "  <tr>\n",
    "   <td width=“40%“>\n",
    "<img src=\"../from-google-slides/l01-png/fromkn.001.png\">\n",
    "    </td>\n",
    "   <td>\n",
    "      <p>\n",
    "          \n",
    "Bytes that encode extra descriptive facts:\n",
    "- who owns the file\n",
    "- the length of the file (measured in bytes)\n",
    "- who has permissions to read or write its contents\n",
    "- the time the contents was last modified\n",
    "- the time that it was last read\n",
    "- the time that the descriptive facts where last changed (eg the file permissions were modified)\n",
    "                 </p>\n",
    "    </td>\n",
    "    </tr>\n",
    "</table>"
   ]
  },
  {
   "cell_type": "markdown",
   "id": "d8cf1f8b-27a9-45a2-814c-7d4d85655757",
   "metadata": {
    "slideshow": {
     "slide_type": "skip"
    },
    "tags": []
   },
   "source": [
    "**NOTE**"
   ]
  },
  {
   "cell_type": "markdown",
   "id": "4df8daa4-739b-40f6-ab88-bfa0a7f8635a",
   "metadata": {
    "slideshow": {
     "slide_type": "notes"
    },
    "tags": []
   },
   "source": [
    "- Using a table to control % of slide for both parts with larger image"
   ]
  },
  {
   "cell_type": "markdown",
   "id": "40da3a4f-ed39-4e10-9e89-cc2fc63332fe",
   "metadata": {
    "slideshow": {
     "slide_type": "skip"
    },
    "tags": []
   },
   "source": [
    "- - - "
   ]
  }
 ],
 "metadata": {
  "celltoolbar": "Slideshow",
  "hide_input": true,
  "kernelspec": {
   "display_name": "Python 3 (ipykernel)",
   "language": "python",
   "name": "python3"
  },
  "language_info": {
   "codemirror_mode": {
    "name": "ipython",
    "version": 3
   },
   "file_extension": ".py",
   "mimetype": "text/x-python",
   "name": "python",
   "nbconvert_exporter": "python",
   "pygments_lexer": "ipython3",
   "version": "3.10.5"
  },
  "rise": {
   "enable_chalkboard": true,
   "height": "90%",
   "scroll": true,
   "start_slideshow_at": "selected",
   "transition": "none",
   "width": "90%"
  }
 },
 "nbformat": 4,
 "nbformat_minor": 5
}
