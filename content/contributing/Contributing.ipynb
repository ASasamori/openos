{
 "cells": [
  {
   "cell_type": "markdown",
   "id": "b6da734a",
   "metadata": {},
   "source": [
    "# Contributing\n",
    "\n"
   ]
  },
  {
   "cell_type": "code",
   "execution_count": null,
   "id": "d6598da6",
   "metadata": {},
   "outputs": [],
   "source": []
  },
  {
   "cell_type": "markdown",
   "id": "11c9465b",
   "metadata": {},
   "source": [
    "## Setting up a development environment\n",
    "\n",
    "Run a copy of this container. We'll use operate-first as the cloud which will run a copy of this container.\n",
    "\n",
    "1. visit https://jupyterhub-opf-jupyterhub.apps.smaug.na.operate-first.cloud/hub/spawn\n",
    "2. click \"operate-first\"\n",
    "3. sign in with a github login.\n",
    "\n",
    "This will bring you to a copy of jupyterhub with no notebooks. This is an empty container, with some convenient libraries and python versions installed, but no actual textbook content.\n",
    "\n",
    "## Juggling between Labs and Hubs\n",
    "\n",
    "JupyterLabs is the new version of Jupyter, which also allows you to run commands in a terminal. JupyterHub is the old version, which will be deprecated. Unfortunately, RISE, the extension which turns Jupyter notebooks into slides, only works on the older JupyterHub, not JupyterLabs. This means to create a notebook which looks good as slides, we'll have to set things up using Labs, then switch back to Hubs to run RISE.\n",
    "\n",
    "Your browser URL will look something like `https://jupyterhub-opf-jupyterhub.apps.smaug.na.operate-first.cloud/user/<YOUR GITHUB USERNAME>/tree`. Change the `/tree` at the end to `/lab` to access jupyter labs.\n",
    "\n",
    "### Building a walking stick generator so the gun which shoots students in the foot keeps working as intended\n",
    "\n",
    "By default, the container erases any progress in its home directory after a few hours. This is by design, to encourage students to use github and commit their changes there frequently or else lose progress. However, just like how that's inconvenient for students, it's inconvenient for textbook writers too.\n",
    "\n",
    "So instead, we'll save our textbook files in the super secret not automatically cleared persistent storage. However, Jupyterhub can't access the super secret persistent storage.\n",
    "\n",
    "The first time you log in:\n",
    "1. Go to Jupyterlabs by changing the /tree at the end of the URL to /labs\n",
    "2. Open a terminal\n",
    "Once: \n",
    "3. Run \n",
    "```cd /opt/app-root/src\n",
    "git clone https://github.com/jappavoo/juphub-utils.git\n",
    "./juphub-utils/setup.sh\n",
    "```\n",
    "\n",
    "After that, every time you log in: \n",
    "1. run `dowork`\n",
    "This will create a folder named `Work` in the home directory, linked to the secret persistent storage `/opt/app-root/src`. This will allow both jupyterhub and jupyterlabs to see and edit the files in there. Things in the home directory normally get deleted, but since the files you'll be editing are actually in `/opt/app-root/src`, it'll be saved.\n",
    "\n",
    "You can also run `git clone https://github.com/okrieg/openos` or `git clone <your fork of openOS>` to load the notebooks of an existing textbook, so they can be edited.\n",
    "\n",
    "## Starting a new presentation with RISE.\n",
    "\n",
    "1. After running `dowork` in a terminal in jupyterlabs, switch back to the older jupyterhub by changing `/labs` to `/tree`. RISE only works in jupyterhub, not jupyterlabs.\n",
    "2. Now, you should see a Work directory. Anything saved or cloned inside this folder won't be deleted after a few hours of inactivity.\n",
    "3. create a new ipython notebook, or open an existing one\n",
    "You should see a button which looks like a bar graph: ![RISE button](risebutton.png). This is the RISE button. Click it, and any ipython notebook you're looking at will be displayed as a powerpoint-style slideshow.\n",
    "5. Go to View -> Cell Toolbar and click \"slideshow\". \n",
    "This will create a header with \"Slide type\" on the top right corner of each cell. The slide type controls how RISE interprets the jupyter cells when it turns a jupyter notebook into a slideshow.\n",
    "\n",
    "You can see the slide types from https://rise.readthedocs.io/en/stable/usage.html :\n",
    "\n",
    "* slide: this cell is the beginning of a new slide\n",
    "* subslide: this cell is the beginning of a new subslide; that is to say, a new slide, but that reveal.js will display below the previous one instead of on the right;\n",
    "* fragment: this is to split the contents of one slide into pieces; a cell marked as a fragment will create a break inside the slide; it will not show up right away, you will need to press Space one more time to see it.\n",
    "* skip: this cell is ignored altogether in reveal mode, it will not appear either in the main view, nor in the speaker view.\n",
    "* notes: similarly, this cell is marked to be discarded from the main view, but is meant to appear in the speaker view.\n",
    "\n",
    "\n",
    "## Committing your work\n",
    "\n",
    "You need to use git from the terminal available in jupyterlabs. "
   ]
  },
  {
   "cell_type": "code",
   "execution_count": null,
   "id": "ad23ef6e",
   "metadata": {},
   "outputs": [],
   "source": []
  },
  {
   "cell_type": "code",
   "execution_count": null,
   "id": "9858ad8f",
   "metadata": {},
   "outputs": [],
   "source": []
  }
 ],
 "metadata": {
  "celltoolbar": "Slideshow",
  "hide_input": false,
  "kernelspec": {
   "display_name": "Python 3 (ipykernel)",
   "language": "python",
   "name": "python3"
  },
  "language_info": {
   "codemirror_mode": {
    "name": "ipython",
    "version": 3
   },
   "file_extension": ".py",
   "mimetype": "text/x-python",
   "name": "python",
   "nbconvert_exporter": "python",
   "pygments_lexer": "ipython3",
   "version": "3.10.5"
  }
 },
 "nbformat": 4,
 "nbformat_minor": 5
}
