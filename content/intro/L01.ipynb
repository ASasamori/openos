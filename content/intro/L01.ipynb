{
 "cells": [
  {
   "cell_type": "markdown",
   "id": "91ea6e90",
   "metadata": {
    "jupyter": {
     "source_hidden": true
    },
    "slideshow": {
     "slide_type": "slide"
    },
    "tags": []
   },
   "source": [
    "<img src=\"../from-google-slides/l01-png/fromkn.001.png\">"
   ]
  },
  {
   "cell_type": "markdown",
   "id": "4628c28f",
   "metadata": {
    "slideshow": {
     "slide_type": "skip"
    },
    "tags": []
   },
   "source": [
    "**NOTE:**"
   ]
  },
  {
   "cell_type": "markdown",
   "id": "8aeea132",
   "metadata": {
    "slideshow": {
     "slide_type": "notes"
    },
    "tags": []
   },
   "source": []
  },
  {
   "cell_type": "markdown",
   "id": "3bfcb10a",
   "metadata": {
    "slideshow": {
     "slide_type": "Skip"
    },
    "tags": []
   },
   "source": [
    "- - -"
   ]
  },
  {
   "cell_type": "markdown",
   "id": "9a6d1834",
   "metadata": {
    "slideshow": {
     "slide_type": "slide"
    },
    "tags": []
   },
   "source": [
    "<img src=\"../from-google-slides/l01-png/fromkn.002.png\">"
   ]
  },
  {
   "cell_type": "markdown",
   "id": "b54141dd",
   "metadata": {
    "slideshow": {
     "slide_type": "skip"
    },
    "tags": []
   },
   "source": [
    "**NOTE:**"
   ]
  },
  {
   "cell_type": "markdown",
   "id": "6416078d",
   "metadata": {
    "slideshow": {
     "slide_type": "notes"
    },
    "tags": []
   },
   "source": []
  },
  {
   "cell_type": "markdown",
   "id": "6f2c0ded",
   "metadata": {
    "slideshow": {
     "slide_type": "Skip"
    },
    "tags": []
   },
   "source": [
    "- - -"
   ]
  },
  {
   "cell_type": "markdown",
   "id": "eaf41e11",
   "metadata": {
    "slideshow": {
     "slide_type": "slide"
    },
    "tags": []
   },
   "source": [
    "<img src=\"../from-google-slides/l01-png/fromkn.003.png\">"
   ]
  },
  {
   "cell_type": "markdown",
   "id": "fe11528c",
   "metadata": {
    "slideshow": {
     "slide_type": "skip"
    },
    "tags": []
   },
   "source": [
    "**NOTE:**"
   ]
  },
  {
   "cell_type": "markdown",
   "id": "75964cff",
   "metadata": {
    "slideshow": {
     "slide_type": "notes"
    },
    "tags": []
   },
   "source": []
  },
  {
   "cell_type": "markdown",
   "id": "d384b794",
   "metadata": {
    "slideshow": {
     "slide_type": "Skip"
    },
    "tags": []
   },
   "source": [
    "- - -"
   ]
  },
  {
   "cell_type": "markdown",
   "id": "66a4d347",
   "metadata": {
    "slideshow": {
     "slide_type": "slide"
    },
    "tags": []
   },
   "source": [
    "<img src=\"../from-google-slides/l01-png/fromkn.004.png\">"
   ]
  },
  {
   "cell_type": "markdown",
   "id": "9ee751b7",
   "metadata": {
    "slideshow": {
     "slide_type": "skip"
    },
    "tags": []
   },
   "source": [
    "**NOTE:**"
   ]
  },
  {
   "cell_type": "markdown",
   "id": "b6803f12",
   "metadata": {
    "slideshow": {
     "slide_type": "notes"
    },
    "tags": []
   },
   "source": []
  },
  {
   "cell_type": "markdown",
   "id": "44631a13",
   "metadata": {
    "slideshow": {
     "slide_type": "Skip"
    },
    "tags": []
   },
   "source": [
    "- - -"
   ]
  },
  {
   "cell_type": "markdown",
   "id": "166f509c",
   "metadata": {
    "slideshow": {
     "slide_type": "slide"
    },
    "tags": []
   },
   "source": [
    "<img src=\"../from-google-slides/l01-png/fromkn.005.png\">"
   ]
  },
  {
   "cell_type": "markdown",
   "id": "d3542780",
   "metadata": {
    "slideshow": {
     "slide_type": "skip"
    },
    "tags": []
   },
   "source": [
    "**NOTE:**"
   ]
  },
  {
   "cell_type": "markdown",
   "id": "dd9688f0",
   "metadata": {
    "slideshow": {
     "slide_type": "notes"
    },
    "tags": []
   },
   "source": []
  },
  {
   "cell_type": "markdown",
   "id": "ed8b8403",
   "metadata": {
    "slideshow": {
     "slide_type": "Skip"
    },
    "tags": []
   },
   "source": [
    "- - -"
   ]
  },
  {
   "cell_type": "markdown",
   "id": "138beda3",
   "metadata": {
    "slideshow": {
     "slide_type": "slide"
    },
    "tags": []
   },
   "source": [
    "<img src=\"../from-google-slides/l01-png/fromkn.006.png\">"
   ]
  },
  {
   "cell_type": "markdown",
   "id": "c3523c94",
   "metadata": {
    "slideshow": {
     "slide_type": "skip"
    },
    "tags": []
   },
   "source": [
    "**NOTE:**"
   ]
  },
  {
   "cell_type": "markdown",
   "id": "ee2f56d0",
   "metadata": {
    "slideshow": {
     "slide_type": "notes"
    },
    "tags": []
   },
   "source": []
  },
  {
   "cell_type": "markdown",
   "id": "eb0583da",
   "metadata": {
    "slideshow": {
     "slide_type": "Skip"
    },
    "tags": []
   },
   "source": [
    "- - -"
   ]
  },
  {
   "cell_type": "markdown",
   "id": "777b48ee",
   "metadata": {
    "slideshow": {
     "slide_type": "slide"
    },
    "tags": []
   },
   "source": [
    "<img src=\"../from-google-slides/l01-png/fromkn.007.png\">"
   ]
  },
  {
   "cell_type": "markdown",
   "id": "3ecb57f8",
   "metadata": {
    "slideshow": {
     "slide_type": "skip"
    },
    "tags": []
   },
   "source": [
    "**NOTE:**"
   ]
  },
  {
   "cell_type": "markdown",
   "id": "465bb779",
   "metadata": {
    "slideshow": {
     "slide_type": "notes"
    },
    "tags": []
   },
   "source": []
  },
  {
   "cell_type": "markdown",
   "id": "a4be21ba",
   "metadata": {
    "slideshow": {
     "slide_type": "Skip"
    },
    "tags": []
   },
   "source": [
    "- - -"
   ]
  },
  {
   "cell_type": "markdown",
   "id": "30fb335a",
   "metadata": {
    "slideshow": {
     "slide_type": "slide"
    },
    "tags": []
   },
   "source": [
    "<img src=\"../from-google-slides/l01-png/fromkn.008.png\">"
   ]
  },
  {
   "cell_type": "markdown",
   "id": "81325b91",
   "metadata": {
    "slideshow": {
     "slide_type": "skip"
    },
    "tags": []
   },
   "source": [
    "**NOTE:**"
   ]
  },
  {
   "cell_type": "markdown",
   "id": "c67d9083",
   "metadata": {
    "slideshow": {
     "slide_type": "notes"
    },
    "tags": []
   },
   "source": []
  },
  {
   "cell_type": "markdown",
   "id": "3bca6f95",
   "metadata": {
    "slideshow": {
     "slide_type": "Skip"
    },
    "tags": []
   },
   "source": [
    "- - -"
   ]
  },
  {
   "cell_type": "markdown",
   "id": "9f6426d6",
   "metadata": {
    "slideshow": {
     "slide_type": "slide"
    },
    "tags": []
   },
   "source": [
    "<img src=\"../from-google-slides/l01-png/fromkn.009.png\">"
   ]
  },
  {
   "cell_type": "markdown",
   "id": "e370af80",
   "metadata": {
    "slideshow": {
     "slide_type": "skip"
    },
    "tags": []
   },
   "source": [
    "**NOTE:**"
   ]
  },
  {
   "cell_type": "markdown",
   "id": "078a1c7f",
   "metadata": {
    "slideshow": {
     "slide_type": "notes"
    },
    "tags": []
   },
   "source": []
  },
  {
   "cell_type": "markdown",
   "id": "a0a62f0b",
   "metadata": {
    "slideshow": {
     "slide_type": "Skip"
    },
    "tags": []
   },
   "source": [
    "- - -"
   ]
  },
  {
   "cell_type": "markdown",
   "id": "34fc97ad",
   "metadata": {
    "slideshow": {
     "slide_type": "slide"
    },
    "tags": []
   },
   "source": [
    "<img src=\"../from-google-slides/l01-png/fromkn.010.png\">"
   ]
  },
  {
   "cell_type": "markdown",
   "id": "84b25319",
   "metadata": {
    "slideshow": {
     "slide_type": "skip"
    },
    "tags": []
   },
   "source": [
    "**NOTE:**"
   ]
  },
  {
   "cell_type": "markdown",
   "id": "98676fdc",
   "metadata": {
    "slideshow": {
     "slide_type": "notes"
    },
    "tags": []
   },
   "source": []
  },
  {
   "cell_type": "markdown",
   "id": "c46f620e",
   "metadata": {
    "slideshow": {
     "slide_type": "Skip"
    },
    "tags": []
   },
   "source": [
    "- - -"
   ]
  },
  {
   "cell_type": "markdown",
   "id": "dc101e8f",
   "metadata": {
    "slideshow": {
     "slide_type": "slide"
    },
    "tags": []
   },
   "source": [
    "<img src=\"../from-google-slides/l01-png/fromkn.011.png\">"
   ]
  },
  {
   "cell_type": "markdown",
   "id": "fcc32ef6",
   "metadata": {
    "slideshow": {
     "slide_type": "skip"
    },
    "tags": []
   },
   "source": [
    "**NOTE:**"
   ]
  },
  {
   "cell_type": "markdown",
   "id": "082bfcb2",
   "metadata": {
    "slideshow": {
     "slide_type": "notes"
    },
    "tags": []
   },
   "source": []
  },
  {
   "cell_type": "markdown",
   "id": "6aeddfbd",
   "metadata": {
    "slideshow": {
     "slide_type": "Skip"
    },
    "tags": []
   },
   "source": [
    "- - -"
   ]
  },
  {
   "cell_type": "markdown",
   "id": "96162d75",
   "metadata": {
    "slideshow": {
     "slide_type": "slide"
    },
    "tags": []
   },
   "source": [
    "<img src=\"../from-google-slides/l01-png/fromkn.012.png\">"
   ]
  },
  {
   "cell_type": "markdown",
   "id": "4b09e95c",
   "metadata": {
    "slideshow": {
     "slide_type": "skip"
    },
    "tags": []
   },
   "source": [
    "**NOTE:**"
   ]
  },
  {
   "cell_type": "markdown",
   "id": "b3687ce3",
   "metadata": {
    "slideshow": {
     "slide_type": "notes"
    },
    "tags": []
   },
   "source": []
  },
  {
   "cell_type": "markdown",
   "id": "1b86ab38",
   "metadata": {
    "slideshow": {
     "slide_type": "Skip"
    },
    "tags": []
   },
   "source": [
    "- - -"
   ]
  },
  {
   "cell_type": "markdown",
   "id": "c2c08bec",
   "metadata": {
    "slideshow": {
     "slide_type": "slide"
    },
    "tags": []
   },
   "source": [
    "<img src=\"../from-google-slides/l01-png/fromkn.013.png\">"
   ]
  },
  {
   "cell_type": "markdown",
   "id": "6dc08dad",
   "metadata": {
    "slideshow": {
     "slide_type": "skip"
    },
    "tags": []
   },
   "source": [
    "**NOTE:**"
   ]
  },
  {
   "cell_type": "markdown",
   "id": "9dc8c7c5",
   "metadata": {
    "slideshow": {
     "slide_type": "notes"
    },
    "tags": []
   },
   "source": []
  },
  {
   "cell_type": "markdown",
   "id": "515bcd3e",
   "metadata": {
    "slideshow": {
     "slide_type": "Skip"
    },
    "tags": []
   },
   "source": [
    "- - -"
   ]
  },
  {
   "cell_type": "markdown",
   "id": "3d3a78b3",
   "metadata": {
    "slideshow": {
     "slide_type": "slide"
    },
    "tags": []
   },
   "source": [
    "<img src=\"../from-google-slides/l01-png/fromkn.014.png\">"
   ]
  },
  {
   "cell_type": "markdown",
   "id": "016111b2",
   "metadata": {
    "slideshow": {
     "slide_type": "skip"
    },
    "tags": []
   },
   "source": [
    "**NOTE:**"
   ]
  },
  {
   "cell_type": "markdown",
   "id": "3b365c02",
   "metadata": {
    "slideshow": {
     "slide_type": "notes"
    },
    "tags": []
   },
   "source": []
  },
  {
   "cell_type": "markdown",
   "id": "9b06809c",
   "metadata": {
    "slideshow": {
     "slide_type": "Skip"
    },
    "tags": []
   },
   "source": [
    "- - -"
   ]
  },
  {
   "cell_type": "markdown",
   "id": "9318a094",
   "metadata": {
    "slideshow": {
     "slide_type": "slide"
    },
    "tags": []
   },
   "source": [
    "<img src=\"../from-google-slides/l01-png/fromkn.015.png\">"
   ]
  },
  {
   "cell_type": "markdown",
   "id": "9bc585e8",
   "metadata": {
    "slideshow": {
     "slide_type": "skip"
    },
    "tags": []
   },
   "source": [
    "**NOTE:**"
   ]
  },
  {
   "cell_type": "markdown",
   "id": "c2f8313b",
   "metadata": {
    "slideshow": {
     "slide_type": "notes"
    },
    "tags": []
   },
   "source": []
  },
  {
   "cell_type": "markdown",
   "id": "c99cabcc",
   "metadata": {
    "slideshow": {
     "slide_type": "Skip"
    },
    "tags": []
   },
   "source": [
    "- - -"
   ]
  },
  {
   "cell_type": "markdown",
   "id": "ac09db90",
   "metadata": {
    "slideshow": {
     "slide_type": "slide"
    },
    "tags": []
   },
   "source": [
    "<img src=\"../from-google-slides/l01-png/fromkn.016.png\">"
   ]
  },
  {
   "cell_type": "markdown",
   "id": "4963eda4",
   "metadata": {
    "slideshow": {
     "slide_type": "skip"
    },
    "tags": []
   },
   "source": [
    "**NOTE:**"
   ]
  },
  {
   "cell_type": "markdown",
   "id": "7abe6668",
   "metadata": {
    "slideshow": {
     "slide_type": "notes"
    },
    "tags": []
   },
   "source": []
  },
  {
   "cell_type": "markdown",
   "id": "ae408cce",
   "metadata": {
    "slideshow": {
     "slide_type": "Skip"
    },
    "tags": []
   },
   "source": [
    "- - -"
   ]
  },
  {
   "cell_type": "markdown",
   "id": "8f8c50bb",
   "metadata": {
    "slideshow": {
     "slide_type": "slide"
    },
    "tags": []
   },
   "source": [
    "<img src=\"../from-google-slides/l01-png/fromkn.017.png\">"
   ]
  },
  {
   "cell_type": "markdown",
   "id": "ce387630",
   "metadata": {
    "slideshow": {
     "slide_type": "skip"
    },
    "tags": []
   },
   "source": [
    "**NOTE:**"
   ]
  },
  {
   "cell_type": "markdown",
   "id": "c1e87979",
   "metadata": {
    "slideshow": {
     "slide_type": "notes"
    },
    "tags": []
   },
   "source": []
  },
  {
   "cell_type": "markdown",
   "id": "42310e64",
   "metadata": {
    "slideshow": {
     "slide_type": "Skip"
    },
    "tags": []
   },
   "source": [
    "- - -"
   ]
  },
  {
   "cell_type": "markdown",
   "id": "bee231e6",
   "metadata": {
    "slideshow": {
     "slide_type": "slide"
    },
    "tags": []
   },
   "source": [
    "<img src=\"../from-google-slides/l01-png/fromkn.018.png\">"
   ]
  },
  {
   "cell_type": "markdown",
   "id": "27cf016b",
   "metadata": {
    "slideshow": {
     "slide_type": "skip"
    },
    "tags": []
   },
   "source": [
    "**NOTE:**"
   ]
  },
  {
   "cell_type": "markdown",
   "id": "c3f358cd",
   "metadata": {
    "slideshow": {
     "slide_type": "notes"
    },
    "tags": []
   },
   "source": []
  },
  {
   "cell_type": "markdown",
   "id": "2de94748",
   "metadata": {
    "slideshow": {
     "slide_type": "Skip"
    },
    "tags": []
   },
   "source": [
    "- - -"
   ]
  },
  {
   "cell_type": "markdown",
   "id": "d580e6d4",
   "metadata": {
    "slideshow": {
     "slide_type": "slide"
    },
    "tags": []
   },
   "source": [
    "<img src=\"../from-google-slides/l01-png/fromkn.019.png\">"
   ]
  },
  {
   "cell_type": "markdown",
   "id": "d6b48c68",
   "metadata": {
    "slideshow": {
     "slide_type": "skip"
    },
    "tags": []
   },
   "source": [
    "**NOTE:**"
   ]
  },
  {
   "cell_type": "markdown",
   "id": "8e82edcc",
   "metadata": {
    "slideshow": {
     "slide_type": "notes"
    },
    "tags": []
   },
   "source": []
  },
  {
   "cell_type": "markdown",
   "id": "358c5e67",
   "metadata": {
    "slideshow": {
     "slide_type": "Skip"
    },
    "tags": []
   },
   "source": [
    "- - -"
   ]
  },
  {
   "cell_type": "markdown",
   "id": "ce872375",
   "metadata": {
    "slideshow": {
     "slide_type": "slide"
    },
    "tags": []
   },
   "source": [
    "<img src=\"../from-google-slides/l01-png/fromkn.020.png\">"
   ]
  },
  {
   "cell_type": "markdown",
   "id": "0601bf48",
   "metadata": {
    "slideshow": {
     "slide_type": "skip"
    },
    "tags": []
   },
   "source": [
    "**NOTE:**"
   ]
  },
  {
   "cell_type": "markdown",
   "id": "24d0f9a4",
   "metadata": {
    "slideshow": {
     "slide_type": "notes"
    },
    "tags": []
   },
   "source": []
  },
  {
   "cell_type": "markdown",
   "id": "181934d7",
   "metadata": {
    "slideshow": {
     "slide_type": "Skip"
    },
    "tags": []
   },
   "source": [
    "- - -"
   ]
  },
  {
   "cell_type": "markdown",
   "id": "240b2ed0",
   "metadata": {
    "slideshow": {
     "slide_type": "slide"
    },
    "tags": []
   },
   "source": [
    "<img src=\"../from-google-slides/l01-png/fromkn.021.png\">"
   ]
  },
  {
   "cell_type": "markdown",
   "id": "6213e3af",
   "metadata": {
    "slideshow": {
     "slide_type": "skip"
    },
    "tags": []
   },
   "source": [
    "**NOTE:**"
   ]
  },
  {
   "cell_type": "markdown",
   "id": "d8544600",
   "metadata": {
    "slideshow": {
     "slide_type": "notes"
    },
    "tags": []
   },
   "source": []
  },
  {
   "cell_type": "markdown",
   "id": "c8fd0be1",
   "metadata": {
    "slideshow": {
     "slide_type": "Skip"
    },
    "tags": []
   },
   "source": [
    "- - -"
   ]
  },
  {
   "cell_type": "markdown",
   "id": "8cd72dd4",
   "metadata": {
    "slideshow": {
     "slide_type": "slide"
    },
    "tags": []
   },
   "source": [
    "<img src=\"../from-google-slides/l01-png/fromkn.022.png\">"
   ]
  },
  {
   "cell_type": "markdown",
   "id": "c7ae6d7c",
   "metadata": {
    "slideshow": {
     "slide_type": "skip"
    },
    "tags": []
   },
   "source": [
    "**NOTE:**"
   ]
  },
  {
   "cell_type": "markdown",
   "id": "32bfdd4b",
   "metadata": {
    "slideshow": {
     "slide_type": "notes"
    },
    "tags": []
   },
   "source": []
  },
  {
   "cell_type": "markdown",
   "id": "c720c1e5",
   "metadata": {
    "slideshow": {
     "slide_type": "Skip"
    },
    "tags": []
   },
   "source": [
    "- - -"
   ]
  },
  {
   "cell_type": "markdown",
   "id": "de44feb5",
   "metadata": {
    "slideshow": {
     "slide_type": "slide"
    },
    "tags": []
   },
   "source": [
    "<img src=\"../from-google-slides/l01-png/fromkn.023.png\">"
   ]
  },
  {
   "cell_type": "markdown",
   "id": "cebb1b2a",
   "metadata": {
    "slideshow": {
     "slide_type": "skip"
    },
    "tags": []
   },
   "source": [
    "**NOTE:**"
   ]
  },
  {
   "cell_type": "markdown",
   "id": "ca977b52",
   "metadata": {
    "slideshow": {
     "slide_type": "notes"
    },
    "tags": []
   },
   "source": []
  },
  {
   "cell_type": "markdown",
   "id": "d59042e1",
   "metadata": {
    "slideshow": {
     "slide_type": "Skip"
    },
    "tags": []
   },
   "source": [
    "- - -"
   ]
  },
  {
   "cell_type": "markdown",
   "id": "ec5e09e6",
   "metadata": {
    "slideshow": {
     "slide_type": "slide"
    },
    "tags": []
   },
   "source": [
    "<img src=\"../from-google-slides/l01-png/fromkn.024.png\">"
   ]
  },
  {
   "cell_type": "markdown",
   "id": "c61f4715",
   "metadata": {
    "slideshow": {
     "slide_type": "skip"
    },
    "tags": []
   },
   "source": [
    "**NOTE:**"
   ]
  },
  {
   "cell_type": "markdown",
   "id": "4dbfe83f",
   "metadata": {
    "slideshow": {
     "slide_type": "notes"
    },
    "tags": []
   },
   "source": []
  },
  {
   "cell_type": "markdown",
   "id": "3c06d90b",
   "metadata": {
    "slideshow": {
     "slide_type": "Skip"
    },
    "tags": []
   },
   "source": [
    "- - -"
   ]
  },
  {
   "cell_type": "markdown",
   "id": "356bc242",
   "metadata": {
    "slideshow": {
     "slide_type": "slide"
    },
    "tags": []
   },
   "source": [
    "<img src=\"../from-google-slides/l01-png/fromkn.025.png\">"
   ]
  },
  {
   "cell_type": "markdown",
   "id": "af36ee17",
   "metadata": {
    "slideshow": {
     "slide_type": "skip"
    },
    "tags": []
   },
   "source": [
    "**NOTE:**"
   ]
  },
  {
   "cell_type": "markdown",
   "id": "ee0d880c",
   "metadata": {
    "slideshow": {
     "slide_type": "notes"
    },
    "tags": []
   },
   "source": []
  },
  {
   "cell_type": "markdown",
   "id": "add3e2fe",
   "metadata": {
    "slideshow": {
     "slide_type": "Skip"
    },
    "tags": []
   },
   "source": [
    "- - -"
   ]
  },
  {
   "cell_type": "markdown",
   "id": "53ff12db",
   "metadata": {
    "slideshow": {
     "slide_type": "slide"
    },
    "tags": []
   },
   "source": [
    "<img src=\"../from-google-slides/l01-png/fromkn.026.png\">"
   ]
  },
  {
   "cell_type": "markdown",
   "id": "b150761f",
   "metadata": {
    "slideshow": {
     "slide_type": "skip"
    },
    "tags": []
   },
   "source": [
    "**NOTE:**"
   ]
  },
  {
   "cell_type": "markdown",
   "id": "60152a1c",
   "metadata": {
    "slideshow": {
     "slide_type": "notes"
    },
    "tags": []
   },
   "source": []
  },
  {
   "cell_type": "markdown",
   "id": "d5e22354",
   "metadata": {
    "slideshow": {
     "slide_type": "Skip"
    },
    "tags": []
   },
   "source": [
    "- - -"
   ]
  },
  {
   "cell_type": "markdown",
   "id": "27a6e50d",
   "metadata": {
    "slideshow": {
     "slide_type": "slide"
    },
    "tags": []
   },
   "source": [
    "<img src=\"../from-google-slides/l01-png/fromkn.027.png\">"
   ]
  },
  {
   "cell_type": "markdown",
   "id": "6605fbad",
   "metadata": {
    "slideshow": {
     "slide_type": "skip"
    },
    "tags": []
   },
   "source": [
    "**NOTE:**"
   ]
  },
  {
   "cell_type": "markdown",
   "id": "ea7e7bdc",
   "metadata": {
    "slideshow": {
     "slide_type": "notes"
    },
    "tags": []
   },
   "source": []
  },
  {
   "cell_type": "markdown",
   "id": "59517a59",
   "metadata": {
    "slideshow": {
     "slide_type": "Skip"
    },
    "tags": []
   },
   "source": [
    "- - -"
   ]
  },
  {
   "cell_type": "markdown",
   "id": "7f6d7185",
   "metadata": {
    "slideshow": {
     "slide_type": "slide"
    },
    "tags": []
   },
   "source": [
    "<img src=\"../from-google-slides/l01-png/fromkn.028.png\">"
   ]
  },
  {
   "cell_type": "markdown",
   "id": "0efaf462",
   "metadata": {
    "slideshow": {
     "slide_type": "skip"
    },
    "tags": []
   },
   "source": [
    "**NOTE:**"
   ]
  },
  {
   "cell_type": "markdown",
   "id": "1ee81d15",
   "metadata": {
    "slideshow": {
     "slide_type": "notes"
    },
    "tags": []
   },
   "source": []
  },
  {
   "cell_type": "markdown",
   "id": "7fde35e5",
   "metadata": {
    "slideshow": {
     "slide_type": "Skip"
    },
    "tags": []
   },
   "source": [
    "- - -"
   ]
  },
  {
   "cell_type": "markdown",
   "id": "4da7da83",
   "metadata": {
    "slideshow": {
     "slide_type": "slide"
    },
    "tags": []
   },
   "source": [
    "<img src=\"../from-google-slides/l01-png/fromkn.029.png\">"
   ]
  },
  {
   "cell_type": "markdown",
   "id": "4f523db5",
   "metadata": {
    "slideshow": {
     "slide_type": "skip"
    },
    "tags": []
   },
   "source": [
    "**NOTE:**"
   ]
  },
  {
   "cell_type": "markdown",
   "id": "e9496ad2",
   "metadata": {
    "slideshow": {
     "slide_type": "notes"
    },
    "tags": []
   },
   "source": []
  },
  {
   "cell_type": "markdown",
   "id": "bb538e90",
   "metadata": {
    "slideshow": {
     "slide_type": "Skip"
    },
    "tags": []
   },
   "source": [
    "- - -"
   ]
  },
  {
   "cell_type": "markdown",
   "id": "eaf65602",
   "metadata": {
    "slideshow": {
     "slide_type": "slide"
    },
    "tags": []
   },
   "source": [
    "<img src=\"../from-google-slides/l01-png/fromkn.030.png\">"
   ]
  },
  {
   "cell_type": "markdown",
   "id": "fbd5a892",
   "metadata": {
    "slideshow": {
     "slide_type": "skip"
    },
    "tags": []
   },
   "source": [
    "**NOTE:**"
   ]
  },
  {
   "cell_type": "markdown",
   "id": "3237317e",
   "metadata": {
    "slideshow": {
     "slide_type": "notes"
    },
    "tags": []
   },
   "source": []
  },
  {
   "cell_type": "markdown",
   "id": "b5be9dd7",
   "metadata": {
    "slideshow": {
     "slide_type": "Skip"
    },
    "tags": []
   },
   "source": [
    "- - -"
   ]
  },
  {
   "cell_type": "markdown",
   "id": "04ea4c34",
   "metadata": {
    "slideshow": {
     "slide_type": "slide"
    },
    "tags": []
   },
   "source": [
    "<img src=\"../from-google-slides/l01-png/fromkn.031.png\">"
   ]
  },
  {
   "cell_type": "markdown",
   "id": "53f4b508",
   "metadata": {
    "slideshow": {
     "slide_type": "skip"
    },
    "tags": []
   },
   "source": [
    "**NOTE:**"
   ]
  },
  {
   "cell_type": "markdown",
   "id": "03eec4b2",
   "metadata": {
    "slideshow": {
     "slide_type": "notes"
    },
    "tags": []
   },
   "source": []
  },
  {
   "cell_type": "markdown",
   "id": "be44c7c8",
   "metadata": {
    "slideshow": {
     "slide_type": "Skip"
    },
    "tags": []
   },
   "source": [
    "- - -"
   ]
  },
  {
   "cell_type": "markdown",
   "id": "3abfdccf",
   "metadata": {
    "slideshow": {
     "slide_type": "slide"
    },
    "tags": []
   },
   "source": [
    "<img src=\"../from-google-slides/l01-png/fromkn.032.png\">"
   ]
  },
  {
   "cell_type": "markdown",
   "id": "0b5737fc",
   "metadata": {
    "slideshow": {
     "slide_type": "skip"
    },
    "tags": []
   },
   "source": [
    "**NOTE:**"
   ]
  },
  {
   "cell_type": "markdown",
   "id": "d15a9f34",
   "metadata": {
    "slideshow": {
     "slide_type": "notes"
    },
    "tags": []
   },
   "source": []
  },
  {
   "cell_type": "markdown",
   "id": "33a5b2d5",
   "metadata": {
    "slideshow": {
     "slide_type": "Skip"
    },
    "tags": []
   },
   "source": [
    "- - -"
   ]
  },
  {
   "cell_type": "markdown",
   "id": "9ee4cd7e",
   "metadata": {
    "slideshow": {
     "slide_type": "slide"
    },
    "tags": []
   },
   "source": [
    "<img src=\"../from-google-slides/l01-png/fromkn.033.png\">"
   ]
  },
  {
   "cell_type": "markdown",
   "id": "7b090b6a",
   "metadata": {
    "slideshow": {
     "slide_type": "skip"
    },
    "tags": []
   },
   "source": [
    "**NOTE:**"
   ]
  },
  {
   "cell_type": "markdown",
   "id": "02a29ed7",
   "metadata": {
    "slideshow": {
     "slide_type": "notes"
    },
    "tags": []
   },
   "source": []
  },
  {
   "cell_type": "markdown",
   "id": "233ad2c9",
   "metadata": {
    "slideshow": {
     "slide_type": "Skip"
    },
    "tags": []
   },
   "source": [
    "- - -"
   ]
  },
  {
   "cell_type": "markdown",
   "id": "bb6a44c7",
   "metadata": {
    "slideshow": {
     "slide_type": "slide"
    },
    "tags": []
   },
   "source": [
    "<img src=\"../from-google-slides/l01-png/fromkn.034.png\">"
   ]
  },
  {
   "cell_type": "markdown",
   "id": "11ea8cc8",
   "metadata": {
    "slideshow": {
     "slide_type": "skip"
    },
    "tags": []
   },
   "source": [
    "**NOTE:**"
   ]
  },
  {
   "cell_type": "markdown",
   "id": "e38aba27",
   "metadata": {
    "slideshow": {
     "slide_type": "notes"
    },
    "tags": []
   },
   "source": []
  },
  {
   "cell_type": "markdown",
   "id": "a28acfe9",
   "metadata": {
    "slideshow": {
     "slide_type": "Skip"
    },
    "tags": []
   },
   "source": [
    "- - -"
   ]
  },
  {
   "cell_type": "markdown",
   "id": "8c2645bd",
   "metadata": {
    "slideshow": {
     "slide_type": "slide"
    },
    "tags": []
   },
   "source": [
    "<img src=\"../from-google-slides/l01-png/fromkn.035.png\">"
   ]
  },
  {
   "cell_type": "markdown",
   "id": "840ac546",
   "metadata": {
    "slideshow": {
     "slide_type": "skip"
    },
    "tags": []
   },
   "source": [
    "**NOTE:**"
   ]
  },
  {
   "cell_type": "markdown",
   "id": "346c8eba",
   "metadata": {
    "slideshow": {
     "slide_type": "notes"
    },
    "tags": []
   },
   "source": []
  },
  {
   "cell_type": "markdown",
   "id": "783efc9a",
   "metadata": {
    "slideshow": {
     "slide_type": "Skip"
    },
    "tags": []
   },
   "source": [
    "- - -"
   ]
  },
  {
   "cell_type": "markdown",
   "id": "599f724a",
   "metadata": {
    "slideshow": {
     "slide_type": "slide"
    },
    "tags": []
   },
   "source": [
    "<img src=\"../from-google-slides/l01-png/fromkn.036.png\">"
   ]
  },
  {
   "cell_type": "markdown",
   "id": "828e1dfb",
   "metadata": {
    "slideshow": {
     "slide_type": "skip"
    },
    "tags": []
   },
   "source": [
    "**NOTE:**"
   ]
  },
  {
   "cell_type": "markdown",
   "id": "cc09c250",
   "metadata": {
    "slideshow": {
     "slide_type": "notes"
    },
    "tags": []
   },
   "source": []
  },
  {
   "cell_type": "markdown",
   "id": "e0add367",
   "metadata": {
    "slideshow": {
     "slide_type": "Skip"
    },
    "tags": []
   },
   "source": [
    "- - -"
   ]
  },
  {
   "cell_type": "markdown",
   "id": "026c906f",
   "metadata": {
    "slideshow": {
     "slide_type": "slide"
    },
    "tags": []
   },
   "source": [
    "<img src=\"../from-google-slides/l01-png/fromkn.037.png\">"
   ]
  },
  {
   "cell_type": "markdown",
   "id": "0303a8ad",
   "metadata": {
    "slideshow": {
     "slide_type": "skip"
    },
    "tags": []
   },
   "source": [
    "**NOTE:**"
   ]
  },
  {
   "cell_type": "markdown",
   "id": "9d1608b9",
   "metadata": {
    "slideshow": {
     "slide_type": "notes"
    },
    "tags": []
   },
   "source": []
  },
  {
   "cell_type": "markdown",
   "id": "1da382c1",
   "metadata": {
    "slideshow": {
     "slide_type": "Skip"
    },
    "tags": []
   },
   "source": [
    "- - -"
   ]
  },
  {
   "cell_type": "markdown",
   "id": "bd38e40c",
   "metadata": {
    "slideshow": {
     "slide_type": "slide"
    },
    "tags": []
   },
   "source": [
    "<img src=\"../from-google-slides/l01-png/fromkn.038.png\">"
   ]
  },
  {
   "cell_type": "markdown",
   "id": "15e09342",
   "metadata": {
    "slideshow": {
     "slide_type": "skip"
    },
    "tags": []
   },
   "source": [
    "**NOTE:**"
   ]
  },
  {
   "cell_type": "markdown",
   "id": "37456477",
   "metadata": {
    "slideshow": {
     "slide_type": "notes"
    },
    "tags": []
   },
   "source": []
  },
  {
   "cell_type": "markdown",
   "id": "32081989",
   "metadata": {
    "slideshow": {
     "slide_type": "Skip"
    },
    "tags": []
   },
   "source": [
    "- - -"
   ]
  },
  {
   "cell_type": "markdown",
   "id": "f39a3289",
   "metadata": {
    "slideshow": {
     "slide_type": "slide"
    },
    "tags": []
   },
   "source": [
    "<img src=\"../from-google-slides/l01-png/fromkn.039.png\">"
   ]
  },
  {
   "cell_type": "markdown",
   "id": "35f5c00c",
   "metadata": {
    "slideshow": {
     "slide_type": "skip"
    },
    "tags": []
   },
   "source": [
    "**NOTE:**"
   ]
  },
  {
   "cell_type": "markdown",
   "id": "539aa2e8",
   "metadata": {
    "slideshow": {
     "slide_type": "notes"
    },
    "tags": []
   },
   "source": []
  },
  {
   "cell_type": "markdown",
   "id": "e3a49898",
   "metadata": {
    "slideshow": {
     "slide_type": "Skip"
    },
    "tags": []
   },
   "source": [
    "- - -"
   ]
  },
  {
   "cell_type": "markdown",
   "id": "7f13ff31",
   "metadata": {
    "slideshow": {
     "slide_type": "slide"
    },
    "tags": []
   },
   "source": [
    "<img src=\"../from-google-slides/l01-png/fromkn.040.png\">"
   ]
  },
  {
   "cell_type": "markdown",
   "id": "e6cedd3b",
   "metadata": {
    "slideshow": {
     "slide_type": "skip"
    },
    "tags": []
   },
   "source": [
    "**NOTE:**"
   ]
  },
  {
   "cell_type": "markdown",
   "id": "1139d17f",
   "metadata": {
    "slideshow": {
     "slide_type": "notes"
    },
    "tags": []
   },
   "source": []
  },
  {
   "cell_type": "markdown",
   "id": "fed610db",
   "metadata": {
    "slideshow": {
     "slide_type": "Skip"
    },
    "tags": []
   },
   "source": [
    "- - -"
   ]
  },
  {
   "cell_type": "markdown",
   "id": "0bc92ce0",
   "metadata": {
    "slideshow": {
     "slide_type": "slide"
    },
    "tags": []
   },
   "source": [
    "<img src=\"../from-google-slides/l01-png/fromkn.041.png\">"
   ]
  },
  {
   "cell_type": "markdown",
   "id": "97111162",
   "metadata": {
    "slideshow": {
     "slide_type": "skip"
    },
    "tags": []
   },
   "source": [
    "**NOTE:**"
   ]
  },
  {
   "cell_type": "markdown",
   "id": "3e1d3912",
   "metadata": {
    "slideshow": {
     "slide_type": "notes"
    },
    "tags": []
   },
   "source": []
  },
  {
   "cell_type": "markdown",
   "id": "371fe5a5",
   "metadata": {
    "slideshow": {
     "slide_type": "Skip"
    },
    "tags": []
   },
   "source": [
    "- - -"
   ]
  },
  {
   "cell_type": "markdown",
   "id": "b208caad",
   "metadata": {
    "slideshow": {
     "slide_type": "slide"
    },
    "tags": []
   },
   "source": [
    "<img src=\"../from-google-slides/l01-png/fromkn.042.png\">"
   ]
  },
  {
   "cell_type": "markdown",
   "id": "cfc76d3c",
   "metadata": {
    "slideshow": {
     "slide_type": "skip"
    },
    "tags": []
   },
   "source": [
    "**NOTE:**"
   ]
  },
  {
   "cell_type": "markdown",
   "id": "b4063bcc",
   "metadata": {
    "slideshow": {
     "slide_type": "notes"
    },
    "tags": []
   },
   "source": []
  },
  {
   "cell_type": "markdown",
   "id": "8e262f57",
   "metadata": {
    "slideshow": {
     "slide_type": "Skip"
    },
    "tags": []
   },
   "source": [
    "- - -"
   ]
  },
  {
   "cell_type": "markdown",
   "id": "f7b4dda4",
   "metadata": {
    "slideshow": {
     "slide_type": "slide"
    },
    "tags": []
   },
   "source": [
    "<img src=\"../from-google-slides/l01-png/fromkn.043.png\">"
   ]
  },
  {
   "cell_type": "markdown",
   "id": "00012b91",
   "metadata": {
    "slideshow": {
     "slide_type": "skip"
    },
    "tags": []
   },
   "source": [
    "**NOTE:**"
   ]
  },
  {
   "cell_type": "markdown",
   "id": "0399b736",
   "metadata": {
    "slideshow": {
     "slide_type": "notes"
    },
    "tags": []
   },
   "source": []
  },
  {
   "cell_type": "markdown",
   "id": "df29340b",
   "metadata": {
    "slideshow": {
     "slide_type": "Skip"
    },
    "tags": []
   },
   "source": [
    "- - -"
   ]
  },
  {
   "cell_type": "markdown",
   "id": "87b09e49",
   "metadata": {
    "slideshow": {
     "slide_type": "slide"
    },
    "tags": []
   },
   "source": [
    "<img src=\"../from-google-slides/l01-png/fromkn.044.png\">"
   ]
  },
  {
   "cell_type": "markdown",
   "id": "f4e6d8c0",
   "metadata": {
    "slideshow": {
     "slide_type": "skip"
    },
    "tags": []
   },
   "source": [
    "**NOTE:**"
   ]
  },
  {
   "cell_type": "markdown",
   "id": "f47eff79",
   "metadata": {
    "slideshow": {
     "slide_type": "notes"
    },
    "tags": []
   },
   "source": []
  },
  {
   "cell_type": "markdown",
   "id": "b2459a48",
   "metadata": {
    "slideshow": {
     "slide_type": "Skip"
    },
    "tags": []
   },
   "source": [
    "- - -"
   ]
  },
  {
   "cell_type": "markdown",
   "id": "601fa9c9",
   "metadata": {
    "slideshow": {
     "slide_type": "slide"
    },
    "tags": []
   },
   "source": [
    "<img src=\"../from-google-slides/l01-png/fromkn.045.png\">"
   ]
  },
  {
   "cell_type": "markdown",
   "id": "ee41364b",
   "metadata": {
    "slideshow": {
     "slide_type": "skip"
    },
    "tags": []
   },
   "source": [
    "**NOTE:**"
   ]
  },
  {
   "cell_type": "markdown",
   "id": "fe123207",
   "metadata": {
    "slideshow": {
     "slide_type": "notes"
    },
    "tags": []
   },
   "source": []
  },
  {
   "cell_type": "markdown",
   "id": "e92bded2",
   "metadata": {
    "slideshow": {
     "slide_type": "Skip"
    },
    "tags": []
   },
   "source": [
    "- - -"
   ]
  },
  {
   "cell_type": "markdown",
   "id": "fd121af2",
   "metadata": {
    "slideshow": {
     "slide_type": "slide"
    },
    "tags": []
   },
   "source": [
    "<img src=\"../from-google-slides/l01-png/fromkn.046.png\">"
   ]
  },
  {
   "cell_type": "markdown",
   "id": "2f80df29",
   "metadata": {
    "slideshow": {
     "slide_type": "skip"
    },
    "tags": []
   },
   "source": [
    "**NOTE:**"
   ]
  },
  {
   "cell_type": "markdown",
   "id": "f7f15c24",
   "metadata": {
    "slideshow": {
     "slide_type": "notes"
    },
    "tags": []
   },
   "source": []
  },
  {
   "cell_type": "markdown",
   "id": "91dbebf2",
   "metadata": {
    "slideshow": {
     "slide_type": "Skip"
    },
    "tags": []
   },
   "source": [
    "- - -"
   ]
  },
  {
   "cell_type": "markdown",
   "id": "1607a19b",
   "metadata": {
    "slideshow": {
     "slide_type": "slide"
    },
    "tags": []
   },
   "source": [
    "<img src=\"../from-google-slides/l01-png/fromkn.047.png\">"
   ]
  },
  {
   "cell_type": "markdown",
   "id": "0a3c9b69",
   "metadata": {
    "slideshow": {
     "slide_type": "skip"
    },
    "tags": []
   },
   "source": [
    "**NOTE:**"
   ]
  },
  {
   "cell_type": "markdown",
   "id": "24f39250",
   "metadata": {
    "slideshow": {
     "slide_type": "notes"
    },
    "tags": []
   },
   "source": []
  },
  {
   "cell_type": "markdown",
   "id": "15d7ef94",
   "metadata": {
    "slideshow": {
     "slide_type": "Skip"
    },
    "tags": []
   },
   "source": [
    "- - -"
   ]
  },
  {
   "cell_type": "markdown",
   "id": "39cb6a73",
   "metadata": {
    "slideshow": {
     "slide_type": "slide"
    },
    "tags": []
   },
   "source": [
    "<img src=\"../from-google-slides/l01-png/fromkn.048.png\">"
   ]
  },
  {
   "cell_type": "markdown",
   "id": "3599d283",
   "metadata": {
    "slideshow": {
     "slide_type": "skip"
    },
    "tags": []
   },
   "source": [
    "**NOTE:**"
   ]
  },
  {
   "cell_type": "markdown",
   "id": "01fe1a21",
   "metadata": {
    "slideshow": {
     "slide_type": "notes"
    },
    "tags": []
   },
   "source": []
  },
  {
   "cell_type": "markdown",
   "id": "cfebcb2b",
   "metadata": {
    "slideshow": {
     "slide_type": "Skip"
    },
    "tags": []
   },
   "source": [
    "- - -"
   ]
  },
  {
   "cell_type": "markdown",
   "id": "dc4f8aac",
   "metadata": {
    "slideshow": {
     "slide_type": "slide"
    },
    "tags": []
   },
   "source": [
    "<img src=\"../from-google-slides/l01-png/fromkn.049.png\">"
   ]
  },
  {
   "cell_type": "markdown",
   "id": "9d555a51",
   "metadata": {
    "slideshow": {
     "slide_type": "skip"
    },
    "tags": []
   },
   "source": [
    "**NOTE:**"
   ]
  },
  {
   "cell_type": "markdown",
   "id": "8f4065a4",
   "metadata": {
    "slideshow": {
     "slide_type": "notes"
    },
    "tags": []
   },
   "source": []
  },
  {
   "cell_type": "markdown",
   "id": "5dbf40ea",
   "metadata": {
    "slideshow": {
     "slide_type": "Skip"
    },
    "tags": []
   },
   "source": [
    "- - -"
   ]
  },
  {
   "cell_type": "markdown",
   "id": "7a7693d9",
   "metadata": {
    "slideshow": {
     "slide_type": "slide"
    },
    "tags": []
   },
   "source": [
    "<img src=\"../from-google-slides/l01-png/fromkn.050.png\">"
   ]
  },
  {
   "cell_type": "markdown",
   "id": "ffd5ae9d",
   "metadata": {
    "slideshow": {
     "slide_type": "skip"
    },
    "tags": []
   },
   "source": [
    "**NOTE:**"
   ]
  },
  {
   "cell_type": "markdown",
   "id": "6b7b5a69",
   "metadata": {
    "slideshow": {
     "slide_type": "notes"
    },
    "tags": []
   },
   "source": []
  },
  {
   "cell_type": "markdown",
   "id": "19dd3dd8",
   "metadata": {
    "slideshow": {
     "slide_type": "Skip"
    },
    "tags": []
   },
   "source": [
    "- - -"
   ]
  },
  {
   "cell_type": "markdown",
   "id": "fb9e70d9",
   "metadata": {
    "slideshow": {
     "slide_type": "slide"
    },
    "tags": []
   },
   "source": [
    "<img src=\"../from-google-slides/l01-png/fromkn.051.png\">"
   ]
  },
  {
   "cell_type": "markdown",
   "id": "acc71774",
   "metadata": {
    "slideshow": {
     "slide_type": "skip"
    },
    "tags": []
   },
   "source": [
    "**NOTE:**"
   ]
  },
  {
   "cell_type": "markdown",
   "id": "a7610992",
   "metadata": {
    "slideshow": {
     "slide_type": "notes"
    },
    "tags": []
   },
   "source": []
  },
  {
   "cell_type": "markdown",
   "id": "66b1992c",
   "metadata": {
    "slideshow": {
     "slide_type": "Skip"
    },
    "tags": []
   },
   "source": [
    "- - -"
   ]
  },
  {
   "cell_type": "markdown",
   "id": "c951bcaa",
   "metadata": {
    "slideshow": {
     "slide_type": "slide"
    },
    "tags": []
   },
   "source": [
    "<img src=\"../from-google-slides/l01-png/fromkn.052.png\">"
   ]
  },
  {
   "cell_type": "markdown",
   "id": "6b255bc9",
   "metadata": {
    "slideshow": {
     "slide_type": "skip"
    },
    "tags": []
   },
   "source": [
    "**NOTE:**"
   ]
  },
  {
   "cell_type": "markdown",
   "id": "d68f2cec",
   "metadata": {
    "slideshow": {
     "slide_type": "notes"
    },
    "tags": []
   },
   "source": []
  },
  {
   "cell_type": "markdown",
   "id": "f5e67520",
   "metadata": {
    "slideshow": {
     "slide_type": "Skip"
    },
    "tags": []
   },
   "source": [
    "- - -"
   ]
  },
  {
   "cell_type": "markdown",
   "id": "65ed6276",
   "metadata": {
    "slideshow": {
     "slide_type": "slide"
    },
    "tags": []
   },
   "source": [
    "<img src=\"../from-google-slides/l01-png/fromkn.053.png\">"
   ]
  },
  {
   "cell_type": "markdown",
   "id": "490ebe3a",
   "metadata": {
    "slideshow": {
     "slide_type": "skip"
    },
    "tags": []
   },
   "source": [
    "**NOTE:**"
   ]
  },
  {
   "cell_type": "markdown",
   "id": "c148a0eb",
   "metadata": {
    "slideshow": {
     "slide_type": "notes"
    },
    "tags": []
   },
   "source": []
  },
  {
   "cell_type": "markdown",
   "id": "19ccc493",
   "metadata": {
    "slideshow": {
     "slide_type": "Skip"
    },
    "tags": []
   },
   "source": [
    "- - -"
   ]
  },
  {
   "cell_type": "markdown",
   "id": "237ba40a",
   "metadata": {
    "slideshow": {
     "slide_type": "slide"
    },
    "tags": []
   },
   "source": [
    "<img src=\"../from-google-slides/l01-png/fromkn.054.png\">"
   ]
  },
  {
   "cell_type": "markdown",
   "id": "ea230855",
   "metadata": {
    "slideshow": {
     "slide_type": "skip"
    },
    "tags": []
   },
   "source": [
    "**NOTE:**"
   ]
  },
  {
   "cell_type": "markdown",
   "id": "cf66e833",
   "metadata": {
    "slideshow": {
     "slide_type": "notes"
    },
    "tags": []
   },
   "source": []
  },
  {
   "cell_type": "markdown",
   "id": "eeec79a8",
   "metadata": {
    "slideshow": {
     "slide_type": "Skip"
    },
    "tags": []
   },
   "source": [
    "- - -"
   ]
  },
  {
   "cell_type": "markdown",
   "id": "45d75ece",
   "metadata": {
    "slideshow": {
     "slide_type": "slide"
    },
    "tags": []
   },
   "source": [
    "<img src=\"../from-google-slides/l01-png/fromkn.055.png\">"
   ]
  },
  {
   "cell_type": "markdown",
   "id": "1e5158fa",
   "metadata": {
    "slideshow": {
     "slide_type": "skip"
    },
    "tags": []
   },
   "source": [
    "**NOTE:**"
   ]
  },
  {
   "cell_type": "markdown",
   "id": "84f5f360",
   "metadata": {
    "slideshow": {
     "slide_type": "notes"
    },
    "tags": []
   },
   "source": []
  },
  {
   "cell_type": "markdown",
   "id": "17508b11",
   "metadata": {
    "slideshow": {
     "slide_type": "Skip"
    },
    "tags": []
   },
   "source": [
    "- - -"
   ]
  },
  {
   "cell_type": "markdown",
   "id": "c26f38ce",
   "metadata": {
    "slideshow": {
     "slide_type": "slide"
    },
    "tags": []
   },
   "source": [
    "<img src=\"../from-google-slides/l01-png/fromkn.056.png\">"
   ]
  },
  {
   "cell_type": "markdown",
   "id": "b0c50989",
   "metadata": {
    "slideshow": {
     "slide_type": "skip"
    },
    "tags": []
   },
   "source": [
    "**NOTE:**"
   ]
  },
  {
   "cell_type": "markdown",
   "id": "90ce7891",
   "metadata": {
    "slideshow": {
     "slide_type": "notes"
    },
    "tags": []
   },
   "source": []
  },
  {
   "cell_type": "markdown",
   "id": "7266a672",
   "metadata": {
    "slideshow": {
     "slide_type": "Skip"
    },
    "tags": []
   },
   "source": [
    "- - -"
   ]
  },
  {
   "cell_type": "markdown",
   "id": "5f6a50b2",
   "metadata": {
    "slideshow": {
     "slide_type": "slide"
    },
    "tags": []
   },
   "source": [
    "<img src=\"../from-google-slides/l01-png/fromkn.057.png\">"
   ]
  },
  {
   "cell_type": "markdown",
   "id": "bdf247af",
   "metadata": {
    "slideshow": {
     "slide_type": "skip"
    },
    "tags": []
   },
   "source": [
    "**NOTE:**"
   ]
  },
  {
   "cell_type": "markdown",
   "id": "76700f3d",
   "metadata": {
    "slideshow": {
     "slide_type": "notes"
    },
    "tags": []
   },
   "source": []
  },
  {
   "cell_type": "markdown",
   "id": "33935251",
   "metadata": {
    "slideshow": {
     "slide_type": "Skip"
    },
    "tags": []
   },
   "source": [
    "- - -"
   ]
  },
  {
   "cell_type": "markdown",
   "id": "9f664f9c",
   "metadata": {
    "slideshow": {
     "slide_type": "slide"
    },
    "tags": []
   },
   "source": [
    "<img src=\"../from-google-slides/l01-png/fromkn.058.png\">"
   ]
  },
  {
   "cell_type": "markdown",
   "id": "27b28ea2",
   "metadata": {
    "slideshow": {
     "slide_type": "skip"
    },
    "tags": []
   },
   "source": [
    "**NOTE:**"
   ]
  },
  {
   "cell_type": "markdown",
   "id": "32b7fae3",
   "metadata": {
    "slideshow": {
     "slide_type": "notes"
    },
    "tags": []
   },
   "source": []
  },
  {
   "cell_type": "markdown",
   "id": "791b13ca",
   "metadata": {
    "slideshow": {
     "slide_type": "Skip"
    },
    "tags": []
   },
   "source": [
    "- - -"
   ]
  },
  {
   "cell_type": "markdown",
   "id": "a70c0c49",
   "metadata": {
    "slideshow": {
     "slide_type": "slide"
    },
    "tags": []
   },
   "source": [
    "<img src=\"../from-google-slides/l01-png/fromkn.059.png\">"
   ]
  },
  {
   "cell_type": "markdown",
   "id": "75839418",
   "metadata": {
    "slideshow": {
     "slide_type": "skip"
    },
    "tags": []
   },
   "source": [
    "**NOTE:**"
   ]
  },
  {
   "cell_type": "markdown",
   "id": "6cc4338f",
   "metadata": {
    "slideshow": {
     "slide_type": "notes"
    },
    "tags": []
   },
   "source": []
  },
  {
   "cell_type": "markdown",
   "id": "1e0e1530",
   "metadata": {
    "slideshow": {
     "slide_type": "Skip"
    },
    "tags": []
   },
   "source": [
    "- - -"
   ]
  },
  {
   "cell_type": "markdown",
   "id": "3fb0193e",
   "metadata": {
    "slideshow": {
     "slide_type": "slide"
    },
    "tags": []
   },
   "source": [
    "<img src=\"../from-google-slides/l01-png/.ipynb_checkpoints/fromkn.001-checkpoint.png\">"
   ]
  },
  {
   "cell_type": "markdown",
   "id": "e657f072",
   "metadata": {
    "slideshow": {
     "slide_type": "skip"
    },
    "tags": []
   },
   "source": [
    "**NOTE:**"
   ]
  },
  {
   "cell_type": "markdown",
   "id": "dc26387d",
   "metadata": {
    "slideshow": {
     "slide_type": "notes"
    },
    "tags": []
   },
   "source": []
  },
  {
   "cell_type": "markdown",
   "id": "c5473bcc",
   "metadata": {
    "slideshow": {
     "slide_type": "Skip"
    },
    "tags": []
   },
   "source": [
    "- - -"
   ]
  },
  {
   "cell_type": "markdown",
   "id": "1834dd30",
   "metadata": {
    "slideshow": {
     "slide_type": "slide"
    },
    "tags": []
   },
   "source": [
    "<img src=\"../from-google-slides/l01-png/.ipynb_checkpoints/fromkn.002-checkpoint.png\">"
   ]
  },
  {
   "cell_type": "markdown",
   "id": "800494ae",
   "metadata": {
    "slideshow": {
     "slide_type": "skip"
    },
    "tags": []
   },
   "source": [
    "**NOTE:**"
   ]
  },
  {
   "cell_type": "markdown",
   "id": "28651dde",
   "metadata": {
    "slideshow": {
     "slide_type": "notes"
    },
    "tags": []
   },
   "source": []
  },
  {
   "cell_type": "markdown",
   "id": "8bdc9779",
   "metadata": {
    "slideshow": {
     "slide_type": "Skip"
    },
    "tags": []
   },
   "source": [
    "- - -"
   ]
  }
 ],
 "metadata": {
  "kernelspec": {
   "display_name": "Python 3 (ipykernel)",
   "language": "python",
   "name": "python3"
  },
  "language_info": {
   "codemirror_mode": {
    "name": "ipython",
    "version": 3
   },
   "file_extension": ".py",
   "mimetype": "text/x-python",
   "name": "python",
   "nbconvert_exporter": "python",
   "pygments_lexer": "ipython3",
   "version": "3.10.5"
  },
  "rise": {
   "autolaunch": false,
   "enable_chalkboard": true,
   "height": "100%",
   "scroll": true,
   "start_slideshow_at": "selected",
   "transition": "none",
   "width": "100%"
  }
 },
 "nbformat": 4,
 "nbformat_minor": 5
}
