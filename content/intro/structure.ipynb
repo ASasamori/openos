{
 "cells": [
  {
   "cell_type": "code",
   "execution_count": null,
   "id": "579d7c77-3b46-470a-a73c-0c6e4dbaeb62",
   "metadata": {
    "tags": [
     "remove-cell",
     "remove-input",
     "hide-output"
    ]
   },
   "outputs": [],
   "source": [
    "%run -i ../python/common.py\n",
    "publish=False\n",
    "\n",
    "if not publish:\n",
    "    # cleanup any old state\n",
    "    bashCmds('''[[ -d mydir ]] && rm -rf mydir\n",
    "    [[ -a myfile ]] && rm myfile\n",
    "    [[ -a errors ]] && rm errors \n",
    "    [[ -a mydate ]] && rm mydate\n",
    "    [[ -a mynewdir ]] && rm -rf mynewdir\n",
    "    [[ -a anotherfile ]] && rm anotherfile\n",
    "    [[ -a mybin ]] && rm -rf  mybin\n",
    "    [[ -a myinfo ]] && rm myinfo''')\n",
    "else:\n",
    "    bashCmds('''rm -rf ~/*''')\n",
    "    \n",
    "closeAllOpenTtySessions()\n",
    "bash = BashSession()\n",
    "\n",
    "generated=\"~/myfile ~/errors ~/mydate ~/mydir ~/mynewdir ~/out\"\n"
   ]
  },
  {
   "cell_type": "markdown",
   "id": "603bf3ef-53cb-4515-9ed1-3176fef31785",
   "metadata": {},
   "source": [
    "```{warning}\n",
    "This portion of the book is under construction, not ready to be read\n",
    "```"
   ]
  },
  {
   "cell_type": "markdown",
   "id": "7492c30c-0030-452f-b473-059eaab0b683",
   "metadata": {
    "tags": [
     "remove-input",
     "remove-output"
    ]
   },
   "source": [
    "```{toggle}\n",
    "Outline\n",
    "\n",
    "- Unix and Linux\n",
    "  - 100s of OS, but we want to focus on one\n",
    "  - linux obvious choice, OS for developers by developers\n",
    "  - covers massive\n",
    "- Structure\n",
    "  - discuss picture, virtual computer on top of physical computer, enbabling many applications to run\n",
    "  - as we already aluded, process is the virtual computer, most of the instructions are the same, but the kernel adds additional logical instructions, we call system calls\n",
    "  - has virtual CPU, virtual memory, and it has files for I/O, i.e. persistence, special files (pipes and sockets) for communication; these are discussed more in next chapter\n",
    "  - the structure is shown in more detail in next figure, core OS services include, \n",
    "  - much of the code both in applications and the kernel are dyanically loaded\n",
    "\n",
    "```"
   ]
  },
  {
   "cell_type": "markdown",
   "id": "35a1daa7-61de-46d7-8421-567c9caf62b9",
   "metadata": {},
   "source": [
    " (cont:gs:structure)=\n",
    " # Operating System Structure & Unix/Linux\n",
    "\n",
    "We [first](cont:gs:linux) discuss why we focus in this book on Linux, and [then](cont:gs:structure:linux) discuss how systems like Linux are structured and how the core services.  The [next](cont:gs:services) chapter describes some of the key abstractions those services provide to applications. \n",
    " \n",
    " "
   ]
  },
  {
   "cell_type": "markdown",
   "id": "1cb8b007-7f6a-4527-afe4-8685596147ae",
   "metadata": {},
   "source": [
    "(cont:gs:structure:linux)=\n",
    "## Unix and Linux\n",
    "\n",
    "There are hundreds of operating systems that have been developed over the years, many of which are designed to hide most aspect of the computer from \"normal\" users.  Those users mainly just wants to use programs written by others.  The interface of these operating systems tend to focus on graphics and visually oriented ways of interacting with programs.  <img align=\"right\" src=\"../images/intro/Unix.gif\" width=\"25%\" style=\"margin: auto auto auto auto\"> \n",
    "UNIX on the other hand assumes that its users are primarily programmers.  Its design and collection of tools are not meant to be particularly user friendly.   Rather UNIX is designed to allow programmers to be very productive and to support a broad range of programming tools.  \n",
    "\n",
    "\n",
    "While most elements of this book apply to most operating systems, we typically focus on Unix, and, in particular, the  *Linux* open source variant of Unix for a number of reasons:\n",
    "\n",
    "1. Even many operating systems like MacOS and Android, have a form of Unix or Linux at their core.  If you want to really understand these systems, you need to understand Unix.\n",
    "2. The [UNIX](https://www.opengroup.org/membership/forums/platform/unix) operating system was built by master programmers who valued programmability and productivity.  In some sense learning to work on the UNIX systems is a right of passage that not only teaches you how to be productive on a computer running the UNIX operating system but teaches you to think and act like a programmer.\n",
    "3. Unix is designed with a core principle of small programs that can compose together through file system interfaces. You are encouraged to writing little re-usable programs that you incrementally evolve as needed and combine with others to get big tasks done.\n",
    "4. UNIX's programming oriented nature leads to an environment in which almost anything about the OS and user experience can be customized and programmed.  UNIX makes automation the name of the game -- largely everything you can do manually can be turned into a program that automates the task. \n",
    "4. Linux, the dominant Unix today, is open source, enabling programmers and researchers to go deep into the code. Anyone can modify the operating system to support their system, or to enable their new workload. \n",
    "\n",
    "UNIX/Linux's programming friendly nature has lead to the development of a very large and rich body of existing software, with contributions from researchers, industry, students and hobbyists  alike.  This body of software has come to be a large scale shared human repository that we rely on heavily.\n",
    "As a result, the computer servers that form the core of the Internet and the Cloud largely run Linux. Many of the computers embedded in the devices that surround us from wifi routers, medical devices, automobiles, and everything else also often run a version of Linux.  In fact, Android is, at its core, Linux.  \n",
    "\n",
    "> <img style=\"margin: 1em auto 0 0;\" align=\"left\" width=\"60px\" src=\"../images/intro/history.png\"> <p style=\"background-color:powderblue;\"> Unix recently celebrated its 50th year Anniversary. <br>\n",
    "    [50 Years of Unix](https://www.bell-labs.com/about/history/innovation-stories/50-years-unix/#gref) <br>\n",
    "The people and its history are a fascinating journey into how we have gotten to where we are today. <br>\n",
    "  [The Strange birth and long life of Unix](https://spectrum.ieee.org/the-strange-birth-and-long-life-of-unix#toggle-gdpr) <br>\n",
    "  UNIX and it's children literally make our digital world go around and will likely continue to do so for the quite some time. \n",
    "</p>\n",
    "\n"
   ]
  },
  {
   "cell_type": "markdown",
   "id": "ce2b97b3-4730-40c9-b71d-3451ddb37ac5",
   "metadata": {},
   "source": [
    "(cont:gs:structure:linux)=\n",
    "## OS Structure and services\n",
    "\n",
    "As stated [earlier](cont:gs:purpose:platform:abs), operating systems provide a set of virtual abstractions on top of the primitive capabilities provided by hardware.  Most operating systems today, and Linux in particular, provide these abstractions in the OS *kernel* (see {numref}`os-struc`).  The kernel runs at the highest permissions in the hardware, can access any memory or device.  All untrusted application code, runs in *processes*, where any access to the real computer is controlled by the kernel.\n",
    "\n",
    "As we will discuss more later, you can think of a process as a virtual computer. The Linux kernel multiplexes the CPU between different processes, creates a *virtual memory* abstraction that the process has a massive contiguous amount of memory that starts at address $0x0$, and a set of file system abstractions that allow the process to persist data and communicate with other processes. \n",
    "\n",
    "\n",
    "```{figure} ../images/intro/osstructure.syscall.drawio.png\n",
    "---\n",
    "width: 600pt \n",
    "name: os-struc\n",
    "---\n",
    "The kernel controls the computer and provides the abstraction of *processes* for application code. \n",
    "```\n",
    "\n",
    "Only the kernel can executed the priviledged instructions that, for example, control the memory hat a process can see, or switch which process is currently running on a CPU.  These system calls are really\n",
    "\n",
    "Also, when some external event happens, e.g., a timer completed, a network packet arrived, an *interrupt* starts executing code in the kernel.  \n",
    "\n",
    "The kernel adds *logical* instructions to the process, called system calls, that can be used to create new processes, communicate other processes/virtual computers, allocate memory, etc... It also provides *signals* that, similar to interrupts, will will inform the application of external events.   \n",
    "\n",
    "\n",
    "```{figure} ../images/intro/osstructure.services.drawio.png\n",
    "---\n",
    "width: 600pt \n",
    "name: os-struc-services\n",
    "---\n",
    "Core services\n",
    "```\n",
    "\n"
   ]
  },
  {
   "cell_type": "code",
   "execution_count": null,
   "id": "90f306dd-5231-4067-9687-3f8d950f3a33",
   "metadata": {
    "tags": [
     "output_scroll",
     "remove-input"
    ]
   },
   "outputs": [],
   "source": [
    "bash.run(\"man mmap\", height='20em')"
   ]
  },
  {
   "cell_type": "code",
   "execution_count": null,
   "id": "a65a75ea-c1db-42d5-82d8-aa8c42b42703",
   "metadata": {},
   "outputs": [],
   "source": []
  }
 ],
 "metadata": {
  "kernelspec": {
   "display_name": "Python 3 (ipykernel)",
   "language": "python",
   "name": "python3"
  },
  "language_info": {
   "codemirror_mode": {
    "name": "ipython",
    "version": 3
   },
   "file_extension": ".py",
   "mimetype": "text/x-python",
   "name": "python",
   "nbconvert_exporter": "python",
   "pygments_lexer": "ipython3",
   "version": "3.10.5"
  }
 },
 "nbformat": 4,
 "nbformat_minor": 5
}
