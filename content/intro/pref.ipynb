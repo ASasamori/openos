{
 "cells": [
  {
   "cell_type": "markdown",
   "id": "8b40515b-5687-4546-8932-f239f39aba81",
   "metadata": {},
   "source": [
    "# Preface \n",
    "\n",
    "In late 2021 Jonathan Appavoo started discussing with us his vision of creating open source interactive educational materials. You can see an early talk on this here. Somehow, we found ourselves committing to writing an operating system textbook, and here we are.  His book [Under the Covers: The Secret Life of Software](https://jappavoo.github.io/UndertheCovers/textbook/intro_tb.html#under-the-covers-the-secret-life-of-software) is a companion book, and in a perfect world would be used for a system's course that is a prerequisite for an operating systems course based on this book.  Given that that is not always the case, we will cover some of the same material briefly and refer to the corresponding part of his material for more detail. \n",
    "\n",
    "Our motivation to write this book is three fold:\n",
    "\n",
    "1. Our students pay way too much money for textbooks. At one point, students could buy used textbooks, although even then publishers would constantly churn editions to get students to buy new versions. Increasingly, textbooks contain interactive materials, that force students to buy the most recent edition; again its about the money.\n",
    "2. We have found students think in many different ways, and we hypothesize that providing content online, with interlinked materials and interactive content could enable us to address a wider community. In fact, we\n",
    "3. We like many other professors, have our own way of presenting material.  We hope that others will steal (just as we are for Jonathan's book) materials and integrate it into their own ..."
   ]
  },
  {
   "cell_type": "code",
   "execution_count": null,
   "id": "5f5e142d-ae70-48dc-b9f3-d58e62de8e60",
   "metadata": {},
   "outputs": [],
   "source": []
  }
 ],
 "metadata": {
  "kernelspec": {
   "display_name": "Python 3 (ipykernel)",
   "language": "python",
   "name": "python3"
  },
  "language_info": {
   "codemirror_mode": {
    "name": "ipython",
    "version": 3
   },
   "file_extension": ".py",
   "mimetype": "text/x-python",
   "name": "python",
   "nbconvert_exporter": "python",
   "pygments_lexer": "ipython3",
   "version": "3.10.5"
  }
 },
 "nbformat": 4,
 "nbformat_minor": 5
}
