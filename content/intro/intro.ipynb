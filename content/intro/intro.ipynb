{
 "cells": [
  {
   "cell_type": "markdown",
   "id": "d8a9b200-1e1c-41f2-81e3-2a132b3d869b",
   "metadata": {
    "tags": []
   },
   "source": [
    "(cont:gs:intro)= \n",
    "# Introduction to getting started"
   ]
  },
  {
   "cell_type": "markdown",
   "id": "7381984c-008c-4938-b3af-b68493b5b250",
   "metadata": {},
   "source": [
    "This part of the book gives an overview of everything you will learn in more detail in the rest of the book.  We start by discussing the [purpose](cont:gs:purpose) of operating systems today, why it is so valuable to understand them, and some of the reasons we expect operating systems to continue to evolve rapidly in coming years. The the next chapter describes the fundamental [structure](cont:gs:structure) of today's monolithic operating systems, and how applications and devices interact with the OS. We then review [three core services](cont:gs:services) that are fundamental to any operating systems, namely, scheduling, memory management and file systems.  The final chapter on [tools](cont:gs:tools) reviews the fundamental tools that we expect you to master on using Unix to develop system software. "
   ]
  },
  {
   "cell_type": "code",
   "execution_count": null,
   "id": "a695361d-2091-4cda-bc86-c9e41700e617",
   "metadata": {},
   "outputs": [],
   "source": []
  }
 ],
 "metadata": {
  "kernelspec": {
   "display_name": "Python 3 (ipykernel)",
   "language": "python",
   "name": "python3"
  },
  "language_info": {
   "codemirror_mode": {
    "name": "ipython",
    "version": 3
   },
   "file_extension": ".py",
   "mimetype": "text/x-python",
   "name": "python",
   "nbconvert_exporter": "python",
   "pygments_lexer": "ipython3",
   "version": "3.10.5"
  }
 },
 "nbformat": 4,
 "nbformat_minor": 5
}
