{
 "cells": [
  {
   "cell_type": "markdown",
   "id": "d8a9b200-1e1c-41f2-81e3-2a132b3d869b",
   "metadata": {},
   "source": [
    "# Introduction - test"
   ]
  },
  {
   "cell_type": "code",
   "execution_count": null,
   "id": "a3d90b92-b340-44c3-b096-d971c4e59c8d",
   "metadata": {},
   "outputs": [],
   "source": []
  }
 ],
 "metadata": {
  "kernelspec": {
   "display_name": "Python 3 (ipykernel)",
   "language": "python",
   "name": "python3"
  },
  "language_info": {
   "codemirror_mode": {
    "name": "ipython",
    "version": 3
   },
   "file_extension": ".py",
   "mimetype": "text/x-python",
   "name": "python",
   "nbconvert_exporter": "python",
   "pygments_lexer": "ipython3",
   "version": "3.10.5"
  }
 },
 "nbformat": 4,
 "nbformat_minor": 5
}
