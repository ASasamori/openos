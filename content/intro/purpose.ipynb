{
 "cells": [
  {
   "cell_type": "code",
   "execution_count": null,
   "id": "5993fb02-6aa8-4c95-a357-da14309c6134",
   "metadata": {},
   "outputs": [],
   "source": [
    "%run -i ../python/common.py"
   ]
  },
  {
   "cell_type": "markdown",
   "id": "546355f1-c691-4ce5-89de-56db964b96be",
   "metadata": {
    "tags": []
   },
   "source": [
    "(cont:gs:purpose)=\n",
    "# Purpose of operating systems\n",
    "\n",
    "The purpose of an operating system is to provide everything needed to enable applications to run on computers.  We [first](cont:gs:purpose:hw) present a simple model of hardware and why the OS is needed, then discuss how this has resulted in operating systems becoming the [fundamental platform](cont:gs:purpose:platform) that all computing depends on, and finally discuss why, as operating system researchers and developers, feel like the [fun has just started](cont:gs:purpose:care). Our hope is that at the end of this chapter you will not only realize why it is so important for all computer scientists and engineers to have a fundamental understanding of operating systems, but to also to realize why so many people are excited to work on and contribute to operating systems.  Consider that today's dominant operating systems are open source, and rely on 1000s of contributors from all over the world, many who volunteer their time.\n",
    "\n"
   ]
  },
  {
   "cell_type": "markdown",
   "id": "6db59b6d-52dc-420e-9258-6cb252a66c6c",
   "metadata": {
    "tags": []
   },
   "source": [
    "(cont:gs:purpose:hw)=\n",
    "## Mapping applications to hardware\n",
    "\n",
    "A simple model of a computer is depicted in {numref}`simplecomputer-fig`. The smart part that executes instructions is called the Central Processing Unit (CPU) or processor.  The Memory, also referred to as Random Access Memory (RAM), holds the instructions and data that running applications require.  While there are many kinds of I/O devices, for now we only consider two, namely: 1) storage devices, and 2) communication devices.\n",
    "\n",
    "\n",
    "\n",
    "\n",
    "\n",
    "It is normally directly connected to the CPU "
   ]
  },
  {
   "cell_type": "markdown",
   "id": "fb8864d8-058e-4fc4-a9a7-b8bdee03030c",
   "metadata": {
    "tags": []
   },
   "source": [
    "```{figure} ../images/SLS_TheMachine.png\n",
    "---\n",
    "width: 50% \n",
    "align: right\n",
    "name: simplecomputer-fig\n",
    "---\n",
    "A simple model of a computer\n",
    "```"
   ]
  },
  {
   "cell_type": "markdown",
   "id": "f6827595-ffb0-47a2-99b7-671860e1fd94",
   "metadata": {},
   "source": [
    "```{figure} ../images/intro/purpose-OS-source-01.drawio.png\n",
    "---\n",
    "width: 20% \n",
    "align: left\n",
    "name: mappingint-fig\n",
    "---\n",
    "Mapping ugly interfaces of hardware to the needs of applications.\n",
    "```\n",
    "\n",
    "- structure of simple computer {numref}`simplecomputer-fig`, {numref}`mappingint-fig` with processor, memory, storage and communication devices\n",
    "- forward reference to concurrency\n",
    "- discuss core abstractions of each and fundamental properties slow/fast\n"
   ]
  },
  {
   "cell_type": "markdown",
   "id": "9b6ecd2e-91fc-4861-b442-4824351c3f13",
   "metadata": {
    "tags": []
   },
   "source": [
    "(cont:gs:purpose:platform)=\n",
    "## The fundamental platform\n",
    "- translate physical abstractions to virtual/clean ones                                                              \n",
    "- allow many applications to share resources                                                                         \n",
    "- space and time multiplexing                                                                                        \n",
    "- protect users from each other                                                                                      \n",
    "- support many different types of computers                                                                          \n",
    "- protect against attacks                                                                                            \n",
    "- enable control/configuration                                                                                       \n",
    "- enable devices                                                                                                     \n",
    "- summarize tasks of the operating system"
   ]
  },
  {
   "cell_type": "markdown",
   "id": "275e8821-9347-438f-abd9-41932cbda296",
   "metadata": {},
   "source": [
    "(cont:gs:purpose:care)=\n",
    "## Why do we care\n",
    "- core platform everything else relies on, toughest code to write\n",
    "- means that everything relies on it\n",
    "\n",
    "- is the fun over... talk about future/changes\n"
   ]
  },
  {
   "cell_type": "code",
   "execution_count": null,
   "id": "ffa7ecb0-4176-41c6-b018-176239a3dc79",
   "metadata": {
    "tags": [
     "remove-input"
    ]
   },
   "outputs": [],
   "source": []
  }
 ],
 "metadata": {
  "kernelspec": {
   "display_name": "Python 3 (ipykernel)",
   "language": "python",
   "name": "python3"
  },
  "language_info": {
   "codemirror_mode": {
    "name": "ipython",
    "version": 3
   },
   "file_extension": ".py",
   "mimetype": "text/x-python",
   "name": "python",
   "nbconvert_exporter": "python",
   "pygments_lexer": "ipython3",
   "version": "3.10.5"
  }
 },
 "nbformat": 4,
 "nbformat_minor": 5
}
