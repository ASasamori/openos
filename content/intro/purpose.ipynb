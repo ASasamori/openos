{
 "cells": [
  {
   "cell_type": "code",
   "execution_count": null,
   "id": "5993fb02-6aa8-4c95-a357-da14309c6134",
   "metadata": {
    "tags": [
     "remove-cell"
    ]
   },
   "outputs": [],
   "source": [
    "%run -i ../python/common.py\n",
    "\n",
    "closeAllOpenTtySessions()\n",
    "bash = BashSession()"
   ]
  },
  {
   "cell_type": "markdown",
   "id": "546355f1-c691-4ce5-89de-56db964b96be",
   "metadata": {
    "tags": []
   },
   "source": [
    "(cont:gs:purpose)=\n",
    "# Purpose of operating systems\n",
    "\n",
    "The purpose of an operating system is to provide everything needed to enable applications to run on computers.  We [first](cont:gs:purpose:hw) present a simple model of hardware and why the OS is needed, then discuss how this has resulted in operating systems becoming the [fundamental platform](cont:gs:purpose:platform) that all computing depends on, and finally discuss why we, as operating system researchers and developers, feel like the [fun has just started](cont:gs:purpose:care). Our hope is that at the end of this chapter you will not only realize why it is so important for all computer scientists and engineers to have a fundamental understanding of operating systems, but to also to realize why so many people are excited to work on and contribute to operating systems.  Consider that today's dominant operating systems are open source, and rely on 1000s of contributors from all over the world, many who volunteer their time.\n",
    "\n"
   ]
  },
  {
   "cell_type": "markdown",
   "id": "6db59b6d-52dc-420e-9258-6cb252a66c6c",
   "metadata": {
    "tags": []
   },
   "source": [
    "(cont:gs:purpose:hw)=\n",
    "## A simple model of hardware\n",
    "\n",
    "The fundamental job of the operating system is to enable applications to run on a computer.  To understand why this is complicated, consider the very simple model of a computer depicted in {numref}`simplecomputer-fig`.  We briefly describe each of the key components of this computer, and what you need to know for now.\n",
    "\n",
    "```{figure} ../images/intro/hardware.png\n",
    "---\n",
    "width: 50% \n",
    "name: simplecomputer-fig\n",
    "---\n",
    "A simple model of a computer.  The CPU is connected to high speed memory, and through a lower speed bus to a network controller and disk controller that are in turn connected to a network (ethernet in this case) and a disk. \n",
    "```\n",
    "\n",
    "- **Central Processing Unit (CPU)**:  The smart part that executes instructions is called the Central Processing Unit (CPU) or **processor**.  These instructions operating by modifying the contents of various processor registers, and loading new register contents from memory, and storing registers into memory. \n",
    "\n",
    "- **Memory:** Also referred to as **Random Access Memory (RAM)**, holds the instructions and data that running applications require.  It is physically connected to the CPU via direct wiring.  Memory today is normally volatile, where the contents are lost when the computer is powered off.  Random access here refers to the fact that the processor can directly read or write any memory location irrespective of the local of the data in the memory; in contrast to technologies (e.g., hard drives) where the time required varies significantly based on the location of the data.  Memory is organized into bytes, and the processor can load and store any byte of memory into its registers. \n",
    "\n",
    "```{sidebar} Note, for now, we make the simplifying assumption that the CPU executes one instruction at a time, and memory is fast, however as we will discuss:\n",
    "- modern processors can execute hundreds of instructions in parallel\n",
    "- modern computers can be composed of multiple processors,\n",
    "- and memory is today very slow compared to the processor, and normally there are multiple layers of **cache** so that the CPU doesn't have to wait for the slow memory every time it needs to fetch an instruction to execute.\n",
    "```\n",
    "\n",
    "- **I/O bus:** If the computer wasn't connected to anything, you couldn't do much with it.  All computers have some form of Input/Output (or I/O) bus that connects them to different devices.  While there are many kinds of I/O devices, for now we will ignore everything but: 1) storage, and 2) networks.   The processor normally talks to an I/O device by, typically, loading and storing registers on a controller specific to the device, and that controller in turn communicates with the corresponding device(s) and transfers data between the device and memory. \n",
    "\n",
    "- **Storage:** Since the memory is typically volatile, computers have to have some form of storage that are non-volatile.  This may include hard drives, SSDs, optimical drives, usb sticks, etc.  Most storage devices are accessed at a block granularity (e.g., 512 or 4096 bytes), and where entire blocks are transferred between storage and memory. \n",
    "\n",
    "- **Networking:** To talk to the outside world computers are normally connected to some network, typically today ethernet, where information is transferred between memory and the network in some form of packet as shown in {numref}`ethernet-packet'.  When the processor wants to send a message over the network, it is prepared in memory, and then tells the network controller to send it.  When new packets arrive over the network, the controller copies them into memory, and then tells the processor (in some fashion) that a new packet is available to be processed. \n",
    "\n",
    "```{figure} ../images/intro/ethernet-frame.png\n",
    "---\n",
    "width: 80% \n",
    "name: ethernet-packet\n",
    "---\n",
    "A ethernet packet is organized into a frame, that includes the address of the sender, the destination of the packet, the length, and the data or payload and a 32-bit hash (the CRC) of the rest of the contents that can be used to check of the packet has been corrupted in transit.  \n",
    "```\n",
    "\n",
    "\n",
    "\n",
    "\n",
    "\n",
    "\n",
    "\n",
    "\n",
    "\n",
    "\n"
   ]
  },
  {
   "cell_type": "markdown",
   "id": "2b7e5e57-dc7a-4ffa-a47b-3779a0ef4c38",
   "metadata": {
    "tags": []
   },
   "source": [
    "(cont:gs:purpose:platform)=\n",
    "## The fundamental platform\n",
    "\n",
    "What makes operating systems so interesting is that they are the fundamental platform on which all other software is written. We briefly discuss each of their core tasks; basically this is a summary of the entire course in one simple section. \n",
    "\n",
    "\n",
    "### Abstracting Hardware\n",
    "\n",
    "As shown in {numref}`mappingint-fig`, the most important job of the operating system is to provide abstractions that applications can use on top of the complicated hardware abstractions discussed [above](cont:gs:purpose:hw).  It translates physical abstractions to virtual/clean ones that applications can be written to.  \n",
    "\n",
    "Key abstractions that we will be discussing in this book include:\n",
    "- Processes: A virtual abstraction of a processor.  You can start \n",
    "\n",
    "Virtual memory that is enormously larger than the physical memory\n",
    "\n",
    "File systems that organize information into directories and files.\n",
    "\n",
    "When a user want to run an application, or **program**, the operating system loads it from storage into memory and then starts a new process.  There can be multiple processes for the same program running at the same time.  For example, while I am writing this book, when I type \"ps -e\" to tell me all the processes currently running, I find that I have multiple \"bash\" shells running at the same time, a large number of \"python\" programs, and of course the \"ps\" program itself. We will talk more later about what the other parts of this command means."
   ]
  },
  {
   "cell_type": "code",
   "execution_count": null,
   "id": "a6bc4e91-ed05-45b2-872d-ff8e30cb34d6",
   "metadata": {},
   "outputs": [],
   "source": [
    "bash.run(\"ps -e\")"
   ]
  },
  {
   "cell_type": "markdown",
   "id": "358053fb-2af6-4b3a-89d7-b01f299b8da7",
   "metadata": {
    "tags": []
   },
   "source": [
    "These abstractions remain even if the hardware changes, for example, \n",
    "\n",
    "\n",
    "\n",
    "\n",
    "\n",
    "\n",
    "\n",
    "```{figure} ../images/intro/purpose-OS-source-03.drawio.png\n",
    "---\n",
    "width: 20% \n",
    "name: mappingint-fig\n",
    "---\n",
    "Providing interfaces that applications can use on top of the complicated interfaces of today's hardware. \n",
    "```\n",
    "\n",
    "\n",
    "- abstracting the HW - providing interfaces that applications can use\n",
    "   - \n",
    "   - support many different types of computers \n",
    "- mutiplexing hardware - sharing\n",
    "  - allow many applications to share resources  \n",
    "  - supporting requires, e.g., real time... \n",
    "- security:                                                                                 \n",
    "  - protect users from each other                                                           \n",
    "  - protect against attacks                                                                 \n",
    "- enable control/configuration \n",
    "  - tuning\n",
    "  - customization \n",
    "  - specialization\n",
    "- enable devices - not common abstracion                                                                                                   \n",
    "- summarize tasks of the operating system"
   ]
  },
  {
   "cell_type": "markdown",
   "id": "275e8821-9347-438f-abd9-41932cbda296",
   "metadata": {},
   "source": [
    "(cont:gs:purpose:care)=\n",
    "## Why do we care\n",
    "- core platform everything else relies on, toughest code to write\n",
    "- means that everything relies on it\n",
    "\n",
    "- is the fun over... talk about future/changes\n"
   ]
  },
  {
   "cell_type": "code",
   "execution_count": null,
   "id": "ffa7ecb0-4176-41c6-b018-176239a3dc79",
   "metadata": {
    "tags": []
   },
   "outputs": [],
   "source": []
  }
 ],
 "metadata": {
  "kernelspec": {
   "display_name": "Python 3 (ipykernel)",
   "language": "python",
   "name": "python3"
  },
  "language_info": {
   "codemirror_mode": {
    "name": "ipython",
    "version": 3
   },
   "file_extension": ".py",
   "mimetype": "text/x-python",
   "name": "python",
   "nbconvert_exporter": "python",
   "pygments_lexer": "ipython3",
   "version": "3.10.5"
  }
 },
 "nbformat": 4,
 "nbformat_minor": 5
}
