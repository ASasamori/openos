{
 "cells": [
  {
   "cell_type": "code",
   "execution_count": null,
   "id": "ff2ef051-9529-4b0e-a04d-93203f858994",
   "metadata": {},
   "outputs": [],
   "source": []
  },
  {
   "cell_type": "markdown",
   "id": "546355f1-c691-4ce5-89de-56db964b96be",
   "metadata": {
    "tags": []
   },
   "source": [
    "# Purpose of operating systems\n",
    "\n",
    "At fundamental level we have applications and hardware, and the task of the OS is to translate between them. \n",
    "\n"
   ]
  },
  {
   "cell_type": "markdown",
   "id": "d1e1be71-de88-4b06-85fc-12b7077d2844",
   "metadata": {
    "tags": []
   },
   "source": [
    "\n",
    "      - structure of simple computer, with processor, memory, storage and communication devices\n",
    "      - forward reference to concurrency\n",
    "      - discuss core abstractions of each and fundamental properties slow/fast"
   ]
  },
  {
   "cell_type": "markdown",
   "id": "9c52b6a5-27c7-424a-8eed-f7245728b49c",
   "metadata": {},
   "source": [
    "- translate physical abstractions to virtual/clean ones                                                              \n",
    "- allow many applications to share resources                                                                         \n",
    "- space and time multiplexing                                                                                        \n",
    "- protect users from each other                                                                                      \n",
    "- support many different types of computers                                                                          \n",
    "- protect against attacks                                                                                            \n",
    "- enable control/configuration                                                                                       \n",
    "- enable devices                                                                                                     \n",
    "- summarize tasks of the operating system"
   ]
  },
  {
   "cell_type": "markdown",
   "id": "275e8821-9347-438f-abd9-41932cbda296",
   "metadata": {},
   "source": [
    "# Why do we care\n",
    "- core platform everything else relies on, toughest code to write\n",
    "- means that everything relies on it\n",
    "\n",
    "- is the fun over... talk about future/changes\n"
   ]
  },
  {
   "cell_type": "code",
   "execution_count": null,
   "id": "ffa7ecb0-4176-41c6-b018-176239a3dc79",
   "metadata": {},
   "outputs": [],
   "source": []
  }
 ],
 "metadata": {
  "kernelspec": {
   "display_name": "Python 3 (ipykernel)",
   "language": "python",
   "name": "python3"
  },
  "language_info": {
   "codemirror_mode": {
    "name": "ipython",
    "version": 3
   },
   "file_extension": ".py",
   "mimetype": "text/x-python",
   "name": "python",
   "nbconvert_exporter": "python",
   "pygments_lexer": "ipython3",
   "version": "3.10.5"
  }
 },
 "nbformat": 4,
 "nbformat_minor": 5
}
