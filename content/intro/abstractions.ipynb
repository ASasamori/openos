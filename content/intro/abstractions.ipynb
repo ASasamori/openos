{
 "cells": [
  {
   "cell_type": "code",
   "execution_count": null,
   "id": "94d0a792-04c5-4b8b-9110-6639e45eaa72",
   "metadata": {
    "tags": [
     "remove-cell",
     "remove-input",
     "hide-output"
    ]
   },
   "outputs": [],
   "source": [
    "%run -i ../python/common.py\n",
    "publish=False\n",
    "\n",
    "if not publish:\n",
    "    # cleanup any old state\n",
    "    bashCmds('''[[ -d mydir ]] && rm -rf mydir\n",
    "    [[ -a myfile ]] && rm myfile\n",
    "    [[ -a errors ]] && rm errors \n",
    "    [[ -a mydate ]] && rm mydate\n",
    "    [[ -a mynewdir ]] && rm -rf mynewdir\n",
    "    [[ -a anotherfile ]] && rm anotherfile\n",
    "    [[ -a mybin ]] && rm -rf  mybin\n",
    "    [[ -a myinfo ]] && rm myinfo''')\n",
    "else:\n",
    "    bashCmds('''rm -rf ~/*''')\n",
    "    \n",
    "closeAllOpenTtySessions()\n",
    "bash = BashSession()\n",
    "\n",
    "generated=\"~/myfile ~/errors ~/mydate ~/mydir ~/mynewdir ~/out\"\n"
   ]
  },
  {
   "cell_type": "markdown",
   "id": "637f05df-9af8-423e-8689-a18d34f99c69",
   "metadata": {},
   "source": [
    "```{warning}\n",
    "This portion of the book is under construction, not ready to be read\n",
    "```"
   ]
  },
  {
   "cell_type": "markdown",
   "id": "f173d91e-16bf-44f5-8a99-8fbc5ef72fa0",
   "metadata": {},
   "source": [
    "(cont:gs:abstractions)=\n",
    "# Operating System Abstractions"
   ]
  },
  {
   "cell_type": "markdown",
   "id": "83ac9883-32e3-48eb-88a5-2b680bf22966",
   "metadata": {},
   "source": [
    "UNIX has instilled in generations of computer scientists a basic aesthetic for how to design and structure complicated collections of software.  In particular one learns that the designers of UNIX tried to structure the system around a small core set of ideas, \"abstractions\", that once understood allows a programmer to understand the rest of the system and how to get things done.   In this chapter we briefly introduce some of those key abstractions, with the focus being: 1) to provide a conceptual overview, 2) provide enough information to get you started on writing a simple shell; the introductory assignment in many OS courses.  \n",
    "\n"
   ]
  },
  {
   "cell_type": "markdown",
   "id": "a0f72289-4d0c-4e06-8758-60288006ae5e",
   "metadata": {},
   "source": [
    "## Files\n",
    "\n",
    "A core idea of Unix is that everything is a file, where a file is a stream of bytes.  A process can use files to access durable state on a disk, communicate with other processes, find out information about the system, and communicate over the network.   This central idea enables one to write programs that do the same task irrespective of where the data is coming from or going to.  As we will see, it also allows programmers to tie together multiple simple programs to do a more complex task.  \n"
   ]
  },
  {
   "cell_type": "markdown",
   "id": "90f0991b-6859-4363-9212-ae668e2fc5a4",
   "metadata": {},
   "source": [
    "### File Descriptors, read and write\n",
    "As shown {numref}`file-desc` the kernel maintains a table of open files, and a file descriptor is an index into that table that can be used to read or write to a particular file.  Entries are added to the table by operations that open or create a file or create a special file like a network connection.  There are three special file descriptors shown in {numref}`fd-table`, that programs (and libraries) should use for input, output and errors. \n",
    "\n",
    "```{list-table} Standard well known file descriptors. \n",
    ":header-rows: 1\n",
    ":name: fd-table\n",
    ":width: 50%\n",
    "\n",
    "* - Value\n",
    "  - Name\n",
    "  - Purpose\n",
    "* - 0\n",
    "  - stdin\n",
    "  - standard input; process should read data from here\n",
    "* - 1\n",
    "  - stdout\n",
    "  - standard output; process will write its output here\n",
    "* - 2\n",
    "  - stderr\n",
    "  - standard error; process should write out errors here\n",
    "```\n",
    "\n",
    "The system calls that work on all files are:\n",
    "\n",
    "- `n = write(desc, buffer, len)`: Write `len` bytes from `buffer` into a stream identified by `desc`.\n",
    "\n",
    "- `n = read(desc, buffer, max)`: Read `max` bytes (or fewer if no data is available) from stream identified by `desc` into `buffer`and returning the actual number of bytes `n` read.  \n",
    "\n",
    "To make files in the file system look like a stream, on each read or write operation, the kernel increases a per `desc` offset by the amount of data read or written.  Turns out that this naturally matches many applications that naturally read or write files in their entirety, and is key to enabling a common abstraction across all I/O. \n",
    "\n",
    "\n",
    "To understand how to use these operations, you really need to read the manual.  In Linux you can find out about everything using the **man** program.  For example:"
   ]
  },
  {
   "cell_type": "code",
   "execution_count": null,
   "id": "a55b3059-7e74-4fc8-a52e-205ddeea7386",
   "metadata": {
    "tags": [
     "output_scroll",
     "remove-input"
    ]
   },
   "outputs": [],
   "source": [
    "bash.run(\"man 2 write\", height='1in')"
   ]
  },
  {
   "cell_type": "markdown",
   "id": "715447a9-4c30-453f-8733-b2b6b3eafe37",
   "metadata": {
    "tags": []
   },
   "source": [
    "```{note}\n",
    ":class: margin\n",
    "In this case, the *2* refers to the section of the manual for system calls.  To find out about the different sections, you, of course, read the manual about the man command.\n",
    "```\n",
    "\n"
   ]
  },
  {
   "cell_type": "markdown",
   "id": "6c9f2702-ad03-4302-af56-5c9cb2da656b",
   "metadata": {
    "tags": []
   },
   "source": [
    "### Composing programs together\n",
    "\n",
    "So what's the big deal, well it turns out that if we can read and write streams, we can now write programs that combine together to do something very powerful.  For example, the **|** symbol tells the shell to take the output of one program and send it to the input of the next program.  So, lets say we are trying to find all the programs on our computer that have anything to do with perl, the following command will list the contents of the /usr/bin/ directory send the output of that listing to a grep program that searches for the word perl, and send the output of that to a program that counts the number of lines of input it had\n"
   ]
  },
  {
   "cell_type": "code",
   "execution_count": null,
   "id": "80ef3824-4a47-4495-8eab-6e7d4ece0209",
   "metadata": {
    "tags": [
     "output_scroll",
     "remove-input"
    ]
   },
   "outputs": [],
   "source": [
    "bash.run(\"ls /usr/bin/ | grep perl | wc -l\", height='1in')"
   ]
  },
  {
   "cell_type": "markdown",
   "id": "9b4fd6e0-8a4d-47a7-9698-d3233d205c96",
   "metadata": {},
   "source": [
    "Linux now exposes all kinds of information through synthetic file systems, giving users and administrators massive ability to automate.  For example, in ```bash``` the shell we are using ```$$``` lets us know the ``id`` of the process we are in.  So, stealing a nice example from [jonathan](https://jappavoo.github.io/UndertheCovers/textbook/unix/shellintro.html#standard-output-and-redirection), the following command shows the "
   ]
  },
  {
   "cell_type": "code",
   "execution_count": null,
   "id": "95701b2b-10c8-4717-a787-d108c0807e59",
   "metadata": {
    "tags": [
     "remove-input"
    ]
   },
   "outputs": [],
   "source": [
    "bash.run('''ls -l /proc/$$/fd/{0..2}''')"
   ]
  },
  {
   "cell_type": "code",
   "execution_count": null,
   "id": "9e8d3c19-0828-4e27-b437-f0d812154fa7",
   "metadata": {
    "tags": [
     "remove-input"
    ]
   },
   "outputs": [],
   "source": [
    "bash_pid=bash.getPid()\n",
    "bash_stdout=os.path.realpath(\"/proc/\" + bash_pid.__str__() + \"/fd/1\")\n",
    "bash.run(\"file \" + bash_stdout)"
   ]
  },
  {
   "cell_type": "markdown",
   "id": "59700278-a13a-4d11-9daf-d41c1bd4f1d7",
   "metadata": {},
   "source": [
    "And we can see that our stdin, stdout, and stderr all point to a character special file is in Unix is used to represent a terminal, and we can write to that same special device and it will appear in our terminal. "
   ]
  },
  {
   "cell_type": "code",
   "execution_count": null,
   "id": "fef47c6b-d6c0-4e83-987c-6f75a33fddb3",
   "metadata": {
    "tags": [
     "remove-input"
    ]
   },
   "outputs": [],
   "source": [
    "bash.run(\"echo \\\"hello class\\\" > \" + bash_stdout)"
   ]
  },
  {
   "cell_type": "markdown",
   "id": "cedf1dee-ebbf-4524-b07b-89faa8ae691b",
   "metadata": {},
   "source": [
    "The goal of this section was to discuss some of the power of the shell and the abstraction Unix has of everything being a file.  I would strongly encourage reading the shell and unix sections of [Under the Covers: The Secret Life of Software](https://jappavoo.github.io/UndertheCovers/textbook/intro_tb.html#under-the-covers-the-secret-life-of-software)  for a much more detailed coverage of this material."
   ]
  },
  {
   "cell_type": "markdown",
   "id": "3e617704-746e-4770-857e-9f6458827d97",
   "metadata": {},
   "source": [
    "### File system system calls\n",
    "\n",
    "Read and write work for all files, there are also a number of system calls specific to file systems. While we discuss this in more detail [later](cont:fs:interface), we briefly introduce the key information you need to know.  First, it is important to realize that all Unix file systems organize information in a hierarchy as shown in numref}`fs:tree-logical-abs`.  \n",
    "\n",
    "```{figure} ../images/pb-figures/fs/filesys-tree.png\n",
    "---\n",
    "width: 45%\n",
    "name: fs:tree-logical-abs\n",
    "---\n",
    "Logical view: hierarchical file system name space\n",
    "```\n",
    "\n",
    "Some of the system calls specific to file systems are:\n",
    "\n",
    "- `lseek(desc, offset, flag)` Set an open file's current position to that\n",
    "specified by `offset` and `flag`, which specifies whether `offset` is\n",
    "relative to the beginning, end, or current position in the file.\n",
    "\n",
    "- `int desc = open(name, O_READ)`: Verify that file `name` exists and may\n",
    "be read, and then return a *descriptor* which may be used to refer to\n",
    "that file when reading it.\n",
    "\n",
    "- `int desc = open(name, O_WRITE | flags, mode)`: Verify permissions and\n",
    "open `name` for writing, creating it (or erasing existing contents) if\n",
    "necessary as specified in `flags`. Returns a descriptor which may be\n",
    "used for writing to that file.\n",
    "\n",
    "- `close(desc)`: stop using this descriptor, and free any resources\n",
    "allocated for it.\n",
    "\n",
    "- `lseek(desc, offset, flag)`: Set an open file's current position to that\n",
    "specified by `offset` and `flag`, which specifies whether `offset` is\n",
    "relative to the beginning, end, or current position in the file.\n"
   ]
  },
  {
   "cell_type": "markdown",
   "id": "2c674511-b08c-4cdf-92ae-3f12c0cfa45e",
   "metadata": {},
   "source": [
    "### Pipe system calls\n"
   ]
  },
  {
   "cell_type": "markdown",
   "id": "6168d9af-ba49-43c0-8b8f-62d9772eb77a",
   "metadata": {},
   "source": [
    "### Calls to manipulate the file descriptors\n"
   ]
  },
  {
   "cell_type": "markdown",
   "id": "e210ca8a-7fb1-49c1-8633-b66c9a0fdcf2",
   "metadata": {
    "tags": []
   },
   "source": [
    "## saved for potential use\n",
    "\n",
    "```{figure} ../images/intro/file-desc.png\n",
    "---\n",
    "width: 50%\n",
    "name: file-desc\n",
    "---\n",
    "The kernel array of file descriptors.\n",
    "```"
   ]
  },
  {
   "cell_type": "code",
   "execution_count": null,
   "id": "a37a9f84-a382-4fe1-821d-0ca784271e31",
   "metadata": {},
   "outputs": [],
   "source": []
  }
 ],
 "metadata": {
  "kernelspec": {
   "display_name": "Python 3 (ipykernel)",
   "language": "python",
   "name": "python3"
  },
  "language_info": {
   "codemirror_mode": {
    "name": "ipython",
    "version": 3
   },
   "file_extension": ".py",
   "mimetype": "text/x-python",
   "name": "python",
   "nbconvert_exporter": "python",
   "pygments_lexer": "ipython3",
   "version": "3.10.5"
  }
 },
 "nbformat": 4,
 "nbformat_minor": 5
}
