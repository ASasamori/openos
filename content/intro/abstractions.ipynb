{
 "cells": [
  {
   "cell_type": "code",
   "execution_count": null,
   "id": "94d0a792-04c5-4b8b-9110-6639e45eaa72",
   "metadata": {
    "tags": [
     "remove-cell",
     "remove-input",
     "hide-output"
    ]
   },
   "outputs": [],
   "source": [
    "%run -i ../python/common.py\n",
    "publish=False\n",
    "\n",
    "if not publish:\n",
    "    # cleanup any old state\n",
    "    bashCmds('''[[ -d mydir ]] && rm -rf mydir\n",
    "    [[ -a myfile ]] && rm myfile\n",
    "    [[ -a errors ]] && rm errors \n",
    "    [[ -a mydate ]] && rm mydate\n",
    "    [[ -a mynewdir ]] && rm -rf mynewdir\n",
    "    [[ -a anotherfile ]] && rm anotherfile\n",
    "    [[ -a mybin ]] && rm -rf  mybin\n",
    "    [[ -a myinfo ]] && rm myinfo''')\n",
    "else:\n",
    "    bashCmds('''rm -rf ~/*''')\n",
    "    \n",
    "closeAllOpenTtySessions()\n",
    "bash = BashSession()\n",
    "\n",
    "generated=\"~/myfile ~/errors ~/mydate ~/mydir ~/mynewdir ~/out\"\n"
   ]
  },
  {
   "cell_type": "code",
   "execution_count": null,
   "id": "90982c6a-27d3-4520-8913-75825a538aba",
   "metadata": {
    "hide_input": true,
    "tags": []
   },
   "outputs": [],
   "source": [
    "appdir=os.getenv('HOME')\n",
    "appdir=appdir + \"/lec3\"\n",
    "TermShellCmd(\"ls \")\n",
    "output=runTermCmd(\"[[ -d \" + appdir + \" ]] &&  rm -rf \"+ appdir + \n",
    "             \";cp -r ../src/lec3 \" + appdir)"
   ]
  },
  {
   "cell_type": "markdown",
   "id": "637f05df-9af8-423e-8689-a18d34f99c69",
   "metadata": {},
   "source": [
    "```{warning}\n",
    "This portion of the book is under construction, not ready to be read\n",
    "```"
   ]
  },
  {
   "cell_type": "markdown",
   "id": "f173d91e-16bf-44f5-8a99-8fbc5ef72fa0",
   "metadata": {},
   "source": [
    "(cont:gs:abstractions)=\n",
    "# Operating System Abstractions"
   ]
  },
  {
   "cell_type": "markdown",
   "id": "83ac9883-32e3-48eb-88a5-2b680bf22966",
   "metadata": {},
   "source": [
    "UNIX has instilled in generations of engineers a basic aesthetic for how to design and structure complicated collections of software.  In particular one learns that the designers of UNIX tried to structure the system around a small core set of ideas, \"abstractions\", that once understood allows a programmer to understand the rest of the system and how to get things done.   \n",
    "\n",
    "We first describe the fundamental abstraction of [files](cont:gs:abstractions:file) that is core to the power and understand of Unix's ability to enable programs, to be composed together, and how this enables powerful functionality to be implemented in a shell.  We then, using a shell as a example, briefly discuss key abstractions and and the interfaces a shell uses to control [processes](cont:gs:abstractions:process), [operate on file descriptors](cont:gs:abstractions:fs:dup), operate on [files in a file systems](cont:gs:abstractions:fs), enable processes to [communicate](cont:gs:abstractions:pipes) and find out what [happened](cont:gs:abstractions:signals) to processes it started.\n"
   ]
  },
  {
   "cell_type": "markdown",
   "id": "74add05c-24ef-45bb-bdf5-8d113e397d50",
   "metadata": {},
   "source": [
    "(cont:gs:abstractions:file)=\n",
    "## Everything is a file\n",
    "\n",
    "A core idea of Unix is that everything is a file, where a file is a stream of bytes.  As shown {numref}`file-desc` the kernel maintains for each process a *file descriptor table*, where a file descriptor is an index into that table that can be used to read or write to a particular file.  The system calls that work on all files are:\n",
    "\n",
    "- `n = write(desc, buffer, len)`: Write `len` bytes from `buffer` into a stream identified by `desc`.\n",
    "\n",
    "- `n = read(desc, buffer, max)`: Read `max` bytes (or fewer if no data is available) from stream identified by `desc` into `buffer`and returning the actual number of bytes `n` read.  \n",
    "\n",
    "To understand how to use these operations, you really need to read the manual.  In Linux you can find out about everything using the **man** program.  For example, ```man 2 write``` tells you everything about the ```write``` system call:\n",
    "  "
   ]
  },
  {
   "cell_type": "markdown",
   "id": "715447a9-4c30-453f-8733-b2b6b3eafe37",
   "metadata": {
    "tags": []
   },
   "source": [
    "```{note}\n",
    ":class: margin\n",
    "In this case, the *2* refers to the section of the manual for system calls.  To find out about the different sections, you, of course, read the manual about the man command.\n",
    "```\n",
    "\n"
   ]
  },
  {
   "cell_type": "code",
   "execution_count": null,
   "id": "6d54d9b2-f5bd-426d-8df5-b38ed1c1e7ff",
   "metadata": {
    "tags": [
     "output_scroll",
     "remove-input"
    ]
   },
   "outputs": [],
   "source": [
    "bash.run(\"man 2 write\", height='1in')"
   ]
  },
  {
   "cell_type": "markdown",
   "id": "94286072-5486-4733-8950-5f696b05eff2",
   "metadata": {},
   "source": [
    "To make files in the file system look like a stream, on each read or write operation, the kernel increases a (per open file)  `offset` by the amount of data read or written.  Turns out that this naturally matches many applications that read or write files in their entirety. \n",
    "\n",
    "Entries are added to the file descriptor table by operations that open or create a file or create a special file like a network connection, or a tty.  There are three special file descriptors shown in {numref}`fd-table`, that programs (and libraries) should use for input, output and errors. \n",
    "\n",
    "```{figure} ../images/intro/osstructure-fd.drawio.png\n",
    "---\n",
    "width: 50%\n",
    "name: file-desc\n",
    "---\n",
    "The kernel maintains for each process an array of file descriptors, where a process can read or write to any kind of I/O object that are open in its table. \n",
    "```"
   ]
  },
  {
   "cell_type": "markdown",
   "id": "7cd21289-5b32-4847-8624-48c3b46367c5",
   "metadata": {
    "tags": [
     "margin"
    ]
   },
   "source": [
    "```{list-table} Standard well known file descriptors. \n",
    ":header-rows: 1\n",
    ":name: fd-table\n",
    ":widths: 3 5 20\n",
    ":width: 4in\n",
    "\n",
    "* - Value\n",
    "  - Name\n",
    "  - Purpose\n",
    "* - 0\n",
    "  - stdin\n",
    "  - standard input; process should read data from here\n",
    "* - 1\n",
    "  - stdout\n",
    "  - standard output; process will write its output here\n",
    "* - 2\n",
    "  - stderr\n",
    "  - standard error; process should write out errors here\n",
    "```"
   ]
  },
  {
   "cell_type": "markdown",
   "id": "1c62d8a2-25ed-4d2a-937d-92a7c0d02b39",
   "metadata": {
    "tags": []
   },
   "source": [
    "So, for example, the following program echos a string to the terminal:"
   ]
  },
  {
   "cell_type": "code",
   "execution_count": null,
   "id": "445b230c-032c-4df6-8d9e-380ec9829c64",
   "metadata": {
    "tags": [
     "output_scroll",
     "remove-input"
    ]
   },
   "outputs": [],
   "source": [
    "bash.run(\"echo \\\"Hello class\\\"\", height='1in')"
   ]
  },
  {
   "cell_type": "markdown",
   "id": "6e5bc89d-4541-43e7-88ec-67ed15cd0221",
   "metadata": {
    "tags": []
   },
   "source": [
    "While the same program, can have its output redirected to a file:"
   ]
  },
  {
   "cell_type": "code",
   "execution_count": null,
   "id": "d6184aac-cd75-4f6d-a4b9-fe59f0633d96",
   "metadata": {
    "tags": [
     "output_scroll",
     "remove-input"
    ]
   },
   "outputs": [],
   "source": [
    "bash.run(\"echo \\\"Hello class\\\" > /tmp/reshello\")"
   ]
  },
  {
   "cell_type": "markdown",
   "id": "443f534d-dcfc-452d-971a-0d8934bf5509",
   "metadata": {
    "tags": []
   },
   "source": [
    "And we can see that the contents of this file are the same as what was previously written to the terminal, by using the ```cat``` program which writes the contents of a file to the terminal:"
   ]
  },
  {
   "cell_type": "code",
   "execution_count": null,
   "id": "a55b3059-7e74-4fc8-a52e-205ddeea7386",
   "metadata": {
    "tags": [
     "output_scroll",
     "remove-input"
    ]
   },
   "outputs": [],
   "source": [
    "bash.run('''cat /tmp/reshello''')"
   ]
  },
  {
   "cell_type": "markdown",
   "id": "ee5a1c2d-5fe8-4158-93d5-6b63cd5cdd42",
   "metadata": {
    "tags": []
   },
   "source": [
    "```{note}\n",
    ":class: margin\n",
    "This probably seems obvious to a modern reader, i.e., an object oriented design, where you can do the same operations on any object. However, at the time, it was a radical idea, operating systems had specialized interfaces for files with records, terminals, etc…  \n",
    "```\n",
    "\n",
    "This fundamental idea Unix introduced, that you can use the same  `read` and `write` operations on any kind of I/O object, is very powerful.  It enables a single program, depending on how it is launched by the shell, to work on data stored in a file system, data entered on a keyboard, or even on data sent over a network by other processes.  By introducing the idea of a special object/file, a *pipe*, you could allow programs to be combined together to do much more powerful tasks.   The **|** symbol tells the shell to create a pipe that connects the output of one program to the input of the next program.  So, lets say we are trying to find all the programs on our computer that have anything to do with perl, the following command will list the contents of the /usr/bin/ directory send the output of that listing to a grep program that searches for the word perl, and send the output of that to a program that counts the number of lines of input it had"
   ]
  },
  {
   "cell_type": "code",
   "execution_count": null,
   "id": "80ef3824-4a47-4495-8eab-6e7d4ece0209",
   "metadata": {
    "tags": [
     "output_scroll",
     "remove-input"
    ]
   },
   "outputs": [],
   "source": [
    "bash.run(\"ls /usr/bin/ | grep perl | wc -l\", height='1in')"
   ]
  },
  {
   "cell_type": "markdown",
   "id": "9b4fd6e0-8a4d-47a7-9698-d3233d205c96",
   "metadata": {},
   "source": [
    "Today, the idea of everything is a file has been taken much further in Linux.  Linux now exposes all kinds of information through synthetic file systems, giving users and administrators massive ability to automate.  For example, in ```bash``` the shell we are using ```$$``` lets us know the ``id`` of the process we are in.  So, stealing a nice example from [jonathan](https://jappavoo.github.io/UndertheCovers/textbook/unix/shellintro.html#standard-output-and-redirection), the following command shows the "
   ]
  },
  {
   "cell_type": "code",
   "execution_count": null,
   "id": "95701b2b-10c8-4717-a787-d108c0807e59",
   "metadata": {
    "tags": [
     "remove-input"
    ]
   },
   "outputs": [],
   "source": [
    "bash.run('''ls -l /proc/$$/fd/{0..2}''')"
   ]
  },
  {
   "cell_type": "code",
   "execution_count": null,
   "id": "9e8d3c19-0828-4e27-b437-f0d812154fa7",
   "metadata": {
    "tags": [
     "remove-input"
    ]
   },
   "outputs": [],
   "source": [
    "bash_pid=bash.getPid()\n",
    "bash_stdout=os.path.realpath(\"/proc/\" + bash_pid.__str__() + \"/fd/1\")\n",
    "bash.run(\"file \" + bash_stdout)"
   ]
  },
  {
   "cell_type": "markdown",
   "id": "59700278-a13a-4d11-9daf-d41c1bd4f1d7",
   "metadata": {},
   "source": [
    "And we can see that our stdin, stdout, and stderr all point to a character special file is in Unix is used to represent a terminal, and we can write to that same special device and it will appear in our terminal. "
   ]
  },
  {
   "cell_type": "code",
   "execution_count": null,
   "id": "fef47c6b-d6c0-4e83-987c-6f75a33fddb3",
   "metadata": {
    "tags": [
     "remove-input"
    ]
   },
   "outputs": [],
   "source": [
    "bash.run(\"echo \\\"hello class\\\" > \" + bash_stdout)"
   ]
  },
  {
   "cell_type": "markdown",
   "id": "cedf1dee-ebbf-4524-b07b-89faa8ae691b",
   "metadata": {},
   "source": [
    "I would strongly encourage reading the shell and unix sections of [Under the Covers: The Secret Life of Software](https://jappavoo.github.io/UndertheCovers/textbook/intro_tb.html#under-the-covers-the-secret-life-of-software)  for a much more detailed coverage of this material.  However, hopefully this has given you enough information to understand the power Unix introduced by introducing polymorphism in the operating system, and creating a shell that enables you to combine all kinds of programs together in complicated ways.  \n",
    "\n",
    "The remainder of this chapter introduces the core abstractions of Unix, and the system calls you use on those examples, all with examples from a shell. "
   ]
  },
  {
   "cell_type": "markdown",
   "id": "c3faeeb3-a387-4038-969f-f0671faec2dc",
   "metadata": {
    "tags": []
   },
   "source": [
    "(cont:gs:abstractions:process)=\n",
    "## Process management\n",
    "\n",
    "As discussed [previously](cont:gs:structure:linux) a process is a virtual computer, and the kernel provides each process: 1) an abstraction of an isolated CPU (while multiplexing it between different processes), 2) a *virtual memory* abstraction of massive contiguous memory that starts at address $0x0$, and 3) a set of file abstractions that allow the process to persist data and communicate with other processes.    After discussing the state maintained by the kernel, we discuss the interfaces the shell (or any application) can use to manipulate processes. "
   ]
  },
  {
   "cell_type": "markdown",
   "id": "883b89d3-de1c-4161-8ab5-2cb975ca5360",
   "metadata": {
    "tags": []
   },
   "source": [
    "### State\n",
    "As shown in {numref}`img:intro:proc` the kernel maintains a table of all processes, indexed by the `process id`, or `PID` to keep track of all the information about that process.   This includes a pointer to the `file descriptor table`(discussed [earlier](file-desc)), as well as data structures to maintain CPU and memory management state.  For CPU, this includes all the registers that need to be loaded when the process runs.  \n",
    "\n",
    "\n",
    "\n",
    "```{figure} ../images/intro/osstructure-proc.drawio.png\n",
    "---\n",
    "width: 80%\n",
    "name: img:intro:proc\n",
    "---\n",
    "A process table, in the kernel, indexed by PID, points to the file descriptor table, memory management regions, and CPU state. \n",
    "```\n",
    "\n",
    "\n",
    "In today's computers the address space, or *virtual memory*, of a process is a huge contiguous abstraction of memory that goes from 0 to $2^{64}$.  As shown in {numref}`img:intro:mmlay` it is typically divided into  *code* or machine-language instructions (for some reason typically\n",
    "called \"text\"), *initialized data*, consisting of read-only and\n",
    "read-write initialized data, *initialized-zero data*, called \"BSS\" for\n",
    "obscure historical reasons, *heap* or dynamically allocated memory, and\n",
    "*stack*.  The *memory regions* referred to in {numref}`img:intro:mmlay` keeps track of each of these regions. \n",
    "\n",
    "\n",
    "```{figure} ../images/pb-figures/intro/trad-addr-space.png\n",
    "---\n",
    "width: 45%\n",
    "align: right\n",
    "name: img:intro:mmlay\n",
    "---\n",
    "Virtuam memory layout\n",
    "```\n",
    "\n"
   ]
  },
  {
   "cell_type": "markdown",
   "id": "0713b477-d7ee-45ba-9078-31515969930d",
   "metadata": {},
   "source": [
    "### System calls\n",
    "\n",
    "Key System calls in traditional unix related to processes are:\n",
    "\n",
    "\n",
    "- `pid = fork(void)`:  create a child process that is a duplicate of the parent. Return 0 in child, and `PID` of child in parent.\n",
    "\n",
    "- `exit(status)`: terminate the calling process and record the status passed in for others \n",
    "\n",
    "- `pid = waitpid(pid, *status...)`: wait for specified process to complete (or change state), return the status passed on exit, and garbage collect any kernel resources \n",
    "\n",
    "- `err = execve(program, arguments, environment)`: start executing a new process with specified arguments and environment information\n",
    "\n",
    "The `fork` system call duplicates the parent into a new child process, where the only difference that enables the parent and child to distinguish itself is the return value.  You can think of this logically as creating a copy of all the memory, copying the CPU state, and copying the file descriptor able (while incrementing reference counts on all the files pointed to by the file descriptor table). \n",
    "\n",
    "Unix maintains tree in the kernel, where every process has a parent, and a parent may have many children.   For example, below I type I run the bash shell several times, and then printing out the process tree (see `man ps` for arguments) you see that ps is a child of bash, which is a child of bash..."
   ]
  },
  {
   "cell_type": "code",
   "execution_count": null,
   "id": "10465f2f-af9b-49ba-9b3c-aee9d593c0aa",
   "metadata": {
    "tags": [
     "remove-input"
    ]
   },
   "outputs": [],
   "source": [
    "bash.run(\n",
    "    '''bash\n",
    "bash\n",
    "bash\n",
    "ps -jH''')"
   ]
  },
  {
   "cell_type": "markdown",
   "id": "369e6779-ad36-498a-a9b4-0e3c26bfccdd",
   "metadata": {},
   "source": [
    "The `exit` system call causes the process to complete, passing in a status for the reason and `waitpid` waits for a *process* to change status, and if it has executed, returns the status passed in by `exit`.    While most of the state goes away (e.g., the file descriptor table and memory regions) the process descriptor stays around to keep track of this status information. As a result, if another process does not do a wait on a process, it will become a **zombie** (yes, that is a real unix term) holding on to a process descriptor in the kernel forever.   \n",
    "\n",
    "The `execve` sysem call executes a new program replacing the memory regions (BSS, text, ...) with memory from the file which the `program` points to.  The CPU state is set to pass in the arguments, and the file descriptor table is not modified.  Note, `exec` will never return unless there was some kind of failure; it is the same process just executing a different program.  "
   ]
  },
  {
   "cell_type": "markdown",
   "id": "06fed767-6af6-4de8-a077-6fe70ec90d64",
   "metadata": {
    "tags": []
   },
   "source": [
    "(cont:gs:abstractions:process:example)=\n",
    "### Examples\n",
    "\n",
    "Okay lets look at some code. Checking out repository for examples from year\n"
   ]
  },
  {
   "cell_type": "code",
   "execution_count": null,
   "id": "36906722-4c39-4be4-8ddc-0a70fe9f1205",
   "metadata": {
    "tags": [
     "remove-input"
    ]
   },
   "outputs": [],
   "source": [
    "display(Markdown('<font size=\"1.2rem\">' + FileCodeBox(\n",
    "    file=appdir + \"/testfork.c\", \n",
    "    lang=\"c\", \n",
    "    title=\"<b>C: testfork.c\",\n",
    "    h=\"100%\", \n",
    "    w=\"100%\"\n",
    ") + '</font>'))\n",
    "TermShellCmd(\"[[ -a testfork ]] && rm testfork;make testfork\", cwd=appdir, prompt='', noposttext=True)\n",
    "TermShellCmd(\"./testfork\", cwd=appdir, noposttext=True)"
   ]
  },
  {
   "cell_type": "markdown",
   "id": "ad406891-f53d-448e-abb6-3954ea80f3b5",
   "metadata": {},
   "source": [
    "The parent prints out the child `pid` that it gets from the fork, and the its `pid` (from calling `getpid()`), which matches the pid that the child gets from `getppid()`. Again, please use ** man ** to find out about any of these system calls. \n",
    "\n",
    "Here is an example of a simple program that calls fork and exec. "
   ]
  },
  {
   "cell_type": "code",
   "execution_count": null,
   "id": "95410822-cae0-42f1-b165-3850cc53a83f",
   "metadata": {
    "tags": [
     "remove-input"
    ]
   },
   "outputs": [],
   "source": [
    "display(Markdown('<font size=\"1.2rem\">' + FileCodeBox(\n",
    "    file=appdir + \"/doforke.c\", \n",
    "    lang=\"c\", \n",
    "    title=\"<b>------ doforke.c ------------\",\n",
    "    h=\"100%\", \n",
    "    w=\"100%\"\n",
    ") + '</font>'))"
   ]
  },
  {
   "cell_type": "markdown",
   "id": "b3e01263-1793-4155-ad95-ccea1915f772",
   "metadata": {
    "tags": []
   },
   "source": [
    "(cont:gs:abstractions:fs:dup)=\n",
    "## Changing stdin/stdout \n"
   ]
  },
  {
   "cell_type": "markdown",
   "id": "3e617704-746e-4770-857e-9f6458827d97",
   "metadata": {},
   "source": [
    "(cont:gs:abstractions:fs)=\n",
    "## File system\n",
    "\n",
    "\n",
    "Introduce dup2, show how that works\n",
    "\n",
    "So, we know how to read and write from stdin, but how do we direct into a file.  \n",
    "\n",
    "Read and write work for all files, there are also a number of system calls specific to file systems. While we discuss this in more detail [later](cont:fs:interface), we briefly introduce the key information you need to know.  First, it is important to realize that all Unix file systems organize information in a hierarchy as shown in numref}`fs:tree-logical-abs`.  \n",
    "\n",
    "```{figure} ../images/pb-figures/fs/filesys-tree.png\n",
    "---\n",
    "width: 45%\n",
    "name: fs:tree-logical-abs\n",
    "---\n",
    "Logical view: hierarchical file system name space\n",
    "```\n",
    "\n",
    "Some of the system calls specific to file systems are:\n",
    "\n",
    "- `int desc = open(name, O_READ)`: Verify that file `name` exists and may\n",
    "be read, and then return a *descriptor* which may be used to refer to\n",
    "that file when reading it.\n",
    "\n",
    "- `int desc = open(name, O_WRITE | flags, mode)`: Verify permissions and\n",
    "open `name` for writing, creating it (or erasing existing contents) if\n",
    "necessary as specified in `flags`. Returns a descriptor which may be\n",
    "used for writing to that file.\n",
    "\n",
    "- `close(desc)`: stop using this descriptor, and free any resources\n",
    "allocated for it.\n",
    "\n",
    "- `lseek(desc, offset, flag)`: Set an open file's current position to that\n",
    "specified by `offset` and `flag`, which specifies whether `offset` is\n",
    "relative to the beginning, end, or current position in the file.\n",
    "\n",
    "\n",
    "Show new picture of shell code, with redirection"
   ]
  },
  {
   "cell_type": "markdown",
   "id": "d30b3ebe-971c-43ac-b560-ec8105a28fd1",
   "metadata": {
    "tags": []
   },
   "source": [
    "(cont:gs:abstractions:pipes)=\n",
    "## Pipes\n",
    "\n",
    "Okay, but remember that idea of pipe we talked about, well, .. \n"
   ]
  },
  {
   "cell_type": "markdown",
   "id": "16be6171-8e1b-45ff-9771-2da5f390d05a",
   "metadata": {},
   "source": [
    "(cont:gs:abstractions:signals)=\n",
    "## Signals \n",
    "\n",
    "What if you don't want to wait for the program to finish.  Turns out... introduce background.\n",
    "\n",
    "talk about zombies\n",
    "\n",
    "Well remember, we have the abstraction of a virtual computer.  For the physical compter, we have the idea of interrupts.  For virtual comptuer, signals do the same thing. "
   ]
  },
  {
   "cell_type": "markdown",
   "id": "e210ca8a-7fb1-49c1-8633-b66c9a0fdcf2",
   "metadata": {
    "tags": []
   },
   "source": [
    "## Conclusion\n",
    "\n",
    "You might think you know it all, but, we have only talked about \n",
    "\n"
   ]
  },
  {
   "cell_type": "code",
   "execution_count": null,
   "id": "79cf3cfa-5b8d-409c-b0e5-5cbdebf13e76",
   "metadata": {
    "tags": []
   },
   "outputs": [],
   "source": [
    "bash.run('''\n",
    "git clone git@github.com:okrieg/EC440-2022-spring-examples.git >& RES\n",
    "cat EC440-2022-spring-examples/README.md \n",
    "rm -rf EC440-2022-spring-examples >& RES     \n",
    "         ''')"
   ]
  },
  {
   "cell_type": "code",
   "execution_count": null,
   "id": "a37a9f84-a382-4fe1-821d-0ca784271e31",
   "metadata": {},
   "outputs": [],
   "source": []
  }
 ],
 "metadata": {
  "kernelspec": {
   "display_name": "Python 3 (ipykernel)",
   "language": "python",
   "name": "python3"
  },
  "language_info": {
   "codemirror_mode": {
    "name": "ipython",
    "version": 3
   },
   "file_extension": ".py",
   "mimetype": "text/x-python",
   "name": "python",
   "nbconvert_exporter": "python",
   "pygments_lexer": "ipython3",
   "version": "3.10.5"
  }
 },
 "nbformat": 4,
 "nbformat_minor": 5
}
