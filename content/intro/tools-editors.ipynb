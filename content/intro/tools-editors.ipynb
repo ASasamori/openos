{
 "cells": [
  {
   "cell_type": "markdown",
   "id": "7a122ada-e9b3-4092-b70e-5b1e4e51361e",
   "metadata": {
    "tags": []
   },
   "source": [
    "(cont:gs:tools:editors)=\n",
    "# Editors\n",
    "The vast majority of OS developers use text based editors, and in particular [VIM](https://en.wikipedia.org/wiki/Vim_(text_editor)) and [EMACS](https://en.wikipedia.org/wiki/Emacs), which are both available in the container image made available with this book. \n",
    "\n",
    "The choice of which editor you use, for many OS developers, a religion.  They have very different paradigms, vim is a relatively simple editor that is easy to get started with, while emacs takes more time to master, but is enormously more powerful.  \n",
    "\n",
    "With vim, you use it just to modify files, and then exit vim when you want to compile, debug or run your programs. For Vim, to open a file, type `vim <filename>`. When you enter vim, you will automatically be in `normal mode` where you can navigate using your cursor. To insert text, type `i` to enter `insert mode`. or 'a' to enter 'append mode'. when you are done changes, press the `esc` key to enter normal mode, next press `:` to enter `command mode`, lastly press `w` and enter to save. To quit, enter command mode and enter `q`.\n",
    "\n",
    "While you could use emacs in a similar fashion, just to edit files, power users live in emacs and use to to compile, debug, and run their programs; providing enormous power to expert developers.  To open a file in EMACS, type `emacs <filename>`. Unlike in VIM, you will immediately be able to write in/edit thew file. Once you are finished editing, you type `ctrl+x` followed by `ctrl+c` to save and exit. It will prompt you to confirm that you want to save and quit. Typing `y` and then enter will return you to the terminal.  To master emacs, you can \n",
    "\n",
    "\n",
    "\n",
    "**We are requiring that students use EMACS for this course, and those who use VIM will be penalized.**\n",
    "\n",
    "## EMACS Basics\n",
    "EMACS is a slightly more familiar-looking text editor that is valued for its extensibility. It is extremely configurable with a lot of tools and packages available. \n",
    "\n",
    "To open a file in EMACS, type `emacs <filename>`. Unlike in VIM, you will immediately be able to write in/edit thew file. Once you are finished editing, you type `ctrl+x` followed by `ctrl+c` to save and exit. It will prompt you to confirm that you want to save and quit. Typing `y` and then enter will return you to the terminal.\n",
    "\n",
    "EMACS has a built-in tutorial you can follow. Simply type `emacs` in the terminal and then scroll down to the tutorial using the arrow keys and press enter. This will take you through EMACS basics. \n",
    "\n",
    "Here are some navigation commands you might find useful (where C- denotes ctrl+):\n",
    "* **C-v**: go forward one page\n",
    "* **C-f**: move forward one character\n",
    "* **C-b**: move backward one character\n",
    "* **C-n**: move to next line\n",
    "* **C-p**: move to previous line\n",
    "* **C-a**: move to the beginning of a line\n",
    "* **C-e**: move to the end of a line\n",
    "* **C-g**: stop a command that is taking too long to execute\n",
    "\n",
    "## Vim Basics\n",
    "Vim is a \"simple to use, hard to master\" text editor that is valued by vim enthusiasts for its coding effeciency.\n",
    "\n",
    "To open a file in vim, type `vim <filename>`. When you enter vim, you will automatically be in `normal mode` where you can navigate your cursor. To insert text, type `i` to enter `insert mode`. To save a file, first press the `esc` key to enter normal mode, next press `:` to enter `command mode`, lastly press `w` and enter to save. To quit, enter command mode and enter `q`."
   ]
  }
 ],
 "metadata": {
  "kernelspec": {
   "display_name": "Python 3 (ipykernel)",
   "language": "python",
   "name": "python3"
  },
  "language_info": {
   "codemirror_mode": {
    "name": "ipython",
    "version": 3
   },
   "file_extension": ".py",
   "mimetype": "text/x-python",
   "name": "python",
   "nbconvert_exporter": "python",
   "pygments_lexer": "ipython3",
   "version": "3.10.5"
  },
  "vscode": {
   "interpreter": {
    "hash": "f4e3c63a28d2eadc36e3bba0725a6dea388233dd4d06cf5319c6ed40df7370ac"
   }
  }
 },
 "nbformat": 4,
 "nbformat_minor": 5
}
