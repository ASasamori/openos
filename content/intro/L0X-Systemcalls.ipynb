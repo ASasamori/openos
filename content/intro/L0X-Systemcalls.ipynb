{
 "cells": [
  {
   "cell_type": "markdown",
   "id": "6d4a8dbb",
   "metadata": {
    "slideshow": {
     "slide_type": "slide"
    }
   },
   "source": [
    "## System calls - a test presentation\n",
    "\n",
    "System calls are the interface to operating system services - they are how we tell the OS to do something on our behalf\n",
    "\n",
    "- API to the OS\n",
    "- How we ask the OS to do things"
   ]
  },
  {
   "cell_type": "markdown",
   "id": "3a274f32-801e-4c5a-b897-5a1f67032d6d",
   "metadata": {
    "slideshow": {
     "slide_type": "slide"
    },
    "tags": []
   },
   "source": [
    "```{image} ../images/osstructure-1.drawio.png\n",
    ":width: 800px\n",
    ":align: center\n",
    "```"
   ]
  },
  {
   "cell_type": "markdown",
   "id": "8907c26f-ec11-49c0-afc0-502279d2b125",
   "metadata": {},
   "source": [
    "![osstructure](../images/osstructure.drawio.png)"
   ]
  },
  {
   "cell_type": "markdown",
   "id": "2e0119e4",
   "metadata": {
    "slideshow": {
     "slide_type": "slide"
    }
   },
   "source": [
    "```{image} ../images/syscalls_lecture/ec440-2022-spring-02-programming-23.png\n",
    ":width: 800px\n",
    ":align: center\n",
    "```"
   ]
  },
  {
   "cell_type": "markdown",
   "id": "68e050b4",
   "metadata": {
    "slideshow": {
     "slide_type": "slide"
    }
   },
   "source": [
    "<center>\n",
    "<img src=\"../images/syscalls_lecture/ec440-2022-spring-02-programming-24.png\" >\n",
    "</center>"
   ]
  },
  {
   "cell_type": "markdown",
   "id": "5240a537",
   "metadata": {
    "slideshow": {
     "slide_type": "slide"
    }
   },
   "source": [
    "<center>\n",
    "<img src=\"../images/syscalls_lecture/ec440-2022-spring-02-programming-25.png\" >\n",
    "</center>"
   ]
  },
  {
   "cell_type": "markdown",
   "id": "ec2e4b7e",
   "metadata": {
    "slideshow": {
     "slide_type": "slide"
    }
   },
   "source": [
    "<center>\n",
    "<img src=\"../images/syscalls_lecture/ec440-2022-spring-02-programming-26.png\" >\n",
    "</center>"
   ]
  },
  {
   "cell_type": "markdown",
   "id": "c587c817",
   "metadata": {
    "slideshow": {
     "slide_type": "slide"
    }
   },
   "source": [
    "<center>\n",
    "<img src=\"../images/syscalls_lecture/ec440-2022-spring-02-programming-27.png\" >\n",
    "</center>"
   ]
  },
  {
   "cell_type": "markdown",
   "id": "e3d4ae69",
   "metadata": {
    "slideshow": {
     "slide_type": "slide"
    }
   },
   "source": [
    "<center>\n",
    "<img src=\"../images/syscalls_lecture/ec440-2022-spring-02-programming-28.png\" >\n",
    "</center>"
   ]
  },
  {
   "cell_type": "markdown",
   "id": "4a6710be",
   "metadata": {
    "slideshow": {
     "slide_type": "slide"
    }
   },
   "source": [
    "<center>\n",
    "<img src=\"../images/syscalls_lecture/ec440-2022-spring-02-programming-29.png\" >\n",
    "</center>"
   ]
  },
  {
   "cell_type": "markdown",
   "id": "9c91e7b8",
   "metadata": {
    "slideshow": {
     "slide_type": "slide"
    }
   },
   "source": [
    "<center>\n",
    "<img src=\"../images/syscalls_lecture/ec440-2022-spring-02-programming-30.png\" >\n",
    "</center>"
   ]
  },
  {
   "cell_type": "markdown",
   "id": "a962576c",
   "metadata": {
    "slideshow": {
     "slide_type": "slide"
    }
   },
   "source": [
    "## A System Call Interface\n",
    "- Subroutine call/return that:\n",
    "  - transfers control between user and kernel spaces\n",
    "  - Switches between non-privileged and privileged CPU modes\n",
    "- switches stacks between user and kernel spaces\n",
    "- Hardware & OS specific\n",
    "- Special CPU instructions (hardware)\n",
    "  - SYSENTER/SYSCALL (AMD64)\n",
    "  - int (x86)\n",
    "0x80/Linux\n",
    "0x2e/Windows\n",
    " - swi (ARM)\n",
    "\n"
   ]
  },
  {
   "cell_type": "code",
   "execution_count": null,
   "id": "79d1da47",
   "metadata": {},
   "outputs": [],
   "source": []
  }
 ],
 "metadata": {
  "@deathbeds/ipydrawio": {
   "xml": "<mxfile host=\"jupyterhub-redhat-ods-applications.apps.buaws-dev.idu6.p1.openshiftapps.com\" modified=\"2022-08-13T11:26:53.879Z\" agent=\"5.0 (Macintosh; Intel Mac OS X 10_15_7) AppleWebKit/605.1.15 (KHTML, like Gecko) Version/15.5 Safari/605.1.15\" etag=\"UIjCFGPfM3s4_jVxifCJ\" version=\"16.4.5\" type=\"embed\"><diagram id=\"6lBROrNlgkMPQGzhNQHM\" name=\"Page-1\"><mxGraphModel dx=\"672\" dy=\"616\" grid=\"1\" gridSize=\"10\" guides=\"1\" tooltips=\"1\" connect=\"1\" arrows=\"1\" fold=\"1\" page=\"1\" pageScale=\"1\" pageWidth=\"850\" pageHeight=\"1100\" math=\"0\" shadow=\"0\"><root><mxCell id=\"0\"/><mxCell id=\"1\" parent=\"0\"/><mxCell id=\"2\" value=\"Untrusted Applications\" style=\"rounded=0;fillColor=#1ba1e2;fontColor=#ffffff;strokeColor=#006EAF;\" parent=\"1\" vertex=\"1\"><mxGeometry x=\"360\" y=\"170\" width=\"120\" height=\"60\" as=\"geometry\"/></mxCell><mxCell id=\"3\" value=\"Trusted: Operating System&#10;Can do any operation&#10;\" style=\"rounded=0;fillColor=#a20025;fontColor=#ffffff;strokeColor=#6F0000;\" parent=\"1\" vertex=\"1\"><mxGeometry x=\"360\" y=\"240\" width=\"240\" height=\"80\" as=\"geometry\"/></mxCell><mxCell id=\"6\" value=\"Untrusted Applications\" style=\"rounded=0;fillColor=#6a00ff;fontColor=#ffffff;strokeColor=#3700CC;\" parent=\"1\" vertex=\"1\"><mxGeometry x=\"490\" y=\"170\" width=\"120\" height=\"60\" as=\"geometry\"/></mxCell><mxCell id=\"7\" value=\"\" style=\"endArrow=none;rounded=0;fillColor=#f8cecc;strokeColor=#b85450;strokeWidth=3;\" parent=\"1\" edge=\"1\"><mxGeometry width=\"50\" height=\"50\" relative=\"1\" as=\"geometry\"><mxPoint x=\"350\" y=\"240\" as=\"sourcePoint\"/><mxPoint x=\"630\" y=\"240\" as=\"targetPoint\"/></mxGeometry></mxCell><mxCell id=\"8\" value=\"Some hardware protection mechanism&#10;\" style=\"text;strokeColor=none;fillColor=none;align=center;verticalAlign=middle;rounded=0;\" parent=\"1\" vertex=\"1\"><mxGeometry x=\"220\" y=\"225\" width=\"60\" height=\"30\" as=\"geometry\"/></mxCell></root></mxGraphModel></diagram></mxfile>"
  },
  "celltoolbar": "Slideshow",
  "hide_input": false,
  "kernelspec": {
   "display_name": "Python 3 (ipykernel)",
   "language": "python",
   "name": "python3"
  },
  "language_info": {
   "codemirror_mode": {
    "name": "ipython",
    "version": 3
   },
   "file_extension": ".py",
   "mimetype": "text/x-python",
   "name": "python",
   "nbconvert_exporter": "python",
   "pygments_lexer": "ipython3",
   "version": "3.10.5"
  }
 },
 "nbformat": 4,
 "nbformat_minor": 5
}
