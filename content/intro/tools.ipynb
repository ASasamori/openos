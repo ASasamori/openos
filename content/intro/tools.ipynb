{
 "cells": [
  {
   "cell_type": "markdown",
   "id": "57210337-a87e-4269-bb47-d914b5544b02",
   "metadata": {},
   "source": [
    "(cont:gs:tools)=\n",
    "# What you should know\n",
    "\n",
    "From having taught operating systems for multiple years, we have learned two things: you have learned this material in other courses, and you probably got away without really mastering it. For example, many of you have never really written a proper makefile to automate compilation, and most of you have debugged programs without mastering the debugger.\n",
    "\n",
    "Before taking this course, you should have good familiarity with:\n",
    "1. [Unix shells:](cont:gs:tools:shell) The shell in Unix is the fundamental interface to the operating system, and understanding its capabilities is key to using the operating system, developing software, and most importantly for this course, understanding the core abstractions of operating systems.   \n",
    "2. [Editors:](cont:gs:tools:editors) In this section we will introduce two terminal text editors that are frequently used on Unix machines. Learning to write code on these editors are essential without access to modern IDEs with GUIs like Visual Studio Code.\n",
    "3. [Make:](cont:gs:tools:make) As the size of your projects increase, the need for automation via Makefiles also increase. You don't want to be typing the compile commands for all of your files or repetedly pressing the up arrow for previous compile commands after every change.\n",
    "4. [Revision control/git:](cont:gs:tools:git) Version control is important to keep records of long-standing projects and to clearly communicate changes to other developers working on the same project.\n",
    "5. [Debuggers/gdb:](cont:gs:tools:gdb) Print statements won't show everything going on in a process. In addition to printing variable values, GDB allows more powerful debugging tools such as changing the value of variables at run time, switching between threads, examining CPU registers, etc.\n",
    "6. [The C programming language:](cont:gs:tools:c) It is the most used programming language for operating systems. By mastering the language, you will reduce the number of syntax errors, and can focus more on debugging the logical errors.\n",
    "7. [How to test your code:](cont:gs:tools:testing) They are not only used to determine whether or not a program runs correctly, but also to test whether or not you understand how the system is supposed to work. They are really helpful for edge cases. Get rid of the \"guess and check\" mindset and write some tests.\n",
    "\n",
    "We can guarantee that you won't be successful if you do not master your tools because the programming assignments for operating system courses tend to me more demanding. We recommend [this book](https://jappavoo.github.io/UndertheCovers/textbook/unix/intro.html#operating-systems-and-unix) by Jonathan Appavoo as a more detailed reference on most of what we cover here."
   ]
  }
 ],
 "metadata": {
  "kernelspec": {
   "display_name": "Python 3 (ipykernel)",
   "language": "python",
   "name": "python3"
  },
  "language_info": {
   "codemirror_mode": {
    "name": "ipython",
    "version": 3
   },
   "file_extension": ".py",
   "mimetype": "text/x-python",
   "name": "python",
   "nbconvert_exporter": "python",
   "pygments_lexer": "ipython3",
   "version": "3.10.5"
  },
  "vscode": {
   "interpreter": {
    "hash": "f4e3c63a28d2eadc36e3bba0725a6dea388233dd4d06cf5319c6ed40df7370ac"
   }
  }
 },
 "nbformat": 4,
 "nbformat_minor": 5
}
