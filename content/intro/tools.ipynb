{
 "cells": [
  {
   "cell_type": "markdown",
   "id": "57210337-a87e-4269-bb47-d914b5544b02",
   "metadata": {},
   "source": [
    "(cont:gs:tools)=\n",
    "# Tools\n",
    "\n",
    "1. things you need to know: short cheat sheet description with \n",
    "     - terminal and shell\n",
    "     - editors\n",
    "     - makefile\n",
    "     - git\n",
    "     - defensive programming"
   ]
  },
  {
   "cell_type": "markdown",
   "id": "ace101ed-65cc-47eb-85f8-d0b4491430cc",
   "metadata": {},
   "source": [
    "## Shell\n",
    "\n",
    "This is a place where we can steal snippets from [here](https://jappavoo.github.io/UndertheCovers/textbook/unix/intro.html#operating-systems-and-unix) but we want a short repeat in this book. Say for more detail on terminals and shells.. refer to corresponding sections of jonathan's book. \n",
    "\n",
    "- [discussion paths, and type...](https://jappavoo.github.io/UndertheCovers/textbook/unix/shellintro.html#commands-as-files-within-the-path-list) up front, the command to ls everything here and finding all the programs in path is very cool.\n"
   ]
  },
  {
   "cell_type": "markdown",
   "id": "a4177b57-74de-4049-a2d7-fb8b63ba7a96",
   "metadata": {},
   "source": [
    "This is my first edit attempt. -SA"
   ]
  },
  {
   "cell_type": "code",
   "execution_count": null,
   "id": "5175b34c-6301-4442-a7ca-d64925af0be7",
   "metadata": {},
   "outputs": [],
   "source": []
  }
 ],
 "metadata": {
  "kernelspec": {
   "display_name": "Python 3 (ipykernel)",
   "language": "python",
   "name": "python3"
  },
  "language_info": {
   "codemirror_mode": {
    "name": "ipython",
    "version": 3
   },
   "file_extension": ".py",
   "mimetype": "text/x-python",
   "name": "python",
   "nbconvert_exporter": "python",
   "pygments_lexer": "ipython3",
   "version": "3.10.5"
  }
 },
 "nbformat": 4,
 "nbformat_minor": 5
}
