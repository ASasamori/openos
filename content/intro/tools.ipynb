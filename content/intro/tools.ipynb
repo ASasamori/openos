{
 "cells": [
  {
   "cell_type": "markdown",
   "id": "57210337-a87e-4269-bb47-d914b5544b02",
   "metadata": {},
   "source": [
    "(cont:gs:tools)=\n",
    "# Tools\n",
    "\n",
    "1. Things you need to know: short cheat sheet description with \n",
    "     - terminal and shell\n",
    "     - editors\n",
    "     - makefile\n",
    "     - git\n",
    "     - defensive programming\n",
    "     \n",
    "This is a place where we can steal snippets from [here](https://jappavoo.github.io/UndertheCovers/textbook/unix/intro.html#operating-systems-and-unix) but we want a short repeat in this book. Say for more detail on terminals and shells.. refer to corresponding sections of jonathan's book. \n",
    "\n",
    "- [discussion paths, and type...](https://jappavoo.github.io/UndertheCovers/textbook/unix/shellintro.html#commands-as-files-within-the-path-list) up front, the command to ls everything here and finding all the programs in path is very cool."
   ]
  },
  {
   "cell_type": "markdown",
   "id": "ace101ed-65cc-47eb-85f8-d0b4491430cc",
   "metadata": {},
   "source": [
    "## Shell\n",
    "The shell is a basic interface that allows users to communicate with the kernel and any installed programs. When most people interact with computers, they do so through graphical user interfaces that they navigate using a mouse or their finger. The shell is completely text-based and designed for programmers. It has its own programming language of special commands to access kernel functionalities. \n",
    "\n",
    "### Some basic shell commands\n",
    "In this section we will introduce several shell commands that you will see and use very frequently. \n",
    "#### `man <command>`\n",
    "This is probably the most important\n",
    "\n",
    "For more information about any of the commands in this section, consult these **man pages**!\n",
    "#### `pwd`\n",
    "Short for \"print working directory\". Prints your working directory to the terminal.\n",
    "```\n",
    "$ pwd \n",
    "/my/working/directory \n",
    "```\n",
    "#### `cd /directory`\n",
    "Short for \"change directory\". Does not print anything to the terminal. \n",
    "\n",
    "To navigate to the parent directory of your current directory, you can type `cd ..`. To navigate to your home directory, type `cd ~`.\n",
    "\n",
    "#### `ls`\n",
    "This command prints to the terminal the contents of the working directory. Alternatively, you can provide the name of a directory as an argument (e.g., `ls /path/to/directory/`) and it will print the contents of *that* directory instead.\n",
    "\n",
    "#### `cat <filename>`\n",
    "\n"
   ]
  },
  {
   "cell_type": "markdown",
   "id": "a4177b57-74de-4049-a2d7-fb8b63ba7a96",
   "metadata": {},
   "source": [
    "## Makefiles"
   ]
  },
  {
   "cell_type": "markdown",
   "id": "b992a506-bf32-4b84-af66-82967f1d7055",
   "metadata": {},
   "source": [
    "## Git Basics\n",
    "\n",
    "#### `git clone`\n",
    "\n",
    "#### `git add`\n",
    "\n",
    "#### `git commit`\n",
    "\n",
    "#### `git push`\n",
    "\n",
    "#### `git branch`"
   ]
  },
  {
   "cell_type": "code",
   "execution_count": null,
   "id": "d7d044f3-5354-4eb3-80c8-01b0891efdba",
   "metadata": {},
   "outputs": [],
   "source": []
  }
 ],
 "metadata": {
  "kernelspec": {
   "display_name": "Python 3 (ipykernel)",
   "language": "python",
   "name": "python3"
  },
  "language_info": {
   "codemirror_mode": {
    "name": "ipython",
    "version": 3
   },
   "file_extension": ".py",
   "mimetype": "text/x-python",
   "name": "python",
   "nbconvert_exporter": "python",
   "pygments_lexer": "ipython3",
   "version": "3.10.5"
  }
 },
 "nbformat": 4,
 "nbformat_minor": 5
}
