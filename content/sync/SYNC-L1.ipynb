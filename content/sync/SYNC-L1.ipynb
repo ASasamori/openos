{
 "cells": [
  {
   "cell_type": "markdown",
   "id": "92e66b68",
   "metadata": {
    "slideshow": {
     "slide_type": "slide"
    },
    "tags": []
   },
   "source": [
    "<img src=\"../from-google-slides/SYNC01/IntroSynchLocks.001.png\">"
   ]
  },
  {
   "cell_type": "markdown",
   "id": "d962a24a",
   "metadata": {
    "slideshow": {
     "slide_type": "skip"
    },
    "tags": []
   },
   "source": [
    "**NOTE:**"
   ]
  },
  {
   "cell_type": "markdown",
   "id": "09d4c638",
   "metadata": {
    "slideshow": {
     "slide_type": "notes"
    },
    "tags": []
   },
   "source": []
  },
  {
   "cell_type": "markdown",
   "id": "65d97fc0",
   "metadata": {
    "slideshow": {
     "slide_type": "Skip"
    },
    "tags": []
   },
   "source": [
    "- - -"
   ]
  },
  {
   "cell_type": "markdown",
   "id": "909a806c",
   "metadata": {
    "slideshow": {
     "slide_type": "slide"
    },
    "tags": []
   },
   "source": [
    "<img src=\"../from-google-slides/SYNC01/IntroSynchLocks.002.png\">"
   ]
  },
  {
   "cell_type": "markdown",
   "id": "32c556c9",
   "metadata": {
    "slideshow": {
     "slide_type": "skip"
    },
    "tags": []
   },
   "source": [
    "**NOTE:**"
   ]
  },
  {
   "cell_type": "markdown",
   "id": "bd0639d4",
   "metadata": {
    "slideshow": {
     "slide_type": "notes"
    },
    "tags": []
   },
   "source": []
  },
  {
   "cell_type": "markdown",
   "id": "7bf3f494",
   "metadata": {
    "slideshow": {
     "slide_type": "Skip"
    },
    "tags": []
   },
   "source": [
    "- - -"
   ]
  },
  {
   "cell_type": "markdown",
   "id": "36229cbf",
   "metadata": {
    "slideshow": {
     "slide_type": "slide"
    },
    "tags": []
   },
   "source": [
    "<img src=\"../from-google-slides/SYNC01/IntroSynchLocks.003.png\">"
   ]
  },
  {
   "cell_type": "markdown",
   "id": "5113fe3e",
   "metadata": {
    "slideshow": {
     "slide_type": "skip"
    },
    "tags": []
   },
   "source": [
    "**NOTE:**"
   ]
  },
  {
   "cell_type": "markdown",
   "id": "6df6f387",
   "metadata": {
    "slideshow": {
     "slide_type": "notes"
    },
    "tags": []
   },
   "source": []
  },
  {
   "cell_type": "markdown",
   "id": "ec19a040",
   "metadata": {
    "slideshow": {
     "slide_type": "Skip"
    },
    "tags": []
   },
   "source": [
    "- - -"
   ]
  },
  {
   "cell_type": "markdown",
   "id": "8299514f",
   "metadata": {
    "slideshow": {
     "slide_type": "slide"
    },
    "tags": []
   },
   "source": [
    "<img src=\"../from-google-slides/SYNC01/IntroSynchLocks.004.png\">"
   ]
  },
  {
   "cell_type": "markdown",
   "id": "879193c8",
   "metadata": {
    "slideshow": {
     "slide_type": "skip"
    },
    "tags": []
   },
   "source": [
    "**NOTE:**"
   ]
  },
  {
   "cell_type": "markdown",
   "id": "de225291",
   "metadata": {
    "slideshow": {
     "slide_type": "notes"
    },
    "tags": []
   },
   "source": []
  },
  {
   "cell_type": "markdown",
   "id": "9ac2cb81",
   "metadata": {
    "slideshow": {
     "slide_type": "Skip"
    },
    "tags": []
   },
   "source": [
    "- - -"
   ]
  },
  {
   "cell_type": "markdown",
   "id": "b71d8ab5",
   "metadata": {
    "slideshow": {
     "slide_type": "slide"
    },
    "tags": []
   },
   "source": [
    "<img src=\"../from-google-slides/SYNC01/IntroSynchLocks.005.png\">"
   ]
  },
  {
   "cell_type": "markdown",
   "id": "321cbdfc",
   "metadata": {
    "slideshow": {
     "slide_type": "skip"
    },
    "tags": []
   },
   "source": [
    "**NOTE:**"
   ]
  },
  {
   "cell_type": "markdown",
   "id": "47585174",
   "metadata": {
    "slideshow": {
     "slide_type": "notes"
    },
    "tags": []
   },
   "source": []
  },
  {
   "cell_type": "markdown",
   "id": "3b0f1230",
   "metadata": {
    "slideshow": {
     "slide_type": "Skip"
    },
    "tags": []
   },
   "source": [
    "- - -"
   ]
  },
  {
   "cell_type": "markdown",
   "id": "193528fc",
   "metadata": {
    "slideshow": {
     "slide_type": "slide"
    },
    "tags": []
   },
   "source": [
    "<img src=\"../from-google-slides/SYNC01/IntroSynchLocks.006.png\">"
   ]
  },
  {
   "cell_type": "markdown",
   "id": "1d3ca8d5",
   "metadata": {
    "slideshow": {
     "slide_type": "skip"
    },
    "tags": []
   },
   "source": [
    "**NOTE:**"
   ]
  },
  {
   "cell_type": "markdown",
   "id": "0cdb0e68",
   "metadata": {
    "slideshow": {
     "slide_type": "notes"
    },
    "tags": []
   },
   "source": []
  },
  {
   "cell_type": "markdown",
   "id": "7943f92c",
   "metadata": {
    "slideshow": {
     "slide_type": "Skip"
    },
    "tags": []
   },
   "source": [
    "- - -"
   ]
  },
  {
   "cell_type": "markdown",
   "id": "4a917b70",
   "metadata": {
    "slideshow": {
     "slide_type": "slide"
    },
    "tags": []
   },
   "source": [
    "<img src=\"../from-google-slides/SYNC01/IntroSynchLocks.007.png\">"
   ]
  },
  {
   "cell_type": "markdown",
   "id": "cd61d41d",
   "metadata": {
    "slideshow": {
     "slide_type": "skip"
    },
    "tags": []
   },
   "source": [
    "**NOTE:**"
   ]
  },
  {
   "cell_type": "markdown",
   "id": "791260d8",
   "metadata": {
    "slideshow": {
     "slide_type": "notes"
    },
    "tags": []
   },
   "source": []
  },
  {
   "cell_type": "markdown",
   "id": "863dff58",
   "metadata": {
    "slideshow": {
     "slide_type": "Skip"
    },
    "tags": []
   },
   "source": [
    "- - -"
   ]
  },
  {
   "cell_type": "markdown",
   "id": "f5b2949c",
   "metadata": {
    "slideshow": {
     "slide_type": "slide"
    },
    "tags": []
   },
   "source": [
    "<img src=\"../from-google-slides/SYNC01/IntroSynchLocks.008.png\">"
   ]
  },
  {
   "cell_type": "markdown",
   "id": "dec7822a",
   "metadata": {
    "slideshow": {
     "slide_type": "skip"
    },
    "tags": []
   },
   "source": [
    "**NOTE:**"
   ]
  },
  {
   "cell_type": "markdown",
   "id": "e46e6904",
   "metadata": {
    "slideshow": {
     "slide_type": "notes"
    },
    "tags": []
   },
   "source": []
  },
  {
   "cell_type": "markdown",
   "id": "c0358f0b",
   "metadata": {
    "slideshow": {
     "slide_type": "Skip"
    },
    "tags": []
   },
   "source": [
    "- - -"
   ]
  },
  {
   "cell_type": "markdown",
   "id": "bd2bb215",
   "metadata": {
    "slideshow": {
     "slide_type": "slide"
    },
    "tags": []
   },
   "source": [
    "<img src=\"../from-google-slides/SYNC01/IntroSynchLocks.009.png\">"
   ]
  },
  {
   "cell_type": "markdown",
   "id": "fcc3484b",
   "metadata": {
    "slideshow": {
     "slide_type": "skip"
    },
    "tags": []
   },
   "source": [
    "**NOTE:**"
   ]
  },
  {
   "cell_type": "markdown",
   "id": "b71c5aee",
   "metadata": {
    "slideshow": {
     "slide_type": "notes"
    },
    "tags": []
   },
   "source": []
  },
  {
   "cell_type": "markdown",
   "id": "9b5dd8a7",
   "metadata": {
    "slideshow": {
     "slide_type": "Skip"
    },
    "tags": []
   },
   "source": [
    "- - -"
   ]
  },
  {
   "cell_type": "markdown",
   "id": "44cfe0a5",
   "metadata": {
    "slideshow": {
     "slide_type": "slide"
    },
    "tags": []
   },
   "source": [
    "<img src=\"../from-google-slides/SYNC01/IntroSynchLocks.010.png\">"
   ]
  },
  {
   "cell_type": "markdown",
   "id": "5d7bcfa6",
   "metadata": {
    "slideshow": {
     "slide_type": "skip"
    },
    "tags": []
   },
   "source": [
    "**NOTE:**"
   ]
  },
  {
   "cell_type": "markdown",
   "id": "c95a68e1",
   "metadata": {
    "slideshow": {
     "slide_type": "notes"
    },
    "tags": []
   },
   "source": []
  },
  {
   "cell_type": "markdown",
   "id": "764e532e",
   "metadata": {
    "slideshow": {
     "slide_type": "Skip"
    },
    "tags": []
   },
   "source": [
    "- - -"
   ]
  },
  {
   "cell_type": "markdown",
   "id": "01a10dd9",
   "metadata": {
    "slideshow": {
     "slide_type": "slide"
    },
    "tags": []
   },
   "source": [
    "<img src=\"../from-google-slides/SYNC01/IntroSynchLocks.011.png\">"
   ]
  },
  {
   "cell_type": "markdown",
   "id": "ecafbf8d",
   "metadata": {
    "slideshow": {
     "slide_type": "skip"
    },
    "tags": []
   },
   "source": [
    "**NOTE:**"
   ]
  },
  {
   "cell_type": "markdown",
   "id": "4a5628a4",
   "metadata": {
    "slideshow": {
     "slide_type": "notes"
    },
    "tags": []
   },
   "source": []
  },
  {
   "cell_type": "markdown",
   "id": "4cf4f9c6",
   "metadata": {
    "slideshow": {
     "slide_type": "Skip"
    },
    "tags": []
   },
   "source": [
    "- - -"
   ]
  },
  {
   "cell_type": "markdown",
   "id": "c378112c",
   "metadata": {
    "slideshow": {
     "slide_type": "slide"
    },
    "tags": []
   },
   "source": [
    "<img src=\"../from-google-slides/SYNC01/IntroSynchLocks.012.png\">"
   ]
  },
  {
   "cell_type": "markdown",
   "id": "fb0e64f9",
   "metadata": {
    "slideshow": {
     "slide_type": "skip"
    },
    "tags": []
   },
   "source": [
    "**NOTE:**"
   ]
  },
  {
   "cell_type": "markdown",
   "id": "018187af",
   "metadata": {
    "slideshow": {
     "slide_type": "notes"
    },
    "tags": []
   },
   "source": []
  },
  {
   "cell_type": "markdown",
   "id": "1cfc1068",
   "metadata": {
    "slideshow": {
     "slide_type": "Skip"
    },
    "tags": []
   },
   "source": [
    "- - -"
   ]
  },
  {
   "cell_type": "markdown",
   "id": "2930e173",
   "metadata": {
    "slideshow": {
     "slide_type": "slide"
    },
    "tags": []
   },
   "source": [
    "<img src=\"../from-google-slides/SYNC01/IntroSynchLocks.013.png\">"
   ]
  },
  {
   "cell_type": "markdown",
   "id": "e2ebd30a",
   "metadata": {
    "slideshow": {
     "slide_type": "skip"
    },
    "tags": []
   },
   "source": [
    "**NOTE:**"
   ]
  },
  {
   "cell_type": "markdown",
   "id": "9c244b00",
   "metadata": {
    "slideshow": {
     "slide_type": "notes"
    },
    "tags": []
   },
   "source": []
  },
  {
   "cell_type": "markdown",
   "id": "f31865d4",
   "metadata": {
    "slideshow": {
     "slide_type": "Skip"
    },
    "tags": []
   },
   "source": [
    "- - -"
   ]
  },
  {
   "cell_type": "markdown",
   "id": "8f98957b",
   "metadata": {
    "slideshow": {
     "slide_type": "slide"
    },
    "tags": []
   },
   "source": [
    "<img src=\"../from-google-slides/SYNC01/IntroSynchLocks.014.png\">"
   ]
  },
  {
   "cell_type": "markdown",
   "id": "5ae5b4fe",
   "metadata": {
    "slideshow": {
     "slide_type": "skip"
    },
    "tags": []
   },
   "source": [
    "**NOTE:**"
   ]
  },
  {
   "cell_type": "markdown",
   "id": "cc73f36d",
   "metadata": {
    "slideshow": {
     "slide_type": "notes"
    },
    "tags": []
   },
   "source": []
  },
  {
   "cell_type": "markdown",
   "id": "bd953deb",
   "metadata": {
    "slideshow": {
     "slide_type": "Skip"
    },
    "tags": []
   },
   "source": [
    "- - -"
   ]
  },
  {
   "cell_type": "markdown",
   "id": "56c97bf6",
   "metadata": {
    "slideshow": {
     "slide_type": "slide"
    },
    "tags": []
   },
   "source": [
    "<img src=\"../from-google-slides/SYNC01/IntroSynchLocks.015.png\">"
   ]
  },
  {
   "cell_type": "markdown",
   "id": "8614af62",
   "metadata": {
    "slideshow": {
     "slide_type": "skip"
    },
    "tags": []
   },
   "source": [
    "**NOTE:**"
   ]
  },
  {
   "cell_type": "markdown",
   "id": "e092a87b",
   "metadata": {
    "slideshow": {
     "slide_type": "notes"
    },
    "tags": []
   },
   "source": []
  },
  {
   "cell_type": "markdown",
   "id": "ef4e9d7f",
   "metadata": {
    "slideshow": {
     "slide_type": "Skip"
    },
    "tags": []
   },
   "source": [
    "- - -"
   ]
  },
  {
   "cell_type": "markdown",
   "id": "32772335",
   "metadata": {
    "slideshow": {
     "slide_type": "slide"
    },
    "tags": []
   },
   "source": [
    "<img src=\"../from-google-slides/SYNC01/IntroSynchLocks.016.png\">"
   ]
  },
  {
   "cell_type": "markdown",
   "id": "b04c0d20",
   "metadata": {
    "slideshow": {
     "slide_type": "skip"
    },
    "tags": []
   },
   "source": [
    "**NOTE:**"
   ]
  },
  {
   "cell_type": "markdown",
   "id": "a112cd6d",
   "metadata": {
    "slideshow": {
     "slide_type": "notes"
    },
    "tags": []
   },
   "source": []
  },
  {
   "cell_type": "markdown",
   "id": "61b181e7",
   "metadata": {
    "slideshow": {
     "slide_type": "Skip"
    },
    "tags": []
   },
   "source": [
    "- - -"
   ]
  },
  {
   "cell_type": "markdown",
   "id": "da6f334a",
   "metadata": {
    "slideshow": {
     "slide_type": "slide"
    },
    "tags": []
   },
   "source": [
    "<img src=\"../from-google-slides/SYNC01/IntroSynchLocks.017.png\">"
   ]
  },
  {
   "cell_type": "markdown",
   "id": "e632b524",
   "metadata": {
    "slideshow": {
     "slide_type": "skip"
    },
    "tags": []
   },
   "source": [
    "**NOTE:**"
   ]
  },
  {
   "cell_type": "markdown",
   "id": "782acc06",
   "metadata": {
    "slideshow": {
     "slide_type": "notes"
    },
    "tags": []
   },
   "source": []
  },
  {
   "cell_type": "markdown",
   "id": "cfdab66e",
   "metadata": {
    "slideshow": {
     "slide_type": "Skip"
    },
    "tags": []
   },
   "source": [
    "- - -"
   ]
  },
  {
   "cell_type": "markdown",
   "id": "3d878b71",
   "metadata": {
    "slideshow": {
     "slide_type": "slide"
    },
    "tags": []
   },
   "source": [
    "<img src=\"../from-google-slides/SYNC01/IntroSynchLocks.018.png\">"
   ]
  },
  {
   "cell_type": "markdown",
   "id": "a884b5ff",
   "metadata": {
    "slideshow": {
     "slide_type": "skip"
    },
    "tags": []
   },
   "source": [
    "**NOTE:**"
   ]
  },
  {
   "cell_type": "markdown",
   "id": "c42f092b",
   "metadata": {
    "slideshow": {
     "slide_type": "notes"
    },
    "tags": []
   },
   "source": []
  },
  {
   "cell_type": "markdown",
   "id": "a1da361d",
   "metadata": {
    "slideshow": {
     "slide_type": "Skip"
    },
    "tags": []
   },
   "source": [
    "- - -"
   ]
  },
  {
   "cell_type": "markdown",
   "id": "961aa6ae",
   "metadata": {
    "slideshow": {
     "slide_type": "slide"
    },
    "tags": []
   },
   "source": [
    "<img src=\"../from-google-slides/SYNC01/IntroSynchLocks.019.png\">"
   ]
  },
  {
   "cell_type": "markdown",
   "id": "79e64dda",
   "metadata": {
    "slideshow": {
     "slide_type": "skip"
    },
    "tags": []
   },
   "source": [
    "**NOTE:**"
   ]
  },
  {
   "cell_type": "markdown",
   "id": "e6da7542",
   "metadata": {
    "slideshow": {
     "slide_type": "notes"
    },
    "tags": []
   },
   "source": []
  },
  {
   "cell_type": "markdown",
   "id": "42d17a25",
   "metadata": {
    "slideshow": {
     "slide_type": "Skip"
    },
    "tags": []
   },
   "source": [
    "- - -"
   ]
  },
  {
   "cell_type": "markdown",
   "id": "0191ce08",
   "metadata": {
    "slideshow": {
     "slide_type": "slide"
    },
    "tags": []
   },
   "source": [
    "<img src=\"../from-google-slides/SYNC01/IntroSynchLocks.020.png\">"
   ]
  },
  {
   "cell_type": "markdown",
   "id": "126b65e6",
   "metadata": {
    "slideshow": {
     "slide_type": "skip"
    },
    "tags": []
   },
   "source": [
    "**NOTE:**"
   ]
  },
  {
   "cell_type": "markdown",
   "id": "4f3068c3",
   "metadata": {
    "slideshow": {
     "slide_type": "notes"
    },
    "tags": []
   },
   "source": []
  },
  {
   "cell_type": "markdown",
   "id": "e3f98f7e",
   "metadata": {
    "slideshow": {
     "slide_type": "Skip"
    },
    "tags": []
   },
   "source": [
    "- - -"
   ]
  },
  {
   "cell_type": "markdown",
   "id": "62ea8034",
   "metadata": {
    "slideshow": {
     "slide_type": "slide"
    },
    "tags": []
   },
   "source": [
    "<img src=\"../from-google-slides/SYNC01/IntroSynchLocks.021.png\">"
   ]
  },
  {
   "cell_type": "markdown",
   "id": "ef501921",
   "metadata": {
    "slideshow": {
     "slide_type": "skip"
    },
    "tags": []
   },
   "source": [
    "**NOTE:**"
   ]
  },
  {
   "cell_type": "markdown",
   "id": "db4efc43",
   "metadata": {
    "slideshow": {
     "slide_type": "notes"
    },
    "tags": []
   },
   "source": []
  },
  {
   "cell_type": "markdown",
   "id": "0c8a6f98",
   "metadata": {
    "slideshow": {
     "slide_type": "Skip"
    },
    "tags": []
   },
   "source": [
    "- - -"
   ]
  },
  {
   "cell_type": "markdown",
   "id": "38089282",
   "metadata": {
    "slideshow": {
     "slide_type": "slide"
    },
    "tags": []
   },
   "source": [
    "<img src=\"../from-google-slides/SYNC01/IntroSynchLocks.022.png\">"
   ]
  },
  {
   "cell_type": "markdown",
   "id": "7f73a24f",
   "metadata": {
    "slideshow": {
     "slide_type": "skip"
    },
    "tags": []
   },
   "source": [
    "**NOTE:**"
   ]
  },
  {
   "cell_type": "markdown",
   "id": "117ae402",
   "metadata": {
    "slideshow": {
     "slide_type": "notes"
    },
    "tags": []
   },
   "source": []
  },
  {
   "cell_type": "markdown",
   "id": "63870818",
   "metadata": {
    "slideshow": {
     "slide_type": "Skip"
    },
    "tags": []
   },
   "source": [
    "- - -"
   ]
  },
  {
   "cell_type": "markdown",
   "id": "e7432163",
   "metadata": {
    "slideshow": {
     "slide_type": "slide"
    },
    "tags": []
   },
   "source": [
    "<img src=\"../from-google-slides/SYNC01/IntroSynchLocks.023.png\">"
   ]
  },
  {
   "cell_type": "markdown",
   "id": "9d85f374",
   "metadata": {
    "slideshow": {
     "slide_type": "skip"
    },
    "tags": []
   },
   "source": [
    "**NOTE:**"
   ]
  },
  {
   "cell_type": "markdown",
   "id": "2e0318c3",
   "metadata": {
    "slideshow": {
     "slide_type": "notes"
    },
    "tags": []
   },
   "source": []
  },
  {
   "cell_type": "markdown",
   "id": "06c4a9d8",
   "metadata": {
    "slideshow": {
     "slide_type": "Skip"
    },
    "tags": []
   },
   "source": [
    "- - -"
   ]
  },
  {
   "cell_type": "markdown",
   "id": "df379052",
   "metadata": {
    "slideshow": {
     "slide_type": "slide"
    },
    "tags": []
   },
   "source": [
    "<img src=\"../from-google-slides/SYNC01/IntroSynchLocks.024.png\">"
   ]
  },
  {
   "cell_type": "markdown",
   "id": "1b236335",
   "metadata": {
    "slideshow": {
     "slide_type": "skip"
    },
    "tags": []
   },
   "source": [
    "**NOTE:**"
   ]
  },
  {
   "cell_type": "markdown",
   "id": "e6a3e8d1",
   "metadata": {
    "slideshow": {
     "slide_type": "notes"
    },
    "tags": []
   },
   "source": []
  },
  {
   "cell_type": "markdown",
   "id": "ca288325",
   "metadata": {
    "slideshow": {
     "slide_type": "Skip"
    },
    "tags": []
   },
   "source": [
    "- - -"
   ]
  },
  {
   "cell_type": "markdown",
   "id": "b2f4e945",
   "metadata": {
    "slideshow": {
     "slide_type": "slide"
    },
    "tags": []
   },
   "source": [
    "<img src=\"../from-google-slides/SYNC01/IntroSynchLocks.025.png\">"
   ]
  },
  {
   "cell_type": "markdown",
   "id": "8e657383",
   "metadata": {
    "slideshow": {
     "slide_type": "skip"
    },
    "tags": []
   },
   "source": [
    "**NOTE:**"
   ]
  },
  {
   "cell_type": "markdown",
   "id": "d3133244",
   "metadata": {
    "slideshow": {
     "slide_type": "notes"
    },
    "tags": []
   },
   "source": []
  },
  {
   "cell_type": "markdown",
   "id": "3aed787f",
   "metadata": {
    "slideshow": {
     "slide_type": "Skip"
    },
    "tags": []
   },
   "source": [
    "- - -"
   ]
  },
  {
   "cell_type": "markdown",
   "id": "93f1782e",
   "metadata": {
    "slideshow": {
     "slide_type": "slide"
    },
    "tags": []
   },
   "source": [
    "<img src=\"../from-google-slides/SYNC01/IntroSynchLocks.026.png\">"
   ]
  },
  {
   "cell_type": "markdown",
   "id": "f7c971d5",
   "metadata": {
    "slideshow": {
     "slide_type": "skip"
    },
    "tags": []
   },
   "source": [
    "**NOTE:**"
   ]
  },
  {
   "cell_type": "markdown",
   "id": "39d7ed49",
   "metadata": {
    "slideshow": {
     "slide_type": "notes"
    },
    "tags": []
   },
   "source": []
  },
  {
   "cell_type": "markdown",
   "id": "4d597cdb",
   "metadata": {
    "slideshow": {
     "slide_type": "Skip"
    },
    "tags": []
   },
   "source": [
    "- - -"
   ]
  },
  {
   "cell_type": "markdown",
   "id": "6a2f58f6",
   "metadata": {
    "slideshow": {
     "slide_type": "slide"
    },
    "tags": []
   },
   "source": [
    "<img src=\"../from-google-slides/SYNC01/IntroSynchLocks.027.png\">"
   ]
  },
  {
   "cell_type": "markdown",
   "id": "ab80450e",
   "metadata": {
    "slideshow": {
     "slide_type": "skip"
    },
    "tags": []
   },
   "source": [
    "**NOTE:**"
   ]
  },
  {
   "cell_type": "markdown",
   "id": "fe2eda14",
   "metadata": {
    "slideshow": {
     "slide_type": "notes"
    },
    "tags": []
   },
   "source": []
  },
  {
   "cell_type": "markdown",
   "id": "4244cfcf",
   "metadata": {
    "slideshow": {
     "slide_type": "Skip"
    },
    "tags": []
   },
   "source": [
    "- - -"
   ]
  },
  {
   "cell_type": "markdown",
   "id": "31321cc5",
   "metadata": {
    "slideshow": {
     "slide_type": "slide"
    },
    "tags": []
   },
   "source": [
    "<img src=\"../from-google-slides/SYNC01/IntroSynchLocks.028.png\">"
   ]
  },
  {
   "cell_type": "markdown",
   "id": "8db4effa",
   "metadata": {
    "slideshow": {
     "slide_type": "skip"
    },
    "tags": []
   },
   "source": [
    "**NOTE:**"
   ]
  },
  {
   "cell_type": "markdown",
   "id": "cff67bbc",
   "metadata": {
    "slideshow": {
     "slide_type": "notes"
    },
    "tags": []
   },
   "source": []
  },
  {
   "cell_type": "markdown",
   "id": "a4375b63",
   "metadata": {
    "slideshow": {
     "slide_type": "Skip"
    },
    "tags": []
   },
   "source": [
    "- - -"
   ]
  },
  {
   "cell_type": "markdown",
   "id": "5355ee07",
   "metadata": {
    "slideshow": {
     "slide_type": "slide"
    },
    "tags": []
   },
   "source": [
    "<img src=\"../from-google-slides/SYNC01/IntroSynchLocks.029.png\">"
   ]
  },
  {
   "cell_type": "markdown",
   "id": "43ee0c52",
   "metadata": {
    "slideshow": {
     "slide_type": "skip"
    },
    "tags": []
   },
   "source": [
    "**NOTE:**"
   ]
  },
  {
   "cell_type": "markdown",
   "id": "8341fc25",
   "metadata": {
    "slideshow": {
     "slide_type": "notes"
    },
    "tags": []
   },
   "source": []
  },
  {
   "cell_type": "markdown",
   "id": "7eb1f99a",
   "metadata": {
    "slideshow": {
     "slide_type": "Skip"
    },
    "tags": []
   },
   "source": [
    "- - -"
   ]
  },
  {
   "cell_type": "markdown",
   "id": "bbfa1af4",
   "metadata": {
    "slideshow": {
     "slide_type": "slide"
    },
    "tags": []
   },
   "source": [
    "<img src=\"../from-google-slides/SYNC01/IntroSynchLocks.030.png\">"
   ]
  },
  {
   "cell_type": "markdown",
   "id": "86f5f090",
   "metadata": {
    "slideshow": {
     "slide_type": "skip"
    },
    "tags": []
   },
   "source": [
    "**NOTE:**"
   ]
  },
  {
   "cell_type": "markdown",
   "id": "0cc31ed6",
   "metadata": {
    "slideshow": {
     "slide_type": "notes"
    },
    "tags": []
   },
   "source": []
  },
  {
   "cell_type": "markdown",
   "id": "9b30e71b",
   "metadata": {
    "slideshow": {
     "slide_type": "Skip"
    },
    "tags": []
   },
   "source": [
    "- - -"
   ]
  },
  {
   "cell_type": "markdown",
   "id": "81b3cc55",
   "metadata": {
    "slideshow": {
     "slide_type": "slide"
    },
    "tags": []
   },
   "source": [
    "<img src=\"../from-google-slides/SYNC01/IntroSynchLocks.031.png\">"
   ]
  },
  {
   "cell_type": "markdown",
   "id": "b4a14b6d",
   "metadata": {
    "slideshow": {
     "slide_type": "skip"
    },
    "tags": []
   },
   "source": [
    "**NOTE:**"
   ]
  },
  {
   "cell_type": "markdown",
   "id": "06a6dcbd",
   "metadata": {
    "slideshow": {
     "slide_type": "notes"
    },
    "tags": []
   },
   "source": []
  },
  {
   "cell_type": "markdown",
   "id": "e2a397cf",
   "metadata": {
    "slideshow": {
     "slide_type": "Skip"
    },
    "tags": []
   },
   "source": [
    "- - -"
   ]
  },
  {
   "cell_type": "markdown",
   "id": "cbc393a9",
   "metadata": {
    "slideshow": {
     "slide_type": "slide"
    },
    "tags": []
   },
   "source": [
    "<img src=\"../from-google-slides/SYNC01/IntroSynchLocks.032.png\">"
   ]
  },
  {
   "cell_type": "markdown",
   "id": "3a61e8df",
   "metadata": {
    "slideshow": {
     "slide_type": "skip"
    },
    "tags": []
   },
   "source": [
    "**NOTE:**"
   ]
  },
  {
   "cell_type": "markdown",
   "id": "25dc674c",
   "metadata": {
    "slideshow": {
     "slide_type": "notes"
    },
    "tags": []
   },
   "source": []
  },
  {
   "cell_type": "markdown",
   "id": "90f04fec",
   "metadata": {
    "slideshow": {
     "slide_type": "Skip"
    },
    "tags": []
   },
   "source": [
    "- - -"
   ]
  },
  {
   "cell_type": "markdown",
   "id": "d2a54c29",
   "metadata": {
    "slideshow": {
     "slide_type": "slide"
    },
    "tags": []
   },
   "source": [
    "<img src=\"../from-google-slides/SYNC01/IntroSynchLocks.033.png\">"
   ]
  },
  {
   "cell_type": "markdown",
   "id": "7e02c723",
   "metadata": {
    "slideshow": {
     "slide_type": "skip"
    },
    "tags": []
   },
   "source": [
    "**NOTE:**"
   ]
  },
  {
   "cell_type": "markdown",
   "id": "3d9ad46e",
   "metadata": {
    "slideshow": {
     "slide_type": "notes"
    },
    "tags": []
   },
   "source": []
  },
  {
   "cell_type": "markdown",
   "id": "a71e2de1",
   "metadata": {
    "slideshow": {
     "slide_type": "Skip"
    },
    "tags": []
   },
   "source": [
    "- - -"
   ]
  }
 ],
 "metadata": {
  "kernelspec": {
   "display_name": "Python 3 (ipykernel)",
   "language": "python",
   "name": "python3"
  },
  "language_info": {
   "codemirror_mode": {
    "name": "ipython",
    "version": 3
   },
   "file_extension": ".py",
   "mimetype": "text/x-python",
   "name": "python",
   "nbconvert_exporter": "python",
   "pygments_lexer": "ipython3",
   "version": "3.10.5"
  },
  "rise": {
   "autolaunch": false,
   "enable_chalkboard": true,
   "height": "100%",
   "scroll": true,
   "start_slideshow_at": "selected",
   "transition": "none",
   "width": "100%"
  }
 },
 "nbformat": 4,
 "nbformat_minor": 5
}
