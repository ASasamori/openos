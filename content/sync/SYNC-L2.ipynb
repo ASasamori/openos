{
 "cells": [
  {
   "cell_type": "markdown",
   "id": "29769d15",
   "metadata": {
    "slideshow": {
     "slide_type": "slide"
    },
    "tags": []
   },
   "source": [
    "<img src=\"../from-google-slides/SYNC02/ConditionVariables.001.png\">"
   ]
  },
  {
   "cell_type": "markdown",
   "id": "0178384b",
   "metadata": {
    "slideshow": {
     "slide_type": "skip"
    },
    "tags": []
   },
   "source": [
    "**NOTE:**"
   ]
  },
  {
   "cell_type": "markdown",
   "id": "77f43daf",
   "metadata": {
    "slideshow": {
     "slide_type": "notes"
    },
    "tags": []
   },
   "source": []
  },
  {
   "cell_type": "markdown",
   "id": "18d7badf",
   "metadata": {
    "slideshow": {
     "slide_type": "Skip"
    },
    "tags": []
   },
   "source": [
    "- - -"
   ]
  },
  {
   "cell_type": "markdown",
   "id": "02ab6546",
   "metadata": {
    "slideshow": {
     "slide_type": "slide"
    },
    "tags": []
   },
   "source": [
    "<img src=\"../from-google-slides/SYNC02/ConditionVariables.002.png\">"
   ]
  },
  {
   "cell_type": "markdown",
   "id": "581aa123",
   "metadata": {
    "slideshow": {
     "slide_type": "skip"
    },
    "tags": []
   },
   "source": [
    "**NOTE:**"
   ]
  },
  {
   "cell_type": "markdown",
   "id": "b0611e18",
   "metadata": {
    "slideshow": {
     "slide_type": "notes"
    },
    "tags": []
   },
   "source": []
  },
  {
   "cell_type": "markdown",
   "id": "97a16eac",
   "metadata": {
    "slideshow": {
     "slide_type": "Skip"
    },
    "tags": []
   },
   "source": [
    "- - -"
   ]
  },
  {
   "cell_type": "markdown",
   "id": "17d767fa",
   "metadata": {
    "slideshow": {
     "slide_type": "slide"
    },
    "tags": []
   },
   "source": [
    "<img src=\"../from-google-slides/SYNC02/ConditionVariables.003.png\">"
   ]
  },
  {
   "cell_type": "markdown",
   "id": "26fa10b9",
   "metadata": {
    "slideshow": {
     "slide_type": "skip"
    },
    "tags": []
   },
   "source": [
    "**NOTE:**"
   ]
  },
  {
   "cell_type": "markdown",
   "id": "b29cfae5",
   "metadata": {
    "slideshow": {
     "slide_type": "notes"
    },
    "tags": []
   },
   "source": []
  },
  {
   "cell_type": "markdown",
   "id": "3c2971e0",
   "metadata": {
    "slideshow": {
     "slide_type": "Skip"
    },
    "tags": []
   },
   "source": [
    "- - -"
   ]
  },
  {
   "cell_type": "markdown",
   "id": "bdbbd7dc",
   "metadata": {
    "slideshow": {
     "slide_type": "slide"
    },
    "tags": []
   },
   "source": [
    "<img src=\"../from-google-slides/SYNC02/ConditionVariables.004.png\">"
   ]
  },
  {
   "cell_type": "markdown",
   "id": "151ca8f6",
   "metadata": {
    "slideshow": {
     "slide_type": "skip"
    },
    "tags": []
   },
   "source": [
    "**NOTE:**"
   ]
  },
  {
   "cell_type": "markdown",
   "id": "bece3330",
   "metadata": {
    "slideshow": {
     "slide_type": "notes"
    },
    "tags": []
   },
   "source": []
  },
  {
   "cell_type": "markdown",
   "id": "7f329d45",
   "metadata": {
    "slideshow": {
     "slide_type": "Skip"
    },
    "tags": []
   },
   "source": [
    "- - -"
   ]
  },
  {
   "cell_type": "markdown",
   "id": "cc3646ac",
   "metadata": {
    "slideshow": {
     "slide_type": "slide"
    },
    "tags": []
   },
   "source": [
    "<img src=\"../from-google-slides/SYNC02/ConditionVariables.005.png\">"
   ]
  },
  {
   "cell_type": "markdown",
   "id": "c34f6a1a",
   "metadata": {
    "slideshow": {
     "slide_type": "skip"
    },
    "tags": []
   },
   "source": [
    "**NOTE:**"
   ]
  },
  {
   "cell_type": "markdown",
   "id": "cef2f39f",
   "metadata": {
    "slideshow": {
     "slide_type": "notes"
    },
    "tags": []
   },
   "source": []
  },
  {
   "cell_type": "markdown",
   "id": "12e91a50",
   "metadata": {
    "slideshow": {
     "slide_type": "Skip"
    },
    "tags": []
   },
   "source": [
    "- - -"
   ]
  },
  {
   "cell_type": "markdown",
   "id": "a44342cc",
   "metadata": {
    "slideshow": {
     "slide_type": "slide"
    },
    "tags": []
   },
   "source": [
    "<img src=\"../from-google-slides/SYNC02/ConditionVariables.006.png\">"
   ]
  },
  {
   "cell_type": "markdown",
   "id": "5702fc7d",
   "metadata": {
    "slideshow": {
     "slide_type": "skip"
    },
    "tags": []
   },
   "source": [
    "**NOTE:**"
   ]
  },
  {
   "cell_type": "markdown",
   "id": "e5a6fa0f",
   "metadata": {
    "slideshow": {
     "slide_type": "notes"
    },
    "tags": []
   },
   "source": []
  },
  {
   "cell_type": "markdown",
   "id": "5872d9e2",
   "metadata": {
    "slideshow": {
     "slide_type": "Skip"
    },
    "tags": []
   },
   "source": [
    "- - -"
   ]
  },
  {
   "cell_type": "markdown",
   "id": "297765aa",
   "metadata": {
    "slideshow": {
     "slide_type": "slide"
    },
    "tags": []
   },
   "source": [
    "<img src=\"../from-google-slides/SYNC02/ConditionVariables.007.png\">"
   ]
  },
  {
   "cell_type": "markdown",
   "id": "b87974b3",
   "metadata": {
    "slideshow": {
     "slide_type": "skip"
    },
    "tags": []
   },
   "source": [
    "**NOTE:**"
   ]
  },
  {
   "cell_type": "markdown",
   "id": "3c8536a1",
   "metadata": {
    "slideshow": {
     "slide_type": "notes"
    },
    "tags": []
   },
   "source": []
  },
  {
   "cell_type": "markdown",
   "id": "7b860897",
   "metadata": {
    "slideshow": {
     "slide_type": "Skip"
    },
    "tags": []
   },
   "source": [
    "- - -"
   ]
  },
  {
   "cell_type": "markdown",
   "id": "7158143d",
   "metadata": {
    "slideshow": {
     "slide_type": "slide"
    },
    "tags": []
   },
   "source": [
    "<img src=\"../from-google-slides/SYNC02/ConditionVariables.008.png\">"
   ]
  },
  {
   "cell_type": "markdown",
   "id": "0b6c0158",
   "metadata": {
    "slideshow": {
     "slide_type": "skip"
    },
    "tags": []
   },
   "source": [
    "**NOTE:**"
   ]
  },
  {
   "cell_type": "markdown",
   "id": "478b5dee",
   "metadata": {
    "slideshow": {
     "slide_type": "notes"
    },
    "tags": []
   },
   "source": []
  },
  {
   "cell_type": "markdown",
   "id": "f3afe7ae",
   "metadata": {
    "slideshow": {
     "slide_type": "Skip"
    },
    "tags": []
   },
   "source": [
    "- - -"
   ]
  },
  {
   "cell_type": "markdown",
   "id": "bdbb8baf",
   "metadata": {
    "slideshow": {
     "slide_type": "slide"
    },
    "tags": []
   },
   "source": [
    "<img src=\"../from-google-slides/SYNC02/ConditionVariables.009.png\">"
   ]
  },
  {
   "cell_type": "markdown",
   "id": "95009acf",
   "metadata": {
    "slideshow": {
     "slide_type": "skip"
    },
    "tags": []
   },
   "source": [
    "**NOTE:**"
   ]
  },
  {
   "cell_type": "markdown",
   "id": "34795f43",
   "metadata": {
    "slideshow": {
     "slide_type": "notes"
    },
    "tags": []
   },
   "source": []
  },
  {
   "cell_type": "markdown",
   "id": "f06a177f",
   "metadata": {
    "slideshow": {
     "slide_type": "Skip"
    },
    "tags": []
   },
   "source": [
    "- - -"
   ]
  },
  {
   "cell_type": "markdown",
   "id": "ca6508c8",
   "metadata": {
    "slideshow": {
     "slide_type": "slide"
    },
    "tags": []
   },
   "source": [
    "<img src=\"../from-google-slides/SYNC02/ConditionVariables.010.png\">"
   ]
  },
  {
   "cell_type": "markdown",
   "id": "d98e68aa",
   "metadata": {
    "slideshow": {
     "slide_type": "skip"
    },
    "tags": []
   },
   "source": [
    "**NOTE:**"
   ]
  },
  {
   "cell_type": "markdown",
   "id": "8a3e6e07",
   "metadata": {
    "slideshow": {
     "slide_type": "notes"
    },
    "tags": []
   },
   "source": []
  },
  {
   "cell_type": "markdown",
   "id": "6dca1ca9",
   "metadata": {
    "slideshow": {
     "slide_type": "Skip"
    },
    "tags": []
   },
   "source": [
    "- - -"
   ]
  },
  {
   "cell_type": "markdown",
   "id": "ba01a19a",
   "metadata": {
    "slideshow": {
     "slide_type": "slide"
    },
    "tags": []
   },
   "source": [
    "<img src=\"../from-google-slides/SYNC02/ConditionVariables.011.png\">"
   ]
  },
  {
   "cell_type": "markdown",
   "id": "a22ecc33",
   "metadata": {
    "slideshow": {
     "slide_type": "skip"
    },
    "tags": []
   },
   "source": [
    "**NOTE:**"
   ]
  },
  {
   "cell_type": "markdown",
   "id": "7b0b4733",
   "metadata": {
    "slideshow": {
     "slide_type": "notes"
    },
    "tags": []
   },
   "source": []
  },
  {
   "cell_type": "markdown",
   "id": "05009d1a",
   "metadata": {
    "slideshow": {
     "slide_type": "Skip"
    },
    "tags": []
   },
   "source": [
    "- - -"
   ]
  },
  {
   "cell_type": "markdown",
   "id": "94a08134",
   "metadata": {
    "slideshow": {
     "slide_type": "slide"
    },
    "tags": []
   },
   "source": [
    "<img src=\"../from-google-slides/SYNC02/ConditionVariables.012.png\">"
   ]
  },
  {
   "cell_type": "markdown",
   "id": "ca3c0487",
   "metadata": {
    "slideshow": {
     "slide_type": "skip"
    },
    "tags": []
   },
   "source": [
    "**NOTE:**"
   ]
  },
  {
   "cell_type": "markdown",
   "id": "e6ffa4cd",
   "metadata": {
    "slideshow": {
     "slide_type": "notes"
    },
    "tags": []
   },
   "source": []
  },
  {
   "cell_type": "markdown",
   "id": "eea86410",
   "metadata": {
    "slideshow": {
     "slide_type": "Skip"
    },
    "tags": []
   },
   "source": [
    "- - -"
   ]
  },
  {
   "cell_type": "markdown",
   "id": "4f9f1c02",
   "metadata": {
    "slideshow": {
     "slide_type": "slide"
    },
    "tags": []
   },
   "source": [
    "<img src=\"../from-google-slides/SYNC02/ConditionVariables.013.png\">"
   ]
  },
  {
   "cell_type": "markdown",
   "id": "c334d0b3",
   "metadata": {
    "slideshow": {
     "slide_type": "skip"
    },
    "tags": []
   },
   "source": [
    "**NOTE:**"
   ]
  },
  {
   "cell_type": "markdown",
   "id": "4f497bb1",
   "metadata": {
    "slideshow": {
     "slide_type": "notes"
    },
    "tags": []
   },
   "source": []
  },
  {
   "cell_type": "markdown",
   "id": "53eae2f3",
   "metadata": {
    "slideshow": {
     "slide_type": "Skip"
    },
    "tags": []
   },
   "source": [
    "- - -"
   ]
  },
  {
   "cell_type": "markdown",
   "id": "e2103c97",
   "metadata": {
    "slideshow": {
     "slide_type": "slide"
    },
    "tags": []
   },
   "source": [
    "<img src=\"../from-google-slides/SYNC02/ConditionVariables.014.png\">"
   ]
  },
  {
   "cell_type": "markdown",
   "id": "41610f22",
   "metadata": {
    "slideshow": {
     "slide_type": "skip"
    },
    "tags": []
   },
   "source": [
    "**NOTE:**"
   ]
  },
  {
   "cell_type": "markdown",
   "id": "683286ac",
   "metadata": {
    "slideshow": {
     "slide_type": "notes"
    },
    "tags": []
   },
   "source": []
  },
  {
   "cell_type": "markdown",
   "id": "1a926fab",
   "metadata": {
    "slideshow": {
     "slide_type": "Skip"
    },
    "tags": []
   },
   "source": [
    "- - -"
   ]
  },
  {
   "cell_type": "markdown",
   "id": "b3e94002",
   "metadata": {
    "slideshow": {
     "slide_type": "slide"
    },
    "tags": []
   },
   "source": [
    "<img src=\"../from-google-slides/SYNC02/ConditionVariables.015.png\">"
   ]
  },
  {
   "cell_type": "markdown",
   "id": "d0b25dde",
   "metadata": {
    "slideshow": {
     "slide_type": "skip"
    },
    "tags": []
   },
   "source": [
    "**NOTE:**"
   ]
  },
  {
   "cell_type": "markdown",
   "id": "85c55cf6",
   "metadata": {
    "slideshow": {
     "slide_type": "notes"
    },
    "tags": []
   },
   "source": []
  },
  {
   "cell_type": "markdown",
   "id": "cef8f097",
   "metadata": {
    "slideshow": {
     "slide_type": "Skip"
    },
    "tags": []
   },
   "source": [
    "- - -"
   ]
  },
  {
   "cell_type": "markdown",
   "id": "b3802462",
   "metadata": {
    "slideshow": {
     "slide_type": "slide"
    },
    "tags": []
   },
   "source": [
    "<img src=\"../from-google-slides/SYNC02/ConditionVariables.016.png\">"
   ]
  },
  {
   "cell_type": "markdown",
   "id": "14736dc4",
   "metadata": {
    "slideshow": {
     "slide_type": "skip"
    },
    "tags": []
   },
   "source": [
    "**NOTE:**"
   ]
  },
  {
   "cell_type": "markdown",
   "id": "de3f8086",
   "metadata": {
    "slideshow": {
     "slide_type": "notes"
    },
    "tags": []
   },
   "source": []
  },
  {
   "cell_type": "markdown",
   "id": "d69e0731",
   "metadata": {
    "slideshow": {
     "slide_type": "Skip"
    },
    "tags": []
   },
   "source": [
    "- - -"
   ]
  },
  {
   "cell_type": "markdown",
   "id": "4b71ea2b",
   "metadata": {
    "slideshow": {
     "slide_type": "slide"
    },
    "tags": []
   },
   "source": [
    "<img src=\"../from-google-slides/SYNC02/ConditionVariables.017.png\">"
   ]
  },
  {
   "cell_type": "markdown",
   "id": "f5c71b6d",
   "metadata": {
    "slideshow": {
     "slide_type": "skip"
    },
    "tags": []
   },
   "source": [
    "**NOTE:**"
   ]
  },
  {
   "cell_type": "markdown",
   "id": "453de64a",
   "metadata": {
    "slideshow": {
     "slide_type": "notes"
    },
    "tags": []
   },
   "source": []
  },
  {
   "cell_type": "markdown",
   "id": "1df8ee9e",
   "metadata": {
    "slideshow": {
     "slide_type": "Skip"
    },
    "tags": []
   },
   "source": [
    "- - -"
   ]
  },
  {
   "cell_type": "markdown",
   "id": "6011fa5b",
   "metadata": {
    "slideshow": {
     "slide_type": "slide"
    },
    "tags": []
   },
   "source": [
    "<img src=\"../from-google-slides/SYNC02/ConditionVariables.018.png\">"
   ]
  },
  {
   "cell_type": "markdown",
   "id": "d091ea28",
   "metadata": {
    "slideshow": {
     "slide_type": "skip"
    },
    "tags": []
   },
   "source": [
    "**NOTE:**"
   ]
  },
  {
   "cell_type": "markdown",
   "id": "e820a109",
   "metadata": {
    "slideshow": {
     "slide_type": "notes"
    },
    "tags": []
   },
   "source": []
  },
  {
   "cell_type": "markdown",
   "id": "82607856",
   "metadata": {
    "slideshow": {
     "slide_type": "Skip"
    },
    "tags": []
   },
   "source": [
    "- - -"
   ]
  },
  {
   "cell_type": "markdown",
   "id": "9f4bce74",
   "metadata": {
    "slideshow": {
     "slide_type": "slide"
    },
    "tags": []
   },
   "source": [
    "<img src=\"../from-google-slides/SYNC02/ConditionVariables.019.png\">"
   ]
  },
  {
   "cell_type": "markdown",
   "id": "15944623",
   "metadata": {
    "slideshow": {
     "slide_type": "skip"
    },
    "tags": []
   },
   "source": [
    "**NOTE:**"
   ]
  },
  {
   "cell_type": "markdown",
   "id": "6a74aeca",
   "metadata": {
    "slideshow": {
     "slide_type": "notes"
    },
    "tags": []
   },
   "source": []
  },
  {
   "cell_type": "markdown",
   "id": "c8104b7c",
   "metadata": {
    "slideshow": {
     "slide_type": "Skip"
    },
    "tags": []
   },
   "source": [
    "- - -"
   ]
  },
  {
   "cell_type": "markdown",
   "id": "e2488f62",
   "metadata": {
    "slideshow": {
     "slide_type": "slide"
    },
    "tags": []
   },
   "source": [
    "<img src=\"../from-google-slides/SYNC02/ConditionVariables.020.png\">"
   ]
  },
  {
   "cell_type": "markdown",
   "id": "dd9c92d4",
   "metadata": {
    "slideshow": {
     "slide_type": "skip"
    },
    "tags": []
   },
   "source": [
    "**NOTE:**"
   ]
  },
  {
   "cell_type": "markdown",
   "id": "c3ceabb9",
   "metadata": {
    "slideshow": {
     "slide_type": "notes"
    },
    "tags": []
   },
   "source": []
  },
  {
   "cell_type": "markdown",
   "id": "30dc5023",
   "metadata": {
    "slideshow": {
     "slide_type": "Skip"
    },
    "tags": []
   },
   "source": [
    "- - -"
   ]
  },
  {
   "cell_type": "markdown",
   "id": "5ac6a521",
   "metadata": {
    "slideshow": {
     "slide_type": "slide"
    },
    "tags": []
   },
   "source": [
    "<img src=\"../from-google-slides/SYNC02/ConditionVariables.021.png\">"
   ]
  },
  {
   "cell_type": "markdown",
   "id": "f9e6f300",
   "metadata": {
    "slideshow": {
     "slide_type": "skip"
    },
    "tags": []
   },
   "source": [
    "**NOTE:**"
   ]
  },
  {
   "cell_type": "markdown",
   "id": "938cc3c0",
   "metadata": {
    "slideshow": {
     "slide_type": "notes"
    },
    "tags": []
   },
   "source": []
  },
  {
   "cell_type": "markdown",
   "id": "44733785",
   "metadata": {
    "slideshow": {
     "slide_type": "Skip"
    },
    "tags": []
   },
   "source": [
    "- - -"
   ]
  },
  {
   "cell_type": "markdown",
   "id": "b688306a",
   "metadata": {
    "slideshow": {
     "slide_type": "slide"
    },
    "tags": []
   },
   "source": [
    "<img src=\"../from-google-slides/SYNC02/ConditionVariables.022.png\">"
   ]
  },
  {
   "cell_type": "markdown",
   "id": "7c54bbad",
   "metadata": {
    "slideshow": {
     "slide_type": "skip"
    },
    "tags": []
   },
   "source": [
    "**NOTE:**"
   ]
  },
  {
   "cell_type": "markdown",
   "id": "fb2a8734",
   "metadata": {
    "slideshow": {
     "slide_type": "notes"
    },
    "tags": []
   },
   "source": []
  },
  {
   "cell_type": "markdown",
   "id": "25345c6c",
   "metadata": {
    "slideshow": {
     "slide_type": "Skip"
    },
    "tags": []
   },
   "source": [
    "- - -"
   ]
  },
  {
   "cell_type": "markdown",
   "id": "f0ca97ef",
   "metadata": {
    "slideshow": {
     "slide_type": "slide"
    },
    "tags": []
   },
   "source": [
    "<img src=\"../from-google-slides/SYNC02/ConditionVariables.023.png\">"
   ]
  },
  {
   "cell_type": "markdown",
   "id": "8545740c",
   "metadata": {
    "slideshow": {
     "slide_type": "skip"
    },
    "tags": []
   },
   "source": [
    "**NOTE:**"
   ]
  },
  {
   "cell_type": "markdown",
   "id": "c6bc1ea7",
   "metadata": {
    "slideshow": {
     "slide_type": "notes"
    },
    "tags": []
   },
   "source": []
  },
  {
   "cell_type": "markdown",
   "id": "f156076d",
   "metadata": {
    "slideshow": {
     "slide_type": "Skip"
    },
    "tags": []
   },
   "source": [
    "- - -"
   ]
  },
  {
   "cell_type": "markdown",
   "id": "08bfb6e0",
   "metadata": {
    "slideshow": {
     "slide_type": "slide"
    },
    "tags": []
   },
   "source": [
    "<img src=\"../from-google-slides/SYNC02/ConditionVariables.024.png\">"
   ]
  },
  {
   "cell_type": "markdown",
   "id": "77c9adc0",
   "metadata": {
    "slideshow": {
     "slide_type": "skip"
    },
    "tags": []
   },
   "source": [
    "**NOTE:**"
   ]
  },
  {
   "cell_type": "markdown",
   "id": "632e9cdc",
   "metadata": {
    "slideshow": {
     "slide_type": "notes"
    },
    "tags": []
   },
   "source": []
  },
  {
   "cell_type": "markdown",
   "id": "3691a738",
   "metadata": {
    "slideshow": {
     "slide_type": "Skip"
    },
    "tags": []
   },
   "source": [
    "- - -"
   ]
  },
  {
   "cell_type": "markdown",
   "id": "4ece1763",
   "metadata": {
    "slideshow": {
     "slide_type": "slide"
    },
    "tags": []
   },
   "source": [
    "<img src=\"../from-google-slides/SYNC02/ConditionVariables.025.png\">"
   ]
  },
  {
   "cell_type": "markdown",
   "id": "0372b13e",
   "metadata": {
    "slideshow": {
     "slide_type": "skip"
    },
    "tags": []
   },
   "source": [
    "**NOTE:**"
   ]
  },
  {
   "cell_type": "markdown",
   "id": "dd094756",
   "metadata": {
    "slideshow": {
     "slide_type": "notes"
    },
    "tags": []
   },
   "source": []
  },
  {
   "cell_type": "markdown",
   "id": "470a851e",
   "metadata": {
    "slideshow": {
     "slide_type": "Skip"
    },
    "tags": []
   },
   "source": [
    "- - -"
   ]
  },
  {
   "cell_type": "markdown",
   "id": "154625b0",
   "metadata": {
    "slideshow": {
     "slide_type": "slide"
    },
    "tags": []
   },
   "source": [
    "<img src=\"../from-google-slides/SYNC02/ConditionVariables.026.png\">"
   ]
  },
  {
   "cell_type": "markdown",
   "id": "6a65671a",
   "metadata": {
    "slideshow": {
     "slide_type": "skip"
    },
    "tags": []
   },
   "source": [
    "**NOTE:**"
   ]
  },
  {
   "cell_type": "markdown",
   "id": "745fec4e",
   "metadata": {
    "slideshow": {
     "slide_type": "notes"
    },
    "tags": []
   },
   "source": []
  },
  {
   "cell_type": "markdown",
   "id": "384f4fd2",
   "metadata": {
    "slideshow": {
     "slide_type": "Skip"
    },
    "tags": []
   },
   "source": [
    "- - -"
   ]
  },
  {
   "cell_type": "markdown",
   "id": "5b8b9762",
   "metadata": {
    "slideshow": {
     "slide_type": "slide"
    },
    "tags": []
   },
   "source": [
    "<img src=\"../from-google-slides/SYNC02/ConditionVariables.027.png\">"
   ]
  },
  {
   "cell_type": "markdown",
   "id": "4120b834",
   "metadata": {
    "slideshow": {
     "slide_type": "skip"
    },
    "tags": []
   },
   "source": [
    "**NOTE:**"
   ]
  },
  {
   "cell_type": "markdown",
   "id": "b71556ca",
   "metadata": {
    "slideshow": {
     "slide_type": "notes"
    },
    "tags": []
   },
   "source": []
  },
  {
   "cell_type": "markdown",
   "id": "689b6a55",
   "metadata": {
    "slideshow": {
     "slide_type": "Skip"
    },
    "tags": []
   },
   "source": [
    "- - -"
   ]
  },
  {
   "cell_type": "markdown",
   "id": "778acb8d",
   "metadata": {
    "slideshow": {
     "slide_type": "slide"
    },
    "tags": []
   },
   "source": [
    "<img src=\"../from-google-slides/SYNC02/ConditionVariables.028.png\">"
   ]
  },
  {
   "cell_type": "markdown",
   "id": "c00dd081",
   "metadata": {
    "slideshow": {
     "slide_type": "skip"
    },
    "tags": []
   },
   "source": [
    "**NOTE:**"
   ]
  },
  {
   "cell_type": "markdown",
   "id": "d442a797",
   "metadata": {
    "slideshow": {
     "slide_type": "notes"
    },
    "tags": []
   },
   "source": []
  },
  {
   "cell_type": "markdown",
   "id": "029af7a2",
   "metadata": {
    "slideshow": {
     "slide_type": "Skip"
    },
    "tags": []
   },
   "source": [
    "- - -"
   ]
  }
 ],
 "metadata": {
  "kernelspec": {
   "display_name": "Python 3 (ipykernel)",
   "language": "python",
   "name": "python3"
  },
  "language_info": {
   "codemirror_mode": {
    "name": "ipython",
    "version": 3
   },
   "file_extension": ".py",
   "mimetype": "text/x-python",
   "name": "python",
   "nbconvert_exporter": "python",
   "pygments_lexer": "ipython3",
   "version": "3.10.5"
  },
  "rise": {
   "autolaunch": false,
   "enable_chalkboard": true,
   "height": "100%",
   "scroll": true,
   "start_slideshow_at": "selected",
   "transition": "none",
   "width": "100%"
  }
 },
 "nbformat": 4,
 "nbformat_minor": 5
}
