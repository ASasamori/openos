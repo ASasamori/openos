{
 "cells": [
  {
   "cell_type": "markdown",
   "id": "f0aacc38",
   "metadata": {
    "slideshow": {
     "slide_type": "slide"
    },
    "tags": []
   },
   "source": [
    "<img src=\"../from-google-slides/SYNC03/SYNC-03.001.png\">"
   ]
  },
  {
   "cell_type": "markdown",
   "id": "c22cad8f",
   "metadata": {
    "slideshow": {
     "slide_type": "skip"
    },
    "tags": []
   },
   "source": [
    "**NOTE:**"
   ]
  },
  {
   "cell_type": "markdown",
   "id": "f3d8e5b5",
   "metadata": {
    "slideshow": {
     "slide_type": "notes"
    },
    "tags": []
   },
   "source": []
  },
  {
   "cell_type": "markdown",
   "id": "4de221e0",
   "metadata": {
    "slideshow": {
     "slide_type": "Skip"
    },
    "tags": []
   },
   "source": [
    "- - -"
   ]
  },
  {
   "cell_type": "markdown",
   "id": "5c73afdf",
   "metadata": {
    "slideshow": {
     "slide_type": "slide"
    },
    "tags": []
   },
   "source": [
    "<img src=\"../from-google-slides/SYNC03/SYNC-03.002.png\">"
   ]
  },
  {
   "cell_type": "markdown",
   "id": "e035a048",
   "metadata": {
    "slideshow": {
     "slide_type": "skip"
    },
    "tags": []
   },
   "source": [
    "**NOTE:**"
   ]
  },
  {
   "cell_type": "markdown",
   "id": "a562f42c",
   "metadata": {
    "slideshow": {
     "slide_type": "notes"
    },
    "tags": []
   },
   "source": []
  },
  {
   "cell_type": "markdown",
   "id": "fed86c12",
   "metadata": {
    "slideshow": {
     "slide_type": "Skip"
    },
    "tags": []
   },
   "source": [
    "- - -"
   ]
  },
  {
   "cell_type": "markdown",
   "id": "04443ec6",
   "metadata": {
    "slideshow": {
     "slide_type": "slide"
    },
    "tags": []
   },
   "source": [
    "<img src=\"../from-google-slides/SYNC03/SYNC-03.003.png\">"
   ]
  },
  {
   "cell_type": "markdown",
   "id": "80150f88",
   "metadata": {
    "slideshow": {
     "slide_type": "skip"
    },
    "tags": []
   },
   "source": [
    "**NOTE:**"
   ]
  },
  {
   "cell_type": "markdown",
   "id": "0a58ff7a",
   "metadata": {
    "slideshow": {
     "slide_type": "notes"
    },
    "tags": []
   },
   "source": []
  },
  {
   "cell_type": "markdown",
   "id": "7e249774",
   "metadata": {
    "slideshow": {
     "slide_type": "Skip"
    },
    "tags": []
   },
   "source": [
    "- - -"
   ]
  },
  {
   "cell_type": "markdown",
   "id": "e2336fa9",
   "metadata": {
    "slideshow": {
     "slide_type": "slide"
    },
    "tags": []
   },
   "source": [
    "<img src=\"../from-google-slides/SYNC03/SYNC-03.004.png\">"
   ]
  },
  {
   "cell_type": "markdown",
   "id": "c5beae1f",
   "metadata": {
    "slideshow": {
     "slide_type": "skip"
    },
    "tags": []
   },
   "source": [
    "**NOTE:**"
   ]
  },
  {
   "cell_type": "markdown",
   "id": "f6044e87",
   "metadata": {
    "slideshow": {
     "slide_type": "notes"
    },
    "tags": []
   },
   "source": []
  },
  {
   "cell_type": "markdown",
   "id": "7f0fe730",
   "metadata": {
    "slideshow": {
     "slide_type": "Skip"
    },
    "tags": []
   },
   "source": [
    "- - -"
   ]
  },
  {
   "cell_type": "markdown",
   "id": "cae5f5e3",
   "metadata": {
    "slideshow": {
     "slide_type": "slide"
    },
    "tags": []
   },
   "source": [
    "<img src=\"../from-google-slides/SYNC03/SYNC-03.005.png\">"
   ]
  },
  {
   "cell_type": "markdown",
   "id": "e3d4b2ce",
   "metadata": {
    "slideshow": {
     "slide_type": "skip"
    },
    "tags": []
   },
   "source": [
    "**NOTE:**"
   ]
  },
  {
   "cell_type": "markdown",
   "id": "494a14db",
   "metadata": {
    "slideshow": {
     "slide_type": "notes"
    },
    "tags": []
   },
   "source": []
  },
  {
   "cell_type": "markdown",
   "id": "555ef9f4",
   "metadata": {
    "slideshow": {
     "slide_type": "Skip"
    },
    "tags": []
   },
   "source": [
    "- - -"
   ]
  },
  {
   "cell_type": "markdown",
   "id": "480d94e2",
   "metadata": {
    "slideshow": {
     "slide_type": "slide"
    },
    "tags": []
   },
   "source": [
    "<img src=\"../from-google-slides/SYNC03/SYNC-03.006.png\">"
   ]
  },
  {
   "cell_type": "markdown",
   "id": "d2e03751",
   "metadata": {
    "slideshow": {
     "slide_type": "skip"
    },
    "tags": []
   },
   "source": [
    "**NOTE:**"
   ]
  },
  {
   "cell_type": "markdown",
   "id": "a4fb734e",
   "metadata": {
    "slideshow": {
     "slide_type": "notes"
    },
    "tags": []
   },
   "source": []
  },
  {
   "cell_type": "markdown",
   "id": "347710d5",
   "metadata": {
    "slideshow": {
     "slide_type": "Skip"
    },
    "tags": []
   },
   "source": [
    "- - -"
   ]
  },
  {
   "cell_type": "markdown",
   "id": "43497a30",
   "metadata": {
    "slideshow": {
     "slide_type": "slide"
    },
    "tags": []
   },
   "source": [
    "<img src=\"../from-google-slides/SYNC03/SYNC-03.007.png\">"
   ]
  },
  {
   "cell_type": "markdown",
   "id": "cab034dc",
   "metadata": {
    "slideshow": {
     "slide_type": "skip"
    },
    "tags": []
   },
   "source": [
    "**NOTE:**"
   ]
  },
  {
   "cell_type": "markdown",
   "id": "97ec56e5",
   "metadata": {
    "slideshow": {
     "slide_type": "notes"
    },
    "tags": []
   },
   "source": []
  },
  {
   "cell_type": "markdown",
   "id": "ec585e8a",
   "metadata": {
    "slideshow": {
     "slide_type": "Skip"
    },
    "tags": []
   },
   "source": [
    "- - -"
   ]
  },
  {
   "cell_type": "markdown",
   "id": "63c07c5a",
   "metadata": {
    "slideshow": {
     "slide_type": "slide"
    },
    "tags": []
   },
   "source": [
    "<img src=\"../from-google-slides/SYNC03/SYNC-03.008.png\">"
   ]
  },
  {
   "cell_type": "markdown",
   "id": "a75a894e",
   "metadata": {
    "slideshow": {
     "slide_type": "skip"
    },
    "tags": []
   },
   "source": [
    "**NOTE:**"
   ]
  },
  {
   "cell_type": "markdown",
   "id": "9646a3d8",
   "metadata": {
    "slideshow": {
     "slide_type": "notes"
    },
    "tags": []
   },
   "source": []
  },
  {
   "cell_type": "markdown",
   "id": "79b7f845",
   "metadata": {
    "slideshow": {
     "slide_type": "Skip"
    },
    "tags": []
   },
   "source": [
    "- - -"
   ]
  },
  {
   "cell_type": "markdown",
   "id": "41b71bd3",
   "metadata": {
    "slideshow": {
     "slide_type": "slide"
    },
    "tags": []
   },
   "source": [
    "<img src=\"../from-google-slides/SYNC03/SYNC-03.009.png\">"
   ]
  },
  {
   "cell_type": "markdown",
   "id": "b4c32119",
   "metadata": {
    "slideshow": {
     "slide_type": "skip"
    },
    "tags": []
   },
   "source": [
    "**NOTE:**"
   ]
  },
  {
   "cell_type": "markdown",
   "id": "af0d8489",
   "metadata": {
    "slideshow": {
     "slide_type": "notes"
    },
    "tags": []
   },
   "source": []
  },
  {
   "cell_type": "markdown",
   "id": "c4c207c5",
   "metadata": {
    "slideshow": {
     "slide_type": "Skip"
    },
    "tags": []
   },
   "source": [
    "- - -"
   ]
  },
  {
   "cell_type": "markdown",
   "id": "5beaae24",
   "metadata": {
    "slideshow": {
     "slide_type": "slide"
    },
    "tags": []
   },
   "source": [
    "<img src=\"../from-google-slides/SYNC03/SYNC-03.010.png\">"
   ]
  },
  {
   "cell_type": "markdown",
   "id": "878db19d",
   "metadata": {
    "slideshow": {
     "slide_type": "skip"
    },
    "tags": []
   },
   "source": [
    "**NOTE:**"
   ]
  },
  {
   "cell_type": "markdown",
   "id": "528a7979",
   "metadata": {
    "slideshow": {
     "slide_type": "notes"
    },
    "tags": []
   },
   "source": []
  },
  {
   "cell_type": "markdown",
   "id": "6cf38bdc",
   "metadata": {
    "slideshow": {
     "slide_type": "Skip"
    },
    "tags": []
   },
   "source": [
    "- - -"
   ]
  },
  {
   "cell_type": "markdown",
   "id": "d756f86d",
   "metadata": {
    "slideshow": {
     "slide_type": "slide"
    },
    "tags": []
   },
   "source": [
    "<img src=\"../from-google-slides/SYNC03/SYNC-03.011.png\">"
   ]
  },
  {
   "cell_type": "markdown",
   "id": "485cb1e7",
   "metadata": {
    "slideshow": {
     "slide_type": "skip"
    },
    "tags": []
   },
   "source": [
    "**NOTE:**"
   ]
  },
  {
   "cell_type": "markdown",
   "id": "c85fb397",
   "metadata": {
    "slideshow": {
     "slide_type": "notes"
    },
    "tags": []
   },
   "source": []
  },
  {
   "cell_type": "markdown",
   "id": "5875b38c",
   "metadata": {
    "slideshow": {
     "slide_type": "Skip"
    },
    "tags": []
   },
   "source": [
    "- - -"
   ]
  },
  {
   "cell_type": "markdown",
   "id": "b7631aaa",
   "metadata": {
    "slideshow": {
     "slide_type": "slide"
    },
    "tags": []
   },
   "source": [
    "<img src=\"../from-google-slides/SYNC03/SYNC-03.012.png\">"
   ]
  },
  {
   "cell_type": "markdown",
   "id": "069a101b",
   "metadata": {
    "slideshow": {
     "slide_type": "skip"
    },
    "tags": []
   },
   "source": [
    "**NOTE:**"
   ]
  },
  {
   "cell_type": "markdown",
   "id": "06268ccc",
   "metadata": {
    "slideshow": {
     "slide_type": "notes"
    },
    "tags": []
   },
   "source": []
  },
  {
   "cell_type": "markdown",
   "id": "23accd25",
   "metadata": {
    "slideshow": {
     "slide_type": "Skip"
    },
    "tags": []
   },
   "source": [
    "- - -"
   ]
  },
  {
   "cell_type": "markdown",
   "id": "55e3ef20",
   "metadata": {
    "slideshow": {
     "slide_type": "slide"
    },
    "tags": []
   },
   "source": [
    "<img src=\"../from-google-slides/SYNC03/SYNC-03.013.png\">"
   ]
  },
  {
   "cell_type": "markdown",
   "id": "ef58ff5c",
   "metadata": {
    "slideshow": {
     "slide_type": "skip"
    },
    "tags": []
   },
   "source": [
    "**NOTE:**"
   ]
  },
  {
   "cell_type": "markdown",
   "id": "fdd35b31",
   "metadata": {
    "slideshow": {
     "slide_type": "notes"
    },
    "tags": []
   },
   "source": []
  },
  {
   "cell_type": "markdown",
   "id": "ad1187b2",
   "metadata": {
    "slideshow": {
     "slide_type": "Skip"
    },
    "tags": []
   },
   "source": [
    "- - -"
   ]
  },
  {
   "cell_type": "markdown",
   "id": "92bc1f17",
   "metadata": {
    "slideshow": {
     "slide_type": "slide"
    },
    "tags": []
   },
   "source": [
    "<img src=\"../from-google-slides/SYNC03/SYNC-03.014.png\">"
   ]
  },
  {
   "cell_type": "markdown",
   "id": "52fa7bbd",
   "metadata": {
    "slideshow": {
     "slide_type": "skip"
    },
    "tags": []
   },
   "source": [
    "**NOTE:**"
   ]
  },
  {
   "cell_type": "markdown",
   "id": "7486cb4c",
   "metadata": {
    "slideshow": {
     "slide_type": "notes"
    },
    "tags": []
   },
   "source": []
  },
  {
   "cell_type": "markdown",
   "id": "3413f9ef",
   "metadata": {
    "slideshow": {
     "slide_type": "Skip"
    },
    "tags": []
   },
   "source": [
    "- - -"
   ]
  },
  {
   "cell_type": "markdown",
   "id": "b9d3e115",
   "metadata": {
    "slideshow": {
     "slide_type": "slide"
    },
    "tags": []
   },
   "source": [
    "<img src=\"../from-google-slides/SYNC03/SYNC-03.015.png\">"
   ]
  },
  {
   "cell_type": "markdown",
   "id": "3f87b58b",
   "metadata": {
    "slideshow": {
     "slide_type": "skip"
    },
    "tags": []
   },
   "source": [
    "**NOTE:**"
   ]
  },
  {
   "cell_type": "markdown",
   "id": "c28f3c64",
   "metadata": {
    "slideshow": {
     "slide_type": "notes"
    },
    "tags": []
   },
   "source": []
  },
  {
   "cell_type": "markdown",
   "id": "5a83954a",
   "metadata": {
    "slideshow": {
     "slide_type": "Skip"
    },
    "tags": []
   },
   "source": [
    "- - -"
   ]
  },
  {
   "cell_type": "markdown",
   "id": "96b62084",
   "metadata": {
    "slideshow": {
     "slide_type": "slide"
    },
    "tags": []
   },
   "source": [
    "<img src=\"../from-google-slides/SYNC03/SYNC-03.016.png\">"
   ]
  },
  {
   "cell_type": "markdown",
   "id": "6a79c35a",
   "metadata": {
    "slideshow": {
     "slide_type": "skip"
    },
    "tags": []
   },
   "source": [
    "**NOTE:**"
   ]
  },
  {
   "cell_type": "markdown",
   "id": "1d6fed36",
   "metadata": {
    "slideshow": {
     "slide_type": "notes"
    },
    "tags": []
   },
   "source": []
  },
  {
   "cell_type": "markdown",
   "id": "cb551702",
   "metadata": {
    "slideshow": {
     "slide_type": "Skip"
    },
    "tags": []
   },
   "source": [
    "- - -"
   ]
  },
  {
   "cell_type": "markdown",
   "id": "7567de56",
   "metadata": {
    "slideshow": {
     "slide_type": "slide"
    },
    "tags": []
   },
   "source": [
    "<img src=\"../from-google-slides/SYNC03/SYNC-03.017.png\">"
   ]
  },
  {
   "cell_type": "markdown",
   "id": "afd6b4fa",
   "metadata": {
    "slideshow": {
     "slide_type": "skip"
    },
    "tags": []
   },
   "source": [
    "**NOTE:**"
   ]
  },
  {
   "cell_type": "markdown",
   "id": "6e820ca9",
   "metadata": {
    "slideshow": {
     "slide_type": "notes"
    },
    "tags": []
   },
   "source": []
  },
  {
   "cell_type": "markdown",
   "id": "034269fd",
   "metadata": {
    "slideshow": {
     "slide_type": "Skip"
    },
    "tags": []
   },
   "source": [
    "- - -"
   ]
  },
  {
   "cell_type": "markdown",
   "id": "e2525db4",
   "metadata": {
    "slideshow": {
     "slide_type": "slide"
    },
    "tags": []
   },
   "source": [
    "<img src=\"../from-google-slides/SYNC03/SYNC-03.018.png\">"
   ]
  },
  {
   "cell_type": "markdown",
   "id": "aa70363a",
   "metadata": {
    "slideshow": {
     "slide_type": "skip"
    },
    "tags": []
   },
   "source": [
    "**NOTE:**"
   ]
  },
  {
   "cell_type": "markdown",
   "id": "85884f7f",
   "metadata": {
    "slideshow": {
     "slide_type": "notes"
    },
    "tags": []
   },
   "source": []
  },
  {
   "cell_type": "markdown",
   "id": "69b70fc1",
   "metadata": {
    "slideshow": {
     "slide_type": "Skip"
    },
    "tags": []
   },
   "source": [
    "- - -"
   ]
  },
  {
   "cell_type": "markdown",
   "id": "f4d137e7",
   "metadata": {
    "slideshow": {
     "slide_type": "slide"
    },
    "tags": []
   },
   "source": [
    "<img src=\"../from-google-slides/SYNC03/SYNC-03.019.png\">"
   ]
  },
  {
   "cell_type": "markdown",
   "id": "edec8223",
   "metadata": {
    "slideshow": {
     "slide_type": "skip"
    },
    "tags": []
   },
   "source": [
    "**NOTE:**"
   ]
  },
  {
   "cell_type": "markdown",
   "id": "36a1bb3b",
   "metadata": {
    "slideshow": {
     "slide_type": "notes"
    },
    "tags": []
   },
   "source": []
  },
  {
   "cell_type": "markdown",
   "id": "920b6f45",
   "metadata": {
    "slideshow": {
     "slide_type": "Skip"
    },
    "tags": []
   },
   "source": [
    "- - -"
   ]
  },
  {
   "cell_type": "markdown",
   "id": "db5d687a",
   "metadata": {
    "slideshow": {
     "slide_type": "slide"
    },
    "tags": []
   },
   "source": [
    "<img src=\"../from-google-slides/SYNC03/SYNC-03.020.png\">"
   ]
  },
  {
   "cell_type": "markdown",
   "id": "fd5ec1a3",
   "metadata": {
    "slideshow": {
     "slide_type": "skip"
    },
    "tags": []
   },
   "source": [
    "**NOTE:**"
   ]
  },
  {
   "cell_type": "markdown",
   "id": "f6d0bc38",
   "metadata": {
    "slideshow": {
     "slide_type": "notes"
    },
    "tags": []
   },
   "source": []
  },
  {
   "cell_type": "markdown",
   "id": "699b2722",
   "metadata": {
    "slideshow": {
     "slide_type": "Skip"
    },
    "tags": []
   },
   "source": [
    "- - -"
   ]
  },
  {
   "cell_type": "markdown",
   "id": "481e7dcd",
   "metadata": {
    "slideshow": {
     "slide_type": "slide"
    },
    "tags": []
   },
   "source": [
    "<img src=\"../from-google-slides/SYNC03/SYNC-03.021.png\">"
   ]
  },
  {
   "cell_type": "markdown",
   "id": "e7044aa4",
   "metadata": {
    "slideshow": {
     "slide_type": "skip"
    },
    "tags": []
   },
   "source": [
    "**NOTE:**"
   ]
  },
  {
   "cell_type": "markdown",
   "id": "8f82b5d8",
   "metadata": {
    "slideshow": {
     "slide_type": "notes"
    },
    "tags": []
   },
   "source": []
  },
  {
   "cell_type": "markdown",
   "id": "cdae2687",
   "metadata": {
    "slideshow": {
     "slide_type": "Skip"
    },
    "tags": []
   },
   "source": [
    "- - -"
   ]
  },
  {
   "cell_type": "markdown",
   "id": "85f48ec8",
   "metadata": {
    "slideshow": {
     "slide_type": "slide"
    },
    "tags": []
   },
   "source": [
    "<img src=\"../from-google-slides/SYNC03/SYNC-03.022.png\">"
   ]
  },
  {
   "cell_type": "markdown",
   "id": "956c6d11",
   "metadata": {
    "slideshow": {
     "slide_type": "skip"
    },
    "tags": []
   },
   "source": [
    "**NOTE:**"
   ]
  },
  {
   "cell_type": "markdown",
   "id": "75a03c5a",
   "metadata": {
    "slideshow": {
     "slide_type": "notes"
    },
    "tags": []
   },
   "source": []
  },
  {
   "cell_type": "markdown",
   "id": "8e9c0e57",
   "metadata": {
    "slideshow": {
     "slide_type": "Skip"
    },
    "tags": []
   },
   "source": [
    "- - -"
   ]
  },
  {
   "cell_type": "markdown",
   "id": "f4ba5404",
   "metadata": {
    "slideshow": {
     "slide_type": "slide"
    },
    "tags": []
   },
   "source": [
    "<img src=\"../from-google-slides/SYNC03/SYNC-03.023.png\">"
   ]
  },
  {
   "cell_type": "markdown",
   "id": "a67825bb",
   "metadata": {
    "slideshow": {
     "slide_type": "skip"
    },
    "tags": []
   },
   "source": [
    "**NOTE:**"
   ]
  },
  {
   "cell_type": "markdown",
   "id": "4c999d46",
   "metadata": {
    "slideshow": {
     "slide_type": "notes"
    },
    "tags": []
   },
   "source": []
  },
  {
   "cell_type": "markdown",
   "id": "bbb9cc41",
   "metadata": {
    "slideshow": {
     "slide_type": "Skip"
    },
    "tags": []
   },
   "source": [
    "- - -"
   ]
  },
  {
   "cell_type": "markdown",
   "id": "5bc324dc",
   "metadata": {
    "slideshow": {
     "slide_type": "slide"
    },
    "tags": []
   },
   "source": [
    "<img src=\"../from-google-slides/SYNC03/SYNC-03.024.png\">"
   ]
  },
  {
   "cell_type": "markdown",
   "id": "5d58e91c",
   "metadata": {
    "slideshow": {
     "slide_type": "skip"
    },
    "tags": []
   },
   "source": [
    "**NOTE:**"
   ]
  },
  {
   "cell_type": "markdown",
   "id": "4446e039",
   "metadata": {
    "slideshow": {
     "slide_type": "notes"
    },
    "tags": []
   },
   "source": []
  },
  {
   "cell_type": "markdown",
   "id": "8d654b8c",
   "metadata": {
    "slideshow": {
     "slide_type": "Skip"
    },
    "tags": []
   },
   "source": [
    "- - -"
   ]
  },
  {
   "cell_type": "markdown",
   "id": "4517eb3b",
   "metadata": {
    "slideshow": {
     "slide_type": "slide"
    },
    "tags": []
   },
   "source": [
    "<img src=\"../from-google-slides/SYNC03/SYNC-03.025.png\">"
   ]
  },
  {
   "cell_type": "markdown",
   "id": "8862e7b2",
   "metadata": {
    "slideshow": {
     "slide_type": "skip"
    },
    "tags": []
   },
   "source": [
    "**NOTE:**"
   ]
  },
  {
   "cell_type": "markdown",
   "id": "89130e84",
   "metadata": {
    "slideshow": {
     "slide_type": "notes"
    },
    "tags": []
   },
   "source": []
  },
  {
   "cell_type": "markdown",
   "id": "b1819721",
   "metadata": {
    "slideshow": {
     "slide_type": "Skip"
    },
    "tags": []
   },
   "source": [
    "- - -"
   ]
  },
  {
   "cell_type": "markdown",
   "id": "09158b11",
   "metadata": {
    "slideshow": {
     "slide_type": "slide"
    },
    "tags": []
   },
   "source": [
    "<img src=\"../from-google-slides/SYNC03/SYNC-03.026.png\">"
   ]
  },
  {
   "cell_type": "markdown",
   "id": "709d15ec",
   "metadata": {
    "slideshow": {
     "slide_type": "skip"
    },
    "tags": []
   },
   "source": [
    "**NOTE:**"
   ]
  },
  {
   "cell_type": "markdown",
   "id": "e02a94f1",
   "metadata": {
    "slideshow": {
     "slide_type": "notes"
    },
    "tags": []
   },
   "source": []
  },
  {
   "cell_type": "markdown",
   "id": "6627d617",
   "metadata": {
    "slideshow": {
     "slide_type": "Skip"
    },
    "tags": []
   },
   "source": [
    "- - -"
   ]
  },
  {
   "cell_type": "markdown",
   "id": "2b1b61da",
   "metadata": {
    "slideshow": {
     "slide_type": "slide"
    },
    "tags": []
   },
   "source": [
    "<img src=\"../from-google-slides/SYNC03/SYNC-03.027.png\">"
   ]
  },
  {
   "cell_type": "markdown",
   "id": "6a93f358",
   "metadata": {
    "slideshow": {
     "slide_type": "skip"
    },
    "tags": []
   },
   "source": [
    "**NOTE:**"
   ]
  },
  {
   "cell_type": "markdown",
   "id": "8b0e6709",
   "metadata": {
    "slideshow": {
     "slide_type": "notes"
    },
    "tags": []
   },
   "source": []
  },
  {
   "cell_type": "markdown",
   "id": "aaee42bb",
   "metadata": {
    "slideshow": {
     "slide_type": "Skip"
    },
    "tags": []
   },
   "source": [
    "- - -"
   ]
  },
  {
   "cell_type": "markdown",
   "id": "a662ce48",
   "metadata": {
    "slideshow": {
     "slide_type": "slide"
    },
    "tags": []
   },
   "source": [
    "<img src=\"../from-google-slides/SYNC03/SYNC-03.028.png\">"
   ]
  },
  {
   "cell_type": "markdown",
   "id": "c1f690b5",
   "metadata": {
    "slideshow": {
     "slide_type": "skip"
    },
    "tags": []
   },
   "source": [
    "**NOTE:**"
   ]
  },
  {
   "cell_type": "markdown",
   "id": "6e837d4f",
   "metadata": {
    "slideshow": {
     "slide_type": "notes"
    },
    "tags": []
   },
   "source": []
  },
  {
   "cell_type": "markdown",
   "id": "e8de3ddb",
   "metadata": {
    "slideshow": {
     "slide_type": "Skip"
    },
    "tags": []
   },
   "source": [
    "- - -"
   ]
  },
  {
   "cell_type": "markdown",
   "id": "f5794e79",
   "metadata": {
    "slideshow": {
     "slide_type": "slide"
    },
    "tags": []
   },
   "source": [
    "<img src=\"../from-google-slides/SYNC03/SYNC-03.029.png\">"
   ]
  },
  {
   "cell_type": "markdown",
   "id": "a57280e6",
   "metadata": {
    "slideshow": {
     "slide_type": "skip"
    },
    "tags": []
   },
   "source": [
    "**NOTE:**"
   ]
  },
  {
   "cell_type": "markdown",
   "id": "b8d112e3",
   "metadata": {
    "slideshow": {
     "slide_type": "notes"
    },
    "tags": []
   },
   "source": []
  },
  {
   "cell_type": "markdown",
   "id": "ff410306",
   "metadata": {
    "slideshow": {
     "slide_type": "Skip"
    },
    "tags": []
   },
   "source": [
    "- - -"
   ]
  },
  {
   "cell_type": "markdown",
   "id": "a1ddfb81",
   "metadata": {
    "slideshow": {
     "slide_type": "slide"
    },
    "tags": []
   },
   "source": [
    "<img src=\"../from-google-slides/SYNC03/SYNC-03.030.png\">"
   ]
  },
  {
   "cell_type": "markdown",
   "id": "bc7839c7",
   "metadata": {
    "slideshow": {
     "slide_type": "skip"
    },
    "tags": []
   },
   "source": [
    "**NOTE:**"
   ]
  },
  {
   "cell_type": "markdown",
   "id": "c1c75528",
   "metadata": {
    "slideshow": {
     "slide_type": "notes"
    },
    "tags": []
   },
   "source": []
  },
  {
   "cell_type": "markdown",
   "id": "ea5a25e8",
   "metadata": {
    "slideshow": {
     "slide_type": "Skip"
    },
    "tags": []
   },
   "source": [
    "- - -"
   ]
  },
  {
   "cell_type": "markdown",
   "id": "84dab133",
   "metadata": {
    "slideshow": {
     "slide_type": "slide"
    },
    "tags": []
   },
   "source": [
    "<img src=\"../from-google-slides/SYNC03/SYNC-03.031.png\">"
   ]
  },
  {
   "cell_type": "markdown",
   "id": "4e543b35",
   "metadata": {
    "slideshow": {
     "slide_type": "skip"
    },
    "tags": []
   },
   "source": [
    "**NOTE:**"
   ]
  },
  {
   "cell_type": "markdown",
   "id": "c53e2904",
   "metadata": {
    "slideshow": {
     "slide_type": "notes"
    },
    "tags": []
   },
   "source": []
  },
  {
   "cell_type": "markdown",
   "id": "f9acfc02",
   "metadata": {
    "slideshow": {
     "slide_type": "Skip"
    },
    "tags": []
   },
   "source": [
    "- - -"
   ]
  }
 ],
 "metadata": {
  "kernelspec": {
   "display_name": "Python 3 (ipykernel)",
   "language": "python",
   "name": "python3"
  },
  "language_info": {
   "codemirror_mode": {
    "name": "ipython",
    "version": 3
   },
   "file_extension": ".py",
   "mimetype": "text/x-python",
   "name": "python",
   "nbconvert_exporter": "python",
   "pygments_lexer": "ipython3",
   "version": "3.10.5"
  },
  "rise": {
   "autolaunch": false,
   "enable_chalkboard": true,
   "height": "100%",
   "scroll": true,
   "start_slideshow_at": "selected",
   "transition": "none",
   "width": "100%"
  }
 },
 "nbformat": 4,
 "nbformat_minor": 5
}
