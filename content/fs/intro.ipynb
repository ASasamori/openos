{
 "cells": [
  {
   "cell_type": "markdown",
   "id": "97f93158-05cc-41e3-a6b9-02bedd7b4e92",
   "metadata": {},
   "source": [
    "```{warning}\n",
    "This portion of the book is under construction, not ready to be read\n",
    "```"
   ]
  },
  {
   "cell_type": "markdown",
   "id": "c3320ec8-564f-4b46-98fc-62a989578aea",
   "metadata": {
    "tags": [
     "remove-input",
     "remove-output"
    ]
   },
   "source": [
    "```{toggle}\n",
    "Outline\n",
    "\n",
    "- intro \n",
    "   - goal FS, \n",
    "- Disk HW\n",
    "   - short description to understand key constraints FS designed under\n",
    "- Interface \n",
    "   - keep what have then talk through example\n",
    "- On disk implementation\n",
    "   - overview of next few chapters\n",
    "- Tracking free space\n",
    "- Used blocks in a file\n",
    "- Directory/naming\n",
    "- Block size\n",
    "- Dealing with failures\n",
    "- Example EXT2/3/4\n",
    "- Example \n",
    "- Kernel functionality (next two)\n",
    "- VFS \n",
    "- Buffer cache\n",
    "\n",
    "```"
   ]
  },
  {
   "cell_type": "markdown",
   "id": "6c62fe81-da53-436f-bc07-ce1030d71804",
   "metadata": {},
   "source": [
    "(cont:fs:intro)= \n",
    "# Introduction\n",
    "\n",
    "We describe the [interface](cont:fs:interface) of file systems, their [on disk](cont:fs:layout) layout, and then [kernel implementation issues](cont:fs:kernel)."
   ]
  }
 ],
 "metadata": {
  "kernelspec": {
   "display_name": "Python 3 (ipykernel)",
   "language": "python",
   "name": "python3"
  },
  "language_info": {
   "codemirror_mode": {
    "name": "ipython",
    "version": 3
   },
   "file_extension": ".py",
   "mimetype": "text/x-python",
   "name": "python",
   "nbconvert_exporter": "python",
   "pygments_lexer": "ipython3",
   "version": "3.10.5"
  }
 },
 "nbformat": 4,
 "nbformat_minor": 5
}
