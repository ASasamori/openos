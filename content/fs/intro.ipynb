{
 "cells": [
  {
   "cell_type": "markdown",
   "id": "6c62fe81-da53-436f-bc07-ce1030d71804",
   "metadata": {},
   "source": [
    "(cont:fs:intro)= \n",
    "# Introduction\n",
    "\n",
    "We describe the [interface](cont:fs:interface) of file systems, their [on disk](cont:fs:layout) layout, and then [kernel implementation issues](cont:fs:kernel)."
   ]
  },
  {
   "cell_type": "code",
   "execution_count": null,
   "id": "10b5a4d2-96b1-45ab-997b-2eeb79597d4d",
   "metadata": {},
   "outputs": [],
   "source": []
  }
 ],
 "metadata": {
  "kernelspec": {
   "display_name": "Python 3 (ipykernel)",
   "language": "python",
   "name": "python3"
  },
  "language_info": {
   "codemirror_mode": {
    "name": "ipython",
    "version": 3
   },
   "file_extension": ".py",
   "mimetype": "text/x-python",
   "name": "python",
   "nbconvert_exporter": "python",
   "pygments_lexer": "ipython3",
   "version": "3.10.5"
  }
 },
 "nbformat": 4,
 "nbformat_minor": 5
}
