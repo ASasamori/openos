{
 "cells": [
  {
   "cell_type": "markdown",
   "id": "97f93158-05cc-41e3-a6b9-02bedd7b4e92",
   "metadata": {},
   "source": [
    "```{warning}\n",
    "This portion of the book is under construction, not ready to be read\n",
    "```"
   ]
  },
  {
   "cell_type": "markdown",
   "id": "c3320ec8-564f-4b46-98fc-62a989578aea",
   "metadata": {
    "tags": [
     "remove-input",
     "remove-output"
    ]
   },
   "source": [
    "```{toggle}\n",
    "Outline\n",
    "\n",
    "- intro \n",
    "   - goal FS, \n",
    "- Disk HW\n",
    "   - short description to understand key constraints FS designed under\n",
    "- Interface \n",
    "   - keep what have then talk through example\n",
    "- On disk implementation\n",
    "   - overview of next few chapters\n",
    "- Tracking free space\n",
    "- Used blocks in a file\n",
    "- Directory/naming\n",
    "- Block size\n",
    "- Dealing with failures\n",
    "- Example EXT2/3/4\n",
    "- Example \n",
    "- Kernel functionality (next two)\n",
    "- VFS \n",
    "- Buffer cache\n",
    "\n",
    "```"
   ]
  },
  {
   "cell_type": "markdown",
   "id": "6c62fe81-da53-436f-bc07-ce1030d71804",
   "metadata": {},
   "source": [
    "(cont:fs:intro)= \n",
    "# Introduction\n",
    "\n",
    "The power of Unix comes from the fundamental idea that [everything is a file](cont:gs:abstractions:file) or really more accurately a stream.  However, in many cases we want to store data persistent on disks and in that case file systems provide that abstraction, and, as we will see, a richer set of abstractions.  \n",
    "\n",
    "We first describe this [rich interface](cont:fs:interface) Unix (and many similar systems) require of file systems.  We then discuss the [ugly hardware](cont:fs:disks) abstractions that needs to be transformed by file systems into this interface. \n",
    "\n",
    "The next X chapters describe various \n",
    "\n",
    "their [on disk](cont:fs:layout) layout\n",
    "\n",
    "- [fs:dl_track_free](fs:dl_track_free)                                                                         \n",
    "- [fs:dl_track_used](fs:dl_track_used)                                                                         \n",
    "- [fs:dl_name](fs:dl_name)                                                                                     \n",
    "- [fs:dl_blocksize](fs:dl_blocksize)                                                                           \n",
    "- [fs:dl_failures](fs:dl_failures)                                                                             \n",
    "- [fs:dl_ex_exx](fs:dl_ex_exx)\n",
    "\n",
    ", and then [kernel implementation issues](cont:fs:kernel)."
   ]
  },
  {
   "cell_type": "code",
   "execution_count": null,
   "id": "654e5022-22db-4faf-bb6b-1c555716e244",
   "metadata": {},
   "outputs": [],
   "source": []
  }
 ],
 "metadata": {
  "kernelspec": {
   "display_name": "Python 3 (ipykernel)",
   "language": "python",
   "name": "python3"
  },
  "language_info": {
   "codemirror_mode": {
    "name": "ipython",
    "version": 3
   },
   "file_extension": ".py",
   "mimetype": "text/x-python",
   "name": "python",
   "nbconvert_exporter": "python",
   "pygments_lexer": "ipython3",
   "version": "3.10.5"
  }
 },
 "nbformat": 4,
 "nbformat_minor": 5
}
