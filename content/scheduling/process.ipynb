{
 "cells": [
  {
   "cell_type": "markdown",
   "id": "e225a2ef-8121-43fe-ac62-d04cfa268ad0",
   "metadata": {},
   "source": [
    "# Virtualizing a processor\n",
    "\n",
    "When we say \"virtualizing\" what we mean is actually adding a layer of indirection between the target (in this case the CPU) and the user (the process). In order to do this, we will need a way of pausing the execution of a process while another process runs and then resuming execution later without the process having to be aware of this pause which means we need to capture all of the state that is relevant to a process in one or more data structures we can use to hold them when the process is not active."
   ]
  }
 ],
 "metadata": {
  "kernelspec": {
   "display_name": "Python 3 (ipykernel)",
   "language": "python",
   "name": "python3"
  },
  "language_info": {
   "codemirror_mode": {
    "name": "ipython",
    "version": 3
   },
   "file_extension": ".py",
   "mimetype": "text/x-python",
   "name": "python",
   "nbconvert_exporter": "python",
   "pygments_lexer": "ipython3",
   "version": "3.10.5"
  }
 },
 "nbformat": 4,
 "nbformat_minor": 5
}
