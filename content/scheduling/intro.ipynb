{
 "cells": [
  {
   "cell_type": "markdown",
   "id": "07f1f70f-36c4-4ef8-94df-3b05ef34d244",
   "metadata": {
    "tags": []
   },
   "source": [
    "(cont:vp)=\n",
    "# Introduction\n",
    "\n",
    "We [already](cont:gs:structure:struc) described the abstraction of a process, as a virtual computer that isolates running applications from each other, and discussed \n",
    "it from an [OS abstraction](cont:gs:abstractions:process) perspective.  We first [review](cont:VP:process) in more detail.  We then discuss the abstraction of [threads](cont:scheduling:threads)."
   ]
  },
  {
   "cell_type": "markdown",
   "id": "1849611c-6ebb-404c-a273-ba5fda65da03",
   "metadata": {},
   "source": [
    "```{warning}\n",
    "FIX BELOW\n",
    "```"
   ]
  },
  {
   "cell_type": "markdown",
   "id": "5710af1d-eba4-41e6-80a2-a59854de5446",
   "metadata": {
    "tags": []
   },
   "source": [
    "BROKEN BELOW\n",
    "\n",
    ", and then discuss how the operating system decides which to run, i.e., scheduling.  We then \n",
    "\n",
    "We want to run many instances of programs on a computer; to do this we *virtualize* the computer in an abstract we introduced called a process. We review that abstraction, and then the thread abstraction.  We then talk \n",
    "\n",
    "\n",
    "We are going to discuss the various methods used by the operating system to allow multiple programs to execute on a computer while giving each the illusion it has the entire computer to itself. But before we get to discussing scheduling algorithms, we need to define a few terms we will use in that discussion. The terms *program* and *process* are often used inter-changeably, but we will distinguish them and only use them according to our individual definitions. Recall when we discussed abstracting hardware {ref}`cont:gs:purpose:platform:abs`, we drew the distinction between the contents of the executable stored on disk (the program) from an execution of those contents (a process). In this chapter we will briefly introduce the problem solved by scheduling and then dive into how it happens.\n",
    "\n",
    "Consider a very simple computer with a single processor and some memory. If we have a single user who only wants to run a single instance of a program on that processor, we are able to meet the user's need. However, this model isn't very useful because if we introduce a second user or a second task, we need a way to ensure that all users can run the processes they need. Without help from an operating system, the users would have to coordinate time for using this computer. This coordination gives users good control over when their process runs, but does not handle conflicts or changes well. What if the user scheduled to use the computer misses their appointment? The hardware is left idle and that user's process still needs to run.\n",
    "\n",
    "As with other resources managed by an operating system, we solve the scheduling problem by *virtualizing* the processor or CPU. As with memory, this virtualization of the resource allows the operating system to provide the illusion of an infinite number of CPUs on which a process can run. \n",
    "\n",
    "For the remainder of this chapter we will discuss what a process is and how we can virtualize the CPU. Next we will look at *threads* and how they differ from a process. Finally, we will end with a look at the methods for scheduling processes or threads."
   ]
  },
  {
   "cell_type": "code",
   "execution_count": null,
   "id": "2d7abedd-3055-4db3-969b-46d75a6ec59b",
   "metadata": {},
   "outputs": [],
   "source": []
  }
 ],
 "metadata": {
  "kernelspec": {
   "display_name": "Python 3 (ipykernel)",
   "language": "python",
   "name": "python3"
  },
  "language_info": {
   "codemirror_mode": {
    "name": "ipython",
    "version": 3
   },
   "file_extension": ".py",
   "mimetype": "text/x-python",
   "name": "python",
   "nbconvert_exporter": "python",
   "pygments_lexer": "ipython3",
   "version": "3.10.5"
  }
 },
 "nbformat": 4,
 "nbformat_minor": 5
}
