{
 "cells": [
  {
   "cell_type": "markdown",
   "id": "7b1b4477-a550-488a-86ef-dfdae3f95ee1",
   "metadata": {},
   "source": [
    "# A Look at the Linux Scheduler\n",
    "\n",
    "\n",
    "## A Bit of History\n",
    "\n",
    "Prior to kernel version 2.6.23, Linux employed a scheduler that combined priority queues with a heuristic that altered a process's priority based on the amount of a time slice it used. CPU-bound processes would consume their entire slice and would drop in priority. Conversely, I/O-bound processes would often block before consuming an entire time slice and so their priority would be increased. This was meant to allow for interactive processes to stay in the high priority queues and batch processing jobs (really anything that was CPU-bound) to drop. This scheduler had a number of heuristics that were used in decision making that were also exposed as tunable parameters, but the biggest feature it boasted was that it had O(1) run time. In other words, the time to select the next process was constant, regardless of how many runnable processes there were in the system. \n",
    "\n",
    "## The Completely Fair Scheduler (CFS)\n",
    "\n",
    "<!--\n",
    "tracks the amount of time each process has gotten, and the maximum time it would have expected to run on an ideal processor\n",
    "\n",
    "I guess I don't get it, if it is just the vruntime, then even an interactive task that has been around for a long time will \n",
    "\n",
    "https://opensource.com/article/19/2/fair-scheduling-linux\n",
    "\n",
    "\n",
    "Below is not accurate, there are multiple schedulers, \n",
    "\n",
    "talk about multi-CPU system, multiple scheduling...  say that the CFS is per CPU, \n",
    "\n",
    "SMP load-balancing has been reworked/sanitized: the runqueue-walking\n",
    "assumptions are gone from the load-balancing code now, and iterators of the\n",
    "scheduling modules are used.  The balancing code got quite a bit simpler as a\n",
    "result.\n",
    "\n",
    "\n",
    "https://www.kernel.org/doc/Documentation/scheduler/sched-design-CFS.txt\n",
    "\n",
    "sched/fair.c implements the CFS scheduler described above.\n",
    "\n",
    "sched/rt.c implements SCHED_FIFO and SCHED_RR semantics, in a simpler way than\n",
    "the previous vanilla scheduler did.  It uses 100 runqueues (for all 100 RT\n",
    "priority levels, instead of 140 in the previous scheduler) and it needs no\n",
    "expired array.\n",
    "\n",
    "-->\n",
    "\n",
    "The Linux Kernel documentation has the whole story [here.](https://myst-parser.readthedocs.io/en/latest/syntax/syntax.html) The completely fair scheduler was a from-scratch redesign of the Linux scheduler; it did away with priority queues and with all[^notall] heuristics and tunables found in the O(1) scheduler. CFS introduced keeping a counter for the amount of runtime each task has received and this counter is used to decide on the next task to run. Instead of priority queues CFS places all tasks in a red-black tree sorted on their accumulated runtime with tasks on the left having less accumulated run time than tasks on the right. When the system needs a new task to run, the left most task is selected. This change allows CFS to completely avoid the starvation of CPU bound tasks that could occur with the previous scheduler. \n",
    "\n",
    "[^notall]:CFS still has a single tunable than can be exposed, but the kernel must be configured with `SCHED_DEBUG` selected."
   ]
  },
  {
   "cell_type": "code",
   "execution_count": null,
   "id": "79da540d-8fa4-4fb3-9ca4-01a358cac9e7",
   "metadata": {},
   "outputs": [],
   "source": []
  }
 ],
 "metadata": {
  "kernelspec": {
   "display_name": "Python 3 (ipykernel)",
   "language": "python",
   "name": "python3"
  },
  "language_info": {
   "codemirror_mode": {
    "name": "ipython",
    "version": 3
   },
   "file_extension": ".py",
   "mimetype": "text/x-python",
   "name": "python",
   "nbconvert_exporter": "python",
   "pygments_lexer": "ipython3",
   "version": "3.10.5"
  }
 },
 "nbformat": 4,
 "nbformat_minor": 5
}
