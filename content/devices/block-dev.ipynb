{
 "cells": [
  {
   "cell_type": "markdown",
   "id": "2f573c00-4550-4c40-9ee6-a82cad6f1dac",
   "metadata": {},
   "source": []
  },
  {
   "cell_type": "markdown",
   "id": "7b511d5a-307e-4387-9d73-b67a6a396374",
   "metadata": {},
   "source": []
  },
  {
   "cell_type": "code",
   "execution_count": null,
   "id": "fb7bb86d-63f1-4820-b2d6-aa7492d9c6f5",
   "metadata": {},
   "outputs": [],
   "source": []
  }
 ],
 "metadata": {
  "kernelspec": {
   "display_name": "Python 3 (ipykernel)",
   "language": "python",
   "name": "python3"
  },
  "language_info": {
   "codemirror_mode": {
    "name": "ipython",
    "version": 3
   },
   "file_extension": ".py",
   "mimetype": "text/x-python",
   "name": "python",
   "nbconvert_exporter": "python",
   "pygments_lexer": "ipython3",
   "version": "3.10.5"
  }
 },
 "nbformat": 4,
 "nbformat_minor": 5
}
