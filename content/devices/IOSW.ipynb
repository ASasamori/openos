{
 "cells": [
  {
   "cell_type": "markdown",
   "id": "01484a87-78d4-4f04-b8db-4c61153aa23d",
   "metadata": {},
   "source": [
    "# Device Drivers\n",
    "\n",
    "The vast majority of OS code is in loadable modules, with over 60% of Linux source code today with device drivers involving 10s of millions of LOC. \n",
    "\n"
   ]
  },
  {
   "cell_type": "code",
   "execution_count": null,
   "id": "4e12eea7-e5b5-46bd-bb3d-fef3375eb9e0",
   "metadata": {},
   "outputs": [],
   "source": []
  }
 ],
 "metadata": {
  "kernelspec": {
   "display_name": "Python 3 (ipykernel)",
   "language": "python",
   "name": "python3"
  },
  "language_info": {
   "codemirror_mode": {
    "name": "ipython",
    "version": 3
   },
   "file_extension": ".py",
   "mimetype": "text/x-python",
   "name": "python",
   "nbconvert_exporter": "python",
   "pygments_lexer": "ipython3",
   "version": "3.10.5"
  }
 },
 "nbformat": 4,
 "nbformat_minor": 5
}
