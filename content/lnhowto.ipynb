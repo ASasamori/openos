{
 "cells": [
  {
   "cell_type": "markdown",
   "id": "eb151f0d-3d27-41a4-8671-a4db34affd00",
   "metadata": {},
   "source": [
    "# How to \"view\" lecture notes\n",
    "\n",
    "\n",
    "The lecture notes on this site are static web pages that have been generated from a set of Jupyter Notebooks that are a part of the \"Under the Covers: The Secret Life of Software\" textbook materials.  \n",
    "Put below here instructions on how to get access to the Jupyter Notebooks from the webpages and how to \"launch\" them so you can view them as one might in a lecture."
   ]
  }
 ],
 "metadata": {
  "kernelspec": {
   "display_name": "Python 3 (ipykernel)",
   "language": "python",
   "name": "python3"
  },
  "language_info": {
   "codemirror_mode": {
    "name": "ipython",
    "version": 3
   },
   "file_extension": ".py",
   "mimetype": "text/x-python",
   "name": "python",
   "nbconvert_exporter": "python",
   "pygments_lexer": "ipython3",
   "version": "3.10.5"
  }
 },
 "nbformat": 4,
 "nbformat_minor": 5
}
